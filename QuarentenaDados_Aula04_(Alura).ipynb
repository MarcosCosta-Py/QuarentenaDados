{
  "nbformat": 4,
  "nbformat_minor": 0,
  "metadata": {
    "colab": {
      "name": "QuarentenaDados - Aula04-(Alura)",
      "provenance": [],
      "collapsed_sections": [],
      "include_colab_link": true
    },
    "kernelspec": {
      "name": "python3",
      "display_name": "Python 3"
    }
  },
  "cells": [
    {
      "cell_type": "markdown",
      "metadata": {
        "id": "view-in-github",
        "colab_type": "text"
      },
      "source": [
        "<a href=\"https://colab.research.google.com/github/MarcosCosta-Py/QuarentenaDados/blob/master/QuarentenaDados_Aula04_(Alura).ipynb\" target=\"_parent\"><img src=\"https://colab.research.google.com/assets/colab-badge.svg\" alt=\"Open In Colab\"/></a>"
      ]
    },
    {
      "cell_type": "markdown",
      "metadata": {
        "id": "NAqASPoE9xp-",
        "colab_type": "text"
      },
      "source": [
        "## **Aula 4: Estatísticas no enem 2018.**"
      ]
    },
    {
      "cell_type": "markdown",
      "metadata": {
        "id": "qBImDJ6cJmnM",
        "colab_type": "text"
      },
      "source": [
        "Aqui iremos explorar e conhecer uma pequena amostra da base de dados do **ENEM 2018**. Esse será o primeiro passo para construir os **modelos de machine learning da aula 05**. Se você quiser estudar o código utilizado para criar o dataset desta aula, pode acessar este [**link aqui**](https://github.com/guilhermesilveira/enem-2018).\n",
        "\n",
        "Vamos iniciar setando a precisão de casas decimais que o pandas irá exibir os dados (`pd.options.display.float_format`), depois lendo e conhecendo as informações contidas na base de dados.\n",
        "\n"
      ]
    },
    {
      "cell_type": "code",
      "metadata": {
        "id": "1_dutJZ3zPX3",
        "colab_type": "code",
        "outputId": "556478e2-c3e3-4789-eafa-a09cda781026",
        "colab": {
          "base_uri": "https://localhost:8080/",
          "height": 253
        }
      },
      "source": [
        "# Importando a biblioteca pandas.\n",
        "import pandas as pd\n",
        "# Definindo a precisão de casas decimais.\n",
        "%precision %.2f\n",
        "pd.options.display.float_format = '{:,.2f}'.format\n",
        "# Carregando os dados e apresentando as 5 primeiras linhas.\n",
        "uri = \"https://github.com/guilhermesilveira/enem-2018/blob/master/MICRODADOS_ENEM_2018_SAMPLE_43278.csv?raw=true\"\n",
        "dados = pd.read_csv(uri)\n",
        "dados.head()\n"
      ],
      "execution_count": 0,
      "outputs": [
        {
          "output_type": "execute_result",
          "data": {
            "text/html": [
              "<div>\n",
              "<style scoped>\n",
              "    .dataframe tbody tr th:only-of-type {\n",
              "        vertical-align: middle;\n",
              "    }\n",
              "\n",
              "    .dataframe tbody tr th {\n",
              "        vertical-align: top;\n",
              "    }\n",
              "\n",
              "    .dataframe thead th {\n",
              "        text-align: right;\n",
              "    }\n",
              "</style>\n",
              "<table border=\"1\" class=\"dataframe\">\n",
              "  <thead>\n",
              "    <tr style=\"text-align: right;\">\n",
              "      <th></th>\n",
              "      <th>NU_INSCRICAO</th>\n",
              "      <th>NU_ANO</th>\n",
              "      <th>CO_MUNICIPIO_RESIDENCIA</th>\n",
              "      <th>NO_MUNICIPIO_RESIDENCIA</th>\n",
              "      <th>CO_UF_RESIDENCIA</th>\n",
              "      <th>SG_UF_RESIDENCIA</th>\n",
              "      <th>NU_IDADE</th>\n",
              "      <th>TP_SEXO</th>\n",
              "      <th>TP_ESTADO_CIVIL</th>\n",
              "      <th>TP_COR_RACA</th>\n",
              "      <th>TP_NACIONALIDADE</th>\n",
              "      <th>CO_MUNICIPIO_NASCIMENTO</th>\n",
              "      <th>NO_MUNICIPIO_NASCIMENTO</th>\n",
              "      <th>CO_UF_NASCIMENTO</th>\n",
              "      <th>SG_UF_NASCIMENTO</th>\n",
              "      <th>TP_ST_CONCLUSAO</th>\n",
              "      <th>TP_ANO_CONCLUIU</th>\n",
              "      <th>TP_ESCOLA</th>\n",
              "      <th>TP_ENSINO</th>\n",
              "      <th>IN_TREINEIRO</th>\n",
              "      <th>CO_ESCOLA</th>\n",
              "      <th>CO_MUNICIPIO_ESC</th>\n",
              "      <th>NO_MUNICIPIO_ESC</th>\n",
              "      <th>CO_UF_ESC</th>\n",
              "      <th>SG_UF_ESC</th>\n",
              "      <th>TP_DEPENDENCIA_ADM_ESC</th>\n",
              "      <th>TP_LOCALIZACAO_ESC</th>\n",
              "      <th>TP_SIT_FUNC_ESC</th>\n",
              "      <th>IN_BAIXA_VISAO</th>\n",
              "      <th>IN_CEGUEIRA</th>\n",
              "      <th>IN_SURDEZ</th>\n",
              "      <th>IN_DEFICIENCIA_AUDITIVA</th>\n",
              "      <th>IN_SURDO_CEGUEIRA</th>\n",
              "      <th>IN_DEFICIENCIA_FISICA</th>\n",
              "      <th>IN_DEFICIENCIA_MENTAL</th>\n",
              "      <th>IN_DEFICIT_ATENCAO</th>\n",
              "      <th>IN_DISLEXIA</th>\n",
              "      <th>IN_DISCALCULIA</th>\n",
              "      <th>IN_AUTISMO</th>\n",
              "      <th>IN_VISAO_MONOCULAR</th>\n",
              "      <th>...</th>\n",
              "      <th>TX_RESPOSTAS_MT</th>\n",
              "      <th>TP_LINGUA</th>\n",
              "      <th>TX_GABARITO_CN</th>\n",
              "      <th>TX_GABARITO_CH</th>\n",
              "      <th>TX_GABARITO_LC</th>\n",
              "      <th>TX_GABARITO_MT</th>\n",
              "      <th>TP_STATUS_REDACAO</th>\n",
              "      <th>NU_NOTA_COMP1</th>\n",
              "      <th>NU_NOTA_COMP2</th>\n",
              "      <th>NU_NOTA_COMP3</th>\n",
              "      <th>NU_NOTA_COMP4</th>\n",
              "      <th>NU_NOTA_COMP5</th>\n",
              "      <th>NU_NOTA_REDACAO</th>\n",
              "      <th>Q001</th>\n",
              "      <th>Q002</th>\n",
              "      <th>Q003</th>\n",
              "      <th>Q004</th>\n",
              "      <th>Q005</th>\n",
              "      <th>Q006</th>\n",
              "      <th>Q007</th>\n",
              "      <th>Q008</th>\n",
              "      <th>Q009</th>\n",
              "      <th>Q010</th>\n",
              "      <th>Q011</th>\n",
              "      <th>Q012</th>\n",
              "      <th>Q013</th>\n",
              "      <th>Q014</th>\n",
              "      <th>Q015</th>\n",
              "      <th>Q016</th>\n",
              "      <th>Q017</th>\n",
              "      <th>Q018</th>\n",
              "      <th>Q019</th>\n",
              "      <th>Q020</th>\n",
              "      <th>Q021</th>\n",
              "      <th>Q022</th>\n",
              "      <th>Q023</th>\n",
              "      <th>Q024</th>\n",
              "      <th>Q025</th>\n",
              "      <th>Q026</th>\n",
              "      <th>Q027</th>\n",
              "    </tr>\n",
              "  </thead>\n",
              "  <tbody>\n",
              "    <tr>\n",
              "      <th>0</th>\n",
              "      <td>180009327796</td>\n",
              "      <td>2018</td>\n",
              "      <td>2112209</td>\n",
              "      <td>Timon</td>\n",
              "      <td>21</td>\n",
              "      <td>MA</td>\n",
              "      <td>34.00</td>\n",
              "      <td>M</td>\n",
              "      <td>1.00</td>\n",
              "      <td>1</td>\n",
              "      <td>1</td>\n",
              "      <td>2,207,702.00</td>\n",
              "      <td>Parnaíba</td>\n",
              "      <td>22.00</td>\n",
              "      <td>PI</td>\n",
              "      <td>1</td>\n",
              "      <td>5</td>\n",
              "      <td>1</td>\n",
              "      <td>3.00</td>\n",
              "      <td>0</td>\n",
              "      <td>nan</td>\n",
              "      <td>nan</td>\n",
              "      <td>NaN</td>\n",
              "      <td>nan</td>\n",
              "      <td>NaN</td>\n",
              "      <td>nan</td>\n",
              "      <td>nan</td>\n",
              "      <td>nan</td>\n",
              "      <td>0</td>\n",
              "      <td>0</td>\n",
              "      <td>0</td>\n",
              "      <td>1</td>\n",
              "      <td>0</td>\n",
              "      <td>0</td>\n",
              "      <td>0</td>\n",
              "      <td>0</td>\n",
              "      <td>0</td>\n",
              "      <td>0</td>\n",
              "      <td>0</td>\n",
              "      <td>0</td>\n",
              "      <td>...</td>\n",
              "      <td>NaN</td>\n",
              "      <td>1</td>\n",
              "      <td>NaN</td>\n",
              "      <td>NaN</td>\n",
              "      <td>NaN</td>\n",
              "      <td>NaN</td>\n",
              "      <td>nan</td>\n",
              "      <td>nan</td>\n",
              "      <td>nan</td>\n",
              "      <td>nan</td>\n",
              "      <td>nan</td>\n",
              "      <td>nan</td>\n",
              "      <td>nan</td>\n",
              "      <td>B</td>\n",
              "      <td>B</td>\n",
              "      <td>B</td>\n",
              "      <td>B</td>\n",
              "      <td>4</td>\n",
              "      <td>C</td>\n",
              "      <td>A</td>\n",
              "      <td>B</td>\n",
              "      <td>C</td>\n",
              "      <td>A</td>\n",
              "      <td>B</td>\n",
              "      <td>B</td>\n",
              "      <td>A</td>\n",
              "      <td>B</td>\n",
              "      <td>A</td>\n",
              "      <td>B</td>\n",
              "      <td>A</td>\n",
              "      <td>A</td>\n",
              "      <td>B</td>\n",
              "      <td>A</td>\n",
              "      <td>A</td>\n",
              "      <td>C</td>\n",
              "      <td>A</td>\n",
              "      <td>B</td>\n",
              "      <td>B</td>\n",
              "      <td>A</td>\n",
              "      <td>A</td>\n",
              "    </tr>\n",
              "    <tr>\n",
              "      <th>1</th>\n",
              "      <td>180012890374</td>\n",
              "      <td>2018</td>\n",
              "      <td>3557105</td>\n",
              "      <td>Votuporanga</td>\n",
              "      <td>35</td>\n",
              "      <td>SP</td>\n",
              "      <td>14.00</td>\n",
              "      <td>M</td>\n",
              "      <td>0.00</td>\n",
              "      <td>1</td>\n",
              "      <td>1</td>\n",
              "      <td>3,557,105.00</td>\n",
              "      <td>Votuporanga</td>\n",
              "      <td>35.00</td>\n",
              "      <td>SP</td>\n",
              "      <td>4</td>\n",
              "      <td>0</td>\n",
              "      <td>1</td>\n",
              "      <td>nan</td>\n",
              "      <td>0</td>\n",
              "      <td>nan</td>\n",
              "      <td>nan</td>\n",
              "      <td>NaN</td>\n",
              "      <td>nan</td>\n",
              "      <td>NaN</td>\n",
              "      <td>nan</td>\n",
              "      <td>nan</td>\n",
              "      <td>nan</td>\n",
              "      <td>0</td>\n",
              "      <td>0</td>\n",
              "      <td>0</td>\n",
              "      <td>0</td>\n",
              "      <td>0</td>\n",
              "      <td>0</td>\n",
              "      <td>0</td>\n",
              "      <td>0</td>\n",
              "      <td>0</td>\n",
              "      <td>0</td>\n",
              "      <td>0</td>\n",
              "      <td>0</td>\n",
              "      <td>...</td>\n",
              "      <td>ADDEDEEBCAADDEDEBECCBAECECEDBAADEABAECDADECDC</td>\n",
              "      <td>0</td>\n",
              "      <td>BCACEEBBBDACEDECAADDDABDBCCACDCBCEDEDABEBEAEA</td>\n",
              "      <td>CDECAABBDDECBEEDBEBBEBEDEEEBCEAEECECCDBDDCACD</td>\n",
              "      <td>CBEDBBBDCBECADBBBECBEAECABDADACDBABCECBBEDADAB...</td>\n",
              "      <td>ADAEDABBCAADBEXEBBDEEADCCCCDACEDDABCBCAAEBBDD</td>\n",
              "      <td>1.00</td>\n",
              "      <td>160.00</td>\n",
              "      <td>120.00</td>\n",
              "      <td>120.00</td>\n",
              "      <td>160.00</td>\n",
              "      <td>120.00</td>\n",
              "      <td>680.00</td>\n",
              "      <td>F</td>\n",
              "      <td>F</td>\n",
              "      <td>A</td>\n",
              "      <td>D</td>\n",
              "      <td>4</td>\n",
              "      <td>N</td>\n",
              "      <td>A</td>\n",
              "      <td>D</td>\n",
              "      <td>D</td>\n",
              "      <td>C</td>\n",
              "      <td>A</td>\n",
              "      <td>B</td>\n",
              "      <td>A</td>\n",
              "      <td>B</td>\n",
              "      <td>A</td>\n",
              "      <td>B</td>\n",
              "      <td>A</td>\n",
              "      <td>A</td>\n",
              "      <td>C</td>\n",
              "      <td>A</td>\n",
              "      <td>B</td>\n",
              "      <td>E</td>\n",
              "      <td>B</td>\n",
              "      <td>D</td>\n",
              "      <td>B</td>\n",
              "      <td>D</td>\n",
              "      <td>D</td>\n",
              "    </tr>\n",
              "    <tr>\n",
              "      <th>2</th>\n",
              "      <td>180008223824</td>\n",
              "      <td>2018</td>\n",
              "      <td>2506301</td>\n",
              "      <td>Guarabira</td>\n",
              "      <td>25</td>\n",
              "      <td>PB</td>\n",
              "      <td>20.00</td>\n",
              "      <td>F</td>\n",
              "      <td>0.00</td>\n",
              "      <td>2</td>\n",
              "      <td>1</td>\n",
              "      <td>2,506,301.00</td>\n",
              "      <td>Guarabira</td>\n",
              "      <td>25.00</td>\n",
              "      <td>PB</td>\n",
              "      <td>1</td>\n",
              "      <td>3</td>\n",
              "      <td>1</td>\n",
              "      <td>1.00</td>\n",
              "      <td>0</td>\n",
              "      <td>nan</td>\n",
              "      <td>nan</td>\n",
              "      <td>NaN</td>\n",
              "      <td>nan</td>\n",
              "      <td>NaN</td>\n",
              "      <td>nan</td>\n",
              "      <td>nan</td>\n",
              "      <td>nan</td>\n",
              "      <td>0</td>\n",
              "      <td>0</td>\n",
              "      <td>0</td>\n",
              "      <td>0</td>\n",
              "      <td>0</td>\n",
              "      <td>0</td>\n",
              "      <td>0</td>\n",
              "      <td>0</td>\n",
              "      <td>0</td>\n",
              "      <td>0</td>\n",
              "      <td>0</td>\n",
              "      <td>0</td>\n",
              "      <td>...</td>\n",
              "      <td>ABCBEECAABDDADCACAAAABDDEDACAEEECCDCEBBABBECB</td>\n",
              "      <td>1</td>\n",
              "      <td>BDDEDBCACEBCCACDCDDAECAADBDBCEEAEAABEBEBBACED</td>\n",
              "      <td>CACDDBDDECCEDEEEBCEAEECBBEBEDBEDECBEBDCAABCDE</td>\n",
              "      <td>BBDECBBCDBCECBABDBEDACDDBBBEADECACEDBEBABCBEAE...</td>\n",
              "      <td>ACEADCEBBDADAAEBBDDEDABADBEXCCCDBCAEEACBCDDAB</td>\n",
              "      <td>1.00</td>\n",
              "      <td>120.00</td>\n",
              "      <td>120.00</td>\n",
              "      <td>120.00</td>\n",
              "      <td>120.00</td>\n",
              "      <td>120.00</td>\n",
              "      <td>600.00</td>\n",
              "      <td>E</td>\n",
              "      <td>E</td>\n",
              "      <td>B</td>\n",
              "      <td>B</td>\n",
              "      <td>5</td>\n",
              "      <td>B</td>\n",
              "      <td>A</td>\n",
              "      <td>B</td>\n",
              "      <td>D</td>\n",
              "      <td>A</td>\n",
              "      <td>A</td>\n",
              "      <td>B</td>\n",
              "      <td>A</td>\n",
              "      <td>A</td>\n",
              "      <td>A</td>\n",
              "      <td>B</td>\n",
              "      <td>A</td>\n",
              "      <td>A</td>\n",
              "      <td>B</td>\n",
              "      <td>A</td>\n",
              "      <td>A</td>\n",
              "      <td>D</td>\n",
              "      <td>A</td>\n",
              "      <td>B</td>\n",
              "      <td>B</td>\n",
              "      <td>A</td>\n",
              "      <td>E</td>\n",
              "    </tr>\n",
              "    <tr>\n",
              "      <th>3</th>\n",
              "      <td>180007859645</td>\n",
              "      <td>2018</td>\n",
              "      <td>3534807</td>\n",
              "      <td>Ouro Verde</td>\n",
              "      <td>35</td>\n",
              "      <td>SP</td>\n",
              "      <td>17.00</td>\n",
              "      <td>F</td>\n",
              "      <td>0.00</td>\n",
              "      <td>2</td>\n",
              "      <td>1</td>\n",
              "      <td>3,514,403.00</td>\n",
              "      <td>Dracena</td>\n",
              "      <td>35.00</td>\n",
              "      <td>SP</td>\n",
              "      <td>2</td>\n",
              "      <td>0</td>\n",
              "      <td>1</td>\n",
              "      <td>1.00</td>\n",
              "      <td>0</td>\n",
              "      <td>nan</td>\n",
              "      <td>nan</td>\n",
              "      <td>NaN</td>\n",
              "      <td>nan</td>\n",
              "      <td>NaN</td>\n",
              "      <td>nan</td>\n",
              "      <td>nan</td>\n",
              "      <td>nan</td>\n",
              "      <td>0</td>\n",
              "      <td>0</td>\n",
              "      <td>0</td>\n",
              "      <td>0</td>\n",
              "      <td>0</td>\n",
              "      <td>0</td>\n",
              "      <td>0</td>\n",
              "      <td>0</td>\n",
              "      <td>0</td>\n",
              "      <td>0</td>\n",
              "      <td>0</td>\n",
              "      <td>0</td>\n",
              "      <td>...</td>\n",
              "      <td>DEBEBEABDABECACDDDECBBDDBCBBCABDAACCECBABDCDA</td>\n",
              "      <td>0</td>\n",
              "      <td>ACEDEAEAEBECAADABBDBCEDEDDCDDABCCACBCACEBDEBB</td>\n",
              "      <td>ECCBBEBEDBEDBDDAEECDECBECACDEDEECDECAABBDEBCE</td>\n",
              "      <td>BCDEBDBCBBACDCBEAECBABADBBECECBDBBEABDADACEDEC...</td>\n",
              "      <td>EBBDEECCCDACEADCBCAAEBBCBCADAEDABADDADDABDBEX</td>\n",
              "      <td>1.00</td>\n",
              "      <td>100.00</td>\n",
              "      <td>120.00</td>\n",
              "      <td>100.00</td>\n",
              "      <td>80.00</td>\n",
              "      <td>0.00</td>\n",
              "      <td>400.00</td>\n",
              "      <td>B</td>\n",
              "      <td>D</td>\n",
              "      <td>C</td>\n",
              "      <td>C</td>\n",
              "      <td>7</td>\n",
              "      <td>F</td>\n",
              "      <td>A</td>\n",
              "      <td>B</td>\n",
              "      <td>D</td>\n",
              "      <td>B</td>\n",
              "      <td>A</td>\n",
              "      <td>B</td>\n",
              "      <td>B</td>\n",
              "      <td>B</td>\n",
              "      <td>A</td>\n",
              "      <td>A</td>\n",
              "      <td>A</td>\n",
              "      <td>A</td>\n",
              "      <td>B</td>\n",
              "      <td>A</td>\n",
              "      <td>A</td>\n",
              "      <td>E</td>\n",
              "      <td>A</td>\n",
              "      <td>A</td>\n",
              "      <td>A</td>\n",
              "      <td>B</td>\n",
              "      <td>A</td>\n",
              "    </tr>\n",
              "    <tr>\n",
              "      <th>4</th>\n",
              "      <td>180013499517</td>\n",
              "      <td>2018</td>\n",
              "      <td>3523107</td>\n",
              "      <td>Itaquaquecetuba</td>\n",
              "      <td>35</td>\n",
              "      <td>SP</td>\n",
              "      <td>19.00</td>\n",
              "      <td>M</td>\n",
              "      <td>0.00</td>\n",
              "      <td>3</td>\n",
              "      <td>1</td>\n",
              "      <td>3,550,308.00</td>\n",
              "      <td>São Paulo</td>\n",
              "      <td>35.00</td>\n",
              "      <td>SP</td>\n",
              "      <td>1</td>\n",
              "      <td>2</td>\n",
              "      <td>1</td>\n",
              "      <td>1.00</td>\n",
              "      <td>0</td>\n",
              "      <td>nan</td>\n",
              "      <td>nan</td>\n",
              "      <td>NaN</td>\n",
              "      <td>nan</td>\n",
              "      <td>NaN</td>\n",
              "      <td>nan</td>\n",
              "      <td>nan</td>\n",
              "      <td>nan</td>\n",
              "      <td>0</td>\n",
              "      <td>0</td>\n",
              "      <td>0</td>\n",
              "      <td>0</td>\n",
              "      <td>0</td>\n",
              "      <td>0</td>\n",
              "      <td>0</td>\n",
              "      <td>0</td>\n",
              "      <td>0</td>\n",
              "      <td>0</td>\n",
              "      <td>0</td>\n",
              "      <td>0</td>\n",
              "      <td>...</td>\n",
              "      <td>NaN</td>\n",
              "      <td>0</td>\n",
              "      <td>NaN</td>\n",
              "      <td>NaN</td>\n",
              "      <td>NaN</td>\n",
              "      <td>NaN</td>\n",
              "      <td>nan</td>\n",
              "      <td>nan</td>\n",
              "      <td>nan</td>\n",
              "      <td>nan</td>\n",
              "      <td>nan</td>\n",
              "      <td>nan</td>\n",
              "      <td>nan</td>\n",
              "      <td>F</td>\n",
              "      <td>F</td>\n",
              "      <td>B</td>\n",
              "      <td>D</td>\n",
              "      <td>5</td>\n",
              "      <td>E</td>\n",
              "      <td>A</td>\n",
              "      <td>B</td>\n",
              "      <td>C</td>\n",
              "      <td>B</td>\n",
              "      <td>A</td>\n",
              "      <td>B</td>\n",
              "      <td>A</td>\n",
              "      <td>B</td>\n",
              "      <td>A</td>\n",
              "      <td>A</td>\n",
              "      <td>A</td>\n",
              "      <td>A</td>\n",
              "      <td>B</td>\n",
              "      <td>A</td>\n",
              "      <td>A</td>\n",
              "      <td>D</td>\n",
              "      <td>B</td>\n",
              "      <td>B</td>\n",
              "      <td>B</td>\n",
              "      <td>A</td>\n",
              "      <td>A</td>\n",
              "    </tr>\n",
              "  </tbody>\n",
              "</table>\n",
              "<p>5 rows × 137 columns</p>\n",
              "</div>"
            ],
            "text/plain": [
              "   NU_INSCRICAO  NU_ANO  CO_MUNICIPIO_RESIDENCIA  ... Q025  Q026 Q027\n",
              "0  180009327796    2018                  2112209  ...    B     A    A\n",
              "1  180012890374    2018                  3557105  ...    B     D    D\n",
              "2  180008223824    2018                  2506301  ...    B     A    E\n",
              "3  180007859645    2018                  3534807  ...    A     B    A\n",
              "4  180013499517    2018                  3523107  ...    B     A    A\n",
              "\n",
              "[5 rows x 137 columns]"
            ]
          },
          "metadata": {
            "tags": []
          },
          "execution_count": 2
        }
      ]
    },
    {
      "cell_type": "code",
      "metadata": {
        "id": "8uh7Dy5N1ufp",
        "colab_type": "code",
        "outputId": "0a1126b9-fadc-458c-9c2b-d917901c5c03",
        "colab": {
          "base_uri": "https://localhost:8080/",
          "height": 34
        }
      },
      "source": [
        "# Verificando o tamanho do DF:\n",
        "dados.shape"
      ],
      "execution_count": 0,
      "outputs": [
        {
          "output_type": "execute_result",
          "data": {
            "text/plain": [
              "(137844, 137)"
            ]
          },
          "metadata": {
            "tags": []
          },
          "execution_count": 3
        }
      ]
    },
    {
      "cell_type": "markdown",
      "metadata": {
        "id": "w7RzQkAULpP6",
        "colab_type": "text"
      },
      "source": [
        "Conheça todas as colunas do nosso dataframe:"
      ]
    },
    {
      "cell_type": "code",
      "metadata": {
        "id": "hw-AYMhqzaZv",
        "colab_type": "code",
        "outputId": "fc7c6e83-7dca-48da-c935-ff6dbbc9cdb8",
        "colab": {
          "base_uri": "https://localhost:8080/",
          "height": 595
        }
      },
      "source": [
        "print(dados.columns.values)"
      ],
      "execution_count": 0,
      "outputs": [
        {
          "output_type": "stream",
          "text": [
            "['NU_INSCRICAO' 'NU_ANO' 'CO_MUNICIPIO_RESIDENCIA'\n",
            " 'NO_MUNICIPIO_RESIDENCIA' 'CO_UF_RESIDENCIA' 'SG_UF_RESIDENCIA'\n",
            " 'NU_IDADE' 'TP_SEXO' 'TP_ESTADO_CIVIL' 'TP_COR_RACA' 'TP_NACIONALIDADE'\n",
            " 'CO_MUNICIPIO_NASCIMENTO' 'NO_MUNICIPIO_NASCIMENTO' 'CO_UF_NASCIMENTO'\n",
            " 'SG_UF_NASCIMENTO' 'TP_ST_CONCLUSAO' 'TP_ANO_CONCLUIU' 'TP_ESCOLA'\n",
            " 'TP_ENSINO' 'IN_TREINEIRO' 'CO_ESCOLA' 'CO_MUNICIPIO_ESC'\n",
            " 'NO_MUNICIPIO_ESC' 'CO_UF_ESC' 'SG_UF_ESC' 'TP_DEPENDENCIA_ADM_ESC'\n",
            " 'TP_LOCALIZACAO_ESC' 'TP_SIT_FUNC_ESC' 'IN_BAIXA_VISAO' 'IN_CEGUEIRA'\n",
            " 'IN_SURDEZ' 'IN_DEFICIENCIA_AUDITIVA' 'IN_SURDO_CEGUEIRA'\n",
            " 'IN_DEFICIENCIA_FISICA' 'IN_DEFICIENCIA_MENTAL' 'IN_DEFICIT_ATENCAO'\n",
            " 'IN_DISLEXIA' 'IN_DISCALCULIA' 'IN_AUTISMO' 'IN_VISAO_MONOCULAR'\n",
            " 'IN_OUTRA_DEF' 'IN_GESTANTE' 'IN_LACTANTE' 'IN_IDOSO'\n",
            " 'IN_ESTUDA_CLASSE_HOSPITALAR' 'IN_SEM_RECURSO' 'IN_BRAILLE'\n",
            " 'IN_AMPLIADA_24' 'IN_AMPLIADA_18' 'IN_LEDOR' 'IN_ACESSO' 'IN_TRANSCRICAO'\n",
            " 'IN_LIBRAS' 'IN_LEITURA_LABIAL' 'IN_MESA_CADEIRA_RODAS'\n",
            " 'IN_MESA_CADEIRA_SEPARADA' 'IN_APOIO_PERNA' 'IN_GUIA_INTERPRETE'\n",
            " 'IN_COMPUTADOR' 'IN_CADEIRA_ESPECIAL' 'IN_CADEIRA_CANHOTO'\n",
            " 'IN_CADEIRA_ACOLCHOADA' 'IN_PROVA_DEITADO' 'IN_MOBILIARIO_OBESO'\n",
            " 'IN_LAMINA_OVERLAY' 'IN_PROTETOR_AURICULAR' 'IN_MEDIDOR_GLICOSE'\n",
            " 'IN_MAQUINA_BRAILE' 'IN_SOROBAN' 'IN_MARCA_PASSO' 'IN_SONDA'\n",
            " 'IN_MEDICAMENTOS' 'IN_SALA_INDIVIDUAL' 'IN_SALA_ESPECIAL'\n",
            " 'IN_SALA_ACOMPANHANTE' 'IN_MOBILIARIO_ESPECIFICO'\n",
            " 'IN_MATERIAL_ESPECIFICO' 'IN_NOME_SOCIAL' 'CO_MUNICIPIO_PROVA'\n",
            " 'NO_MUNICIPIO_PROVA' 'CO_UF_PROVA' 'SG_UF_PROVA' 'TP_PRESENCA_CN'\n",
            " 'TP_PRESENCA_CH' 'TP_PRESENCA_LC' 'TP_PRESENCA_MT' 'CO_PROVA_CN'\n",
            " 'CO_PROVA_CH' 'CO_PROVA_LC' 'CO_PROVA_MT' 'NU_NOTA_CN' 'NU_NOTA_CH'\n",
            " 'NU_NOTA_LC' 'NU_NOTA_MT' 'TX_RESPOSTAS_CN' 'TX_RESPOSTAS_CH'\n",
            " 'TX_RESPOSTAS_LC' 'TX_RESPOSTAS_MT' 'TP_LINGUA' 'TX_GABARITO_CN'\n",
            " 'TX_GABARITO_CH' 'TX_GABARITO_LC' 'TX_GABARITO_MT' 'TP_STATUS_REDACAO'\n",
            " 'NU_NOTA_COMP1' 'NU_NOTA_COMP2' 'NU_NOTA_COMP3' 'NU_NOTA_COMP4'\n",
            " 'NU_NOTA_COMP5' 'NU_NOTA_REDACAO' 'Q001' 'Q002' 'Q003' 'Q004' 'Q005'\n",
            " 'Q006' 'Q007' 'Q008' 'Q009' 'Q010' 'Q011' 'Q012' 'Q013' 'Q014' 'Q015'\n",
            " 'Q016' 'Q017' 'Q018' 'Q019' 'Q020' 'Q021' 'Q022' 'Q023' 'Q024' 'Q025'\n",
            " 'Q026' 'Q027']\n"
          ],
          "name": "stdout"
        }
      ]
    },
    {
      "cell_type": "code",
      "metadata": {
        "id": "JMAHKONM2AvR",
        "colab_type": "code",
        "outputId": "960e93c7-dfb9-48f2-a951-36049c44dbee",
        "colab": {
          "base_uri": "https://localhost:8080/",
          "height": 102
        }
      },
      "source": [
        "# Retirando algumas informações das características dos dados.\n",
        "dados.info()"
      ],
      "execution_count": 0,
      "outputs": [
        {
          "output_type": "stream",
          "text": [
            "<class 'pandas.core.frame.DataFrame'>\n",
            "RangeIndex: 137844 entries, 0 to 137843\n",
            "Columns: 137 entries, NU_INSCRICAO to Q027\n",
            "dtypes: float64(30), int64(64), object(43)\n",
            "memory usage: 144.1+ MB\n"
          ],
          "name": "stdout"
        }
      ]
    },
    {
      "cell_type": "markdown",
      "metadata": {
        "id": "jR3NnBvCL3FA",
        "colab_type": "text"
      },
      "source": [
        "Conhecidas as informações, vamos chamar o **describe()** para analisá-las. Se atente ao detalhe que o **describe** só gera informação de dados numéricos!"
      ]
    },
    {
      "cell_type": "code",
      "metadata": {
        "id": "Z7VqygMczszO",
        "colab_type": "code",
        "outputId": "574762cf-940d-4fde-d4ef-fe500833fa32",
        "colab": {
          "base_uri": "https://localhost:8080/",
          "height": 346
        }
      },
      "source": [
        "# Algumas estatísticas dos dados(apenas numéricos).\n",
        "dados.describe()"
      ],
      "execution_count": 0,
      "outputs": [
        {
          "output_type": "execute_result",
          "data": {
            "text/html": [
              "<div>\n",
              "<style scoped>\n",
              "    .dataframe tbody tr th:only-of-type {\n",
              "        vertical-align: middle;\n",
              "    }\n",
              "\n",
              "    .dataframe tbody tr th {\n",
              "        vertical-align: top;\n",
              "    }\n",
              "\n",
              "    .dataframe thead th {\n",
              "        text-align: right;\n",
              "    }\n",
              "</style>\n",
              "<table border=\"1\" class=\"dataframe\">\n",
              "  <thead>\n",
              "    <tr style=\"text-align: right;\">\n",
              "      <th></th>\n",
              "      <th>NU_INSCRICAO</th>\n",
              "      <th>NU_ANO</th>\n",
              "      <th>CO_MUNICIPIO_RESIDENCIA</th>\n",
              "      <th>CO_UF_RESIDENCIA</th>\n",
              "      <th>NU_IDADE</th>\n",
              "      <th>TP_ESTADO_CIVIL</th>\n",
              "      <th>TP_COR_RACA</th>\n",
              "      <th>TP_NACIONALIDADE</th>\n",
              "      <th>CO_MUNICIPIO_NASCIMENTO</th>\n",
              "      <th>CO_UF_NASCIMENTO</th>\n",
              "      <th>TP_ST_CONCLUSAO</th>\n",
              "      <th>TP_ANO_CONCLUIU</th>\n",
              "      <th>TP_ESCOLA</th>\n",
              "      <th>TP_ENSINO</th>\n",
              "      <th>IN_TREINEIRO</th>\n",
              "      <th>CO_ESCOLA</th>\n",
              "      <th>CO_MUNICIPIO_ESC</th>\n",
              "      <th>CO_UF_ESC</th>\n",
              "      <th>TP_DEPENDENCIA_ADM_ESC</th>\n",
              "      <th>TP_LOCALIZACAO_ESC</th>\n",
              "      <th>TP_SIT_FUNC_ESC</th>\n",
              "      <th>IN_BAIXA_VISAO</th>\n",
              "      <th>IN_CEGUEIRA</th>\n",
              "      <th>IN_SURDEZ</th>\n",
              "      <th>IN_DEFICIENCIA_AUDITIVA</th>\n",
              "      <th>IN_SURDO_CEGUEIRA</th>\n",
              "      <th>IN_DEFICIENCIA_FISICA</th>\n",
              "      <th>IN_DEFICIENCIA_MENTAL</th>\n",
              "      <th>IN_DEFICIT_ATENCAO</th>\n",
              "      <th>IN_DISLEXIA</th>\n",
              "      <th>IN_DISCALCULIA</th>\n",
              "      <th>IN_AUTISMO</th>\n",
              "      <th>IN_VISAO_MONOCULAR</th>\n",
              "      <th>IN_OUTRA_DEF</th>\n",
              "      <th>IN_GESTANTE</th>\n",
              "      <th>IN_LACTANTE</th>\n",
              "      <th>IN_IDOSO</th>\n",
              "      <th>IN_ESTUDA_CLASSE_HOSPITALAR</th>\n",
              "      <th>IN_SEM_RECURSO</th>\n",
              "      <th>IN_BRAILLE</th>\n",
              "      <th>...</th>\n",
              "      <th>IN_CADEIRA_ACOLCHOADA</th>\n",
              "      <th>IN_PROVA_DEITADO</th>\n",
              "      <th>IN_MOBILIARIO_OBESO</th>\n",
              "      <th>IN_LAMINA_OVERLAY</th>\n",
              "      <th>IN_PROTETOR_AURICULAR</th>\n",
              "      <th>IN_MEDIDOR_GLICOSE</th>\n",
              "      <th>IN_MAQUINA_BRAILE</th>\n",
              "      <th>IN_SOROBAN</th>\n",
              "      <th>IN_MARCA_PASSO</th>\n",
              "      <th>IN_SONDA</th>\n",
              "      <th>IN_MEDICAMENTOS</th>\n",
              "      <th>IN_SALA_INDIVIDUAL</th>\n",
              "      <th>IN_SALA_ESPECIAL</th>\n",
              "      <th>IN_SALA_ACOMPANHANTE</th>\n",
              "      <th>IN_MOBILIARIO_ESPECIFICO</th>\n",
              "      <th>IN_MATERIAL_ESPECIFICO</th>\n",
              "      <th>IN_NOME_SOCIAL</th>\n",
              "      <th>CO_MUNICIPIO_PROVA</th>\n",
              "      <th>CO_UF_PROVA</th>\n",
              "      <th>TP_PRESENCA_CN</th>\n",
              "      <th>TP_PRESENCA_CH</th>\n",
              "      <th>TP_PRESENCA_LC</th>\n",
              "      <th>TP_PRESENCA_MT</th>\n",
              "      <th>CO_PROVA_CN</th>\n",
              "      <th>CO_PROVA_CH</th>\n",
              "      <th>CO_PROVA_LC</th>\n",
              "      <th>CO_PROVA_MT</th>\n",
              "      <th>NU_NOTA_CN</th>\n",
              "      <th>NU_NOTA_CH</th>\n",
              "      <th>NU_NOTA_LC</th>\n",
              "      <th>NU_NOTA_MT</th>\n",
              "      <th>TP_LINGUA</th>\n",
              "      <th>TP_STATUS_REDACAO</th>\n",
              "      <th>NU_NOTA_COMP1</th>\n",
              "      <th>NU_NOTA_COMP2</th>\n",
              "      <th>NU_NOTA_COMP3</th>\n",
              "      <th>NU_NOTA_COMP4</th>\n",
              "      <th>NU_NOTA_COMP5</th>\n",
              "      <th>NU_NOTA_REDACAO</th>\n",
              "      <th>Q005</th>\n",
              "    </tr>\n",
              "  </thead>\n",
              "  <tbody>\n",
              "    <tr>\n",
              "      <th>count</th>\n",
              "      <td>137,844.00</td>\n",
              "      <td>137,844.00</td>\n",
              "      <td>137,844.00</td>\n",
              "      <td>137,844.00</td>\n",
              "      <td>137,843.00</td>\n",
              "      <td>132,485.00</td>\n",
              "      <td>137,844.00</td>\n",
              "      <td>137,844.00</td>\n",
              "      <td>133,140.00</td>\n",
              "      <td>133,140.00</td>\n",
              "      <td>137,844.00</td>\n",
              "      <td>137,844.00</td>\n",
              "      <td>137,844.00</td>\n",
              "      <td>86,900.00</td>\n",
              "      <td>137,844.00</td>\n",
              "      <td>36,232.00</td>\n",
              "      <td>36,232.00</td>\n",
              "      <td>36,232.00</td>\n",
              "      <td>36,232.00</td>\n",
              "      <td>36,232.00</td>\n",
              "      <td>36,232.00</td>\n",
              "      <td>137,844.00</td>\n",
              "      <td>137,844.00</td>\n",
              "      <td>137,844.00</td>\n",
              "      <td>137,844.00</td>\n",
              "      <td>137,844.00</td>\n",
              "      <td>137,844.00</td>\n",
              "      <td>137,844.00</td>\n",
              "      <td>137,844.00</td>\n",
              "      <td>137,844.00</td>\n",
              "      <td>137,844.00</td>\n",
              "      <td>137,844.00</td>\n",
              "      <td>137,844.00</td>\n",
              "      <td>137,844.00</td>\n",
              "      <td>137,844.00</td>\n",
              "      <td>137,844.00</td>\n",
              "      <td>137,844.00</td>\n",
              "      <td>137,844.00</td>\n",
              "      <td>137,844.00</td>\n",
              "      <td>137,844.00</td>\n",
              "      <td>...</td>\n",
              "      <td>137,844.00</td>\n",
              "      <td>137,844.00</td>\n",
              "      <td>137,844.00</td>\n",
              "      <td>137,844.00</td>\n",
              "      <td>137,844.00</td>\n",
              "      <td>137,844.00</td>\n",
              "      <td>137,844.00</td>\n",
              "      <td>137,844.00</td>\n",
              "      <td>137,844.00</td>\n",
              "      <td>137,844.00</td>\n",
              "      <td>137,844.00</td>\n",
              "      <td>137,844.00</td>\n",
              "      <td>137,844.00</td>\n",
              "      <td>137,844.00</td>\n",
              "      <td>137,844.00</td>\n",
              "      <td>137,844.00</td>\n",
              "      <td>137,844.00</td>\n",
              "      <td>137,844.00</td>\n",
              "      <td>137,844.00</td>\n",
              "      <td>137,838.00</td>\n",
              "      <td>137,838.00</td>\n",
              "      <td>137,838.00</td>\n",
              "      <td>137,838.00</td>\n",
              "      <td>97,537.00</td>\n",
              "      <td>103,774.00</td>\n",
              "      <td>103,774.00</td>\n",
              "      <td>97,537.00</td>\n",
              "      <td>97,537.00</td>\n",
              "      <td>103,774.00</td>\n",
              "      <td>103,774.00</td>\n",
              "      <td>97,537.00</td>\n",
              "      <td>137,844.00</td>\n",
              "      <td>103,774.00</td>\n",
              "      <td>103,774.00</td>\n",
              "      <td>103,774.00</td>\n",
              "      <td>103,774.00</td>\n",
              "      <td>103,774.00</td>\n",
              "      <td>103,774.00</td>\n",
              "      <td>103,774.00</td>\n",
              "      <td>137,844.00</td>\n",
              "    </tr>\n",
              "    <tr>\n",
              "      <th>mean</th>\n",
              "      <td>180,010,423,553.31</td>\n",
              "      <td>2,018.00</td>\n",
              "      <td>3,118,377.40</td>\n",
              "      <td>31.03</td>\n",
              "      <td>22.38</td>\n",
              "      <td>0.12</td>\n",
              "      <td>2.12</td>\n",
              "      <td>1.04</td>\n",
              "      <td>3,085,664.65</td>\n",
              "      <td>30.70</td>\n",
              "      <td>1.54</td>\n",
              "      <td>3.00</td>\n",
              "      <td>1.34</td>\n",
              "      <td>1.20</td>\n",
              "      <td>0.10</td>\n",
              "      <td>31,587,077.66</td>\n",
              "      <td>3,160,970.21</td>\n",
              "      <td>31.45</td>\n",
              "      <td>2.31</td>\n",
              "      <td>1.03</td>\n",
              "      <td>1.01</td>\n",
              "      <td>0.00</td>\n",
              "      <td>0.00</td>\n",
              "      <td>0.00</td>\n",
              "      <td>0.00</td>\n",
              "      <td>0.00</td>\n",
              "      <td>0.00</td>\n",
              "      <td>0.00</td>\n",
              "      <td>0.00</td>\n",
              "      <td>0.00</td>\n",
              "      <td>0.00</td>\n",
              "      <td>0.00</td>\n",
              "      <td>0.00</td>\n",
              "      <td>0.00</td>\n",
              "      <td>0.00</td>\n",
              "      <td>0.00</td>\n",
              "      <td>0.00</td>\n",
              "      <td>0.00</td>\n",
              "      <td>0.00</td>\n",
              "      <td>0.00</td>\n",
              "      <td>...</td>\n",
              "      <td>0.00</td>\n",
              "      <td>0.00</td>\n",
              "      <td>0.00</td>\n",
              "      <td>0.00</td>\n",
              "      <td>0.00</td>\n",
              "      <td>0.00</td>\n",
              "      <td>0.00</td>\n",
              "      <td>0.00</td>\n",
              "      <td>0.00</td>\n",
              "      <td>0.00</td>\n",
              "      <td>0.00</td>\n",
              "      <td>0.00</td>\n",
              "      <td>0.00</td>\n",
              "      <td>0.00</td>\n",
              "      <td>0.00</td>\n",
              "      <td>0.00</td>\n",
              "      <td>0.00</td>\n",
              "      <td>3,119,912.84</td>\n",
              "      <td>31.05</td>\n",
              "      <td>0.71</td>\n",
              "      <td>0.75</td>\n",
              "      <td>0.75</td>\n",
              "      <td>0.71</td>\n",
              "      <td>448.51</td>\n",
              "      <td>452.52</td>\n",
              "      <td>456.51</td>\n",
              "      <td>460.50</td>\n",
              "      <td>493.63</td>\n",
              "      <td>568.31</td>\n",
              "      <td>526.59</td>\n",
              "      <td>535.18</td>\n",
              "      <td>0.53</td>\n",
              "      <td>1.10</td>\n",
              "      <td>121.73</td>\n",
              "      <td>101.70</td>\n",
              "      <td>97.18</td>\n",
              "      <td>117.03</td>\n",
              "      <td>71.50</td>\n",
              "      <td>509.13</td>\n",
              "      <td>3.90</td>\n",
              "    </tr>\n",
              "    <tr>\n",
              "      <th>std</th>\n",
              "      <td>1,918,950.00</td>\n",
              "      <td>0.00</td>\n",
              "      <td>994,483.04</td>\n",
              "      <td>9.92</td>\n",
              "      <td>7.61</td>\n",
              "      <td>0.38</td>\n",
              "      <td>1.02</td>\n",
              "      <td>0.23</td>\n",
              "      <td>975,680.73</td>\n",
              "      <td>9.72</td>\n",
              "      <td>0.72</td>\n",
              "      <td>4.00</td>\n",
              "      <td>0.70</td>\n",
              "      <td>0.60</td>\n",
              "      <td>0.29</td>\n",
              "      <td>9,765,074.33</td>\n",
              "      <td>979,871.51</td>\n",
              "      <td>9.77</td>\n",
              "      <td>0.78</td>\n",
              "      <td>0.18</td>\n",
              "      <td>0.12</td>\n",
              "      <td>0.03</td>\n",
              "      <td>0.01</td>\n",
              "      <td>0.02</td>\n",
              "      <td>0.02</td>\n",
              "      <td>0.00</td>\n",
              "      <td>0.04</td>\n",
              "      <td>0.02</td>\n",
              "      <td>0.03</td>\n",
              "      <td>0.01</td>\n",
              "      <td>0.01</td>\n",
              "      <td>0.01</td>\n",
              "      <td>0.02</td>\n",
              "      <td>0.03</td>\n",
              "      <td>0.02</td>\n",
              "      <td>0.03</td>\n",
              "      <td>0.00</td>\n",
              "      <td>0.00</td>\n",
              "      <td>0.04</td>\n",
              "      <td>0.01</td>\n",
              "      <td>...</td>\n",
              "      <td>0.00</td>\n",
              "      <td>0.00</td>\n",
              "      <td>0.00</td>\n",
              "      <td>0.00</td>\n",
              "      <td>0.00</td>\n",
              "      <td>0.01</td>\n",
              "      <td>0.00</td>\n",
              "      <td>0.00</td>\n",
              "      <td>0.00</td>\n",
              "      <td>0.00</td>\n",
              "      <td>0.01</td>\n",
              "      <td>0.01</td>\n",
              "      <td>0.00</td>\n",
              "      <td>0.00</td>\n",
              "      <td>0.00</td>\n",
              "      <td>0.00</td>\n",
              "      <td>0.01</td>\n",
              "      <td>994,800.12</td>\n",
              "      <td>9.92</td>\n",
              "      <td>0.46</td>\n",
              "      <td>0.43</td>\n",
              "      <td>0.43</td>\n",
              "      <td>0.46</td>\n",
              "      <td>1.21</td>\n",
              "      <td>1.33</td>\n",
              "      <td>1.31</td>\n",
              "      <td>1.14</td>\n",
              "      <td>74.18</td>\n",
              "      <td>81.03</td>\n",
              "      <td>73.02</td>\n",
              "      <td>102.83</td>\n",
              "      <td>0.50</td>\n",
              "      <td>0.69</td>\n",
              "      <td>31.32</td>\n",
              "      <td>49.51</td>\n",
              "      <td>47.00</td>\n",
              "      <td>35.20</td>\n",
              "      <td>52.21</td>\n",
              "      <td>187.01</td>\n",
              "      <td>1.51</td>\n",
              "    </tr>\n",
              "    <tr>\n",
              "      <th>min</th>\n",
              "      <td>180,007,186,686.00</td>\n",
              "      <td>2,018.00</td>\n",
              "      <td>1,100,015.00</td>\n",
              "      <td>11.00</td>\n",
              "      <td>13.00</td>\n",
              "      <td>0.00</td>\n",
              "      <td>0.00</td>\n",
              "      <td>0.00</td>\n",
              "      <td>1,100,015.00</td>\n",
              "      <td>11.00</td>\n",
              "      <td>1.00</td>\n",
              "      <td>0.00</td>\n",
              "      <td>1.00</td>\n",
              "      <td>1.00</td>\n",
              "      <td>0.00</td>\n",
              "      <td>11,000,058.00</td>\n",
              "      <td>1,100,015.00</td>\n",
              "      <td>11.00</td>\n",
              "      <td>1.00</td>\n",
              "      <td>1.00</td>\n",
              "      <td>1.00</td>\n",
              "      <td>0.00</td>\n",
              "      <td>0.00</td>\n",
              "      <td>0.00</td>\n",
              "      <td>0.00</td>\n",
              "      <td>0.00</td>\n",
              "      <td>0.00</td>\n",
              "      <td>0.00</td>\n",
              "      <td>0.00</td>\n",
              "      <td>0.00</td>\n",
              "      <td>0.00</td>\n",
              "      <td>0.00</td>\n",
              "      <td>0.00</td>\n",
              "      <td>0.00</td>\n",
              "      <td>0.00</td>\n",
              "      <td>0.00</td>\n",
              "      <td>0.00</td>\n",
              "      <td>0.00</td>\n",
              "      <td>0.00</td>\n",
              "      <td>0.00</td>\n",
              "      <td>...</td>\n",
              "      <td>0.00</td>\n",
              "      <td>0.00</td>\n",
              "      <td>0.00</td>\n",
              "      <td>0.00</td>\n",
              "      <td>0.00</td>\n",
              "      <td>0.00</td>\n",
              "      <td>0.00</td>\n",
              "      <td>0.00</td>\n",
              "      <td>0.00</td>\n",
              "      <td>0.00</td>\n",
              "      <td>0.00</td>\n",
              "      <td>0.00</td>\n",
              "      <td>0.00</td>\n",
              "      <td>0.00</td>\n",
              "      <td>0.00</td>\n",
              "      <td>0.00</td>\n",
              "      <td>0.00</td>\n",
              "      <td>1,100,015.00</td>\n",
              "      <td>11.00</td>\n",
              "      <td>0.00</td>\n",
              "      <td>0.00</td>\n",
              "      <td>0.00</td>\n",
              "      <td>0.00</td>\n",
              "      <td>447.00</td>\n",
              "      <td>451.00</td>\n",
              "      <td>455.00</td>\n",
              "      <td>459.00</td>\n",
              "      <td>0.00</td>\n",
              "      <td>0.00</td>\n",
              "      <td>0.00</td>\n",
              "      <td>0.00</td>\n",
              "      <td>0.00</td>\n",
              "      <td>1.00</td>\n",
              "      <td>0.00</td>\n",
              "      <td>0.00</td>\n",
              "      <td>0.00</td>\n",
              "      <td>0.00</td>\n",
              "      <td>0.00</td>\n",
              "      <td>0.00</td>\n",
              "      <td>1.00</td>\n",
              "    </tr>\n",
              "    <tr>\n",
              "      <th>25%</th>\n",
              "      <td>180,008,761,760.75</td>\n",
              "      <td>2,018.00</td>\n",
              "      <td>2,409,100.00</td>\n",
              "      <td>24.00</td>\n",
              "      <td>18.00</td>\n",
              "      <td>0.00</td>\n",
              "      <td>1.00</td>\n",
              "      <td>1.00</td>\n",
              "      <td>2,408,102.00</td>\n",
              "      <td>24.00</td>\n",
              "      <td>1.00</td>\n",
              "      <td>0.00</td>\n",
              "      <td>1.00</td>\n",
              "      <td>1.00</td>\n",
              "      <td>0.00</td>\n",
              "      <td>24,328,308.00</td>\n",
              "      <td>2,414,407.00</td>\n",
              "      <td>24.00</td>\n",
              "      <td>2.00</td>\n",
              "      <td>1.00</td>\n",
              "      <td>1.00</td>\n",
              "      <td>0.00</td>\n",
              "      <td>0.00</td>\n",
              "      <td>0.00</td>\n",
              "      <td>0.00</td>\n",
              "      <td>0.00</td>\n",
              "      <td>0.00</td>\n",
              "      <td>0.00</td>\n",
              "      <td>0.00</td>\n",
              "      <td>0.00</td>\n",
              "      <td>0.00</td>\n",
              "      <td>0.00</td>\n",
              "      <td>0.00</td>\n",
              "      <td>0.00</td>\n",
              "      <td>0.00</td>\n",
              "      <td>0.00</td>\n",
              "      <td>0.00</td>\n",
              "      <td>0.00</td>\n",
              "      <td>0.00</td>\n",
              "      <td>0.00</td>\n",
              "      <td>...</td>\n",
              "      <td>0.00</td>\n",
              "      <td>0.00</td>\n",
              "      <td>0.00</td>\n",
              "      <td>0.00</td>\n",
              "      <td>0.00</td>\n",
              "      <td>0.00</td>\n",
              "      <td>0.00</td>\n",
              "      <td>0.00</td>\n",
              "      <td>0.00</td>\n",
              "      <td>0.00</td>\n",
              "      <td>0.00</td>\n",
              "      <td>0.00</td>\n",
              "      <td>0.00</td>\n",
              "      <td>0.00</td>\n",
              "      <td>0.00</td>\n",
              "      <td>0.00</td>\n",
              "      <td>0.00</td>\n",
              "      <td>2,409,407.00</td>\n",
              "      <td>24.00</td>\n",
              "      <td>0.00</td>\n",
              "      <td>1.00</td>\n",
              "      <td>1.00</td>\n",
              "      <td>0.00</td>\n",
              "      <td>447.00</td>\n",
              "      <td>451.00</td>\n",
              "      <td>455.00</td>\n",
              "      <td>459.00</td>\n",
              "      <td>435.50</td>\n",
              "      <td>510.40</td>\n",
              "      <td>475.70</td>\n",
              "      <td>455.60</td>\n",
              "      <td>0.00</td>\n",
              "      <td>1.00</td>\n",
              "      <td>120.00</td>\n",
              "      <td>40.00</td>\n",
              "      <td>40.00</td>\n",
              "      <td>100.00</td>\n",
              "      <td>40.00</td>\n",
              "      <td>360.00</td>\n",
              "      <td>3.00</td>\n",
              "    </tr>\n",
              "    <tr>\n",
              "      <th>50%</th>\n",
              "      <td>180,010,373,993.50</td>\n",
              "      <td>2,018.00</td>\n",
              "      <td>3,137,700.00</td>\n",
              "      <td>31.00</td>\n",
              "      <td>19.00</td>\n",
              "      <td>0.00</td>\n",
              "      <td>2.00</td>\n",
              "      <td>1.00</td>\n",
              "      <td>3,126,109.00</td>\n",
              "      <td>31.00</td>\n",
              "      <td>1.00</td>\n",
              "      <td>1.00</td>\n",
              "      <td>1.00</td>\n",
              "      <td>1.00</td>\n",
              "      <td>0.00</td>\n",
              "      <td>31,310,592.00</td>\n",
              "      <td>3,169,703.00</td>\n",
              "      <td>31.00</td>\n",
              "      <td>2.00</td>\n",
              "      <td>1.00</td>\n",
              "      <td>1.00</td>\n",
              "      <td>0.00</td>\n",
              "      <td>0.00</td>\n",
              "      <td>0.00</td>\n",
              "      <td>0.00</td>\n",
              "      <td>0.00</td>\n",
              "      <td>0.00</td>\n",
              "      <td>0.00</td>\n",
              "      <td>0.00</td>\n",
              "      <td>0.00</td>\n",
              "      <td>0.00</td>\n",
              "      <td>0.00</td>\n",
              "      <td>0.00</td>\n",
              "      <td>0.00</td>\n",
              "      <td>0.00</td>\n",
              "      <td>0.00</td>\n",
              "      <td>0.00</td>\n",
              "      <td>0.00</td>\n",
              "      <td>0.00</td>\n",
              "      <td>0.00</td>\n",
              "      <td>...</td>\n",
              "      <td>0.00</td>\n",
              "      <td>0.00</td>\n",
              "      <td>0.00</td>\n",
              "      <td>0.00</td>\n",
              "      <td>0.00</td>\n",
              "      <td>0.00</td>\n",
              "      <td>0.00</td>\n",
              "      <td>0.00</td>\n",
              "      <td>0.00</td>\n",
              "      <td>0.00</td>\n",
              "      <td>0.00</td>\n",
              "      <td>0.00</td>\n",
              "      <td>0.00</td>\n",
              "      <td>0.00</td>\n",
              "      <td>0.00</td>\n",
              "      <td>0.00</td>\n",
              "      <td>0.00</td>\n",
              "      <td>3,138,203.00</td>\n",
              "      <td>31.00</td>\n",
              "      <td>1.00</td>\n",
              "      <td>1.00</td>\n",
              "      <td>1.00</td>\n",
              "      <td>1.00</td>\n",
              "      <td>448.00</td>\n",
              "      <td>452.00</td>\n",
              "      <td>456.00</td>\n",
              "      <td>460.00</td>\n",
              "      <td>483.50</td>\n",
              "      <td>582.40</td>\n",
              "      <td>531.20</td>\n",
              "      <td>516.50</td>\n",
              "      <td>1.00</td>\n",
              "      <td>1.00</td>\n",
              "      <td>120.00</td>\n",
              "      <td>120.00</td>\n",
              "      <td>120.00</td>\n",
              "      <td>120.00</td>\n",
              "      <td>60.00</td>\n",
              "      <td>520.00</td>\n",
              "      <td>4.00</td>\n",
              "    </tr>\n",
              "    <tr>\n",
              "      <th>75%</th>\n",
              "      <td>180,012,032,768.50</td>\n",
              "      <td>2,018.00</td>\n",
              "      <td>3,550,308.00</td>\n",
              "      <td>35.00</td>\n",
              "      <td>24.00</td>\n",
              "      <td>0.00</td>\n",
              "      <td>3.00</td>\n",
              "      <td>1.00</td>\n",
              "      <td>3,550,308.00</td>\n",
              "      <td>35.00</td>\n",
              "      <td>2.00</td>\n",
              "      <td>5.00</td>\n",
              "      <td>2.00</td>\n",
              "      <td>1.00</td>\n",
              "      <td>0.00</td>\n",
              "      <td>35,290,674.00</td>\n",
              "      <td>3,550,308.00</td>\n",
              "      <td>35.00</td>\n",
              "      <td>2.00</td>\n",
              "      <td>1.00</td>\n",
              "      <td>1.00</td>\n",
              "      <td>0.00</td>\n",
              "      <td>0.00</td>\n",
              "      <td>0.00</td>\n",
              "      <td>0.00</td>\n",
              "      <td>0.00</td>\n",
              "      <td>0.00</td>\n",
              "      <td>0.00</td>\n",
              "      <td>0.00</td>\n",
              "      <td>0.00</td>\n",
              "      <td>0.00</td>\n",
              "      <td>0.00</td>\n",
              "      <td>0.00</td>\n",
              "      <td>0.00</td>\n",
              "      <td>0.00</td>\n",
              "      <td>0.00</td>\n",
              "      <td>0.00</td>\n",
              "      <td>0.00</td>\n",
              "      <td>0.00</td>\n",
              "      <td>0.00</td>\n",
              "      <td>...</td>\n",
              "      <td>0.00</td>\n",
              "      <td>0.00</td>\n",
              "      <td>0.00</td>\n",
              "      <td>0.00</td>\n",
              "      <td>0.00</td>\n",
              "      <td>0.00</td>\n",
              "      <td>0.00</td>\n",
              "      <td>0.00</td>\n",
              "      <td>0.00</td>\n",
              "      <td>0.00</td>\n",
              "      <td>0.00</td>\n",
              "      <td>0.00</td>\n",
              "      <td>0.00</td>\n",
              "      <td>0.00</td>\n",
              "      <td>0.00</td>\n",
              "      <td>0.00</td>\n",
              "      <td>0.00</td>\n",
              "      <td>3,550,308.00</td>\n",
              "      <td>35.00</td>\n",
              "      <td>1.00</td>\n",
              "      <td>1.00</td>\n",
              "      <td>1.00</td>\n",
              "      <td>1.00</td>\n",
              "      <td>449.00</td>\n",
              "      <td>454.00</td>\n",
              "      <td>458.00</td>\n",
              "      <td>462.00</td>\n",
              "      <td>542.60</td>\n",
              "      <td>628.00</td>\n",
              "      <td>579.80</td>\n",
              "      <td>600.00</td>\n",
              "      <td>1.00</td>\n",
              "      <td>1.00</td>\n",
              "      <td>140.00</td>\n",
              "      <td>120.00</td>\n",
              "      <td>120.00</td>\n",
              "      <td>140.00</td>\n",
              "      <td>120.00</td>\n",
              "      <td>620.00</td>\n",
              "      <td>5.00</td>\n",
              "    </tr>\n",
              "    <tr>\n",
              "      <th>max</th>\n",
              "      <td>180,014,002,596.00</td>\n",
              "      <td>2,018.00</td>\n",
              "      <td>5,300,108.00</td>\n",
              "      <td>53.00</td>\n",
              "      <td>78.00</td>\n",
              "      <td>3.00</td>\n",
              "      <td>5.00</td>\n",
              "      <td>4.00</td>\n",
              "      <td>5,300,108.00</td>\n",
              "      <td>53.00</td>\n",
              "      <td>4.00</td>\n",
              "      <td>12.00</td>\n",
              "      <td>4.00</td>\n",
              "      <td>3.00</td>\n",
              "      <td>1.00</td>\n",
              "      <td>53,088,018.00</td>\n",
              "      <td>5,300,108.00</td>\n",
              "      <td>53.00</td>\n",
              "      <td>4.00</td>\n",
              "      <td>2.00</td>\n",
              "      <td>4.00</td>\n",
              "      <td>1.00</td>\n",
              "      <td>1.00</td>\n",
              "      <td>1.00</td>\n",
              "      <td>1.00</td>\n",
              "      <td>0.00</td>\n",
              "      <td>1.00</td>\n",
              "      <td>1.00</td>\n",
              "      <td>1.00</td>\n",
              "      <td>1.00</td>\n",
              "      <td>1.00</td>\n",
              "      <td>1.00</td>\n",
              "      <td>1.00</td>\n",
              "      <td>1.00</td>\n",
              "      <td>1.00</td>\n",
              "      <td>1.00</td>\n",
              "      <td>1.00</td>\n",
              "      <td>1.00</td>\n",
              "      <td>1.00</td>\n",
              "      <td>1.00</td>\n",
              "      <td>...</td>\n",
              "      <td>1.00</td>\n",
              "      <td>0.00</td>\n",
              "      <td>0.00</td>\n",
              "      <td>0.00</td>\n",
              "      <td>0.00</td>\n",
              "      <td>1.00</td>\n",
              "      <td>1.00</td>\n",
              "      <td>1.00</td>\n",
              "      <td>1.00</td>\n",
              "      <td>0.00</td>\n",
              "      <td>1.00</td>\n",
              "      <td>1.00</td>\n",
              "      <td>1.00</td>\n",
              "      <td>1.00</td>\n",
              "      <td>1.00</td>\n",
              "      <td>1.00</td>\n",
              "      <td>1.00</td>\n",
              "      <td>5,300,108.00</td>\n",
              "      <td>53.00</td>\n",
              "      <td>2.00</td>\n",
              "      <td>2.00</td>\n",
              "      <td>2.00</td>\n",
              "      <td>2.00</td>\n",
              "      <td>467.00</td>\n",
              "      <td>494.00</td>\n",
              "      <td>498.00</td>\n",
              "      <td>470.00</td>\n",
              "      <td>869.60</td>\n",
              "      <td>850.40</td>\n",
              "      <td>781.40</td>\n",
              "      <td>989.90</td>\n",
              "      <td>1.00</td>\n",
              "      <td>9.00</td>\n",
              "      <td>200.00</td>\n",
              "      <td>200.00</td>\n",
              "      <td>200.00</td>\n",
              "      <td>200.00</td>\n",
              "      <td>200.00</td>\n",
              "      <td>1,000.00</td>\n",
              "      <td>20.00</td>\n",
              "    </tr>\n",
              "  </tbody>\n",
              "</table>\n",
              "<p>8 rows × 94 columns</p>\n",
              "</div>"
            ],
            "text/plain": [
              "            NU_INSCRICAO     NU_ANO  ...  NU_NOTA_REDACAO       Q005\n",
              "count         137,844.00 137,844.00  ...       103,774.00 137,844.00\n",
              "mean  180,010,423,553.31   2,018.00  ...           509.13       3.90\n",
              "std         1,918,950.00       0.00  ...           187.01       1.51\n",
              "min   180,007,186,686.00   2,018.00  ...             0.00       1.00\n",
              "25%   180,008,761,760.75   2,018.00  ...           360.00       3.00\n",
              "50%   180,010,373,993.50   2,018.00  ...           520.00       4.00\n",
              "75%   180,012,032,768.50   2,018.00  ...           620.00       5.00\n",
              "max   180,014,002,596.00   2,018.00  ...         1,000.00      20.00\n",
              "\n",
              "[8 rows x 94 columns]"
            ]
          },
          "metadata": {
            "tags": []
          },
          "execution_count": 6
        }
      ]
    },
    {
      "cell_type": "markdown",
      "metadata": {
        "id": "5QzvHhbONYAr",
        "colab_type": "text"
      },
      "source": [
        "A saída do `describe` traz várias estatísticas, de forma que algumas não fazem sentido ou não nos interessam neste momento.  Entretanto, se você analisou as últimas colunas, viu que lá temos alguns dados relevantes: notas das provas e redação. \n",
        "\n",
        "Desafio você a entrar nos detalhes das análises de notas e diversos outros campos! Aqui vamos analisar apenas as notas entre si, mas reflita: Será que existe uma correlação entre as notas? Quem tira notas maiores em redação também vai bem em linguagens?\n",
        "\n",
        "Vamos analisar!"
      ]
    },
    {
      "cell_type": "code",
      "metadata": {
        "id": "gzwir8ndzuV2",
        "colab_type": "code",
        "outputId": "2cd6ef8b-a6f6-4279-8b25-543aad4fc581",
        "colab": {
          "base_uri": "https://localhost:8080/",
          "height": 204
        }
      },
      "source": [
        "# Selecionando apenas as colunas referentes as notas das provas, eliminando os dados faltantes,\n",
        "# renomeando as colunas e apresentando as 5 primeiras linhas.\n",
        "colunas_de_notas = ['NU_NOTA_CN', 'NU_NOTA_CH', 'NU_NOTA_LC', 'NU_NOTA_MT', 'NU_NOTA_REDACAO']\n",
        "dados_notas = dados[colunas_de_notas].dropna()\n",
        "dados_notas.columns = ['ciencias_naturais', 'ciencias_humanas', 'linguagem_codigo', 'matematica', 'redacao']\n",
        "dados_notas.head()"
      ],
      "execution_count": 0,
      "outputs": [
        {
          "output_type": "execute_result",
          "data": {
            "text/html": [
              "<div>\n",
              "<style scoped>\n",
              "    .dataframe tbody tr th:only-of-type {\n",
              "        vertical-align: middle;\n",
              "    }\n",
              "\n",
              "    .dataframe tbody tr th {\n",
              "        vertical-align: top;\n",
              "    }\n",
              "\n",
              "    .dataframe thead th {\n",
              "        text-align: right;\n",
              "    }\n",
              "</style>\n",
              "<table border=\"1\" class=\"dataframe\">\n",
              "  <thead>\n",
              "    <tr style=\"text-align: right;\">\n",
              "      <th></th>\n",
              "      <th>ciencias_naturais</th>\n",
              "      <th>ciencias_humanas</th>\n",
              "      <th>linguagem_codigo</th>\n",
              "      <th>matematica</th>\n",
              "      <th>redacao</th>\n",
              "    </tr>\n",
              "  </thead>\n",
              "  <tbody>\n",
              "    <tr>\n",
              "      <th>1</th>\n",
              "      <td>523.10</td>\n",
              "      <td>671.30</td>\n",
              "      <td>661.60</td>\n",
              "      <td>738.00</td>\n",
              "      <td>680.00</td>\n",
              "    </tr>\n",
              "    <tr>\n",
              "      <th>2</th>\n",
              "      <td>409.20</td>\n",
              "      <td>531.70</td>\n",
              "      <td>389.00</td>\n",
              "      <td>438.10</td>\n",
              "      <td>600.00</td>\n",
              "    </tr>\n",
              "    <tr>\n",
              "      <th>3</th>\n",
              "      <td>452.30</td>\n",
              "      <td>505.50</td>\n",
              "      <td>448.50</td>\n",
              "      <td>544.90</td>\n",
              "      <td>400.00</td>\n",
              "    </tr>\n",
              "    <tr>\n",
              "      <th>6</th>\n",
              "      <td>428.50</td>\n",
              "      <td>505.20</td>\n",
              "      <td>521.00</td>\n",
              "      <td>436.80</td>\n",
              "      <td>560.00</td>\n",
              "    </tr>\n",
              "    <tr>\n",
              "      <th>8</th>\n",
              "      <td>491.80</td>\n",
              "      <td>575.70</td>\n",
              "      <td>524.40</td>\n",
              "      <td>487.60</td>\n",
              "      <td>660.00</td>\n",
              "    </tr>\n",
              "  </tbody>\n",
              "</table>\n",
              "</div>"
            ],
            "text/plain": [
              "   ciencias_naturais  ciencias_humanas  linguagem_codigo  matematica  redacao\n",
              "1             523.10            671.30            661.60      738.00   680.00\n",
              "2             409.20            531.70            389.00      438.10   600.00\n",
              "3             452.30            505.50            448.50      544.90   400.00\n",
              "6             428.50            505.20            521.00      436.80   560.00\n",
              "8             491.80            575.70            524.40      487.60   660.00"
            ]
          },
          "metadata": {
            "tags": []
          },
          "execution_count": 7
        }
      ]
    },
    {
      "cell_type": "code",
      "metadata": {
        "id": "JjtobvrF4Y9l",
        "colab_type": "code",
        "outputId": "f94aa7c1-c353-4c73-9fa1-2c5f5aaaeac8",
        "colab": {
          "base_uri": "https://localhost:8080/",
          "height": 34
        }
      },
      "source": [
        "# Verificando a quantidade de linhas do novo DF depois das modificações acima.\n",
        "len(dados_notas)"
      ],
      "execution_count": 0,
      "outputs": [
        {
          "output_type": "execute_result",
          "data": {
            "text/plain": [
              "97270"
            ]
          },
          "metadata": {
            "tags": []
          },
          "execution_count": 8
        }
      ]
    },
    {
      "cell_type": "markdown",
      "metadata": {
        "id": "vxwJnXF9PTCz",
        "colab_type": "text"
      },
      "source": [
        "Como queremos analisar as notas detalhadamente, no código acima separamos apenas os dados de interesse. Também removemos todos os valores vazios com o `.dropna()` e trocamos os nomes das colunas para ficar mais legível. \n",
        "\n",
        "Por fim, agora nosso DF tem 97270 linhas e 5 colunas.\n",
        "\n",
        "Agora sim, vamos calcular a correlação usando o `.corr()`:"
      ]
    },
    {
      "cell_type": "code",
      "metadata": {
        "id": "tiA2polM4A6F",
        "colab_type": "code",
        "outputId": "56e3f7bd-12ab-4949-b0c0-d28afcbcf2c2",
        "colab": {
          "base_uri": "https://localhost:8080/",
          "height": 204
        }
      },
      "source": [
        "# Calculando a correlação entre as notas das provas.\n",
        "corr = dados_notas.corr()\n",
        "corr"
      ],
      "execution_count": 0,
      "outputs": [
        {
          "output_type": "execute_result",
          "data": {
            "text/html": [
              "<div>\n",
              "<style scoped>\n",
              "    .dataframe tbody tr th:only-of-type {\n",
              "        vertical-align: middle;\n",
              "    }\n",
              "\n",
              "    .dataframe tbody tr th {\n",
              "        vertical-align: top;\n",
              "    }\n",
              "\n",
              "    .dataframe thead th {\n",
              "        text-align: right;\n",
              "    }\n",
              "</style>\n",
              "<table border=\"1\" class=\"dataframe\">\n",
              "  <thead>\n",
              "    <tr style=\"text-align: right;\">\n",
              "      <th></th>\n",
              "      <th>ciencias_naturais</th>\n",
              "      <th>ciencias_humanas</th>\n",
              "      <th>linguagem_codigo</th>\n",
              "      <th>matematica</th>\n",
              "      <th>redacao</th>\n",
              "    </tr>\n",
              "  </thead>\n",
              "  <tbody>\n",
              "    <tr>\n",
              "      <th>ciencias_naturais</th>\n",
              "      <td>1.00</td>\n",
              "      <td>0.57</td>\n",
              "      <td>0.60</td>\n",
              "      <td>0.58</td>\n",
              "      <td>0.51</td>\n",
              "    </tr>\n",
              "    <tr>\n",
              "      <th>ciencias_humanas</th>\n",
              "      <td>0.57</td>\n",
              "      <td>1.00</td>\n",
              "      <td>0.70</td>\n",
              "      <td>0.53</td>\n",
              "      <td>0.50</td>\n",
              "    </tr>\n",
              "    <tr>\n",
              "      <th>linguagem_codigo</th>\n",
              "      <td>0.60</td>\n",
              "      <td>0.70</td>\n",
              "      <td>1.00</td>\n",
              "      <td>0.57</td>\n",
              "      <td>0.56</td>\n",
              "    </tr>\n",
              "    <tr>\n",
              "      <th>matematica</th>\n",
              "      <td>0.58</td>\n",
              "      <td>0.53</td>\n",
              "      <td>0.57</td>\n",
              "      <td>1.00</td>\n",
              "      <td>0.48</td>\n",
              "    </tr>\n",
              "    <tr>\n",
              "      <th>redacao</th>\n",
              "      <td>0.51</td>\n",
              "      <td>0.50</td>\n",
              "      <td>0.56</td>\n",
              "      <td>0.48</td>\n",
              "      <td>1.00</td>\n",
              "    </tr>\n",
              "  </tbody>\n",
              "</table>\n",
              "</div>"
            ],
            "text/plain": [
              "                   ciencias_naturais  ciencias_humanas  ...  matematica  redacao\n",
              "ciencias_naturais               1.00              0.57  ...        0.58     0.51\n",
              "ciencias_humanas                0.57              1.00  ...        0.53     0.50\n",
              "linguagem_codigo                0.60              0.70  ...        0.57     0.56\n",
              "matematica                      0.58              0.53  ...        1.00     0.48\n",
              "redacao                         0.51              0.50  ...        0.48     1.00\n",
              "\n",
              "[5 rows x 5 columns]"
            ]
          },
          "metadata": {
            "tags": []
          },
          "execution_count": 9
        }
      ]
    },
    {
      "cell_type": "markdown",
      "metadata": {
        "id": "BDiDKpxBQ5mj",
        "colab_type": "text"
      },
      "source": [
        "Temos vários resultados interessantes por aqui: o primeiro é uma correlação considerável entre **linguagem_codigo e ciencias_humanas**, o que parece fazer sentido. Uma correlação que surpreende é entre **linguagem_codigo e redacao**. Embora haja uma correlação maior entre **linguagem_codigo e as demais matérias** , era de ser esperar um valor ainda maior do que o existente entre **linguagem_codigo e redação**, já que ambas as provas pertecem basicamente a mesma matéria.\n",
        "\n",
        "**Mais alguma correlação te chama a atenção?**\n",
        "\n",
        "Eu tenho mais uma análise das correlações em geral! Repare que as correlações com linguagem_codigos sempre são as maiores e isso me faz pensar em várias hipóteses!\n",
        "\n",
        "Será que se eu estudar mais português vou ter um desempenho melhor nas outras matérias? (lembre-se que o ENEM é uma prova que demanda interpretação de texto, então essa prerrogativa pode fazer sentido).\n",
        "Será que se eu considerar provas de anos anteriores e comparar as correlações com linguagem_códigos elas serão maiores?\n",
        "\n",
        "A verdade é que uma simples análise de correlação nos gera diversas hipóteses."
      ]
    },
    {
      "cell_type": "code",
      "metadata": {
        "id": "-LVWvYG-49rc",
        "colab_type": "code",
        "outputId": "201b2ba6-f42d-4fb3-e61f-5e44219fe16b",
        "colab": {
          "base_uri": "https://localhost:8080/",
          "height": 609
        }
      },
      "source": [
        "# Importando bibliotecas necessárias para uma melhor análise dos dados.\n",
        "from string import ascii_letters\n",
        "import numpy as np\n",
        "import pandas as pd\n",
        "import seaborn as sns\n",
        "import matplotlib.pyplot as plt\n",
        "\n",
        "# Generate a mask for the upper triangle\n",
        "mask = np.triu(np.ones_like(corr, dtype=np.bool))\n",
        "\n",
        "# Set up the matplotlib figure\n",
        "f, ax = plt.subplots(figsize=(11, 9))\n",
        "\n",
        "# Generate a custom diverging colormap\n",
        "cmap = sns.diverging_palette(220, 10, as_cmap=True)\n",
        "\n",
        "# Draw the heatmap with the mask and correct aspect ratio\n",
        "sns.heatmap(corr, mask=mask, cmap=cmap, vmax=.3, center=0,\n",
        "            square=True, linewidths=.5, cbar_kws={\"shrink\": .5})"
      ],
      "execution_count": 0,
      "outputs": [
        {
          "output_type": "stream",
          "text": [
            "/usr/local/lib/python3.6/dist-packages/statsmodels/tools/_testing.py:19: FutureWarning: pandas.util.testing is deprecated. Use the functions in the public API at pandas.testing instead.\n",
            "  import pandas.util.testing as tm\n"
          ],
          "name": "stderr"
        },
        {
          "output_type": "execute_result",
          "data": {
            "text/plain": [
              "<matplotlib.axes._subplots.AxesSubplot at 0x7f32df7c3588>"
            ]
          },
          "metadata": {
            "tags": []
          },
          "execution_count": 10
        },
        {
          "output_type": "display_data",
          "data": {
            "image/png": "[encoded data removed]",
            "text/plain": [
              "<Figure size 792x648 with 2 Axes>"
            ]
          },
          "metadata": {
            "tags": [],
            "needs_background": "light"
          }
        }
      ]
    },
    {
      "cell_type": "code",
      "metadata": {
        "id": "YQH-RsNf5zFp",
        "colab_type": "code",
        "outputId": "a4f0f5f9-406e-4878-f889-840ffe67f74f",
        "colab": {
          "base_uri": "https://localhost:8080/",
          "height": 368
        }
      },
      "source": [
        "# Criando um mapa de calor para melhor visualizar a intensidade das correlações.\n",
        "sns.heatmap(corr,)"
      ],
      "execution_count": 0,
      "outputs": [
        {
          "output_type": "execute_result",
          "data": {
            "text/plain": [
              "<matplotlib.axes._subplots.AxesSubplot at 0x7f32ea167e80>"
            ]
          },
          "metadata": {
            "tags": []
          },
          "execution_count": 11
        },
        {
          "output_type": "display_data",
          "data": {
            "image/png": "[encoded data removed]",
            "text/plain": [
              "<Figure size 432x288 with 2 Axes>"
            ]
          },
          "metadata": {
            "tags": [],
            "needs_background": "light"
          }
        }
      ]
    },
    {
      "cell_type": "markdown",
      "metadata": {
        "id": "HvIkM27cTjJ_",
        "colab_type": "text"
      },
      "source": [
        "Nós analisamos e conhecemos a base de dados, mas no final o que vou querer é construir um modelo de Machine Learning para fazer as predições de algumas notas. Para criar esse modelo de Machine Learning devemos analisar a distribuição dos nossos dados e verificar se existe alguma tendência entre eles, facilitando o processo preditivo. \n",
        "\n",
        "Então, vamos ao **pairplot**:"
      ]
    },
    {
      "cell_type": "code",
      "metadata": {
        "id": "_inJYS1R68My",
        "colab_type": "code",
        "outputId": "2c672047-8a9f-4d01-c96d-20bc214316e9",
        "colab": {
          "base_uri": "https://localhost:8080/",
          "height": 944
        }
      },
      "source": [
        "# Plotando os gráficos com intuito de encontrar possíveis relações entre as variáveis.\n",
        "sns.pairplot(dados_notas, corner=True, kind='reg')"
      ],
      "execution_count": 0,
      "outputs": [
        {
          "output_type": "execute_result",
          "data": {
            "text/plain": [
              "<seaborn.axisgrid.PairGrid at 0x7f32db7a8c88>"
            ]
          },
          "metadata": {
            "tags": []
          },
          "execution_count": 12
        },
        {
          "output_type": "display_data",
          "data": {
            "image/png": "[encoded data removed]",
            "text/plain": [
              "<Figure size 900x900 with 20 Axes>"
            ]
          },
          "metadata": {
            "tags": [],
            "needs_background": "light"
          }
        }
      ]
    },
    {
      "cell_type": "markdown",
      "metadata": {
        "id": "Hzx5kz8oUyC6",
        "colab_type": "text"
      },
      "source": [
        "Embora existam alguns dados com maior dispersão, outros parecem obedecer uma certa tendência. Dessa forma, desenvolver um modelo de ML com resultados razoáveis será complexo, porém possível.\n",
        "\n",
        "Com isso chegamos ao final de mais uma aula da **#quarentenadados.**"
      ]
    },
    {
      "cell_type": "markdown",
      "metadata": {
        "id": "kwPpG_bi4MG1",
        "colab_type": "text"
      },
      "source": [
        "## Desafio 1 da [Thais André](https://twitter.com/thais_tandre)\n",
        "\n",
        "Se a pessoa não teve presença, preencha a nota dela com algum número. A nota 0? A nota média? A mediana?"
      ]
    },
    {
      "cell_type": "code",
      "metadata": {
        "id": "EdyjMi5q-4qg",
        "colab_type": "code",
        "outputId": "be7b2bea-b9b3-479b-b99b-569dd5f06a7d",
        "colab": {
          "base_uri": "https://localhost:8080/",
          "height": 204
        }
      },
      "source": [
        "# Tratando-se de pessoas que não teve presença: seria as quais estão com valores faltantes nas colunas das NOTAS.\n",
        "# Para isso devemos tratar cada coluna de uma forma.\n",
        "colunas_de_notas = ['NU_NOTA_CN', 'NU_NOTA_CH', 'NU_NOTA_LC', 'NU_NOTA_MT', 'NU_NOTA_REDACAO']\n",
        "dados_present = dados[colunas_de_notas]\n",
        "dados_present.head()"
      ],
      "execution_count": 0,
      "outputs": [
        {
          "output_type": "execute_result",
          "data": {
            "text/html": [
              "<div>\n",
              "<style scoped>\n",
              "    .dataframe tbody tr th:only-of-type {\n",
              "        vertical-align: middle;\n",
              "    }\n",
              "\n",
              "    .dataframe tbody tr th {\n",
              "        vertical-align: top;\n",
              "    }\n",
              "\n",
              "    .dataframe thead th {\n",
              "        text-align: right;\n",
              "    }\n",
              "</style>\n",
              "<table border=\"1\" class=\"dataframe\">\n",
              "  <thead>\n",
              "    <tr style=\"text-align: right;\">\n",
              "      <th></th>\n",
              "      <th>NU_NOTA_CN</th>\n",
              "      <th>NU_NOTA_CH</th>\n",
              "      <th>NU_NOTA_LC</th>\n",
              "      <th>NU_NOTA_MT</th>\n",
              "      <th>NU_NOTA_REDACAO</th>\n",
              "    </tr>\n",
              "  </thead>\n",
              "  <tbody>\n",
              "    <tr>\n",
              "      <th>0</th>\n",
              "      <td>nan</td>\n",
              "      <td>nan</td>\n",
              "      <td>nan</td>\n",
              "      <td>nan</td>\n",
              "      <td>nan</td>\n",
              "    </tr>\n",
              "    <tr>\n",
              "      <th>1</th>\n",
              "      <td>523.10</td>\n",
              "      <td>671.30</td>\n",
              "      <td>661.60</td>\n",
              "      <td>738.00</td>\n",
              "      <td>680.00</td>\n",
              "    </tr>\n",
              "    <tr>\n",
              "      <th>2</th>\n",
              "      <td>409.20</td>\n",
              "      <td>531.70</td>\n",
              "      <td>389.00</td>\n",
              "      <td>438.10</td>\n",
              "      <td>600.00</td>\n",
              "    </tr>\n",
              "    <tr>\n",
              "      <th>3</th>\n",
              "      <td>452.30</td>\n",
              "      <td>505.50</td>\n",
              "      <td>448.50</td>\n",
              "      <td>544.90</td>\n",
              "      <td>400.00</td>\n",
              "    </tr>\n",
              "    <tr>\n",
              "      <th>4</th>\n",
              "      <td>nan</td>\n",
              "      <td>nan</td>\n",
              "      <td>nan</td>\n",
              "      <td>nan</td>\n",
              "      <td>nan</td>\n",
              "    </tr>\n",
              "  </tbody>\n",
              "</table>\n",
              "</div>"
            ],
            "text/plain": [
              "   NU_NOTA_CN  NU_NOTA_CH  NU_NOTA_LC  NU_NOTA_MT  NU_NOTA_REDACAO\n",
              "0         nan         nan         nan         nan              nan\n",
              "1      523.10      671.30      661.60      738.00           680.00\n",
              "2      409.20      531.70      389.00      438.10           600.00\n",
              "3      452.30      505.50      448.50      544.90           400.00\n",
              "4         nan         nan         nan         nan              nan"
            ]
          },
          "metadata": {
            "tags": []
          },
          "execution_count": 13
        }
      ]
    },
    {
      "cell_type": "code",
      "metadata": {
        "id": "p417B1Q1CTMB",
        "colab_type": "code",
        "outputId": "4e18bf90-0fc2-4736-c9d5-c14ce64d79f6",
        "colab": {
          "base_uri": "https://localhost:8080/",
          "height": 119
        }
      },
      "source": [
        "# Verificando a quantidade de valores faltantes.\n",
        "dados_present.isnull().sum()"
      ],
      "execution_count": 0,
      "outputs": [
        {
          "output_type": "execute_result",
          "data": {
            "text/plain": [
              "NU_NOTA_CN         40307\n",
              "NU_NOTA_CH         34070\n",
              "NU_NOTA_LC         34070\n",
              "NU_NOTA_MT         40307\n",
              "NU_NOTA_REDACAO    34070\n",
              "dtype: int64"
            ]
          },
          "metadata": {
            "tags": []
          },
          "execution_count": 14
        }
      ]
    },
    {
      "cell_type": "markdown",
      "metadata": {
        "id": "pMk8hZ7WEDfB",
        "colab_type": "text"
      },
      "source": [
        "É possível perceber que a quantidade de valores faltantes para as provas de ciência da natureza e matemática são iguais, pois são aplicadas no mesmo dia. Análogo com os demais valores e provas."
      ]
    },
    {
      "cell_type": "code",
      "metadata": {
        "id": "tRTgc0BMI-v-",
        "colab_type": "code",
        "colab": {}
      },
      "source": [
        "# Preenchendo os valores faltantes com 0.\n",
        "dados_present = pd.DataFrame(dados_present.fillna(0))"
      ],
      "execution_count": 0,
      "outputs": []
    },
    {
      "cell_type": "code",
      "metadata": {
        "id": "QGUGI8bbKlRw",
        "colab_type": "code",
        "outputId": "f799478b-e4e3-48c2-857f-7821f8b611c3",
        "colab": {
          "base_uri": "https://localhost:8080/",
          "height": 204
        }
      },
      "source": [
        "# Apresentando as 5 primeiras linhas do DF.\n",
        "dados_present.head()"
      ],
      "execution_count": 0,
      "outputs": [
        {
          "output_type": "execute_result",
          "data": {
            "text/html": [
              "<div>\n",
              "<style scoped>\n",
              "    .dataframe tbody tr th:only-of-type {\n",
              "        vertical-align: middle;\n",
              "    }\n",
              "\n",
              "    .dataframe tbody tr th {\n",
              "        vertical-align: top;\n",
              "    }\n",
              "\n",
              "    .dataframe thead th {\n",
              "        text-align: right;\n",
              "    }\n",
              "</style>\n",
              "<table border=\"1\" class=\"dataframe\">\n",
              "  <thead>\n",
              "    <tr style=\"text-align: right;\">\n",
              "      <th></th>\n",
              "      <th>NU_NOTA_CN</th>\n",
              "      <th>NU_NOTA_CH</th>\n",
              "      <th>NU_NOTA_LC</th>\n",
              "      <th>NU_NOTA_MT</th>\n",
              "      <th>NU_NOTA_REDACAO</th>\n",
              "    </tr>\n",
              "  </thead>\n",
              "  <tbody>\n",
              "    <tr>\n",
              "      <th>0</th>\n",
              "      <td>0.00</td>\n",
              "      <td>0.00</td>\n",
              "      <td>0.00</td>\n",
              "      <td>0.00</td>\n",
              "      <td>0.00</td>\n",
              "    </tr>\n",
              "    <tr>\n",
              "      <th>1</th>\n",
              "      <td>523.10</td>\n",
              "      <td>671.30</td>\n",
              "      <td>661.60</td>\n",
              "      <td>738.00</td>\n",
              "      <td>680.00</td>\n",
              "    </tr>\n",
              "    <tr>\n",
              "      <th>2</th>\n",
              "      <td>409.20</td>\n",
              "      <td>531.70</td>\n",
              "      <td>389.00</td>\n",
              "      <td>438.10</td>\n",
              "      <td>600.00</td>\n",
              "    </tr>\n",
              "    <tr>\n",
              "      <th>3</th>\n",
              "      <td>452.30</td>\n",
              "      <td>505.50</td>\n",
              "      <td>448.50</td>\n",
              "      <td>544.90</td>\n",
              "      <td>400.00</td>\n",
              "    </tr>\n",
              "    <tr>\n",
              "      <th>4</th>\n",
              "      <td>0.00</td>\n",
              "      <td>0.00</td>\n",
              "      <td>0.00</td>\n",
              "      <td>0.00</td>\n",
              "      <td>0.00</td>\n",
              "    </tr>\n",
              "  </tbody>\n",
              "</table>\n",
              "</div>"
            ],
            "text/plain": [
              "   NU_NOTA_CN  NU_NOTA_CH  NU_NOTA_LC  NU_NOTA_MT  NU_NOTA_REDACAO\n",
              "0        0.00        0.00        0.00        0.00             0.00\n",
              "1      523.10      671.30      661.60      738.00           680.00\n",
              "2      409.20      531.70      389.00      438.10           600.00\n",
              "3      452.30      505.50      448.50      544.90           400.00\n",
              "4        0.00        0.00        0.00        0.00             0.00"
            ]
          },
          "metadata": {
            "tags": []
          },
          "execution_count": 16
        }
      ]
    },
    {
      "cell_type": "markdown",
      "metadata": {
        "id": "Y8Tk3fr_6vDR",
        "colab_type": "text"
      },
      "source": [
        "## Desafio 2 do [Thiago Gonçalves](https://twitter.com/tgcsantos)\n",
        "\n",
        "A matriz de correlação está feiosa, vamos deixar mais bonita? :) Não se esqueça de manter os valores dentro delas."
      ]
    },
    {
      "cell_type": "code",
      "metadata": {
        "id": "e2A9BzQlL2Nk",
        "colab_type": "code",
        "outputId": "3ef2c891-05b2-4571-ba47-76ac9627fabc",
        "colab": {
          "base_uri": "https://localhost:8080/",
          "height": 592
        }
      },
      "source": [
        "# Personalizando a matriz de correlação.\n",
        "mask = np.zeros_like(corr)\n",
        "mask[np.triu_indices_from(mask)] = True\n",
        "with sns.axes_style(\"white\"):\n",
        "    f, ax = plt.subplots(figsize=(15, 10))\n",
        "    ax = sns.heatmap(corr,annot=True, mask=mask,square=True,linewidths=.5)\n",
        "    plt.yticks(rotation=45)"
      ],
      "execution_count": 0,
      "outputs": [
        {
          "output_type": "display_data",
          "data": {
            "image/png": "[encoded data removed]",
            "text/plain": [
              "<Figure size 1080x720 with 2 Axes>"
            ]
          },
          "metadata": {
            "tags": []
          }
        }
      ]
    },
    {
      "cell_type": "markdown",
      "metadata": {
        "id": "u3BT81NGAxbu",
        "colab_type": "text"
      },
      "source": [
        "Com base na matriz de correlação, vemos que os tons mais claros implicam em correlação maior e positiva, que é o caso de ciências humanas vs linguagem e códigos. Ademos, não temos correlação negativa."
      ]
    },
    {
      "cell_type": "markdown",
      "metadata": {
        "id": "13DD9vRM8u9y",
        "colab_type": "text"
      },
      "source": [
        "## Desafio 3 do [Paulo Silveira](https://twitter.com/paulo_caelum)\n",
        "\n",
        "\n",
        "Pairplot dos acertos de cada categoria (CN, CH, MT, LC, nota pura da redação). Usar o gabarito e as respostas"
      ]
    },
    {
      "cell_type": "code",
      "metadata": {
        "id": "WIIhLDqEeQNP",
        "colab_type": "code",
        "colab": {}
      },
      "source": [
        "# Selecionando sub DF´s para analise de correlações entre acertos nas provas.\n",
        "redacao = dados['NU_NOTA_REDACAO'].dropna()\n",
        "respostas = dados[['TX_RESPOSTAS_CN', 'TX_RESPOSTAS_CH','TX_RESPOSTAS_LC', 'TX_RESPOSTAS_MT']].dropna()\n",
        "gabarito = dados[['TX_GABARITO_CN', 'TX_GABARITO_CH', 'TX_GABARITO_LC','TX_GABARITO_MT']].dropna()\n",
        "lista_r = ['TX_RESPOSTAS_CN', 'TX_RESPOSTAS_CH','TX_RESPOSTAS_LC', 'TX_RESPOSTAS_MT']\n",
        "lista_g = ['TX_GABARITO_CN', 'TX_GABARITO_CH', 'TX_GABARITO_LC','TX_GABARITO_MT']"
      ],
      "execution_count": 0,
      "outputs": []
    },
    {
      "cell_type": "code",
      "metadata": {
        "id": "d4PgaTckNUSG",
        "colab_type": "code",
        "colab": {}
      },
      "source": [
        "arquivo1 = open('acertos_cn.txt','w')\n",
        "for i in range(len(respostas['TX_RESPOSTAS_CN'])):             #linhas\n",
        "  for j in range(len(respostas['TX_RESPOSTAS_CN'].values[0])): # elementos\n",
        "    if respostas['TX_RESPOSTAS_CN'].values[i][j] == gabarito['TX_GABARITO_CN'].values[i][j]:\n",
        "      arquivo1.write(gabarito['TX_GABARITO_CN'].values[i][j])\n",
        "  if i == i:\n",
        "    arquivo1.write('\\n')\n",
        "arquivo1.close()"
      ],
      "execution_count": 0,
      "outputs": []
    },
    {
      "cell_type": "code",
      "metadata": {
        "id": "Lx-DmEzvnhEq",
        "colab_type": "code",
        "colab": {}
      },
      "source": [
        "arquivo2 = open('acertos_ch.txt','w')\n",
        "for i in range(len(respostas['TX_RESPOSTAS_CH'])):             #linhas\n",
        "  for j in range(len(respostas['TX_RESPOSTAS_CH'].values[0])): # elementos\n",
        "    if respostas['TX_RESPOSTAS_CH'].values[i][j] == gabarito['TX_GABARITO_CH'].values[i][j]:\n",
        "      arquivo2.write(gabarito['TX_GABARITO_CH'].values[i][j])\n",
        "  if i == i:\n",
        "    arquivo2.write('\\n')\n",
        "arquivo2.close()"
      ],
      "execution_count": 0,
      "outputs": []
    },
    {
      "cell_type": "code",
      "metadata": {
        "id": "-WY6pL1mngW_",
        "colab_type": "code",
        "colab": {}
      },
      "source": [
        "arquivo3 = open('acertos_lc.txt','w')\n",
        "for i in range(len(respostas['TX_RESPOSTAS_LC'])):             #linhas\n",
        "  for j in range(len(respostas['TX_RESPOSTAS_LC'].values[0])): # elementos\n",
        "    if respostas['TX_RESPOSTAS_LC'].values[i][j] == gabarito['TX_GABARITO_LC'].values[i][j]:\n",
        "      arquivo3.write(gabarito['TX_GABARITO_LC'].values[i][j])\n",
        "  if i == i:\n",
        "    arquivo3.write('\\n')\n",
        "arquivo3.close()"
      ],
      "execution_count": 0,
      "outputs": []
    },
    {
      "cell_type": "code",
      "metadata": {
        "id": "uD7Cr6RxnfnL",
        "colab_type": "code",
        "colab": {}
      },
      "source": [
        "arquivo4 = open('acertos_mt.txt','w')\n",
        "for i in range(len(respostas['TX_RESPOSTAS_MT'])):             #linhas\n",
        "  for j in range(len(respostas['TX_RESPOSTAS_MT'].values[0])): # elementos\n",
        "    if respostas['TX_RESPOSTAS_MT'].values[i][j] == gabarito['TX_GABARITO_MT'].values[i][j]:\n",
        "      arquivo4.write(gabarito['TX_GABARITO_MT'].values[i][j])\n",
        "  if i == i:\n",
        "    arquivo4.write('\\n')\n",
        "arquivo4.close()"
      ],
      "execution_count": 0,
      "outputs": []
    },
    {
      "cell_type": "markdown",
      "metadata": {
        "id": "roQrp_gqB6gN",
        "colab_type": "text"
      },
      "source": [
        "Nos comandos acima foram criados arquivos **.txt** para trabalhar melhor as informações de acertos das questões."
      ]
    },
    {
      "cell_type": "code",
      "metadata": {
        "id": "4Ow0iL3mhwWP",
        "colab_type": "code",
        "colab": {}
      },
      "source": [
        "arquivo1 = open('acertos_cn.txt', 'r')\n",
        "lista1 = arquivo1.readlines()\n",
        "arquivo1.close()\n",
        "for i in range(len(lista1)):\n",
        "  lista1[i] = lista1[i].replace('\\n','')\n",
        "a_cn = []\n",
        "for i in range(len(lista1)):\n",
        "  a_cn.append(len(lista1[i]))"
      ],
      "execution_count": 0,
      "outputs": []
    },
    {
      "cell_type": "code",
      "metadata": {
        "id": "ftXYReSIhymC",
        "colab_type": "code",
        "colab": {}
      },
      "source": [
        "arquivo2 = open('acertos_ch.txt', 'r')\n",
        "lista2 = arquivo2.readlines()\n",
        "arquivo2.close()\n",
        "for i in range(len(lista2)):\n",
        "  lista2[i] = lista2[i].replace('\\n','')\n",
        "a_ch = []\n",
        "for i in range(len(lista2)):\n",
        "  a_ch.append(len(lista2[i]))"
      ],
      "execution_count": 0,
      "outputs": []
    },
    {
      "cell_type": "code",
      "metadata": {
        "id": "vQS6wSNQhygd",
        "colab_type": "code",
        "colab": {}
      },
      "source": [
        "arquivo3 = open('acertos_lc.txt', 'r')\n",
        "lista3 = arquivo3.readlines()\n",
        "arquivo3.close()\n",
        "for i in range(len(lista3)):\n",
        "  lista3[i] = lista3[i].replace('\\n','')\n",
        "a_lc = []\n",
        "for i in range(len(lista3)):\n",
        "  a_lc.append(len(lista3[i]))"
      ],
      "execution_count": 0,
      "outputs": []
    },
    {
      "cell_type": "code",
      "metadata": {
        "id": "75Mb3FYsniL_",
        "colab_type": "code",
        "colab": {}
      },
      "source": [
        "arquivo4 = open('acertos_mt.txt', 'r')\n",
        "lista4 = arquivo4.readlines()\n",
        "arquivo4.close()\n",
        "for i in range(len(lista4)):\n",
        "  lista4[i] = lista4[i].replace('\\n','')\n",
        "a_mt = []\n",
        "for i in range(len(lista4)):\n",
        "  a_mt.append(len(lista4[i]))"
      ],
      "execution_count": 0,
      "outputs": []
    },
    {
      "cell_type": "code",
      "metadata": {
        "id": "YQOKDlFE21W5",
        "colab_type": "code",
        "colab": {}
      },
      "source": [
        "df_acn = pd.DataFrame({'acertos_cn' : a_cn})\n",
        "df_ach = pd.DataFrame({'acertos_ch' : a_ch})\n",
        "df_alc = pd.DataFrame({'acertos_lc' : a_lc})\n",
        "df_amt = pd.DataFrame({'acertos_mt' : a_mt})"
      ],
      "execution_count": 0,
      "outputs": []
    },
    {
      "cell_type": "code",
      "metadata": {
        "id": "L87f0-vR4eiK",
        "colab_type": "code",
        "colab": {}
      },
      "source": [
        "df_acertos = df_acn.join(df_ach)\n",
        "df_acertos = df_acertos.join(df_alc)\n",
        "df_acertos = df_acertos.join(df_amt)"
      ],
      "execution_count": 0,
      "outputs": []
    },
    {
      "cell_type": "code",
      "metadata": {
        "id": "Guum2bso8eU5",
        "colab_type": "code",
        "colab": {}
      },
      "source": [
        "df_acertos = df_acertos.join(redacao)"
      ],
      "execution_count": 0,
      "outputs": []
    },
    {
      "cell_type": "markdown",
      "metadata": {
        "id": "uw-RJRsRCJqE",
        "colab_type": "text"
      },
      "source": [
        "Os códigos acima tratam os arquivos de forma a facilitar a construção de um dataframe com os respectivos acertos nas provas."
      ]
    },
    {
      "cell_type": "code",
      "metadata": {
        "id": "DSfX_nlY94ta",
        "colab_type": "code",
        "outputId": "499c1f1e-91b6-4cb4-931c-dacef03cb9c6",
        "colab": {
          "base_uri": "https://localhost:8080/",
          "height": 297
        }
      },
      "source": [
        "# Calculando algumas medidas estatísticas para os acertos.\n",
        "df_acertos.describe()"
      ],
      "execution_count": 0,
      "outputs": [
        {
          "output_type": "execute_result",
          "data": {
            "text/html": [
              "<div>\n",
              "<style scoped>\n",
              "    .dataframe tbody tr th:only-of-type {\n",
              "        vertical-align: middle;\n",
              "    }\n",
              "\n",
              "    .dataframe tbody tr th {\n",
              "        vertical-align: top;\n",
              "    }\n",
              "\n",
              "    .dataframe thead th {\n",
              "        text-align: right;\n",
              "    }\n",
              "</style>\n",
              "<table border=\"1\" class=\"dataframe\">\n",
              "  <thead>\n",
              "    <tr style=\"text-align: right;\">\n",
              "      <th></th>\n",
              "      <th>acertos_cn</th>\n",
              "      <th>acertos_ch</th>\n",
              "      <th>acertos_lc</th>\n",
              "      <th>acertos_mt</th>\n",
              "      <th>NU_NOTA_REDACAO</th>\n",
              "    </tr>\n",
              "  </thead>\n",
              "  <tbody>\n",
              "    <tr>\n",
              "      <th>count</th>\n",
              "      <td>97,270.00</td>\n",
              "      <td>97,270.00</td>\n",
              "      <td>97,270.00</td>\n",
              "      <td>97,270.00</td>\n",
              "      <td>73,328.00</td>\n",
              "    </tr>\n",
              "    <tr>\n",
              "      <th>mean</th>\n",
              "      <td>11.73</td>\n",
              "      <td>16.06</td>\n",
              "      <td>17.07</td>\n",
              "      <td>11.70</td>\n",
              "      <td>508.80</td>\n",
              "    </tr>\n",
              "    <tr>\n",
              "      <th>std</th>\n",
              "      <td>4.80</td>\n",
              "      <td>7.26</td>\n",
              "      <td>6.72</td>\n",
              "      <td>4.95</td>\n",
              "      <td>187.14</td>\n",
              "    </tr>\n",
              "    <tr>\n",
              "      <th>min</th>\n",
              "      <td>0.00</td>\n",
              "      <td>0.00</td>\n",
              "      <td>0.00</td>\n",
              "      <td>0.00</td>\n",
              "      <td>0.00</td>\n",
              "    </tr>\n",
              "    <tr>\n",
              "      <th>25%</th>\n",
              "      <td>9.00</td>\n",
              "      <td>11.00</td>\n",
              "      <td>12.00</td>\n",
              "      <td>8.00</td>\n",
              "      <td>360.00</td>\n",
              "    </tr>\n",
              "    <tr>\n",
              "      <th>50%</th>\n",
              "      <td>11.00</td>\n",
              "      <td>15.00</td>\n",
              "      <td>16.00</td>\n",
              "      <td>11.00</td>\n",
              "      <td>520.00</td>\n",
              "    </tr>\n",
              "    <tr>\n",
              "      <th>75%</th>\n",
              "      <td>14.00</td>\n",
              "      <td>20.00</td>\n",
              "      <td>22.00</td>\n",
              "      <td>14.00</td>\n",
              "      <td>620.00</td>\n",
              "    </tr>\n",
              "    <tr>\n",
              "      <th>max</th>\n",
              "      <td>44.00</td>\n",
              "      <td>45.00</td>\n",
              "      <td>41.00</td>\n",
              "      <td>43.00</td>\n",
              "      <td>1,000.00</td>\n",
              "    </tr>\n",
              "  </tbody>\n",
              "</table>\n",
              "</div>"
            ],
            "text/plain": [
              "       acertos_cn  acertos_ch  acertos_lc  acertos_mt  NU_NOTA_REDACAO\n",
              "count   97,270.00   97,270.00   97,270.00   97,270.00        73,328.00\n",
              "mean        11.73       16.06       17.07       11.70           508.80\n",
              "std          4.80        7.26        6.72        4.95           187.14\n",
              "min          0.00        0.00        0.00        0.00             0.00\n",
              "25%          9.00       11.00       12.00        8.00           360.00\n",
              "50%         11.00       15.00       16.00       11.00           520.00\n",
              "75%         14.00       20.00       22.00       14.00           620.00\n",
              "max         44.00       45.00       41.00       43.00         1,000.00"
            ]
          },
          "metadata": {
            "tags": []
          },
          "execution_count": 30
        }
      ]
    },
    {
      "cell_type": "code",
      "metadata": {
        "id": "SwFi9pZGDMc_",
        "colab_type": "code",
        "outputId": "7d2a8120-1ab4-485c-ecc6-5f8a489445eb",
        "colab": {
          "base_uri": "https://localhost:8080/",
          "height": 204
        }
      },
      "source": [
        "# Identificando as correlações entre as variáveis\n",
        "df_acertos.corr()"
      ],
      "execution_count": 0,
      "outputs": [
        {
          "output_type": "execute_result",
          "data": {
            "text/html": [
              "<div>\n",
              "<style scoped>\n",
              "    .dataframe tbody tr th:only-of-type {\n",
              "        vertical-align: middle;\n",
              "    }\n",
              "\n",
              "    .dataframe tbody tr th {\n",
              "        vertical-align: top;\n",
              "    }\n",
              "\n",
              "    .dataframe thead th {\n",
              "        text-align: right;\n",
              "    }\n",
              "</style>\n",
              "<table border=\"1\" class=\"dataframe\">\n",
              "  <thead>\n",
              "    <tr style=\"text-align: right;\">\n",
              "      <th></th>\n",
              "      <th>acertos_cn</th>\n",
              "      <th>acertos_ch</th>\n",
              "      <th>acertos_lc</th>\n",
              "      <th>acertos_mt</th>\n",
              "      <th>NU_NOTA_REDACAO</th>\n",
              "    </tr>\n",
              "  </thead>\n",
              "  <tbody>\n",
              "    <tr>\n",
              "      <th>acertos_cn</th>\n",
              "      <td>1.00</td>\n",
              "      <td>0.62</td>\n",
              "      <td>0.57</td>\n",
              "      <td>0.57</td>\n",
              "      <td>-0.01</td>\n",
              "    </tr>\n",
              "    <tr>\n",
              "      <th>acertos_ch</th>\n",
              "      <td>0.62</td>\n",
              "      <td>1.00</td>\n",
              "      <td>0.74</td>\n",
              "      <td>0.57</td>\n",
              "      <td>-0.00</td>\n",
              "    </tr>\n",
              "    <tr>\n",
              "      <th>acertos_lc</th>\n",
              "      <td>0.57</td>\n",
              "      <td>0.74</td>\n",
              "      <td>1.00</td>\n",
              "      <td>0.54</td>\n",
              "      <td>-0.00</td>\n",
              "    </tr>\n",
              "    <tr>\n",
              "      <th>acertos_mt</th>\n",
              "      <td>0.57</td>\n",
              "      <td>0.57</td>\n",
              "      <td>0.54</td>\n",
              "      <td>1.00</td>\n",
              "      <td>-0.00</td>\n",
              "    </tr>\n",
              "    <tr>\n",
              "      <th>NU_NOTA_REDACAO</th>\n",
              "      <td>-0.01</td>\n",
              "      <td>-0.00</td>\n",
              "      <td>-0.00</td>\n",
              "      <td>-0.00</td>\n",
              "      <td>1.00</td>\n",
              "    </tr>\n",
              "  </tbody>\n",
              "</table>\n",
              "</div>"
            ],
            "text/plain": [
              "                 acertos_cn  acertos_ch  ...  acertos_mt  NU_NOTA_REDACAO\n",
              "acertos_cn             1.00        0.62  ...        0.57            -0.01\n",
              "acertos_ch             0.62        1.00  ...        0.57            -0.00\n",
              "acertos_lc             0.57        0.74  ...        0.54            -0.00\n",
              "acertos_mt             0.57        0.57  ...        1.00            -0.00\n",
              "NU_NOTA_REDACAO       -0.01       -0.00  ...       -0.00             1.00\n",
              "\n",
              "[5 rows x 5 columns]"
            ]
          },
          "metadata": {
            "tags": []
          },
          "execution_count": 31
        }
      ]
    },
    {
      "cell_type": "code",
      "metadata": {
        "id": "a9s-3D0-9snM",
        "colab_type": "code",
        "outputId": "7d1ff882-c57f-4a71-8aad-bd9d4516fed6",
        "colab": {
          "base_uri": "https://localhost:8080/",
          "height": 944
        }
      },
      "source": [
        "# Criando o pairplot para uma possível visualização da relação entre as variáveis.\n",
        "sns.pairplot(df_acertos, corner=True)"
      ],
      "execution_count": 0,
      "outputs": [
        {
          "output_type": "execute_result",
          "data": {
            "text/plain": [
              "<seaborn.axisgrid.PairGrid at 0x7f32d83a5400>"
            ]
          },
          "metadata": {
            "tags": []
          },
          "execution_count": 32
        },
        {
          "output_type": "display_data",
          "data": {
            "image/png": "[encoded data removed]",
            "text/plain": [
              "<Figure size 900x900 with 20 Axes>"
            ]
          },
          "metadata": {
            "tags": [],
            "needs_background": "light"
          }
        }
      ]
    },
    {
      "cell_type": "markdown",
      "metadata": {
        "id": "QiKv-PrXCqii",
        "colab_type": "text"
      },
      "source": [
        "Analisando os gráficos acima, é possível ver que os acertos em ciência da natureza tem uma certa relação linear positiva com acertos em ciências humanas, assim como acertos em ciências humanas e linguagens e códigos."
      ]
    },
    {
      "cell_type": "markdown",
      "metadata": {
        "id": "WHrQGdesBDJp",
        "colab_type": "text"
      },
      "source": [
        "## Desafio 4 do [Guilherme Silveira](https://twitter.com/guilhermecaelum)\n",
        "\n",
        "Remover todos os zeros. Tomar o cuidado que no desafio 1 já tomamos decisões ligadas a limpeza dos dados também. Você também pode exportar para outro CSV se quiser."
      ]
    },
    {
      "cell_type": "code",
      "metadata": {
        "id": "qQ49du9roJfD",
        "colab_type": "code",
        "colab": {}
      },
      "source": [
        "# Copiando os dados das notas para uma DF para realizar manipulações.\n",
        "dados_sem_zero = dados_notas.copy()"
      ],
      "execution_count": 0,
      "outputs": []
    },
    {
      "cell_type": "code",
      "metadata": {
        "id": "gceFk4m3uVe8",
        "colab_type": "code",
        "outputId": "ac322c5a-d7d1-4d04-8eaa-706d6db93c2b",
        "colab": {
          "base_uri": "https://localhost:8080/",
          "height": 34
        }
      },
      "source": [
        "# Verificando a quantidade de linhas.\n",
        "len(dados_sem_zero)"
      ],
      "execution_count": 0,
      "outputs": [
        {
          "output_type": "execute_result",
          "data": {
            "text/plain": [
              "97270"
            ]
          },
          "metadata": {
            "tags": []
          },
          "execution_count": 34
        }
      ]
    },
    {
      "cell_type": "code",
      "metadata": {
        "id": "l8-HMxlxoUrN",
        "colab_type": "code",
        "outputId": "4f4986c8-3ffb-437e-a000-e121a7360b11",
        "colab": {
          "base_uri": "https://localhost:8080/",
          "height": 187
        }
      },
      "source": [
        "# Verificando a quantidade de zeros por coluna.\n",
        "print(dados_sem_zero['ciencias_naturais'].value_counts().sort_index().head(1))\n",
        "print(dados_sem_zero['ciencias_humanas'].value_counts().sort_index().head(1))\n",
        "print(dados_sem_zero['linguagem_codigo'].value_counts().sort_index().head(1))\n",
        "print(dados_sem_zero['matematica'].value_counts().sort_index().head(1))\n",
        "print(dados_sem_zero['redacao'].value_counts().sort_index().head(1))"
      ],
      "execution_count": 0,
      "outputs": [
        {
          "output_type": "stream",
          "text": [
            "0.00    14\n",
            "Name: ciencias_naturais, dtype: int64\n",
            "0.00    85\n",
            "Name: ciencias_humanas, dtype: int64\n",
            "0.00    27\n",
            "Name: linguagem_codigo, dtype: int64\n",
            "0.00    22\n",
            "Name: matematica, dtype: int64\n",
            "0.00    2003\n",
            "Name: redacao, dtype: int64\n"
          ],
          "name": "stdout"
        }
      ]
    },
    {
      "cell_type": "code",
      "metadata": {
        "id": "KHx8Gw6wqgno",
        "colab_type": "code",
        "outputId": "cced9772-b82f-4c61-c039-cb0a85c93404",
        "colab": {
          "base_uri": "https://localhost:8080/",
          "height": 204
        }
      },
      "source": [
        "# Removendo todos os valores zeros do DF e apresentando as 5 primeiras linhas.\n",
        "dados_sem_0 = dados_sem_zero.query('ciencias_naturais > 0 & ciencias_humanas > 0 & linguagem_codigo > 0 & matematica > 0 & redacao > 0 ')\n",
        "dados_sem_0.head()"
      ],
      "execution_count": 0,
      "outputs": [
        {
          "output_type": "execute_result",
          "data": {
            "text/html": [
              "<div>\n",
              "<style scoped>\n",
              "    .dataframe tbody tr th:only-of-type {\n",
              "        vertical-align: middle;\n",
              "    }\n",
              "\n",
              "    .dataframe tbody tr th {\n",
              "        vertical-align: top;\n",
              "    }\n",
              "\n",
              "    .dataframe thead th {\n",
              "        text-align: right;\n",
              "    }\n",
              "</style>\n",
              "<table border=\"1\" class=\"dataframe\">\n",
              "  <thead>\n",
              "    <tr style=\"text-align: right;\">\n",
              "      <th></th>\n",
              "      <th>ciencias_naturais</th>\n",
              "      <th>ciencias_humanas</th>\n",
              "      <th>linguagem_codigo</th>\n",
              "      <th>matematica</th>\n",
              "      <th>redacao</th>\n",
              "    </tr>\n",
              "  </thead>\n",
              "  <tbody>\n",
              "    <tr>\n",
              "      <th>1</th>\n",
              "      <td>523.10</td>\n",
              "      <td>671.30</td>\n",
              "      <td>661.60</td>\n",
              "      <td>738.00</td>\n",
              "      <td>680.00</td>\n",
              "    </tr>\n",
              "    <tr>\n",
              "      <th>2</th>\n",
              "      <td>409.20</td>\n",
              "      <td>531.70</td>\n",
              "      <td>389.00</td>\n",
              "      <td>438.10</td>\n",
              "      <td>600.00</td>\n",
              "    </tr>\n",
              "    <tr>\n",
              "      <th>3</th>\n",
              "      <td>452.30</td>\n",
              "      <td>505.50</td>\n",
              "      <td>448.50</td>\n",
              "      <td>544.90</td>\n",
              "      <td>400.00</td>\n",
              "    </tr>\n",
              "    <tr>\n",
              "      <th>6</th>\n",
              "      <td>428.50</td>\n",
              "      <td>505.20</td>\n",
              "      <td>521.00</td>\n",
              "      <td>436.80</td>\n",
              "      <td>560.00</td>\n",
              "    </tr>\n",
              "    <tr>\n",
              "      <th>8</th>\n",
              "      <td>491.80</td>\n",
              "      <td>575.70</td>\n",
              "      <td>524.40</td>\n",
              "      <td>487.60</td>\n",
              "      <td>660.00</td>\n",
              "    </tr>\n",
              "  </tbody>\n",
              "</table>\n",
              "</div>"
            ],
            "text/plain": [
              "   ciencias_naturais  ciencias_humanas  linguagem_codigo  matematica  redacao\n",
              "1             523.10            671.30            661.60      738.00   680.00\n",
              "2             409.20            531.70            389.00      438.10   600.00\n",
              "3             452.30            505.50            448.50      544.90   400.00\n",
              "6             428.50            505.20            521.00      436.80   560.00\n",
              "8             491.80            575.70            524.40      487.60   660.00"
            ]
          },
          "metadata": {
            "tags": []
          },
          "execution_count": 36
        }
      ]
    },
    {
      "cell_type": "markdown",
      "metadata": {
        "id": "w5nybh8yBOT3",
        "colab_type": "text"
      },
      "source": [
        "## Desafio 5 do [Thiago Gonçalves](https://twitter.com/tgcsantos)\n",
        "\n",
        "Quais questões tiveram mais erros e/ou quais provas tiveram mais erros (análise sobre o gabarito x acertos x erros)"
      ]
    },
    {
      "cell_type": "code",
      "metadata": {
        "id": "jz7ZiQ1Jv0cT",
        "colab_type": "code",
        "outputId": "e605a60c-77a9-4794-b548-1dd9fd51e954",
        "colab": {
          "base_uri": "https://localhost:8080/",
          "height": 204
        }
      },
      "source": [
        "# Definindo novas colunas com a porcentagem de acertos por pessoa e por \n",
        "df_acertos['p_cn'] = df_acertos['acertos_cn'].apply(lambda x: (x/45)*100)\n",
        "df_acertos['p_ch'] = df_acertos['acertos_ch'].apply(lambda x: (x/45)*100)\n",
        "df_acertos['p_lc'] = df_acertos['acertos_lc'].apply(lambda x: (x/45)*100)\n",
        "df_acertos['p_mt'] = df_acertos['acertos_mt'].apply(lambda x: (x/45)*100)\n",
        "df_acertos.head()"
      ],
      "execution_count": 0,
      "outputs": [
        {
          "output_type": "execute_result",
          "data": {
            "text/html": [
              "<div>\n",
              "<style scoped>\n",
              "    .dataframe tbody tr th:only-of-type {\n",
              "        vertical-align: middle;\n",
              "    }\n",
              "\n",
              "    .dataframe tbody tr th {\n",
              "        vertical-align: top;\n",
              "    }\n",
              "\n",
              "    .dataframe thead th {\n",
              "        text-align: right;\n",
              "    }\n",
              "</style>\n",
              "<table border=\"1\" class=\"dataframe\">\n",
              "  <thead>\n",
              "    <tr style=\"text-align: right;\">\n",
              "      <th></th>\n",
              "      <th>acertos_cn</th>\n",
              "      <th>acertos_ch</th>\n",
              "      <th>acertos_lc</th>\n",
              "      <th>acertos_mt</th>\n",
              "      <th>NU_NOTA_REDACAO</th>\n",
              "      <th>p_cn</th>\n",
              "      <th>p_ch</th>\n",
              "      <th>p_lc</th>\n",
              "      <th>p_mt</th>\n",
              "    </tr>\n",
              "  </thead>\n",
              "  <tbody>\n",
              "    <tr>\n",
              "      <th>0</th>\n",
              "      <td>11</td>\n",
              "      <td>27</td>\n",
              "      <td>33</td>\n",
              "      <td>22</td>\n",
              "      <td>nan</td>\n",
              "      <td>24.44</td>\n",
              "      <td>60.00</td>\n",
              "      <td>73.33</td>\n",
              "      <td>48.89</td>\n",
              "    </tr>\n",
              "    <tr>\n",
              "      <th>1</th>\n",
              "      <td>8</td>\n",
              "      <td>9</td>\n",
              "      <td>8</td>\n",
              "      <td>6</td>\n",
              "      <td>680.00</td>\n",
              "      <td>17.78</td>\n",
              "      <td>20.00</td>\n",
              "      <td>17.78</td>\n",
              "      <td>13.33</td>\n",
              "    </tr>\n",
              "    <tr>\n",
              "      <th>2</th>\n",
              "      <td>7</td>\n",
              "      <td>10</td>\n",
              "      <td>11</td>\n",
              "      <td>10</td>\n",
              "      <td>600.00</td>\n",
              "      <td>15.56</td>\n",
              "      <td>22.22</td>\n",
              "      <td>24.44</td>\n",
              "      <td>22.22</td>\n",
              "    </tr>\n",
              "    <tr>\n",
              "      <th>3</th>\n",
              "      <td>11</td>\n",
              "      <td>9</td>\n",
              "      <td>15</td>\n",
              "      <td>8</td>\n",
              "      <td>400.00</td>\n",
              "      <td>24.44</td>\n",
              "      <td>20.00</td>\n",
              "      <td>33.33</td>\n",
              "      <td>17.78</td>\n",
              "    </tr>\n",
              "    <tr>\n",
              "      <th>4</th>\n",
              "      <td>8</td>\n",
              "      <td>12</td>\n",
              "      <td>15</td>\n",
              "      <td>13</td>\n",
              "      <td>nan</td>\n",
              "      <td>17.78</td>\n",
              "      <td>26.67</td>\n",
              "      <td>33.33</td>\n",
              "      <td>28.89</td>\n",
              "    </tr>\n",
              "  </tbody>\n",
              "</table>\n",
              "</div>"
            ],
            "text/plain": [
              "   acertos_cn  acertos_ch  acertos_lc  acertos_mt  ...  p_cn  p_ch  p_lc  p_mt\n",
              "0          11          27          33          22  ... 24.44 60.00 73.33 48.89\n",
              "1           8           9           8           6  ... 17.78 20.00 17.78 13.33\n",
              "2           7          10          11          10  ... 15.56 22.22 24.44 22.22\n",
              "3          11           9          15           8  ... 24.44 20.00 33.33 17.78\n",
              "4           8          12          15          13  ... 17.78 26.67 33.33 28.89\n",
              "\n",
              "[5 rows x 9 columns]"
            ]
          },
          "metadata": {
            "tags": []
          },
          "execution_count": 37
        }
      ]
    },
    {
      "cell_type": "code",
      "metadata": {
        "id": "a0I38HP2Dvhp",
        "colab_type": "code",
        "outputId": "c2c674ff-338b-4329-afe9-612978b0b998",
        "colab": {
          "base_uri": "https://localhost:8080/",
          "height": 297
        }
      },
      "source": [
        "df_acertos[['p_cn','p_ch','p_lc','p_mt']].mean().plot(kind='bar')"
      ],
      "execution_count": 0,
      "outputs": [
        {
          "output_type": "execute_result",
          "data": {
            "text/plain": [
              "37.94"
            ]
          },
          "metadata": {
            "tags": []
          },
          "execution_count": 46
        },
        {
          "output_type": "display_data",
          "data": {
            "image/png": "[encoded data removed]",
            "text/plain": [
              "<Figure size 432x288 with 1 Axes>"
            ]
          },
          "metadata": {
            "tags": [],
            "needs_background": "light"
          }
        }
      ]
    },
    {
      "cell_type": "markdown",
      "metadata": {
        "id": "L4Cmra_MLesp",
        "colab_type": "text"
      },
      "source": [
        "Com base no gráfico de barras acima, vemos qua a prova com maiores acertos em questões é linguagem e códigos com um média de 38 pontos, e ciência da natureza e matematica tem basicamente os mesmos acertos em média(26), que são os menores entre as 4 provas."
      ]
    },
    {
      "cell_type": "markdown",
      "metadata": {
        "id": "prjz3IZIB_Xa",
        "colab_type": "text"
      },
      "source": [
        "# Desafio 6 do [Allan Spadini](https://twitter.com/allanspadini)\n",
        "\n",
        "Estudar o que as pessoas que estudam o assunto estão discutindo e conclusões que já chegaram sobre a utilização de informações (principalmente sensíveis) para machine learning e data science. Podcast do datahackers também sobre o assunto."
      ]
    },
    {
      "cell_type": "markdown",
      "metadata": {
        "id": "6i8lApSuEB7L",
        "colab_type": "text"
      },
      "source": [
        "R: Ok."
      ]
    },
    {
      "cell_type": "code",
      "metadata": {
        "id": "w0kzNVh9EDvl",
        "colab_type": "code",
        "colab": {}
      },
      "source": [
        ""
      ],
      "execution_count": 0,
      "outputs": []
    }
  ]
}