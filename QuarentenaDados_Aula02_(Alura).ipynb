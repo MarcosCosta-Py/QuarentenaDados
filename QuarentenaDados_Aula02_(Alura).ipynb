{
  "nbformat": 4,
  "nbformat_minor": 0,
  "metadata": {
    "colab": {
      "name": "QuarentenaDados - Aula02-(Alura)",
      "provenance": [],
      "collapsed_sections": [],
      "authorship_tag": "ABX9TyPBpBS/5ErHv5yN5cuWqQvP",
      "include_colab_link": true
    },
    "kernelspec": {
      "name": "python3",
      "display_name": "Python 3"
    }
  },
  "cells": [
    {
      "cell_type": "markdown",
      "metadata": {
        "id": "view-in-github",
        "colab_type": "text"
      },
      "source": [
        "<a href=\"https://colab.research.google.com/github/MarcosCosta-Py/QuarentenaDados/blob/master/QuarentenaDados_Aula02_(Alura).ipynb\" target=\"_parent\"><img src=\"https://colab.research.google.com/assets/colab-badge.svg\" alt=\"Open In Colab\"/></a>"
      ]
    },
    {
      "cell_type": "markdown",
      "metadata": {
        "id": "eWCuxxekMQKk",
        "colab_type": "text"
      },
      "source": [
        "# **Aula 2: Médias, medianas e visualização de dados.**"
      ]
    },
    {
      "cell_type": "markdown",
      "metadata": {
        "id": "WDS9RGXsMlwJ",
        "colab_type": "text"
      },
      "source": [
        "Nesta aula vamos estudar com mais profundidade as técnicas de centralidade, conhecer algumas boas práticas de visualização de dados e o famoso Boxplot.\n",
        "\n",
        "Para inciar vamos precisar resolver alguns dos desafios deixados na **aula 01** (Caso não tenha tentado resolver os desafios, recomendo tentar algumas vezes antes de olhar as repostas). Começando pelo exercício 05, onde precisamos segregar os gêneros de cada um dos filmes contidos na base de dados do **Movie Lens**.\n",
        "\n",
        "Vamos relembrar como os dados estavam configurados."
      ]
    },
    {
      "cell_type": "code",
      "metadata": {
        "id": "S9fMIERmLslZ",
        "colab_type": "code",
        "colab": {}
      },
      "source": [
        "# importando as bibliotecas necessárias:\n",
        "import pandas as pd\n",
        "import matplotlib.pyplot as plt\n",
        "import seaborn as sns\n",
        "\n",
        "%matplotlib inline "
      ],
      "execution_count": 0,
      "outputs": []
    },
    {
      "cell_type": "code",
      "metadata": {
        "id": "WG7cIj4tM5tb",
        "colab_type": "code",
        "colab": {}
      },
      "source": [
        "# Lendo os arquivos necessários:\n",
        "filmes = pd.read_csv(\"https://raw.githubusercontent.com/alura-cursos/introducao-a-data-science/master/aula0/ml-latest-small/movies.csv\")\n",
        "filmes.columns = ['filmesId','titulo','generos']\n",
        "avaliacoes = pd.read_csv(\"https://github.com/alura-cursos/introducao-a-data-science/blob/master/aula0/ml-latest-small/ratings.csv?raw=true\")\n",
        "avaliacoes.columns = [\"usuarioId\", \"filmesId\", \"nota\", \"momento\"]"
      ],
      "execution_count": 0,
      "outputs": []
    },
    {
      "cell_type": "code",
      "metadata": {
        "id": "epazuDv3NY_O",
        "colab_type": "code",
        "outputId": "9c060755-ecc2-41ca-9286-cd9adbbd907f",
        "colab": {
          "base_uri": "https://localhost:8080/",
          "height": 204
        }
      },
      "source": [
        "filmes.head()"
      ],
      "execution_count": 0,
      "outputs": [
        {
          "output_type": "execute_result",
          "data": {
            "text/html": [
              "<div>\n",
              "<style scoped>\n",
              "    .dataframe tbody tr th:only-of-type {\n",
              "        vertical-align: middle;\n",
              "    }\n",
              "\n",
              "    .dataframe tbody tr th {\n",
              "        vertical-align: top;\n",
              "    }\n",
              "\n",
              "    .dataframe thead th {\n",
              "        text-align: right;\n",
              "    }\n",
              "</style>\n",
              "<table border=\"1\" class=\"dataframe\">\n",
              "  <thead>\n",
              "    <tr style=\"text-align: right;\">\n",
              "      <th></th>\n",
              "      <th>filmesId</th>\n",
              "      <th>titulo</th>\n",
              "      <th>generos</th>\n",
              "    </tr>\n",
              "  </thead>\n",
              "  <tbody>\n",
              "    <tr>\n",
              "      <th>0</th>\n",
              "      <td>1</td>\n",
              "      <td>Toy Story (1995)</td>\n",
              "      <td>Adventure|Animation|Children|Comedy|Fantasy</td>\n",
              "    </tr>\n",
              "    <tr>\n",
              "      <th>1</th>\n",
              "      <td>2</td>\n",
              "      <td>Jumanji (1995)</td>\n",
              "      <td>Adventure|Children|Fantasy</td>\n",
              "    </tr>\n",
              "    <tr>\n",
              "      <th>2</th>\n",
              "      <td>3</td>\n",
              "      <td>Grumpier Old Men (1995)</td>\n",
              "      <td>Comedy|Romance</td>\n",
              "    </tr>\n",
              "    <tr>\n",
              "      <th>3</th>\n",
              "      <td>4</td>\n",
              "      <td>Waiting to Exhale (1995)</td>\n",
              "      <td>Comedy|Drama|Romance</td>\n",
              "    </tr>\n",
              "    <tr>\n",
              "      <th>4</th>\n",
              "      <td>5</td>\n",
              "      <td>Father of the Bride Part II (1995)</td>\n",
              "      <td>Comedy</td>\n",
              "    </tr>\n",
              "  </tbody>\n",
              "</table>\n",
              "</div>"
            ],
            "text/plain": [
              "   filmesId  ...                                      generos\n",
              "0         1  ...  Adventure|Animation|Children|Comedy|Fantasy\n",
              "1         2  ...                   Adventure|Children|Fantasy\n",
              "2         3  ...                               Comedy|Romance\n",
              "3         4  ...                         Comedy|Drama|Romance\n",
              "4         5  ...                                       Comedy\n",
              "\n",
              "[5 rows x 3 columns]"
            ]
          },
          "metadata": {
            "tags": []
          },
          "execution_count": 50
        }
      ]
    },
    {
      "cell_type": "markdown",
      "metadata": {
        "id": "OmhH9GMqNzMB",
        "colab_type": "text"
      },
      "source": [
        "Temos os títulos e uma coluna com os respectivos gêneros, todos em uma única coluna, cada *label* é separada com um **|** (Adventure|Children|Fantasy) sendo do tipo *string*. \n",
        "\n",
        "Para solucionar nosso problema precisamos separar cada um dos gêneros para então realizar a contagem. Existe várias formas de resolver este problema, por exemplo, desde métodos inputos das *strings* até as **regex**, mas como estamos usando o pandas já temos algo para facilitar nosso processamento dos dados. \n",
        "\n",
        "Vamos aplicar o método e logo em seguida explicar a saída geranda."
      ]
    },
    {
      "cell_type": "code",
      "metadata": {
        "id": "nFZjZpI_Noxc",
        "colab_type": "code",
        "outputId": "88fa0f72-2184-4afd-804e-0ee14758a38d",
        "colab": {
          "base_uri": "https://localhost:8080/",
          "height": 473
        }
      },
      "source": [
        "generos_logic = filmes[\"generos\"].str.get_dummies('|')\n",
        "generos_logic"
      ],
      "execution_count": 0,
      "outputs": [
        {
          "output_type": "execute_result",
          "data": {
            "text/html": [
              "<div>\n",
              "<style scoped>\n",
              "    .dataframe tbody tr th:only-of-type {\n",
              "        vertical-align: middle;\n",
              "    }\n",
              "\n",
              "    .dataframe tbody tr th {\n",
              "        vertical-align: top;\n",
              "    }\n",
              "\n",
              "    .dataframe thead th {\n",
              "        text-align: right;\n",
              "    }\n",
              "</style>\n",
              "<table border=\"1\" class=\"dataframe\">\n",
              "  <thead>\n",
              "    <tr style=\"text-align: right;\">\n",
              "      <th></th>\n",
              "      <th>(no genres listed)</th>\n",
              "      <th>Action</th>\n",
              "      <th>Adventure</th>\n",
              "      <th>Animation</th>\n",
              "      <th>Children</th>\n",
              "      <th>Comedy</th>\n",
              "      <th>Crime</th>\n",
              "      <th>Documentary</th>\n",
              "      <th>Drama</th>\n",
              "      <th>Fantasy</th>\n",
              "      <th>Film-Noir</th>\n",
              "      <th>Horror</th>\n",
              "      <th>IMAX</th>\n",
              "      <th>Musical</th>\n",
              "      <th>Mystery</th>\n",
              "      <th>Romance</th>\n",
              "      <th>Sci-Fi</th>\n",
              "      <th>Thriller</th>\n",
              "      <th>War</th>\n",
              "      <th>Western</th>\n",
              "    </tr>\n",
              "  </thead>\n",
              "  <tbody>\n",
              "    <tr>\n",
              "      <th>0</th>\n",
              "      <td>0</td>\n",
              "      <td>0</td>\n",
              "      <td>1</td>\n",
              "      <td>1</td>\n",
              "      <td>1</td>\n",
              "      <td>1</td>\n",
              "      <td>0</td>\n",
              "      <td>0</td>\n",
              "      <td>0</td>\n",
              "      <td>1</td>\n",
              "      <td>0</td>\n",
              "      <td>0</td>\n",
              "      <td>0</td>\n",
              "      <td>0</td>\n",
              "      <td>0</td>\n",
              "      <td>0</td>\n",
              "      <td>0</td>\n",
              "      <td>0</td>\n",
              "      <td>0</td>\n",
              "      <td>0</td>\n",
              "    </tr>\n",
              "    <tr>\n",
              "      <th>1</th>\n",
              "      <td>0</td>\n",
              "      <td>0</td>\n",
              "      <td>1</td>\n",
              "      <td>0</td>\n",
              "      <td>1</td>\n",
              "      <td>0</td>\n",
              "      <td>0</td>\n",
              "      <td>0</td>\n",
              "      <td>0</td>\n",
              "      <td>1</td>\n",
              "      <td>0</td>\n",
              "      <td>0</td>\n",
              "      <td>0</td>\n",
              "      <td>0</td>\n",
              "      <td>0</td>\n",
              "      <td>0</td>\n",
              "      <td>0</td>\n",
              "      <td>0</td>\n",
              "      <td>0</td>\n",
              "      <td>0</td>\n",
              "    </tr>\n",
              "    <tr>\n",
              "      <th>2</th>\n",
              "      <td>0</td>\n",
              "      <td>0</td>\n",
              "      <td>0</td>\n",
              "      <td>0</td>\n",
              "      <td>0</td>\n",
              "      <td>1</td>\n",
              "      <td>0</td>\n",
              "      <td>0</td>\n",
              "      <td>0</td>\n",
              "      <td>0</td>\n",
              "      <td>0</td>\n",
              "      <td>0</td>\n",
              "      <td>0</td>\n",
              "      <td>0</td>\n",
              "      <td>0</td>\n",
              "      <td>1</td>\n",
              "      <td>0</td>\n",
              "      <td>0</td>\n",
              "      <td>0</td>\n",
              "      <td>0</td>\n",
              "    </tr>\n",
              "    <tr>\n",
              "      <th>3</th>\n",
              "      <td>0</td>\n",
              "      <td>0</td>\n",
              "      <td>0</td>\n",
              "      <td>0</td>\n",
              "      <td>0</td>\n",
              "      <td>1</td>\n",
              "      <td>0</td>\n",
              "      <td>0</td>\n",
              "      <td>1</td>\n",
              "      <td>0</td>\n",
              "      <td>0</td>\n",
              "      <td>0</td>\n",
              "      <td>0</td>\n",
              "      <td>0</td>\n",
              "      <td>0</td>\n",
              "      <td>1</td>\n",
              "      <td>0</td>\n",
              "      <td>0</td>\n",
              "      <td>0</td>\n",
              "      <td>0</td>\n",
              "    </tr>\n",
              "    <tr>\n",
              "      <th>4</th>\n",
              "      <td>0</td>\n",
              "      <td>0</td>\n",
              "      <td>0</td>\n",
              "      <td>0</td>\n",
              "      <td>0</td>\n",
              "      <td>1</td>\n",
              "      <td>0</td>\n",
              "      <td>0</td>\n",
              "      <td>0</td>\n",
              "      <td>0</td>\n",
              "      <td>0</td>\n",
              "      <td>0</td>\n",
              "      <td>0</td>\n",
              "      <td>0</td>\n",
              "      <td>0</td>\n",
              "      <td>0</td>\n",
              "      <td>0</td>\n",
              "      <td>0</td>\n",
              "      <td>0</td>\n",
              "      <td>0</td>\n",
              "    </tr>\n",
              "    <tr>\n",
              "      <th>...</th>\n",
              "      <td>...</td>\n",
              "      <td>...</td>\n",
              "      <td>...</td>\n",
              "      <td>...</td>\n",
              "      <td>...</td>\n",
              "      <td>...</td>\n",
              "      <td>...</td>\n",
              "      <td>...</td>\n",
              "      <td>...</td>\n",
              "      <td>...</td>\n",
              "      <td>...</td>\n",
              "      <td>...</td>\n",
              "      <td>...</td>\n",
              "      <td>...</td>\n",
              "      <td>...</td>\n",
              "      <td>...</td>\n",
              "      <td>...</td>\n",
              "      <td>...</td>\n",
              "      <td>...</td>\n",
              "      <td>...</td>\n",
              "    </tr>\n",
              "    <tr>\n",
              "      <th>9737</th>\n",
              "      <td>0</td>\n",
              "      <td>1</td>\n",
              "      <td>0</td>\n",
              "      <td>1</td>\n",
              "      <td>0</td>\n",
              "      <td>1</td>\n",
              "      <td>0</td>\n",
              "      <td>0</td>\n",
              "      <td>0</td>\n",
              "      <td>1</td>\n",
              "      <td>0</td>\n",
              "      <td>0</td>\n",
              "      <td>0</td>\n",
              "      <td>0</td>\n",
              "      <td>0</td>\n",
              "      <td>0</td>\n",
              "      <td>0</td>\n",
              "      <td>0</td>\n",
              "      <td>0</td>\n",
              "      <td>0</td>\n",
              "    </tr>\n",
              "    <tr>\n",
              "      <th>9738</th>\n",
              "      <td>0</td>\n",
              "      <td>0</td>\n",
              "      <td>0</td>\n",
              "      <td>1</td>\n",
              "      <td>0</td>\n",
              "      <td>1</td>\n",
              "      <td>0</td>\n",
              "      <td>0</td>\n",
              "      <td>0</td>\n",
              "      <td>1</td>\n",
              "      <td>0</td>\n",
              "      <td>0</td>\n",
              "      <td>0</td>\n",
              "      <td>0</td>\n",
              "      <td>0</td>\n",
              "      <td>0</td>\n",
              "      <td>0</td>\n",
              "      <td>0</td>\n",
              "      <td>0</td>\n",
              "      <td>0</td>\n",
              "    </tr>\n",
              "    <tr>\n",
              "      <th>9739</th>\n",
              "      <td>0</td>\n",
              "      <td>0</td>\n",
              "      <td>0</td>\n",
              "      <td>0</td>\n",
              "      <td>0</td>\n",
              "      <td>0</td>\n",
              "      <td>0</td>\n",
              "      <td>0</td>\n",
              "      <td>1</td>\n",
              "      <td>0</td>\n",
              "      <td>0</td>\n",
              "      <td>0</td>\n",
              "      <td>0</td>\n",
              "      <td>0</td>\n",
              "      <td>0</td>\n",
              "      <td>0</td>\n",
              "      <td>0</td>\n",
              "      <td>0</td>\n",
              "      <td>0</td>\n",
              "      <td>0</td>\n",
              "    </tr>\n",
              "    <tr>\n",
              "      <th>9740</th>\n",
              "      <td>0</td>\n",
              "      <td>1</td>\n",
              "      <td>0</td>\n",
              "      <td>1</td>\n",
              "      <td>0</td>\n",
              "      <td>0</td>\n",
              "      <td>0</td>\n",
              "      <td>0</td>\n",
              "      <td>0</td>\n",
              "      <td>0</td>\n",
              "      <td>0</td>\n",
              "      <td>0</td>\n",
              "      <td>0</td>\n",
              "      <td>0</td>\n",
              "      <td>0</td>\n",
              "      <td>0</td>\n",
              "      <td>0</td>\n",
              "      <td>0</td>\n",
              "      <td>0</td>\n",
              "      <td>0</td>\n",
              "    </tr>\n",
              "    <tr>\n",
              "      <th>9741</th>\n",
              "      <td>0</td>\n",
              "      <td>0</td>\n",
              "      <td>0</td>\n",
              "      <td>0</td>\n",
              "      <td>0</td>\n",
              "      <td>1</td>\n",
              "      <td>0</td>\n",
              "      <td>0</td>\n",
              "      <td>0</td>\n",
              "      <td>0</td>\n",
              "      <td>0</td>\n",
              "      <td>0</td>\n",
              "      <td>0</td>\n",
              "      <td>0</td>\n",
              "      <td>0</td>\n",
              "      <td>0</td>\n",
              "      <td>0</td>\n",
              "      <td>0</td>\n",
              "      <td>0</td>\n",
              "      <td>0</td>\n",
              "    </tr>\n",
              "  </tbody>\n",
              "</table>\n",
              "<p>9742 rows × 20 columns</p>\n",
              "</div>"
            ],
            "text/plain": [
              "      (no genres listed)  Action  Adventure  ...  Thriller  War  Western\n",
              "0                      0       0          1  ...         0    0        0\n",
              "1                      0       0          1  ...         0    0        0\n",
              "2                      0       0          0  ...         0    0        0\n",
              "3                      0       0          0  ...         0    0        0\n",
              "4                      0       0          0  ...         0    0        0\n",
              "...                  ...     ...        ...  ...       ...  ...      ...\n",
              "9737                   0       1          0  ...         0    0        0\n",
              "9738                   0       0          0  ...         0    0        0\n",
              "9739                   0       0          0  ...         0    0        0\n",
              "9740                   0       1          0  ...         0    0        0\n",
              "9741                   0       0          0  ...         0    0        0\n",
              "\n",
              "[9742 rows x 20 columns]"
            ]
          },
          "metadata": {
            "tags": []
          },
          "execution_count": 51
        }
      ]
    },
    {
      "cell_type": "markdown",
      "metadata": {
        "id": "xovvdB97N5vN",
        "colab_type": "text"
      },
      "source": [
        "Nossa, uma linha de código gerou essa tabelona cheia de linhas, colunas e números.\n",
        "\n",
        "\n",
        "Como você percebeu a saída é um [DataFrame](https://pandas.pydata.org/pandas-docs/stable/reference/api/pandas.DataFrame.html), cada linha corresponde a respectiva linha da coluna gênero, cada coluna corresponde a um gênero (repare que cada gênero **único** virou uma coluna no DF). O que você deve estar se perguntando é como os valores **0/1** são preenchidos?.\n",
        "\n",
        "Para explicar, vamos pegar os gêneros do filme **Jumanji**, **Adventure|Children|Fantasy**, na coluna dos repectivos gêneros (dataframe gerado por ```filmes[\"generos\"].str.get_dummies('|')```) o valor será **1**, para todos os outros gêneros, que não são gêneros do filme Jumanji, vale **0**. Em suma, se o nome da coluna pertence a algum gênero do respectivo filme, o valor será **1** caso contrário 0."
      ]
    },
    {
      "cell_type": "code",
      "metadata": {
        "id": "DS5XZJccN1XR",
        "colab_type": "code",
        "outputId": "8b95edef-97bf-4b98-d1cf-aa36de1bd0c5",
        "colab": {
          "base_uri": "https://localhost:8080/",
          "height": 374
        }
      },
      "source": [
        "soma_gen_logi = generos_logic.sum()\n",
        "soma_gen_logi"
      ],
      "execution_count": 0,
      "outputs": [
        {
          "output_type": "execute_result",
          "data": {
            "text/plain": [
              "(no genres listed)      34\n",
              "Action                1828\n",
              "Adventure             1263\n",
              "Animation              611\n",
              "Children               664\n",
              "Comedy                3756\n",
              "Crime                 1199\n",
              "Documentary            440\n",
              "Drama                 4361\n",
              "Fantasy                779\n",
              "Film-Noir               87\n",
              "Horror                 978\n",
              "IMAX                   158\n",
              "Musical                334\n",
              "Mystery                573\n",
              "Romance               1596\n",
              "Sci-Fi                 980\n",
              "Thriller              1894\n",
              "War                    382\n",
              "Western                167\n",
              "dtype: int64"
            ]
          },
          "metadata": {
            "tags": []
          },
          "execution_count": 52
        }
      ]
    },
    {
      "cell_type": "markdown",
      "metadata": {
        "id": "diUiz2LLOUso",
        "colab_type": "text"
      },
      "source": [
        "Ótimo, resolvemos o desafio e agora temos quantas vezes cada gênero aparece. Assim, fica fácil de reponder perguntas como, qual o gênero com mais filmes produzidos? Qual o menos? Qual o segundo? (Lembrando que o dado está restrito as informações do movie lens)\n",
        "\n",
        "Se você tentou responder, deve ter notado que não foi tão fácil assim, as informações não estão ordenadas e toda hora você precisa percorrer a tabela para fazer comparações. Nós podemos melhor isso ordenando as informações."
      ]
    },
    {
      "cell_type": "code",
      "metadata": {
        "id": "3Ft5XWRJOGxO",
        "colab_type": "code",
        "outputId": "71fe523c-6684-422e-d588-4d761f435011",
        "colab": {
          "base_uri": "https://localhost:8080/",
          "height": 374
        }
      },
      "source": [
        "soma_gen_logi.sort_values(ascending=False)"
      ],
      "execution_count": 0,
      "outputs": [
        {
          "output_type": "execute_result",
          "data": {
            "text/plain": [
              "Drama                 4361\n",
              "Comedy                3756\n",
              "Thriller              1894\n",
              "Action                1828\n",
              "Romance               1596\n",
              "Adventure             1263\n",
              "Crime                 1199\n",
              "Sci-Fi                 980\n",
              "Horror                 978\n",
              "Fantasy                779\n",
              "Children               664\n",
              "Animation              611\n",
              "Mystery                573\n",
              "Documentary            440\n",
              "War                    382\n",
              "Musical                334\n",
              "Western                167\n",
              "IMAX                   158\n",
              "Film-Noir               87\n",
              "(no genres listed)      34\n",
              "dtype: int64"
            ]
          },
          "metadata": {
            "tags": []
          },
          "execution_count": 53
        }
      ]
    },
    {
      "cell_type": "markdown",
      "metadata": {
        "id": "MLZf3utvOpB3",
        "colab_type": "text"
      },
      "source": [
        "Maravilha, agora tudo ficou mais fácil! \n",
        "\n",
        "Conseguimos responder as perguntas anterior sem grandes dificuldades. Mas ainda podemos melhor mais a forma de expor nossa informação, não acha? \n",
        "\n",
        "Que tal uma imagem para visualizar? (Desafio 07 da aula 01)"
      ]
    },
    {
      "cell_type": "code",
      "metadata": {
        "id": "1P09VXvNOijP",
        "colab_type": "code",
        "outputId": "46590794-9f74-4955-c166-f9121142cc3f",
        "colab": {
          "base_uri": "https://localhost:8080/",
          "height": 282
        }
      },
      "source": [
        "soma_gen_logi.sort_values(ascending=False).plot()"
      ],
      "execution_count": 0,
      "outputs": [
        {
          "output_type": "execute_result",
          "data": {
            "text/plain": [
              "<matplotlib.axes._subplots.AxesSubplot at 0x7f972c1422e8>"
            ]
          },
          "metadata": {
            "tags": []
          },
          "execution_count": 54
        },
        {
          "output_type": "display_data",
          "data": {
            "image/png": "[encoded data removed]",
            "text/plain": [
              "<Figure size 432x288 with 1 Axes>"
            ]
          },
          "metadata": {
            "tags": [],
            "needs_background": "light"
          }
        }
      ]
    },
    {
      "cell_type": "markdown",
      "metadata": {
        "id": "ZxTymP82O0em",
        "colab_type": "text"
      },
      "source": [
        "Iniciamos com o plot padrão do pandas, e como percebemos não adianta só plotar uma imagem, é preciso que faça sentido para a informação que queremos analisar, um gráfico de linhas não está fazendo muito sentido!\n",
        "\n",
        "Temos um gráfico muito conhecido que sempre encontramos por aí, o famoso gráfico de pizza ou torta. \n",
        "\n",
        "Já que ele é tão famoso talvez seja uma boa ideia tentar!"
      ]
    },
    {
      "cell_type": "code",
      "metadata": {
        "id": "-D_Y3r-8OrcT",
        "colab_type": "code",
        "outputId": "d0cfcfa7-f1a8-411d-ea5b-3d4267d9686f",
        "colab": {
          "base_uri": "https://localhost:8080/",
          "height": 482
        }
      },
      "source": [
        "soma_gen_logi.sort_values(ascending=False).plot(\n",
        "    kind='pie', \n",
        "    title='Categorias de filmes e suas presenças relativas',\n",
        "    figsize=(8,8))\n",
        "plt.show()"
      ],
      "execution_count": 0,
      "outputs": [
        {
          "output_type": "display_data",
          "data": {
            "image/png": "[encoded data removed]",
            "text/plain": [
              "<Figure size 576x576 with 1 Axes>"
            ]
          },
          "metadata": {
            "tags": []
          }
        }
      ]
    },
    {
      "cell_type": "markdown",
      "metadata": {
        "id": "fXu0DsuSPSHH",
        "colab_type": "text"
      },
      "source": [
        "E aí o que você achou? \n",
        "\n",
        "Algo que fica evidente neste gráfico é que **Drama, Comedy, Thriller, e Action** tem proporções \"grandes\", mas qualquer outra análise fica complicada. \n",
        "\n",
        "Primeiro, as cores começa a se repetir e isso não é o ideial.\n",
        "\n",
        "Segundo, repare nos gêneros com menos filmes,consegue tirar alguma informação de lá? é muito difícil de analisar.\n",
        "\n",
        "Terceiro, vamos tentar comparar **thriller e Action**, qual está presente em mais filmes? Difícil responder, quando estamos trabalhando com gráficos tipo esse fazemos comparações entre área, não somos bons nisso.\n",
        "\n",
        "\n",
        "Por fim, o importante de uma visualização é que ela seja **\"transparente\"** ao intuíto de nossa análise. Ou seja, estamos querendo analisar as informações de quantidade, comparando as labels de forma geral e evidênciando de maneira clara as diferenças entre elas (proporções).\n",
        "\n",
        "Portanto, o gráfico de pizza não torna as comparações claras, sendo assim uma má ideia. \n",
        "\n",
        "Vamos construir juntos uma solução mais adequada!"
      ]
    },
    {
      "cell_type": "code",
      "metadata": {
        "id": "CrTCHhh9O29h",
        "colab_type": "code",
        "outputId": "ea1f7689-985f-4077-cf8c-c3e9ced6a638",
        "colab": {
          "base_uri": "https://localhost:8080/",
          "height": 577
        }
      },
      "source": [
        "soma_gen_logi.sort_values(ascending=False).plot(\n",
        "    kind='bar', \n",
        "    title='Filmes por categoria',\n",
        "    figsize=(8,8))\n",
        "plt.show()"
      ],
      "execution_count": 0,
      "outputs": [
        {
          "output_type": "display_data",
          "data": {
            "image/png": "[encoded data removed]",
            "text/plain": [
              "<Figure size 576x576 with 1 Axes>"
            ]
          },
          "metadata": {
            "tags": [],
            "needs_background": "light"
          }
        }
      ]
    },
    {
      "cell_type": "markdown",
      "metadata": {
        "id": "yjPOUKEVQwcZ",
        "colab_type": "text"
      },
      "source": [
        "Mudamos da pizza para a barra, alterando apenas o parâmetro kind do método.\n",
        "\n",
        " Veja como o gráfico de barra torna a análise mais simples, logo de cara a diferença entre **Drama e Comedy**, comparado aos demais gêneros fica evidênte. No gráfico de pizza era super difícil comparar **Thriller e Action**, agora a comparação ficou fácil e conseguimos perceber o quão perto estão uma da outra.\n",
        "\n",
        "A interpretação dos dados melhorou muito com essa visualização, mas podemos melhorar ainda mais. O que queremos é tornar evidênte os gêneros que tem a maior participação nos filmes em geral, ou seja transparecer através da imagem uma visão geral de proporcionalidade. Para tornar evidênte essa informação vamos utilizar algo \"semelhante\" a um [mapa de calor](https://en.wikipedia.org/wiki/Heat_map)."
      ]
    },
    {
      "cell_type": "code",
      "metadata": {
        "id": "oLmFnji1SSGr",
        "colab_type": "code",
        "outputId": "248905f2-4b5b-4cca-c075-ce195dbd8ec6",
        "colab": {
          "base_uri": "https://localhost:8080/",
          "height": 483
        }
      },
      "source": [
        "# Desenvolvendo o gráfico com Seaborn\n",
        "filmes_por_genero = soma_gen_logi.sort_values(ascending=False)\n",
        "plt.figure(figsize=(8,8))\n",
        "sns.barplot(x=filmes_por_genero.index,\n",
        "            y=filmes_por_genero.values,\n",
        "            palette=sns.color_palette(\"BuGn_r\", n_colors=len(filmes_por_genero) + 4))\n",
        "plt.show()"
      ],
      "execution_count": 0,
      "outputs": [
        {
          "output_type": "display_data",
          "data": {
            "image/png": "[encoded data removed]",
            "text/plain": [
              "<Figure size 576x576 with 1 Axes>"
            ]
          },
          "metadata": {
            "tags": [],
            "needs_background": "light"
          }
        }
      ]
    },
    {
      "cell_type": "code",
      "metadata": {
        "id": "rj3G5jnqQQEj",
        "colab_type": "code",
        "outputId": "bcff8a7e-cf63-48c3-faf5-6a61acde59fb",
        "colab": {
          "base_uri": "https://localhost:8080/",
          "height": 483
        }
      },
      "source": [
        "# Melhorando o gráfico desenvolvido acima\n",
        "sns.set_style(\"whitegrid\")\n",
        "\n",
        "filmes_por_genero = filmes[\"generos\"].str.get_dummies('|').sum().sort_values(ascending=False)\n",
        "plt.figure(figsize=(16,8))\n",
        "sns.barplot(x=filmes_por_genero.index,\n",
        "            y=filmes_por_genero.values,\n",
        "            palette=sns.color_palette(\"BuGn_r\", n_colors=len(filmes_por_genero) + 4))\n",
        "plt.show()"
      ],
      "execution_count": 0,
      "outputs": [
        {
          "output_type": "display_data",
          "data": {
            "image/png": "[encoded data removed]",
            "text/plain": [
              "<Figure size 1152x576 with 1 Axes>"
            ]
          },
          "metadata": {
            "tags": []
          }
        }
      ]
    },
    {
      "cell_type": "markdown",
      "metadata": {
        "id": "Iy-6Db7gRFrU",
        "colab_type": "text"
      },
      "source": [
        "Já, já explicamos o que foi feito em toda imagem, por agora repare como a imagem passa muito mais informação. Conseguimos comparar de forma fácil entre os gêneros e através do **mapa de calor** (gêneros com maior número tem um verde muito mais forte, gêneros com menor número é praticamente transparente) evidênciamos quais são as labels com maior participação, médias e insignificantes. Toda essa informação em uma única imagem!\n",
        "\n",
        "Bom, agora vamos entender como foi o código.\n",
        "\n",
        "Primeiro, não plotamos mais a imagem com o `.plot()` do pandas, vamos precisar de uma biblioteca de visualização mais poderosa para configurar nossa imagem, utilizamos o [seaborn](https://seaborn.pydata.org/).\n",
        "\n",
        "Segundo, chamamos o barplot do **seaborn**, adicionando uma **paleta de cores** com efeito de mapa de calor (parâmetro pallette), no parâmetro `n_color` de `sns.color_palette()` adicionamos **+4** para que a última barra não seja totalmente transparente.\n",
        "\n",
        "Terceiro, também adicionamos o **sns.set_style(\"whitegrid\")** para que todos os gráficos tenham a **linha de grade do eixo X** evidênte, facilitando a comparação entre as barras.\n",
        "\n",
        "Por fim, mudamos o tamanho da imagem com o **figsize** do método`plt.figure()`. Assim, temos um gráfico com muitas informações e agradável de analisar."
      ]
    },
    {
      "cell_type": "markdown",
      "metadata": {
        "id": "8k_POVs4R4qz",
        "colab_type": "text"
      },
      "source": [
        "Conseguimos analisar e tirar diversas conclusões trabalhando com a visualização dos gêneros. Será que conseguimos utilizar visualizações para entender melhor as notas de um filme?\n",
        "\n",
        "Vamos relembrar alguns pontos que já discutimos e nos aprofundar nas análises de notas para tirar conclusões mais sofisticadas.\n",
        "\n",
        "Na **aula 01** calculamos as notas médias por filmes, vamos dar uma olhada no resultado."
      ]
    },
    {
      "cell_type": "code",
      "metadata": {
        "id": "APZAAZpwQzCa",
        "colab_type": "code",
        "outputId": "e7e89179-aa7f-4202-9591-a73a2254e3ed",
        "colab": {
          "base_uri": "https://localhost:8080/",
          "height": 238
        }
      },
      "source": [
        "notas_medias_por_filmes = avaliacoes.groupby('filmesId')['nota'].mean()\n",
        "notas_medias_por_filmes"
      ],
      "execution_count": 0,
      "outputs": [
        {
          "output_type": "execute_result",
          "data": {
            "text/plain": [
              "filmesId\n",
              "1         3.920930\n",
              "2         3.431818\n",
              "3         3.259615\n",
              "4         2.357143\n",
              "5         3.071429\n",
              "            ...   \n",
              "193581    4.000000\n",
              "193583    3.500000\n",
              "193585    3.500000\n",
              "193587    3.500000\n",
              "193609    4.000000\n",
              "Name: nota, Length: 9724, dtype: float64"
            ]
          },
          "metadata": {
            "tags": []
          },
          "execution_count": 59
        }
      ]
    },
    {
      "cell_type": "code",
      "metadata": {
        "id": "ZyTJQdtGTseH",
        "colab_type": "code",
        "outputId": "44dada24-c648-4396-a43b-eee07f1cf191",
        "colab": {
          "base_uri": "https://localhost:8080/",
          "height": 204
        }
      },
      "source": [
        "filmes_com_media = filmes.join(notas_medias_por_filmes, on='filmesId')\n",
        "filmes_com_media.head()"
      ],
      "execution_count": 0,
      "outputs": [
        {
          "output_type": "execute_result",
          "data": {
            "text/html": [
              "<div>\n",
              "<style scoped>\n",
              "    .dataframe tbody tr th:only-of-type {\n",
              "        vertical-align: middle;\n",
              "    }\n",
              "\n",
              "    .dataframe tbody tr th {\n",
              "        vertical-align: top;\n",
              "    }\n",
              "\n",
              "    .dataframe thead th {\n",
              "        text-align: right;\n",
              "    }\n",
              "</style>\n",
              "<table border=\"1\" class=\"dataframe\">\n",
              "  <thead>\n",
              "    <tr style=\"text-align: right;\">\n",
              "      <th></th>\n",
              "      <th>filmesId</th>\n",
              "      <th>titulo</th>\n",
              "      <th>generos</th>\n",
              "      <th>nota</th>\n",
              "    </tr>\n",
              "  </thead>\n",
              "  <tbody>\n",
              "    <tr>\n",
              "      <th>0</th>\n",
              "      <td>1</td>\n",
              "      <td>Toy Story (1995)</td>\n",
              "      <td>Adventure|Animation|Children|Comedy|Fantasy</td>\n",
              "      <td>3.920930</td>\n",
              "    </tr>\n",
              "    <tr>\n",
              "      <th>1</th>\n",
              "      <td>2</td>\n",
              "      <td>Jumanji (1995)</td>\n",
              "      <td>Adventure|Children|Fantasy</td>\n",
              "      <td>3.431818</td>\n",
              "    </tr>\n",
              "    <tr>\n",
              "      <th>2</th>\n",
              "      <td>3</td>\n",
              "      <td>Grumpier Old Men (1995)</td>\n",
              "      <td>Comedy|Romance</td>\n",
              "      <td>3.259615</td>\n",
              "    </tr>\n",
              "    <tr>\n",
              "      <th>3</th>\n",
              "      <td>4</td>\n",
              "      <td>Waiting to Exhale (1995)</td>\n",
              "      <td>Comedy|Drama|Romance</td>\n",
              "      <td>2.357143</td>\n",
              "    </tr>\n",
              "    <tr>\n",
              "      <th>4</th>\n",
              "      <td>5</td>\n",
              "      <td>Father of the Bride Part II (1995)</td>\n",
              "      <td>Comedy</td>\n",
              "      <td>3.071429</td>\n",
              "    </tr>\n",
              "  </tbody>\n",
              "</table>\n",
              "</div>"
            ],
            "text/plain": [
              "   filmesId  ...      nota\n",
              "0         1  ...  3.920930\n",
              "1         2  ...  3.431818\n",
              "2         3  ...  3.259615\n",
              "3         4  ...  2.357143\n",
              "4         5  ...  3.071429\n",
              "\n",
              "[5 rows x 4 columns]"
            ]
          },
          "metadata": {
            "tags": []
          },
          "execution_count": 60
        }
      ]
    },
    {
      "cell_type": "markdown",
      "metadata": {
        "id": "1U4L2T49Vl2B",
        "colab_type": "text"
      },
      "source": [
        "Como vimos, olhar apenas as médias pode ser um problema e para interpretar um pouco melhor os dados usamos o histograma das notas para comparar alguns filmes. Por exemplo, **Toy Story e Jumanji**"
      ]
    },
    {
      "cell_type": "code",
      "metadata": {
        "id": "BHksWDzeVK8M",
        "colab_type": "code",
        "outputId": "0bfe2905-bc6f-4f62-f18f-59e9dee65825",
        "colab": {
          "base_uri": "https://localhost:8080/",
          "height": 315
        }
      },
      "source": [
        "# Média das notas do filme 1 e seu histograma.\n",
        "notas_do_filme_1 = avaliacoes.query(\"filmesId==1\")[\"nota\"]\n",
        "print(notas_do_filme_1.mean())\n",
        "notas_do_filme_1.plot(kind='hist')\n",
        "plt.title('Notas para Toy Story')"
      ],
      "execution_count": 0,
      "outputs": [
        {
          "output_type": "stream",
          "text": [
            "3.9209302325581397\n"
          ],
          "name": "stdout"
        },
        {
          "output_type": "execute_result",
          "data": {
            "text/plain": [
              "Text(0.5, 1.0, 'Notas para Toy Story')"
            ]
          },
          "metadata": {
            "tags": []
          },
          "execution_count": 61
        },
        {
          "output_type": "display_data",
          "data": {
            "image/png": "[encoded data removed]",
            "text/plain": [
              "<Figure size 432x288 with 1 Axes>"
            ]
          },
          "metadata": {
            "tags": []
          }
        }
      ]
    },
    {
      "cell_type": "code",
      "metadata": {
        "id": "rnA97RPDYXRf",
        "colab_type": "code",
        "outputId": "38c6f9cd-c6f2-4306-82a4-2a0b3fe6492b",
        "colab": {
          "base_uri": "https://localhost:8080/",
          "height": 170
        }
      },
      "source": [
        "notas_do_filme_1.describe()"
      ],
      "execution_count": 0,
      "outputs": [
        {
          "output_type": "execute_result",
          "data": {
            "text/plain": [
              "count    215.000000\n",
              "mean       3.920930\n",
              "std        0.834859\n",
              "min        0.500000\n",
              "25%        3.500000\n",
              "50%        4.000000\n",
              "75%        4.500000\n",
              "max        5.000000\n",
              "Name: nota, dtype: float64"
            ]
          },
          "metadata": {
            "tags": []
          },
          "execution_count": 62
        }
      ]
    },
    {
      "cell_type": "code",
      "metadata": {
        "id": "Oz13X5qhWCZx",
        "colab_type": "code",
        "outputId": "91ee232e-fe0b-48a0-b357-e27e78c39ff9",
        "colab": {
          "base_uri": "https://localhost:8080/",
          "height": 315
        }
      },
      "source": [
        "# Média das notas do filme 2 e seu histograma.\n",
        "notas_do_filme_2 = avaliacoes.query(\"filmesId==2\")[\"nota\"]\n",
        "print(notas_do_filme_2.mean())\n",
        "notas_do_filme_2.plot(kind='hist')\n",
        "plt.title('Notas para Jumanji')"
      ],
      "execution_count": 0,
      "outputs": [
        {
          "output_type": "stream",
          "text": [
            "3.4318181818181817\n"
          ],
          "name": "stdout"
        },
        {
          "output_type": "execute_result",
          "data": {
            "text/plain": [
              "Text(0.5, 1.0, 'Notas para Jumanji')"
            ]
          },
          "metadata": {
            "tags": []
          },
          "execution_count": 63
        },
        {
          "output_type": "display_data",
          "data": {
            "image/png": "[encoded data removed]",
            "text/plain": [
              "<Figure size 432x288 with 1 Axes>"
            ]
          },
          "metadata": {
            "tags": []
          }
        }
      ]
    },
    {
      "cell_type": "code",
      "metadata": {
        "id": "6hUXqoTEYePQ",
        "colab_type": "code",
        "outputId": "84a85f67-3642-45b7-fea7-9c3ca4ddda3d",
        "colab": {
          "base_uri": "https://localhost:8080/",
          "height": 170
        }
      },
      "source": [
        "notas_do_filme_2.describe()"
      ],
      "execution_count": 0,
      "outputs": [
        {
          "output_type": "execute_result",
          "data": {
            "text/plain": [
              "count    110.000000\n",
              "mean       3.431818\n",
              "std        0.881713\n",
              "min        0.500000\n",
              "25%        3.000000\n",
              "50%        3.500000\n",
              "75%        4.000000\n",
              "max        5.000000\n",
              "Name: nota, dtype: float64"
            ]
          },
          "metadata": {
            "tags": []
          },
          "execution_count": 64
        }
      ]
    },
    {
      "cell_type": "markdown",
      "metadata": {
        "id": "dQ1-vCdmW48O",
        "colab_type": "text"
      },
      "source": [
        "ToyStory e Jumanji tem médias relativamente próximas mas com comportamento de notas diferentes, então, para nosso exemplo, as médias ajudam mas esconde informações importântes sobre os dados. \n",
        "\n",
        "Lembra o exemplo que o Guilherme Silveira deu em aula comparando os sálarios de uma cidade? Olhando apenas para as médias dos salários não conseguimos evidênciar a desigualdade que havia entre as cidades. \n",
        "\n",
        "```python\n",
        "#Cidada A\n",
        "populacao = 1000\n",
        "salario = 1100\n",
        "\n",
        "media = 1100\n",
        "\n",
        "#Cidade B\n",
        "populacao = 1000\n",
        "salario1 = 1000000\n",
        "salario999 = 100\n",
        "\n",
        "media = (salario1 * 1 + salario999 * 999) / 1000\n",
        "media = 1099.00\n",
        "```\n",
        "\n",
        "Outras métrica que pode nos ajudar a interpretar melhor os dados são os quatis, principalmente a [mediana](https://pt.wikipedia.org/wiki/Mediana_(estat%C3%ADstica))\n",
        "\n",
        "Vamos buscar dois filmes com médias muito mais próximas que Toy Story e Jumanji, para analisar outras métricas além das médias."
      ]
    },
    {
      "cell_type": "code",
      "metadata": {
        "id": "wSPNd1qDWUPQ",
        "colab_type": "code",
        "outputId": "d01a3736-712a-4bee-b772-cbeb9a0592a8",
        "colab": {
          "base_uri": "https://localhost:8080/",
          "height": 1000
        }
      },
      "source": [
        "filmes_com_media.sort_values(\"nota\", ascending=False)[2450:2500]"
      ],
      "execution_count": 0,
      "outputs": [
        {
          "output_type": "execute_result",
          "data": {
            "text/html": [
              "<div>\n",
              "<style scoped>\n",
              "    .dataframe tbody tr th:only-of-type {\n",
              "        vertical-align: middle;\n",
              "    }\n",
              "\n",
              "    .dataframe tbody tr th {\n",
              "        vertical-align: top;\n",
              "    }\n",
              "\n",
              "    .dataframe thead th {\n",
              "        text-align: right;\n",
              "    }\n",
              "</style>\n",
              "<table border=\"1\" class=\"dataframe\">\n",
              "  <thead>\n",
              "    <tr style=\"text-align: right;\">\n",
              "      <th></th>\n",
              "      <th>filmesId</th>\n",
              "      <th>titulo</th>\n",
              "      <th>generos</th>\n",
              "      <th>nota</th>\n",
              "    </tr>\n",
              "  </thead>\n",
              "  <tbody>\n",
              "    <tr>\n",
              "      <th>745</th>\n",
              "      <td>973</td>\n",
              "      <td>Meet John Doe (1941)</td>\n",
              "      <td>Comedy|Drama</td>\n",
              "      <td>3.900000</td>\n",
              "    </tr>\n",
              "    <tr>\n",
              "      <th>6632</th>\n",
              "      <td>56251</td>\n",
              "      <td>Futurama: Bender's Big Score (2007)</td>\n",
              "      <td>Animation|Comedy|Sci-Fi</td>\n",
              "      <td>3.900000</td>\n",
              "    </tr>\n",
              "    <tr>\n",
              "      <th>101</th>\n",
              "      <td>116</td>\n",
              "      <td>Anne Frank Remembered (1995)</td>\n",
              "      <td>Documentary</td>\n",
              "      <td>3.900000</td>\n",
              "    </tr>\n",
              "    <tr>\n",
              "      <th>5719</th>\n",
              "      <td>27846</td>\n",
              "      <td>Corporation, The (2003)</td>\n",
              "      <td>Documentary</td>\n",
              "      <td>3.900000</td>\n",
              "    </tr>\n",
              "    <tr>\n",
              "      <th>802</th>\n",
              "      <td>1050</td>\n",
              "      <td>Looking for Richard (1996)</td>\n",
              "      <td>Documentary|Drama</td>\n",
              "      <td>3.900000</td>\n",
              "    </tr>\n",
              "    <tr>\n",
              "      <th>3983</th>\n",
              "      <td>5617</td>\n",
              "      <td>Secretary (2002)</td>\n",
              "      <td>Comedy|Drama|Romance</td>\n",
              "      <td>3.900000</td>\n",
              "    </tr>\n",
              "    <tr>\n",
              "      <th>1323</th>\n",
              "      <td>1785</td>\n",
              "      <td>King of New York (1990)</td>\n",
              "      <td>Crime|Thriller</td>\n",
              "      <td>3.900000</td>\n",
              "    </tr>\n",
              "    <tr>\n",
              "      <th>7103</th>\n",
              "      <td>70599</td>\n",
              "      <td>Time Traveler's Wife, The (2009)</td>\n",
              "      <td>Drama|Romance|Sci-Fi</td>\n",
              "      <td>3.900000</td>\n",
              "    </tr>\n",
              "    <tr>\n",
              "      <th>5248</th>\n",
              "      <td>8607</td>\n",
              "      <td>Tokyo Godfathers (2003)</td>\n",
              "      <td>Adventure|Animation|Drama</td>\n",
              "      <td>3.900000</td>\n",
              "    </tr>\n",
              "    <tr>\n",
              "      <th>4677</th>\n",
              "      <td>6985</td>\n",
              "      <td>Passion of Joan of Arc, The (Passion de Jeanne...</td>\n",
              "      <td>Drama</td>\n",
              "      <td>3.900000</td>\n",
              "    </tr>\n",
              "    <tr>\n",
              "      <th>86</th>\n",
              "      <td>97</td>\n",
              "      <td>Hate (Haine, La) (1995)</td>\n",
              "      <td>Crime|Drama</td>\n",
              "      <td>3.900000</td>\n",
              "    </tr>\n",
              "    <tr>\n",
              "      <th>4100</th>\n",
              "      <td>5876</td>\n",
              "      <td>Quiet American, The (2002)</td>\n",
              "      <td>Drama|Thriller|War</td>\n",
              "      <td>3.900000</td>\n",
              "    </tr>\n",
              "    <tr>\n",
              "      <th>4298</th>\n",
              "      <td>6283</td>\n",
              "      <td>Cowboy Bebop: The Movie (Cowboy Bebop: Tengoku...</td>\n",
              "      <td>Action|Animation|Sci-Fi|Thriller</td>\n",
              "      <td>3.900000</td>\n",
              "    </tr>\n",
              "    <tr>\n",
              "      <th>8533</th>\n",
              "      <td>114935</td>\n",
              "      <td>Predestination (2014)</td>\n",
              "      <td>Action|Mystery|Sci-Fi|Thriller</td>\n",
              "      <td>3.900000</td>\n",
              "    </tr>\n",
              "    <tr>\n",
              "      <th>7946</th>\n",
              "      <td>95858</td>\n",
              "      <td>For the Birds (2000)</td>\n",
              "      <td>Animation|Children|Comedy</td>\n",
              "      <td>3.900000</td>\n",
              "    </tr>\n",
              "    <tr>\n",
              "      <th>1630</th>\n",
              "      <td>2176</td>\n",
              "      <td>Rope (1948)</td>\n",
              "      <td>Crime|Drama|Thriller</td>\n",
              "      <td>3.900000</td>\n",
              "    </tr>\n",
              "    <tr>\n",
              "      <th>3016</th>\n",
              "      <td>4034</td>\n",
              "      <td>Traffic (2000)</td>\n",
              "      <td>Crime|Drama|Thriller</td>\n",
              "      <td>3.900000</td>\n",
              "    </tr>\n",
              "    <tr>\n",
              "      <th>4702</th>\n",
              "      <td>7018</td>\n",
              "      <td>Presumed Innocent (1990)</td>\n",
              "      <td>Crime|Drama|Thriller</td>\n",
              "      <td>3.900000</td>\n",
              "    </tr>\n",
              "    <tr>\n",
              "      <th>2156</th>\n",
              "      <td>2871</td>\n",
              "      <td>Deliverance (1972)</td>\n",
              "      <td>Adventure|Drama|Thriller</td>\n",
              "      <td>3.900000</td>\n",
              "    </tr>\n",
              "    <tr>\n",
              "      <th>9710</th>\n",
              "      <td>187595</td>\n",
              "      <td>Solo: A Star Wars Story (2018)</td>\n",
              "      <td>Action|Adventure|Children|Sci-Fi</td>\n",
              "      <td>3.900000</td>\n",
              "    </tr>\n",
              "    <tr>\n",
              "      <th>1051</th>\n",
              "      <td>1366</td>\n",
              "      <td>Crucible, The (1996)</td>\n",
              "      <td>Drama</td>\n",
              "      <td>3.900000</td>\n",
              "    </tr>\n",
              "    <tr>\n",
              "      <th>6613</th>\n",
              "      <td>55820</td>\n",
              "      <td>No Country for Old Men (2007)</td>\n",
              "      <td>Crime|Drama</td>\n",
              "      <td>3.898438</td>\n",
              "    </tr>\n",
              "    <tr>\n",
              "      <th>939</th>\n",
              "      <td>1240</td>\n",
              "      <td>Terminator, The (1984)</td>\n",
              "      <td>Action|Sci-Fi|Thriller</td>\n",
              "      <td>3.896947</td>\n",
              "    </tr>\n",
              "    <tr>\n",
              "      <th>267</th>\n",
              "      <td>307</td>\n",
              "      <td>Three Colors: Blue (Trois couleurs: Bleu) (1993)</td>\n",
              "      <td>Drama</td>\n",
              "      <td>3.895833</td>\n",
              "    </tr>\n",
              "    <tr>\n",
              "      <th>599</th>\n",
              "      <td>745</td>\n",
              "      <td>Wallace &amp; Gromit: A Close Shave (1995)</td>\n",
              "      <td>Animation|Children|Comedy</td>\n",
              "      <td>3.895833</td>\n",
              "    </tr>\n",
              "    <tr>\n",
              "      <th>706</th>\n",
              "      <td>924</td>\n",
              "      <td>2001: A Space Odyssey (1968)</td>\n",
              "      <td>Adventure|Drama|Sci-Fi</td>\n",
              "      <td>3.894495</td>\n",
              "    </tr>\n",
              "    <tr>\n",
              "      <th>2078</th>\n",
              "      <td>2762</td>\n",
              "      <td>Sixth Sense, The (1999)</td>\n",
              "      <td>Drama|Horror|Mystery</td>\n",
              "      <td>3.893855</td>\n",
              "    </tr>\n",
              "    <tr>\n",
              "      <th>1608</th>\n",
              "      <td>2150</td>\n",
              "      <td>Gods Must Be Crazy, The (1980)</td>\n",
              "      <td>Adventure|Comedy</td>\n",
              "      <td>3.892857</td>\n",
              "    </tr>\n",
              "    <tr>\n",
              "      <th>5165</th>\n",
              "      <td>8366</td>\n",
              "      <td>Saved! (2004)</td>\n",
              "      <td>Comedy|Drama</td>\n",
              "      <td>3.892857</td>\n",
              "    </tr>\n",
              "    <tr>\n",
              "      <th>1432</th>\n",
              "      <td>1955</td>\n",
              "      <td>Kramer vs. Kramer (1979)</td>\n",
              "      <td>Drama</td>\n",
              "      <td>3.892857</td>\n",
              "    </tr>\n",
              "    <tr>\n",
              "      <th>2191</th>\n",
              "      <td>2912</td>\n",
              "      <td>Limey, The (1999)</td>\n",
              "      <td>Crime|Drama|Thriller</td>\n",
              "      <td>3.892857</td>\n",
              "    </tr>\n",
              "    <tr>\n",
              "      <th>5572</th>\n",
              "      <td>26776</td>\n",
              "      <td>Porco Rosso (Crimson Pig) (Kurenai no buta) (1...</td>\n",
              "      <td>Adventure|Animation|Comedy|Fantasy|Romance</td>\n",
              "      <td>3.892857</td>\n",
              "    </tr>\n",
              "    <tr>\n",
              "      <th>198</th>\n",
              "      <td>232</td>\n",
              "      <td>Eat Drink Man Woman (Yin shi nan nu) (1994)</td>\n",
              "      <td>Comedy|Drama|Romance</td>\n",
              "      <td>3.892857</td>\n",
              "    </tr>\n",
              "    <tr>\n",
              "      <th>9223</th>\n",
              "      <td>152081</td>\n",
              "      <td>Zootopia (2016)</td>\n",
              "      <td>Action|Adventure|Animation|Children|Comedy</td>\n",
              "      <td>3.890625</td>\n",
              "    </tr>\n",
              "    <tr>\n",
              "      <th>5885</th>\n",
              "      <td>33166</td>\n",
              "      <td>Crash (2004)</td>\n",
              "      <td>Crime|Drama</td>\n",
              "      <td>3.890000</td>\n",
              "    </tr>\n",
              "    <tr>\n",
              "      <th>3564</th>\n",
              "      <td>4880</td>\n",
              "      <td>Life as a House (2001)</td>\n",
              "      <td>Drama</td>\n",
              "      <td>3.888889</td>\n",
              "    </tr>\n",
              "    <tr>\n",
              "      <th>4258</th>\n",
              "      <td>6214</td>\n",
              "      <td>Irreversible (Irréversible) (2002)</td>\n",
              "      <td>Crime|Drama|Mystery|Thriller</td>\n",
              "      <td>3.888889</td>\n",
              "    </tr>\n",
              "    <tr>\n",
              "      <th>6884</th>\n",
              "      <td>63072</td>\n",
              "      <td>Road, The (2009)</td>\n",
              "      <td>Adventure|Drama|Thriller</td>\n",
              "      <td>3.888889</td>\n",
              "    </tr>\n",
              "    <tr>\n",
              "      <th>7078</th>\n",
              "      <td>69844</td>\n",
              "      <td>Harry Potter and the Half-Blood Prince (2009)</td>\n",
              "      <td>Adventure|Fantasy|Mystery|Romance|IMAX</td>\n",
              "      <td>3.887931</td>\n",
              "    </tr>\n",
              "    <tr>\n",
              "      <th>785</th>\n",
              "      <td>1028</td>\n",
              "      <td>Mary Poppins (1964)</td>\n",
              "      <td>Children|Comedy|Fantasy|Musical</td>\n",
              "      <td>3.887324</td>\n",
              "    </tr>\n",
              "    <tr>\n",
              "      <th>7413</th>\n",
              "      <td>80463</td>\n",
              "      <td>Social Network, The (2010)</td>\n",
              "      <td>Drama</td>\n",
              "      <td>3.885965</td>\n",
              "    </tr>\n",
              "    <tr>\n",
              "      <th>6151</th>\n",
              "      <td>44191</td>\n",
              "      <td>V for Vendetta (2006)</td>\n",
              "      <td>Action|Sci-Fi|Thriller|IMAX</td>\n",
              "      <td>3.885000</td>\n",
              "    </tr>\n",
              "    <tr>\n",
              "      <th>7688</th>\n",
              "      <td>89492</td>\n",
              "      <td>Moneyball (2011)</td>\n",
              "      <td>Drama</td>\n",
              "      <td>3.884615</td>\n",
              "    </tr>\n",
              "    <tr>\n",
              "      <th>6223</th>\n",
              "      <td>45728</td>\n",
              "      <td>Clerks II (2006)</td>\n",
              "      <td>Comedy</td>\n",
              "      <td>3.884615</td>\n",
              "    </tr>\n",
              "    <tr>\n",
              "      <th>912</th>\n",
              "      <td>1211</td>\n",
              "      <td>Wings of Desire (Himmel über Berlin, Der) (1987)</td>\n",
              "      <td>Drama|Fantasy|Romance</td>\n",
              "      <td>3.884615</td>\n",
              "    </tr>\n",
              "    <tr>\n",
              "      <th>6242</th>\n",
              "      <td>46578</td>\n",
              "      <td>Little Miss Sunshine (2006)</td>\n",
              "      <td>Adventure|Comedy|Drama</td>\n",
              "      <td>3.883117</td>\n",
              "    </tr>\n",
              "    <tr>\n",
              "      <th>1230</th>\n",
              "      <td>1635</td>\n",
              "      <td>Ice Storm, The (1997)</td>\n",
              "      <td>Drama</td>\n",
              "      <td>3.882353</td>\n",
              "    </tr>\n",
              "    <tr>\n",
              "      <th>225</th>\n",
              "      <td>261</td>\n",
              "      <td>Little Women (1994)</td>\n",
              "      <td>Drama</td>\n",
              "      <td>3.880952</td>\n",
              "    </tr>\n",
              "    <tr>\n",
              "      <th>701</th>\n",
              "      <td>919</td>\n",
              "      <td>Wizard of Oz, The (1939)</td>\n",
              "      <td>Adventure|Children|Fantasy|Musical</td>\n",
              "      <td>3.880435</td>\n",
              "    </tr>\n",
              "    <tr>\n",
              "      <th>968</th>\n",
              "      <td>1269</td>\n",
              "      <td>Arsenic and Old Lace (1944)</td>\n",
              "      <td>Comedy|Mystery|Thriller</td>\n",
              "      <td>3.879310</td>\n",
              "    </tr>\n",
              "  </tbody>\n",
              "</table>\n",
              "</div>"
            ],
            "text/plain": [
              "      filmesId  ...      nota\n",
              "745        973  ...  3.900000\n",
              "6632     56251  ...  3.900000\n",
              "101        116  ...  3.900000\n",
              "5719     27846  ...  3.900000\n",
              "802       1050  ...  3.900000\n",
              "3983      5617  ...  3.900000\n",
              "1323      1785  ...  3.900000\n",
              "7103     70599  ...  3.900000\n",
              "5248      8607  ...  3.900000\n",
              "4677      6985  ...  3.900000\n",
              "86          97  ...  3.900000\n",
              "4100      5876  ...  3.900000\n",
              "4298      6283  ...  3.900000\n",
              "8533    114935  ...  3.900000\n",
              "7946     95858  ...  3.900000\n",
              "1630      2176  ...  3.900000\n",
              "3016      4034  ...  3.900000\n",
              "4702      7018  ...  3.900000\n",
              "2156      2871  ...  3.900000\n",
              "9710    187595  ...  3.900000\n",
              "1051      1366  ...  3.900000\n",
              "6613     55820  ...  3.898438\n",
              "939       1240  ...  3.896947\n",
              "267        307  ...  3.895833\n",
              "599        745  ...  3.895833\n",
              "706        924  ...  3.894495\n",
              "2078      2762  ...  3.893855\n",
              "1608      2150  ...  3.892857\n",
              "5165      8366  ...  3.892857\n",
              "1432      1955  ...  3.892857\n",
              "2191      2912  ...  3.892857\n",
              "5572     26776  ...  3.892857\n",
              "198        232  ...  3.892857\n",
              "9223    152081  ...  3.890625\n",
              "5885     33166  ...  3.890000\n",
              "3564      4880  ...  3.888889\n",
              "4258      6214  ...  3.888889\n",
              "6884     63072  ...  3.888889\n",
              "7078     69844  ...  3.887931\n",
              "785       1028  ...  3.887324\n",
              "7413     80463  ...  3.885965\n",
              "6151     44191  ...  3.885000\n",
              "7688     89492  ...  3.884615\n",
              "6223     45728  ...  3.884615\n",
              "912       1211  ...  3.884615\n",
              "6242     46578  ...  3.883117\n",
              "1230      1635  ...  3.882353\n",
              "225        261  ...  3.880952\n",
              "701        919  ...  3.880435\n",
              "968       1269  ...  3.879310\n",
              "\n",
              "[50 rows x 4 columns]"
            ]
          },
          "metadata": {
            "tags": []
          },
          "execution_count": 65
        }
      ]
    },
    {
      "cell_type": "markdown",
      "metadata": {
        "id": "vHSqHrjBXuOH",
        "colab_type": "text"
      },
      "source": [
        "Bom, ordenando os filmes pela nota médias e [fatiando](https://www.alura.com.br/artigos/listas-no-python) os dados entre 2450 e 2500, temos uma região onde as médias são semelhates e provavelmente não tem apenas um único voto. Vamos comparar o fime *Wizard of Oz, **filmeId=919** e *Little Miss Sunshine* **filmeId=46578**.\n",
        "\n",
        "Para não precisar copiar e colar toda hora o plot dos gráficos vamos criar nossa primeira função, assim passamos apenas o FilmeId e temos as informações desejadas."
      ]
    },
    {
      "cell_type": "code",
      "metadata": {
        "id": "pFAuQCdUXl7x",
        "colab_type": "code",
        "colab": {}
      },
      "source": [
        "def plot_filme(n):\n",
        "  notas_do_filme = avaliacoes.query(f\"filmesId=={n}\")[\"nota\"]\n",
        "  notas_do_filme.plot(kind='hist')\n",
        "  return notas_do_filme.describe()"
      ],
      "execution_count": 0,
      "outputs": []
    },
    {
      "cell_type": "markdown",
      "metadata": {
        "id": "g-M6cB70X2gI",
        "colab_type": "text"
      },
      "source": [
        "Definimos nossa [função plot em python](https://www.caelum.com.br/apostila-python-orientacao-objetos/funcoes/#parmetros-de-funo) e repare que estamos usando **F-string** para fazer a interpolação dos dados, se tiver tiver dúvida veja essa [explicação no fórum da alura](https://cursos.alura.com.br/forum/topico-para-que-serve-o-print-f-no-python-77720).\n",
        "\n",
        "Agora precisamos chamar a função!"
      ]
    },
    {
      "cell_type": "code",
      "metadata": {
        "id": "Nmir2yGWXwr5",
        "colab_type": "code",
        "outputId": "c8aebd13-95a0-4d88-d96c-c9851e1632bf",
        "colab": {
          "base_uri": "https://localhost:8080/",
          "height": 418
        }
      },
      "source": [
        "#Mágico de Oz\n",
        "plot_filme(919)"
      ],
      "execution_count": 0,
      "outputs": [
        {
          "output_type": "execute_result",
          "data": {
            "text/plain": [
              "count    92.000000\n",
              "mean      3.880435\n",
              "std       1.025418\n",
              "min       1.000000\n",
              "25%       3.000000\n",
              "50%       4.000000\n",
              "75%       5.000000\n",
              "max       5.000000\n",
              "Name: nota, dtype: float64"
            ]
          },
          "metadata": {
            "tags": []
          },
          "execution_count": 67
        },
        {
          "output_type": "display_data",
          "data": {
            "image/png": "[encoded data removed]",
            "text/plain": [
              "<Figure size 432x288 with 1 Axes>"
            ]
          },
          "metadata": {
            "tags": []
          }
        }
      ]
    },
    {
      "cell_type": "markdown",
      "metadata": {
        "id": "MLaHnOdcYFqW",
        "colab_type": "text"
      },
      "source": [
        "A função plot, além de gerar o histograma também retorna algumas estatísticas. Vamos chamar a função agora para o filme *Little Miss Sunshine*."
      ]
    },
    {
      "cell_type": "code",
      "metadata": {
        "id": "1-l1TElwX8KE",
        "colab_type": "code",
        "outputId": "f0a2af7f-2153-43c9-db91-b3347730afef",
        "colab": {
          "base_uri": "https://localhost:8080/",
          "height": 421
        }
      },
      "source": [
        "plot_filme(46578)"
      ],
      "execution_count": 0,
      "outputs": [
        {
          "output_type": "execute_result",
          "data": {
            "text/plain": [
              "count    77.000000\n",
              "mean      3.883117\n",
              "std       0.842522\n",
              "min       1.000000\n",
              "25%       3.500000\n",
              "50%       4.000000\n",
              "75%       4.500000\n",
              "max       5.000000\n",
              "Name: nota, dtype: float64"
            ]
          },
          "metadata": {
            "tags": []
          },
          "execution_count": 68
        },
        {
          "output_type": "display_data",
          "data": {
            "image/png": "[encoded data removed]",
            "text/plain": [
              "<Figure size 432x288 with 1 Axes>"
            ]
          },
          "metadata": {
            "tags": []
          }
        }
      ]
    },
    {
      "cell_type": "markdown",
      "metadata": {
        "id": "M_xCR6roY3o3",
        "colab_type": "text"
      },
      "source": [
        "Ótimo, agora com essas informações conseguimos comparar melhor ambos os filmes. Analisando os histogramas vemos que muitas pessoas realmente amam **Wizard of Oz** (notas 5), mas também temos pessoas que não gostam de formal alguma (notas 1). Quando comparamos com a histograma temos um do **Little mis sunshine**, percebemos que os resultados se concentra entre valores medianos(notas 2.5-4). \n",
        "\n",
        "O que confirma nossa análise aqui é comparar os **25% 50% e 75%**. 50% é o valor da mediana, e ambos filmes tem mesma mediana, mas 25% e 75% são diferentes. Se você lembra lá da estatísitca esses são os [**1° 2° e 3° quartis**](https://pt.wikipedia.org/wiki/Quartil). \n",
        "\n",
        "Olha, mesclar os gráficos com as estatísticas ajuda a interpretar melhor os dados. Mas o que precisamos é uma imagem que nos ajude a interpretar os dados ainda melhor, o gráfico que nos ajuda neste caso é o **Boxplot**. Vamos adaptar nossa função para conseguir plotar o boxplot e interpretá-lo."
      ]
    },
    {
      "cell_type": "code",
      "metadata": {
        "id": "OeHDyPbeYIS9",
        "colab_type": "code",
        "outputId": "e635769d-4a5a-400d-9c36-8ad6153ec7ec",
        "colab": {
          "base_uri": "https://localhost:8080/",
          "height": 700
        }
      },
      "source": [
        "def plot_filme(n):\n",
        "  notas_do_filme = avaliacoes.query(f\"filmesId=={n}\")[\"nota\"]\n",
        "  notas_do_filme.plot(kind='hist')\n",
        "  plt.show()\n",
        "  print('\\n')\n",
        "  notas_do_filme.plot.box()\n",
        "  plt.show()\n",
        "  return notas_do_filme.describe()\n",
        "\n",
        "plot_filme(919)"
      ],
      "execution_count": 0,
      "outputs": [
        {
          "output_type": "display_data",
          "data": {
            "image/png": "[encoded data removed]",
            "text/plain": [
              "<Figure size 432x288 with 1 Axes>"
            ]
          },
          "metadata": {
            "tags": []
          }
        },
        {
          "output_type": "stream",
          "text": [
            "\n",
            "\n"
          ],
          "name": "stdout"
        },
        {
          "output_type": "display_data",
          "data": {
            "image/png": "[encoded data removed]",
            "text/plain": [
              "<Figure size 432x288 with 1 Axes>"
            ]
          },
          "metadata": {
            "tags": []
          }
        },
        {
          "output_type": "execute_result",
          "data": {
            "text/plain": [
              "count    92.000000\n",
              "mean      3.880435\n",
              "std       1.025418\n",
              "min       1.000000\n",
              "25%       3.000000\n",
              "50%       4.000000\n",
              "75%       5.000000\n",
              "max       5.000000\n",
              "Name: nota, dtype: float64"
            ]
          },
          "metadata": {
            "tags": []
          },
          "execution_count": 69
        }
      ]
    },
    {
      "cell_type": "markdown",
      "metadata": {
        "id": "Ic1k-3FcZOTA",
        "colab_type": "text"
      },
      "source": [
        "E aí, viu como é simples criar criar um [boxplot com o pandas](https://pandas.pydata.org/pandas-docs/stable/reference/api/pandas.DataFrame.plot.box.html)?\n",
        "\n",
        "Apenas chamamos o método ```.plot.box()```, agora o que precisamos fazer é interpretar este gráfico.\n",
        "\n",
        "Vamos focar primeiro na \"caixa\" a linha verde que divide a caixa em dois é a mediana (compare com as estatísticas geradas pelo discribe()), a parte superior da caixa é o 3° Quartil (75%) e a parte inferior é o 1° Quartil (25%).\n",
        "\n",
        "Agora repare nos limites inferior e superior, represetados pelas extremidades em preto. Por coincidência, nesta imagem os limites inferior e superior são equivalentes ao ponto de máximo e mínimo, mas nem sempre será assim, pois esse limite superir e inferior são calculados e dependem de Q1 e Q3. Algumas vezes os limites podem sobrepor os extremos das \"caixas\" e isso geralmente ocorre quando temos uma quantidade pequena de dados.\n",
        "\n",
        "Como tivemos sobreposição do limite superior vamos calcular o boxplot de outro filme, para analisar o resultado."
      ]
    },
    {
      "cell_type": "code",
      "metadata": {
        "id": "znFrten8Y61b",
        "colab_type": "code",
        "outputId": "8302a2d8-4e91-4296-eeae-ae5c25715c8d",
        "colab": {
          "base_uri": "https://localhost:8080/",
          "height": 703
        }
      },
      "source": [
        "plot_filme(46578)"
      ],
      "execution_count": 0,
      "outputs": [
        {
          "output_type": "display_data",
          "data": {
            "image/png": "[encoded data removed]",
            "text/plain": [
              "<Figure size 432x288 with 1 Axes>"
            ]
          },
          "metadata": {
            "tags": []
          }
        },
        {
          "output_type": "stream",
          "text": [
            "\n",
            "\n"
          ],
          "name": "stdout"
        },
        {
          "output_type": "display_data",
          "data": {
            "image/png": "[encoded data removed]",
            "text/plain": [
              "<Figure size 432x288 with 1 Axes>"
            ]
          },
          "metadata": {
            "tags": []
          }
        },
        {
          "output_type": "execute_result",
          "data": {
            "text/plain": [
              "count    77.000000\n",
              "mean      3.883117\n",
              "std       0.842522\n",
              "min       1.000000\n",
              "25%       3.500000\n",
              "50%       4.000000\n",
              "75%       4.500000\n",
              "max       5.000000\n",
              "Name: nota, dtype: float64"
            ]
          },
          "metadata": {
            "tags": []
          },
          "execution_count": 70
        }
      ]
    },
    {
      "cell_type": "markdown",
      "metadata": {
        "id": "R0Co0OfLZkMw",
        "colab_type": "text"
      },
      "source": [
        "Olha que legal, diferente do primeiro boxplot, neste os limites superiores não se sobrepõe e temos uma informação a mais, no caso temos essa bolinha localizada em **y=1**. A \"bolinha\" chamamos de valor discrepante, por ir além dos limites inferior e superior (chamamos na aula de [outliers](https://pt.wikipedia.org/wiki/Outlier), existem várias formas de calcular os outliers, mas no nosso caso esses são os outliers do boxplot).\n",
        "\n",
        "Não vamos entrar em todos os detalhes do boxplot mas recomendo a explicação do [wikipedia](https://pt.wikipedia.org/wiki/Diagrama_de_caixa), ela é muito completa, cheias de exemplo e imagens para facilitar o entendimento.\n",
        "\n",
        "Agora comparando os boxplot dos dois filmes deixa muito mais evidente as diferenças entre elas, o que ficava complexo olhando só médias e outras informações separadas.\n",
        "\n",
        "Embora melhoramos muito nossa qualidade de análise ainda temos mais um ponto. Estamos comparando os boxplot dos filmes, mas eles estão em imagens separadas, vamos juntas vários boxplot em uma imagem só. Veja como podemos fazer isso usando o **seaborn**, para aprendermos outra forma de plotar boxplot!\n"
      ]
    },
    {
      "cell_type": "code",
      "metadata": {
        "id": "YM-q4W6hDL1C",
        "colab_type": "code",
        "outputId": "2347f80d-6c33-4a1f-ec3f-eb7ccb39e25a",
        "colab": {
          "base_uri": "https://localhost:8080/",
          "height": 173
        }
      },
      "source": [
        "# Fazendo uma verificação de qual filmes os ids se refere.\n",
        "filmes_com_media.query('filmesId in [1,2,919,46578] ')"
      ],
      "execution_count": 0,
      "outputs": [
        {
          "output_type": "execute_result",
          "data": {
            "text/html": [
              "<div>\n",
              "<style scoped>\n",
              "    .dataframe tbody tr th:only-of-type {\n",
              "        vertical-align: middle;\n",
              "    }\n",
              "\n",
              "    .dataframe tbody tr th {\n",
              "        vertical-align: top;\n",
              "    }\n",
              "\n",
              "    .dataframe thead th {\n",
              "        text-align: right;\n",
              "    }\n",
              "</style>\n",
              "<table border=\"1\" class=\"dataframe\">\n",
              "  <thead>\n",
              "    <tr style=\"text-align: right;\">\n",
              "      <th></th>\n",
              "      <th>filmesId</th>\n",
              "      <th>titulo</th>\n",
              "      <th>generos</th>\n",
              "      <th>nota</th>\n",
              "    </tr>\n",
              "  </thead>\n",
              "  <tbody>\n",
              "    <tr>\n",
              "      <th>0</th>\n",
              "      <td>1</td>\n",
              "      <td>Toy Story (1995)</td>\n",
              "      <td>Adventure|Animation|Children|Comedy|Fantasy</td>\n",
              "      <td>3.920930</td>\n",
              "    </tr>\n",
              "    <tr>\n",
              "      <th>1</th>\n",
              "      <td>2</td>\n",
              "      <td>Jumanji (1995)</td>\n",
              "      <td>Adventure|Children|Fantasy</td>\n",
              "      <td>3.431818</td>\n",
              "    </tr>\n",
              "    <tr>\n",
              "      <th>701</th>\n",
              "      <td>919</td>\n",
              "      <td>Wizard of Oz, The (1939)</td>\n",
              "      <td>Adventure|Children|Fantasy|Musical</td>\n",
              "      <td>3.880435</td>\n",
              "    </tr>\n",
              "    <tr>\n",
              "      <th>6242</th>\n",
              "      <td>46578</td>\n",
              "      <td>Little Miss Sunshine (2006)</td>\n",
              "      <td>Adventure|Comedy|Drama</td>\n",
              "      <td>3.883117</td>\n",
              "    </tr>\n",
              "  </tbody>\n",
              "</table>\n",
              "</div>"
            ],
            "text/plain": [
              "      filmesId  ...      nota\n",
              "0            1  ...  3.920930\n",
              "1            2  ...  3.431818\n",
              "701        919  ...  3.880435\n",
              "6242     46578  ...  3.883117\n",
              "\n",
              "[4 rows x 4 columns]"
            ]
          },
          "metadata": {
            "tags": []
          },
          "execution_count": 71
        }
      ]
    },
    {
      "cell_type": "code",
      "metadata": {
        "id": "oJuSnlSkZXci",
        "colab_type": "code",
        "outputId": "cd25d4b7-9b41-4835-9e59-876e2380863e",
        "colab": {
          "base_uri": "https://localhost:8080/",
          "height": 296
        }
      },
      "source": [
        "sns.boxplot(data = avaliacoes.query(\"filmesId in [1,2,919,46578]\"), x =\"filmesId\", y=\"nota\")"
      ],
      "execution_count": 0,
      "outputs": [
        {
          "output_type": "execute_result",
          "data": {
            "text/plain": [
              "<matplotlib.axes._subplots.AxesSubplot at 0x7f972ca36e80>"
            ]
          },
          "metadata": {
            "tags": []
          },
          "execution_count": 72
        },
        {
          "output_type": "display_data",
          "data": {
            "image/png": "[encoded data removed]",
            "text/plain": [
              "<Figure size 432x288 with 1 Axes>"
            ]
          },
          "metadata": {
            "tags": []
          }
        }
      ]
    },
    {
      "cell_type": "markdown",
      "metadata": {
        "id": "6n7HRwYLZ_4O",
        "colab_type": "text"
      },
      "source": [
        "Com base nos Box-Plots dispostos acima, é possível observar que todos eles possuem uma simetria dentre os 50% dos dados centrais, com tudo, em relação a 100% dos dados, temos uma assimetria a esquerda. Em relação aos filmes Toy Story e Little Miss Sunchine há uma distribuição muito semelhante , ao qual concentra-se 50% dos dados centrais entre os valores 3.5 e 4.5, o que implica um maior número de avaliações com notas dentro desse intervalo, ademais Toy Story possui duas notas fora do padrão dos dados e Little Miss possui uma.\n",
        "\n",
        "Em relação ao filme Jumanji, percebe-se que há uma concentração maior de notas no intevalo de 3 a 4 e dois valores foras do padrão.\n",
        "\n",
        "Com relação Wizard of Oz, temos uma concentração de 50% das notas em um intervalo maior, de 3 a 5, implicando em uma distribuição com maior variabilidades entre os dados, contudo não há valores fora do padrão."
      ]
    },
    {
      "cell_type": "markdown",
      "metadata": {
        "id": "qjE04BFgZ38m",
        "colab_type": "text"
      },
      "source": [
        "Chamamos o `sns.boxplot()` passando três parâmetros. Parâmetro dados é um dataframe das notas dos filmes com Toy Story, Jumanji, Wizard of Oz e Little miss sunshine (usamos o `.query()` para selecionar os dados), **x** é o Id do filme e **y** as respectivas notas. Agora conseguimos comparar as notas dos filmes de forma muito mais clara.\n",
        "\n",
        "\n",
        "Com isso nós fechamos nossa segunda aula do **#quarentenadados**"
      ]
    },
    {
      "cell_type": "markdown",
      "metadata": {
        "id": "kxgWSk1UaKz9",
        "colab_type": "text"
      },
      "source": [
        "##Desafio 1 do [Guilherme Silveira](https://twitter.com/guilhermecaelum)\n",
        "\n",
        "Rotacionar os thicks (os nomes dos generos) do gráfico de barras verdes (o último), de forma a deixar as legendas mais legíveis."
      ]
    },
    {
      "cell_type": "code",
      "metadata": {
        "id": "tmFViHHp_FXG",
        "colab_type": "code",
        "outputId": "dc00a95e-938d-44bf-fa18-70494b54130d",
        "colab": {
          "base_uri": "https://localhost:8080/",
          "height": 542
        }
      },
      "source": [
        "sns.set_style(\"whitegrid\")\n",
        "\n",
        "filmes_por_genero = filmes[\"generos\"].str.get_dummies('|').sum().sort_values(ascending=False)\n",
        "plt.figure(figsize=(16,8))\n",
        "plt.xticks(rotation=45)\n",
        "sns.barplot(x=filmes_por_genero.index,\n",
        "            y=filmes_por_genero.values,\n",
        "            palette=sns.color_palette(\"BuGn_r\", n_colors=len(filmes_por_genero) + 4))\n",
        "plt.show()"
      ],
      "execution_count": 0,
      "outputs": [
        {
          "output_type": "display_data",
          "data": {
            "image/png": "[encoded data removed]",
            "text/plain": [
              "<Figure size 1152x576 with 1 Axes>"
            ]
          },
          "metadata": {
            "tags": []
          }
        }
      ]
    },
    {
      "cell_type": "markdown",
      "metadata": {
        "id": "mOigJgAuaKwW",
        "colab_type": "text"
      },
      "source": [
        "## Desafio 2 do [Paulo Silveira](https://twitter.com/paulo_caelum)\n",
        "\n",
        "Encontar vários filmes com médias próximas e distribuições diferentes, use a função **plot_filmes(n)** para plotar."
      ]
    },
    {
      "cell_type": "code",
      "metadata": {
        "id": "D_UQCFIh_Mf9",
        "colab_type": "code",
        "outputId": "c7e3f1b6-44db-40b8-bf55-433bfaf9649f",
        "colab": {
          "base_uri": "https://localhost:8080/",
          "height": 34
        }
      },
      "source": [
        "filmes_com_media.shape[0]"
      ],
      "execution_count": 0,
      "outputs": [
        {
          "output_type": "execute_result",
          "data": {
            "text/plain": [
              "9742"
            ]
          },
          "metadata": {
            "tags": []
          },
          "execution_count": 74
        }
      ]
    },
    {
      "cell_type": "code",
      "metadata": {
        "id": "I-4FDy_9_MXx",
        "colab_type": "code",
        "outputId": "a70d98c9-aae5-4124-af14-a6f56cf255ef",
        "colab": {
          "base_uri": "https://localhost:8080/",
          "height": 34
        }
      },
      "source": [
        "lista = filmes_com_media.sort_values(\"nota\", ascending=False)[5000:5200].tail(4)['filmesId']\n",
        "lista_o = list(lista)\n",
        "lista_o"
      ],
      "execution_count": 0,
      "outputs": [
        {
          "output_type": "execute_result",
          "data": {
            "text/plain": [
              "[107, 216, 2990, 2133]"
            ]
          },
          "metadata": {
            "tags": []
          },
          "execution_count": 75
        }
      ]
    },
    {
      "cell_type": "code",
      "metadata": {
        "id": "5wIiJMsv_POT",
        "colab_type": "code",
        "outputId": "c4a38838-8787-4738-dc36-97f36ed05804",
        "colab": {
          "base_uri": "https://localhost:8080/",
          "height": 1000
        }
      },
      "source": [
        "for i in lista_o:\n",
        "  plot_filme(i)"
      ],
      "execution_count": 0,
      "outputs": [
        {
          "output_type": "display_data",
          "data": {
            "image/png": "[encoded data removed]",
            "text/plain": [
              "<Figure size 432x288 with 1 Axes>"
            ]
          },
          "metadata": {
            "tags": []
          }
        },
        {
          "output_type": "stream",
          "text": [
            "\n",
            "\n"
          ],
          "name": "stdout"
        },
        {
          "output_type": "display_data",
          "data": {
            "image/png": "[encoded data removed]",
            "text/plain": [
              "<Figure size 432x288 with 1 Axes>"
            ]
          },
          "metadata": {
            "tags": []
          }
        },
        {
          "output_type": "display_data",
          "data": {
            "image/png": "[encoded data removed]",
            "text/plain": [
              "<Figure size 432x288 with 1 Axes>"
            ]
          },
          "metadata": {
            "tags": []
          }
        },
        {
          "output_type": "stream",
          "text": [
            "\n",
            "\n"
          ],
          "name": "stdout"
        },
        {
          "output_type": "display_data",
          "data": {
            "image/png": "[encoded data removed]",
            "text/plain": [
              "<Figure size 432x288 with 1 Axes>"
            ]
          },
          "metadata": {
            "tags": []
          }
        },
        {
          "output_type": "display_data",
          "data": {
            "image/png": "[encoded data removed]",
            "text/plain": [
              "<Figure size 432x288 with 1 Axes>"
            ]
          },
          "metadata": {
            "tags": []
          }
        },
        {
          "output_type": "stream",
          "text": [
            "\n",
            "\n"
          ],
          "name": "stdout"
        },
        {
          "output_type": "display_data",
          "data": {
            "image/png": "[encoded data removed]",
            "text/plain": [
              "<Figure size 432x288 with 1 Axes>"
            ]
          },
          "metadata": {
            "tags": []
          }
        },
        {
          "output_type": "display_data",
          "data": {
            "image/png": "[encoded data removed]",
            "text/plain": [
              "<Figure size 432x288 with 1 Axes>"
            ]
          },
          "metadata": {
            "tags": []
          }
        },
        {
          "output_type": "stream",
          "text": [
            "\n",
            "\n"
          ],
          "name": "stdout"
        },
        {
          "output_type": "display_data",
          "data": {
            "image/png": "[encoded data removed]",
            "text/plain": [
              "<Figure size 432x288 with 1 Axes>"
            ]
          },
          "metadata": {
            "tags": []
          }
        }
      ]
    },
    {
      "cell_type": "markdown",
      "metadata": {
        "id": "QDOE_0staKsA",
        "colab_type": "text"
      },
      "source": [
        "## Desafio 3 do [Paulo Silveira](https://twitter.com/paulo_caelum)\n",
        "\n",
        " Criar o boxplot dos 10 filmes com mais votos (não é com maior média, é com mais votos!). Não apenas plot mas também analise e tente tirar conclusões."
      ]
    },
    {
      "cell_type": "code",
      "metadata": {
        "id": "OHnMVvZQXa8K",
        "colab_type": "code",
        "colab": {}
      },
      "source": [
        "total_votos = avaliacoes.groupby('filmesId').size().sort_values(ascending=False)\n",
        "total_votos.name = 'total_votos'\n",
        "filmes_com_media.rename(columns={'nota':'nota_media'}, inplace=True)"
      ],
      "execution_count": 0,
      "outputs": []
    },
    {
      "cell_type": "code",
      "metadata": {
        "id": "zUvjkrkdtf8n",
        "colab_type": "code",
        "outputId": "1592ee26-d864-4f3b-9b62-6a37e2d5c1c1",
        "colab": {
          "base_uri": "https://localhost:8080/",
          "height": 204
        }
      },
      "source": [
        "filmes_com_media_voto = filmes_com_media.join(total_votos,on='filmesId')\n",
        "filmes_com_media_voto.head()"
      ],
      "execution_count": 0,
      "outputs": [
        {
          "output_type": "execute_result",
          "data": {
            "text/html": [
              "<div>\n",
              "<style scoped>\n",
              "    .dataframe tbody tr th:only-of-type {\n",
              "        vertical-align: middle;\n",
              "    }\n",
              "\n",
              "    .dataframe tbody tr th {\n",
              "        vertical-align: top;\n",
              "    }\n",
              "\n",
              "    .dataframe thead th {\n",
              "        text-align: right;\n",
              "    }\n",
              "</style>\n",
              "<table border=\"1\" class=\"dataframe\">\n",
              "  <thead>\n",
              "    <tr style=\"text-align: right;\">\n",
              "      <th></th>\n",
              "      <th>filmesId</th>\n",
              "      <th>titulo</th>\n",
              "      <th>generos</th>\n",
              "      <th>nota_media</th>\n",
              "      <th>total_votos</th>\n",
              "    </tr>\n",
              "  </thead>\n",
              "  <tbody>\n",
              "    <tr>\n",
              "      <th>0</th>\n",
              "      <td>1</td>\n",
              "      <td>Toy Story (1995)</td>\n",
              "      <td>Adventure|Animation|Children|Comedy|Fantasy</td>\n",
              "      <td>3.920930</td>\n",
              "      <td>215.0</td>\n",
              "    </tr>\n",
              "    <tr>\n",
              "      <th>1</th>\n",
              "      <td>2</td>\n",
              "      <td>Jumanji (1995)</td>\n",
              "      <td>Adventure|Children|Fantasy</td>\n",
              "      <td>3.431818</td>\n",
              "      <td>110.0</td>\n",
              "    </tr>\n",
              "    <tr>\n",
              "      <th>2</th>\n",
              "      <td>3</td>\n",
              "      <td>Grumpier Old Men (1995)</td>\n",
              "      <td>Comedy|Romance</td>\n",
              "      <td>3.259615</td>\n",
              "      <td>52.0</td>\n",
              "    </tr>\n",
              "    <tr>\n",
              "      <th>3</th>\n",
              "      <td>4</td>\n",
              "      <td>Waiting to Exhale (1995)</td>\n",
              "      <td>Comedy|Drama|Romance</td>\n",
              "      <td>2.357143</td>\n",
              "      <td>7.0</td>\n",
              "    </tr>\n",
              "    <tr>\n",
              "      <th>4</th>\n",
              "      <td>5</td>\n",
              "      <td>Father of the Bride Part II (1995)</td>\n",
              "      <td>Comedy</td>\n",
              "      <td>3.071429</td>\n",
              "      <td>49.0</td>\n",
              "    </tr>\n",
              "  </tbody>\n",
              "</table>\n",
              "</div>"
            ],
            "text/plain": [
              "   filmesId                              titulo  ... nota_media  total_votos\n",
              "0         1                    Toy Story (1995)  ...   3.920930        215.0\n",
              "1         2                      Jumanji (1995)  ...   3.431818        110.0\n",
              "2         3             Grumpier Old Men (1995)  ...   3.259615         52.0\n",
              "3         4            Waiting to Exhale (1995)  ...   2.357143          7.0\n",
              "4         5  Father of the Bride Part II (1995)  ...   3.071429         49.0\n",
              "\n",
              "[5 rows x 5 columns]"
            ]
          },
          "metadata": {
            "tags": []
          },
          "execution_count": 78
        }
      ]
    },
    {
      "cell_type": "code",
      "metadata": {
        "id": "siykALXAm6Cm",
        "colab_type": "code",
        "outputId": "acdcd2b1-490f-49a2-9fd6-288b2d50d590",
        "colab": {
          "base_uri": "https://localhost:8080/",
          "height": 34
        }
      },
      "source": [
        "votos = avaliacoes.query('filmesId in [356, 318, 296, 593, 2571, 260, 480, 110, 589, 527]')\n",
        "votos.shape"
      ],
      "execution_count": 0,
      "outputs": [
        {
          "output_type": "execute_result",
          "data": {
            "text/plain": [
              "(2680, 4)"
            ]
          },
          "metadata": {
            "tags": []
          },
          "execution_count": 79
        }
      ]
    },
    {
      "cell_type": "code",
      "metadata": {
        "id": "pW4Bii-8gnxb",
        "colab_type": "code",
        "outputId": "2d7171e2-6a53-4065-99ba-8f5fe136be7c",
        "colab": {
          "base_uri": "https://localhost:8080/",
          "height": 204
        }
      },
      "source": [
        "dez_mais_votos = filmes_com_media_voto.sort_values('total_votos',ascending=False).head(10)\n",
        "df_final = dez_mais_votos.merge(votos,on='filmesId',how='left')\n",
        "df_final.head()"
      ],
      "execution_count": 0,
      "outputs": [
        {
          "output_type": "execute_result",
          "data": {
            "text/html": [
              "<div>\n",
              "<style scoped>\n",
              "    .dataframe tbody tr th:only-of-type {\n",
              "        vertical-align: middle;\n",
              "    }\n",
              "\n",
              "    .dataframe tbody tr th {\n",
              "        vertical-align: top;\n",
              "    }\n",
              "\n",
              "    .dataframe thead th {\n",
              "        text-align: right;\n",
              "    }\n",
              "</style>\n",
              "<table border=\"1\" class=\"dataframe\">\n",
              "  <thead>\n",
              "    <tr style=\"text-align: right;\">\n",
              "      <th></th>\n",
              "      <th>filmesId</th>\n",
              "      <th>titulo</th>\n",
              "      <th>generos</th>\n",
              "      <th>nota_media</th>\n",
              "      <th>total_votos</th>\n",
              "      <th>usuarioId</th>\n",
              "      <th>nota</th>\n",
              "      <th>momento</th>\n",
              "    </tr>\n",
              "  </thead>\n",
              "  <tbody>\n",
              "    <tr>\n",
              "      <th>0</th>\n",
              "      <td>356</td>\n",
              "      <td>Forrest Gump (1994)</td>\n",
              "      <td>Comedy|Drama|Romance|War</td>\n",
              "      <td>4.164134</td>\n",
              "      <td>329.0</td>\n",
              "      <td>1</td>\n",
              "      <td>4.0</td>\n",
              "      <td>964980962</td>\n",
              "    </tr>\n",
              "    <tr>\n",
              "      <th>1</th>\n",
              "      <td>356</td>\n",
              "      <td>Forrest Gump (1994)</td>\n",
              "      <td>Comedy|Drama|Romance|War</td>\n",
              "      <td>4.164134</td>\n",
              "      <td>329.0</td>\n",
              "      <td>6</td>\n",
              "      <td>5.0</td>\n",
              "      <td>845553200</td>\n",
              "    </tr>\n",
              "    <tr>\n",
              "      <th>2</th>\n",
              "      <td>356</td>\n",
              "      <td>Forrest Gump (1994)</td>\n",
              "      <td>Comedy|Drama|Romance|War</td>\n",
              "      <td>4.164134</td>\n",
              "      <td>329.0</td>\n",
              "      <td>7</td>\n",
              "      <td>5.0</td>\n",
              "      <td>1106635915</td>\n",
              "    </tr>\n",
              "    <tr>\n",
              "      <th>3</th>\n",
              "      <td>356</td>\n",
              "      <td>Forrest Gump (1994)</td>\n",
              "      <td>Comedy|Drama|Romance|War</td>\n",
              "      <td>4.164134</td>\n",
              "      <td>329.0</td>\n",
              "      <td>8</td>\n",
              "      <td>3.0</td>\n",
              "      <td>839463527</td>\n",
              "    </tr>\n",
              "    <tr>\n",
              "      <th>4</th>\n",
              "      <td>356</td>\n",
              "      <td>Forrest Gump (1994)</td>\n",
              "      <td>Comedy|Drama|Romance|War</td>\n",
              "      <td>4.164134</td>\n",
              "      <td>329.0</td>\n",
              "      <td>10</td>\n",
              "      <td>3.5</td>\n",
              "      <td>1455301685</td>\n",
              "    </tr>\n",
              "  </tbody>\n",
              "</table>\n",
              "</div>"
            ],
            "text/plain": [
              "   filmesId               titulo  ... nota     momento\n",
              "0       356  Forrest Gump (1994)  ...  4.0   964980962\n",
              "1       356  Forrest Gump (1994)  ...  5.0   845553200\n",
              "2       356  Forrest Gump (1994)  ...  5.0  1106635915\n",
              "3       356  Forrest Gump (1994)  ...  3.0   839463527\n",
              "4       356  Forrest Gump (1994)  ...  3.5  1455301685\n",
              "\n",
              "[5 rows x 8 columns]"
            ]
          },
          "metadata": {
            "tags": []
          },
          "execution_count": 80
        }
      ]
    },
    {
      "cell_type": "code",
      "metadata": {
        "id": "amagFp05ghEj",
        "colab_type": "code",
        "outputId": "37b7acc9-4321-4bca-ffbe-28701ea4dcfc",
        "colab": {
          "base_uri": "https://localhost:8080/",
          "height": 733
        }
      },
      "source": [
        "plt.figure(figsize=(12,8))\n",
        "plt.xticks(rotation=90)\n",
        "plt.title('Box-Plot para os 10 filmes mais votados')\n",
        "sns.boxplot(x='titulo',y='nota',data=df_final)"
      ],
      "execution_count": 0,
      "outputs": [
        {
          "output_type": "execute_result",
          "data": {
            "text/plain": [
              "<matplotlib.axes._subplots.AxesSubplot at 0x7f972c115c50>"
            ]
          },
          "metadata": {
            "tags": []
          },
          "execution_count": 81
        },
        {
          "output_type": "display_data",
          "data": {
            "image/png": "[encoded data removed]",
            "text/plain": [
              "<Figure size 864x576 with 1 Axes>"
            ]
          },
          "metadata": {
            "tags": []
          }
        }
      ]
    },
    {
      "cell_type": "markdown",
      "metadata": {
        "id": "rQ43eSC2LfYF",
        "colab_type": "text"
      },
      "source": [
        "Com base nos Box-Plots dispostos acima, logo de cara percebemos que todos eles possuem valores fora do padrão abaixo do limite inferior, sendo denominado com maior frequência entre a maioria dos gráficos, como notas iguais ou abaixo de 2. \n",
        "\n",
        "Como se trata dos 10 filmes mais votados, para se ter tantas avaliações deve ser porque os filmes são muito bons ou muito ruins, e percebemos de acordo com a assimetria a esquerda, que a concentrção de notas são as mais altas(frequência maior entre 4 e 5, em 7 dos 10 gráficos), implicando em filmes bem avaliados.\n",
        "\n",
        "Há um destaque para o Box-Plot do filmes Jurassic Park, ao qual tem um concentrção de 50% dos dados centrais entre 3 e 4, implicando dentre os filmes mais votados a frequência de notas mais infeirores."
      ]
    },
    {
      "cell_type": "markdown",
      "metadata": {
        "id": "wPmN7jNkaKoj",
        "colab_type": "text"
      },
      "source": [
        "## Desafio 4 do [Guilherme Silveira](https://twitter.com/guilhermecaelum)\n",
        "\n",
        "Configurar a visualização do boxplot gerado pelo seaborn (último boxplot plotado na aula). Configurar o tamanho e colocar o nome dos filmes nos thicks."
      ]
    },
    {
      "cell_type": "code",
      "metadata": {
        "id": "I47OmK6YrYCN",
        "colab_type": "code",
        "outputId": "6a7582a4-c551-4e2b-a0d7-0fbe1e7cfb10",
        "colab": {
          "base_uri": "https://localhost:8080/",
          "height": 204
        }
      },
      "source": [
        "data = avaliacoes.query(\"filmesId in [1,2,919,46578]\")\n",
        "data.head()"
      ],
      "execution_count": 0,
      "outputs": [
        {
          "output_type": "execute_result",
          "data": {
            "text/html": [
              "<div>\n",
              "<style scoped>\n",
              "    .dataframe tbody tr th:only-of-type {\n",
              "        vertical-align: middle;\n",
              "    }\n",
              "\n",
              "    .dataframe tbody tr th {\n",
              "        vertical-align: top;\n",
              "    }\n",
              "\n",
              "    .dataframe thead th {\n",
              "        text-align: right;\n",
              "    }\n",
              "</style>\n",
              "<table border=\"1\" class=\"dataframe\">\n",
              "  <thead>\n",
              "    <tr style=\"text-align: right;\">\n",
              "      <th></th>\n",
              "      <th>usuarioId</th>\n",
              "      <th>filmesId</th>\n",
              "      <th>nota</th>\n",
              "      <th>momento</th>\n",
              "    </tr>\n",
              "  </thead>\n",
              "  <tbody>\n",
              "    <tr>\n",
              "      <th>0</th>\n",
              "      <td>1</td>\n",
              "      <td>1</td>\n",
              "      <td>4.0</td>\n",
              "      <td>964982703</td>\n",
              "    </tr>\n",
              "    <tr>\n",
              "      <th>44</th>\n",
              "      <td>1</td>\n",
              "      <td>919</td>\n",
              "      <td>5.0</td>\n",
              "      <td>964982475</td>\n",
              "    </tr>\n",
              "    <tr>\n",
              "      <th>356</th>\n",
              "      <td>4</td>\n",
              "      <td>919</td>\n",
              "      <td>5.0</td>\n",
              "      <td>945079521</td>\n",
              "    </tr>\n",
              "    <tr>\n",
              "      <th>516</th>\n",
              "      <td>5</td>\n",
              "      <td>1</td>\n",
              "      <td>4.0</td>\n",
              "      <td>847434962</td>\n",
              "    </tr>\n",
              "    <tr>\n",
              "      <th>560</th>\n",
              "      <td>6</td>\n",
              "      <td>2</td>\n",
              "      <td>4.0</td>\n",
              "      <td>845553522</td>\n",
              "    </tr>\n",
              "  </tbody>\n",
              "</table>\n",
              "</div>"
            ],
            "text/plain": [
              "     usuarioId  filmesId  nota    momento\n",
              "0            1         1   4.0  964982703\n",
              "44           1       919   5.0  964982475\n",
              "356          4       919   5.0  945079521\n",
              "516          5         1   4.0  847434962\n",
              "560          6         2   4.0  845553522"
            ]
          },
          "metadata": {
            "tags": []
          },
          "execution_count": 82
        }
      ]
    },
    {
      "cell_type": "code",
      "metadata": {
        "id": "JyzzRUJBp3Oz",
        "colab_type": "code",
        "outputId": "8d705d03-04ff-4f25-cd06-be87fe4f5957",
        "colab": {
          "base_uri": "https://localhost:8080/",
          "height": 173
        }
      },
      "source": [
        "titulos_b = filmes.query('filmesId in [1,2,919,46578]')\n",
        "titulos_b.head()"
      ],
      "execution_count": 0,
      "outputs": [
        {
          "output_type": "execute_result",
          "data": {
            "text/html": [
              "<div>\n",
              "<style scoped>\n",
              "    .dataframe tbody tr th:only-of-type {\n",
              "        vertical-align: middle;\n",
              "    }\n",
              "\n",
              "    .dataframe tbody tr th {\n",
              "        vertical-align: top;\n",
              "    }\n",
              "\n",
              "    .dataframe thead th {\n",
              "        text-align: right;\n",
              "    }\n",
              "</style>\n",
              "<table border=\"1\" class=\"dataframe\">\n",
              "  <thead>\n",
              "    <tr style=\"text-align: right;\">\n",
              "      <th></th>\n",
              "      <th>filmesId</th>\n",
              "      <th>titulo</th>\n",
              "      <th>generos</th>\n",
              "    </tr>\n",
              "  </thead>\n",
              "  <tbody>\n",
              "    <tr>\n",
              "      <th>0</th>\n",
              "      <td>1</td>\n",
              "      <td>Toy Story (1995)</td>\n",
              "      <td>Adventure|Animation|Children|Comedy|Fantasy</td>\n",
              "    </tr>\n",
              "    <tr>\n",
              "      <th>1</th>\n",
              "      <td>2</td>\n",
              "      <td>Jumanji (1995)</td>\n",
              "      <td>Adventure|Children|Fantasy</td>\n",
              "    </tr>\n",
              "    <tr>\n",
              "      <th>701</th>\n",
              "      <td>919</td>\n",
              "      <td>Wizard of Oz, The (1939)</td>\n",
              "      <td>Adventure|Children|Fantasy|Musical</td>\n",
              "    </tr>\n",
              "    <tr>\n",
              "      <th>6242</th>\n",
              "      <td>46578</td>\n",
              "      <td>Little Miss Sunshine (2006)</td>\n",
              "      <td>Adventure|Comedy|Drama</td>\n",
              "    </tr>\n",
              "  </tbody>\n",
              "</table>\n",
              "</div>"
            ],
            "text/plain": [
              "      filmesId  ...                                      generos\n",
              "0            1  ...  Adventure|Animation|Children|Comedy|Fantasy\n",
              "1            2  ...                   Adventure|Children|Fantasy\n",
              "701        919  ...           Adventure|Children|Fantasy|Musical\n",
              "6242     46578  ...                       Adventure|Comedy|Drama\n",
              "\n",
              "[4 rows x 3 columns]"
            ]
          },
          "metadata": {
            "tags": []
          },
          "execution_count": 83
        }
      ]
    },
    {
      "cell_type": "code",
      "metadata": {
        "id": "mZftYNOsrkN2",
        "colab_type": "code",
        "outputId": "3ac544b6-aaed-48ad-b883-4462e331bce8",
        "colab": {
          "base_uri": "https://localhost:8080/",
          "height": 419
        }
      },
      "source": [
        "df_com_titulo = data.merge(titulos_b,on='filmesId', how='left')\n",
        "df_com_titulo"
      ],
      "execution_count": 0,
      "outputs": [
        {
          "output_type": "execute_result",
          "data": {
            "text/html": [
              "<div>\n",
              "<style scoped>\n",
              "    .dataframe tbody tr th:only-of-type {\n",
              "        vertical-align: middle;\n",
              "    }\n",
              "\n",
              "    .dataframe tbody tr th {\n",
              "        vertical-align: top;\n",
              "    }\n",
              "\n",
              "    .dataframe thead th {\n",
              "        text-align: right;\n",
              "    }\n",
              "</style>\n",
              "<table border=\"1\" class=\"dataframe\">\n",
              "  <thead>\n",
              "    <tr style=\"text-align: right;\">\n",
              "      <th></th>\n",
              "      <th>usuarioId</th>\n",
              "      <th>filmesId</th>\n",
              "      <th>nota</th>\n",
              "      <th>momento</th>\n",
              "      <th>titulo</th>\n",
              "      <th>generos</th>\n",
              "    </tr>\n",
              "  </thead>\n",
              "  <tbody>\n",
              "    <tr>\n",
              "      <th>0</th>\n",
              "      <td>1</td>\n",
              "      <td>1</td>\n",
              "      <td>4.0</td>\n",
              "      <td>964982703</td>\n",
              "      <td>Toy Story (1995)</td>\n",
              "      <td>Adventure|Animation|Children|Comedy|Fantasy</td>\n",
              "    </tr>\n",
              "    <tr>\n",
              "      <th>1</th>\n",
              "      <td>1</td>\n",
              "      <td>919</td>\n",
              "      <td>5.0</td>\n",
              "      <td>964982475</td>\n",
              "      <td>Wizard of Oz, The (1939)</td>\n",
              "      <td>Adventure|Children|Fantasy|Musical</td>\n",
              "    </tr>\n",
              "    <tr>\n",
              "      <th>2</th>\n",
              "      <td>4</td>\n",
              "      <td>919</td>\n",
              "      <td>5.0</td>\n",
              "      <td>945079521</td>\n",
              "      <td>Wizard of Oz, The (1939)</td>\n",
              "      <td>Adventure|Children|Fantasy|Musical</td>\n",
              "    </tr>\n",
              "    <tr>\n",
              "      <th>3</th>\n",
              "      <td>5</td>\n",
              "      <td>1</td>\n",
              "      <td>4.0</td>\n",
              "      <td>847434962</td>\n",
              "      <td>Toy Story (1995)</td>\n",
              "      <td>Adventure|Animation|Children|Comedy|Fantasy</td>\n",
              "    </tr>\n",
              "    <tr>\n",
              "      <th>4</th>\n",
              "      <td>6</td>\n",
              "      <td>2</td>\n",
              "      <td>4.0</td>\n",
              "      <td>845553522</td>\n",
              "      <td>Jumanji (1995)</td>\n",
              "      <td>Adventure|Children|Fantasy</td>\n",
              "    </tr>\n",
              "    <tr>\n",
              "      <th>...</th>\n",
              "      <td>...</td>\n",
              "      <td>...</td>\n",
              "      <td>...</td>\n",
              "      <td>...</td>\n",
              "      <td>...</td>\n",
              "      <td>...</td>\n",
              "    </tr>\n",
              "    <tr>\n",
              "      <th>489</th>\n",
              "      <td>608</td>\n",
              "      <td>919</td>\n",
              "      <td>2.5</td>\n",
              "      <td>1117408378</td>\n",
              "      <td>Wizard of Oz, The (1939)</td>\n",
              "      <td>Adventure|Children|Fantasy|Musical</td>\n",
              "    </tr>\n",
              "    <tr>\n",
              "      <th>490</th>\n",
              "      <td>609</td>\n",
              "      <td>1</td>\n",
              "      <td>3.0</td>\n",
              "      <td>847221025</td>\n",
              "      <td>Toy Story (1995)</td>\n",
              "      <td>Adventure|Animation|Children|Comedy|Fantasy</td>\n",
              "    </tr>\n",
              "    <tr>\n",
              "      <th>491</th>\n",
              "      <td>610</td>\n",
              "      <td>1</td>\n",
              "      <td>5.0</td>\n",
              "      <td>1479542900</td>\n",
              "      <td>Toy Story (1995)</td>\n",
              "      <td>Adventure|Animation|Children|Comedy|Fantasy</td>\n",
              "    </tr>\n",
              "    <tr>\n",
              "      <th>492</th>\n",
              "      <td>610</td>\n",
              "      <td>919</td>\n",
              "      <td>3.5</td>\n",
              "      <td>1493850305</td>\n",
              "      <td>Wizard of Oz, The (1939)</td>\n",
              "      <td>Adventure|Children|Fantasy|Musical</td>\n",
              "    </tr>\n",
              "    <tr>\n",
              "      <th>493</th>\n",
              "      <td>610</td>\n",
              "      <td>46578</td>\n",
              "      <td>5.0</td>\n",
              "      <td>1479542918</td>\n",
              "      <td>Little Miss Sunshine (2006)</td>\n",
              "      <td>Adventure|Comedy|Drama</td>\n",
              "    </tr>\n",
              "  </tbody>\n",
              "</table>\n",
              "<p>494 rows × 6 columns</p>\n",
              "</div>"
            ],
            "text/plain": [
              "     usuarioId  ...                                      generos\n",
              "0            1  ...  Adventure|Animation|Children|Comedy|Fantasy\n",
              "1            1  ...           Adventure|Children|Fantasy|Musical\n",
              "2            4  ...           Adventure|Children|Fantasy|Musical\n",
              "3            5  ...  Adventure|Animation|Children|Comedy|Fantasy\n",
              "4            6  ...                   Adventure|Children|Fantasy\n",
              "..         ...  ...                                          ...\n",
              "489        608  ...           Adventure|Children|Fantasy|Musical\n",
              "490        609  ...  Adventure|Animation|Children|Comedy|Fantasy\n",
              "491        610  ...  Adventure|Animation|Children|Comedy|Fantasy\n",
              "492        610  ...           Adventure|Children|Fantasy|Musical\n",
              "493        610  ...                       Adventure|Comedy|Drama\n",
              "\n",
              "[494 rows x 6 columns]"
            ]
          },
          "metadata": {
            "tags": []
          },
          "execution_count": 84
        }
      ]
    },
    {
      "cell_type": "code",
      "metadata": {
        "id": "ZBU4Uu4NpgYP",
        "colab_type": "code",
        "outputId": "42ef4197-4907-4ddb-de1d-bf142da14aa1",
        "colab": {
          "base_uri": "https://localhost:8080/",
          "height": 530
        }
      },
      "source": [
        "plt.figure(figsize=(12,8))\n",
        "plt.title('Box-Plot para os 4 filmes escolhidos')\n",
        "sns.boxplot(data = df_com_titulo, x ='titulo', y=\"nota\")"
      ],
      "execution_count": 0,
      "outputs": [
        {
          "output_type": "execute_result",
          "data": {
            "text/plain": [
              "<matplotlib.axes._subplots.AxesSubplot at 0x7f972bfcdbe0>"
            ]
          },
          "metadata": {
            "tags": []
          },
          "execution_count": 85
        },
        {
          "output_type": "display_data",
          "data": {
            "image/png": "[encoded data removed]",
            "text/plain": [
              "<Figure size 864x576 with 1 Axes>"
            ]
          },
          "metadata": {
            "tags": []
          }
        }
      ]
    },
    {
      "cell_type": "markdown",
      "metadata": {
        "id": "Sfk_Szz_aKlR",
        "colab_type": "text"
      },
      "source": [
        "## Desafio 5 do [Allan Spadini](https://twitter.com/allanspadini)\n",
        "\n",
        "Calcular moda, média e mediana dos filmes. Explore filmes com notas mais próximas de 0.5, 3 e 5."
      ]
    },
    {
      "cell_type": "markdown",
      "metadata": {
        "id": "zn69kVOUT70m",
        "colab_type": "text"
      },
      "source": [
        "Media e mediana calcular normal, criar função para seleção dos valores próximos definidos e enois.\n"
      ]
    },
    {
      "cell_type": "code",
      "metadata": {
        "id": "68921KltX-dp",
        "colab_type": "code",
        "colab": {}
      },
      "source": [
        "# Importando a biblioteca numpy e fazendo uma cópia do DataFrame para trabalhar com novas alterações \n",
        "import numpy as np\n",
        "df_moda = filmes_com_media.copy()"
      ],
      "execution_count": 0,
      "outputs": []
    },
    {
      "cell_type": "code",
      "metadata": {
        "id": "Xm-cikvoYbU9",
        "colab_type": "code",
        "colab": {}
      },
      "source": [
        "# Retirando os valores faltantes para que seja excluido os Ids desses filmes e salvando os demais Ids em uma lista.\n",
        "df_original = df_moda.dropna()\n",
        "df_ids = list(df_original['filmesId'])"
      ],
      "execution_count": 0,
      "outputs": []
    },
    {
      "cell_type": "code",
      "metadata": {
        "id": "ztIb9GLsJDuU",
        "colab_type": "code",
        "outputId": "4b2bf602-dc46-409a-895f-1c65e7bb9f2e",
        "colab": {
          "base_uri": "https://localhost:8080/",
          "height": 238
        }
      },
      "source": [
        "# Selecionando a coluna nota e fazendo a frequência delas por Ids.\n",
        "mmm = avaliacoes.groupby('filmesId')['nota'].value_counts()\n",
        "mmm"
      ],
      "execution_count": 0,
      "outputs": [
        {
          "output_type": "execute_result",
          "data": {
            "text/plain": [
              "filmesId  nota\n",
              "1         4.0     82\n",
              "          5.0     47\n",
              "          3.0     34\n",
              "          3.5     18\n",
              "          4.5     18\n",
              "                  ..\n",
              "193581    4.0      1\n",
              "193583    3.5      1\n",
              "193585    3.5      1\n",
              "193587    3.5      1\n",
              "193609    4.0      1\n",
              "Name: nota, Length: 30417, dtype: int64"
            ]
          },
          "metadata": {
            "tags": []
          },
          "execution_count": 88
        }
      ]
    },
    {
      "cell_type": "code",
      "metadata": {
        "id": "lxstEqLeQXUI",
        "colab_type": "code",
        "outputId": "3552cc96-7423-49b4-a449-b01ec2f6a616",
        "colab": {
          "base_uri": "https://localhost:8080/",
          "height": 235
        }
      },
      "source": [
        "# Transformando os dados acimas em uma DataFrame, renomeando uma coluna nota para frequência e apresentando as 5 primeiras linhas.\n",
        "df = pd.DataFrame(mmm)\n",
        "df.rename(columns={'nota':'frequencia'}, inplace=True)\n",
        "df.head()"
      ],
      "execution_count": 0,
      "outputs": [
        {
          "output_type": "execute_result",
          "data": {
            "text/html": [
              "<div>\n",
              "<style scoped>\n",
              "    .dataframe tbody tr th:only-of-type {\n",
              "        vertical-align: middle;\n",
              "    }\n",
              "\n",
              "    .dataframe tbody tr th {\n",
              "        vertical-align: top;\n",
              "    }\n",
              "\n",
              "    .dataframe thead th {\n",
              "        text-align: right;\n",
              "    }\n",
              "</style>\n",
              "<table border=\"1\" class=\"dataframe\">\n",
              "  <thead>\n",
              "    <tr style=\"text-align: right;\">\n",
              "      <th></th>\n",
              "      <th></th>\n",
              "      <th>frequencia</th>\n",
              "    </tr>\n",
              "    <tr>\n",
              "      <th>filmesId</th>\n",
              "      <th>nota</th>\n",
              "      <th></th>\n",
              "    </tr>\n",
              "  </thead>\n",
              "  <tbody>\n",
              "    <tr>\n",
              "      <th rowspan=\"5\" valign=\"top\">1</th>\n",
              "      <th>4.0</th>\n",
              "      <td>82</td>\n",
              "    </tr>\n",
              "    <tr>\n",
              "      <th>5.0</th>\n",
              "      <td>47</td>\n",
              "    </tr>\n",
              "    <tr>\n",
              "      <th>3.0</th>\n",
              "      <td>34</td>\n",
              "    </tr>\n",
              "    <tr>\n",
              "      <th>3.5</th>\n",
              "      <td>18</td>\n",
              "    </tr>\n",
              "    <tr>\n",
              "      <th>4.5</th>\n",
              "      <td>18</td>\n",
              "    </tr>\n",
              "  </tbody>\n",
              "</table>\n",
              "</div>"
            ],
            "text/plain": [
              "               frequencia\n",
              "filmesId nota            \n",
              "1        4.0           82\n",
              "         5.0           47\n",
              "         3.0           34\n",
              "         3.5           18\n",
              "         4.5           18"
            ]
          },
          "metadata": {
            "tags": []
          },
          "execution_count": 89
        }
      ]
    },
    {
      "cell_type": "code",
      "metadata": {
        "id": "3v2EDlBdQYBS",
        "colab_type": "code",
        "colab": {}
      },
      "source": [
        "# Verificando como pode ser extraido o valor da nota com maior frequência em cada filme.\n",
        "moda = df.loc[25827]['frequencia']\n",
        "modal = pd.DataFrame(moda)\n",
        "lista = list(modal.index)[0]"
      ],
      "execution_count": 0,
      "outputs": []
    },
    {
      "cell_type": "code",
      "metadata": {
        "id": "d4XGOt89RiK0",
        "colab_type": "code",
        "colab": {}
      },
      "source": [
        "# Criando uma lista com o Id do filme e a nota com maior frequência(moda) determinada na ordem do algoritmo computacional.\n",
        "lista_moda = []\n",
        "for i in df_ids:\n",
        "  moda = df.loc[i]['frequencia']\n",
        "  v_modal = pd.DataFrame(moda)\n",
        "  valor_modal = list(v_modal.index)[0]\n",
        "  lista_moda.append([i,valor_modal])"
      ],
      "execution_count": 0,
      "outputs": []
    },
    {
      "cell_type": "code",
      "metadata": {
        "id": "1svs6EDwc4fM",
        "colab_type": "code",
        "outputId": "c4c6d4b9-2aca-488d-8a51-f25c3ad91e87",
        "colab": {
          "base_uri": "https://localhost:8080/",
          "height": 54
        }
      },
      "source": [
        "# Imprimindo a lista \n",
        "print(lista_moda, end='')"
      ],
      "execution_count": 0,
      "outputs": [
        {
          "output_type": "stream",
          "text": [
            "[[1, 4.0], [2, 4.0], [3, 3.0], [4, 3.0], [5, 3.0], [6, 4.0], [7, 3.0], [8, 3.0], [9, 3.0], [10, 3.0], [11, 4.0], [12, 1.0], [13, 3.0], [14, 4.0], [15, 4.0], [16, 4.0], [17, 4.0], [18, 4.0], [19, 2.0], [20, 2.0], [21, 4.0], [22, 3.0], [23, 3.0], [24, 3.0], [25, 4.0], [26, 4.0], [27, 3.0], [28, 4.5], [29, 4.0], [30, 4.0], [31, 3.0], [32, 4.0], [34, 4.0], [36, 4.0], [38, 1.0], [39, 3.0], [40, 3.5], [41, 4.0], [42, 3.0], [43, 3.0], [44, 2.0], [45, 3.0], [46, 3.0], [47, 4.0], [48, 3.0], [49, 3.0], [50, 5.0], [52, 3.0], [53, 5.0], [54, 1.0], [55, 4.0], [57, 3.0], [58, 5.0], [60, 3.0], [61, 4.0], [62, 3.0], [63, 3.0], [64, 2.0], [65, 3.0], [66, 3.0], [68, 3.0], [69, 4.0], [70, 4.0], [71, 2.0], [72, 4.0], [73, 4.0], [74, 4.0], [75, 3.0], [76, 4.0], [77, 4.0], [78, 3.0], [79, 2.0], [80, 4.0], [81, 3.0], [82, 5.0], [83, 3.0], [85, 5.0], [86, 4.0], [87, 3.0], [88, 2.0], [89, 4.0], [92, 2.0], [93, 3.0], [94, 4.0], [95, 3.0], [96, 3.5], [97, 3.0], [99, 5.0], [100, 3.0], [101, 4.0], [102, 1.0], [103, 3.0], [104, 3.0], [105, 3.0], [106, 4.0], [107, 3.0], [108, 4.0], [110, 5.0], [111, 5.0], [112, 3.0], [113, 3.0], [116, 3.0], [117, 3.0], [118, 2.0], [119, 3.0], [121, 4.0], [122, 3.0], [123, 5.0], [125, 4.0], [126, 2.0], [128, 3.0], [129, 2.0], [132, 3.0], [135, 3.0], [137, 3.0], [140, 3.0], [141, 4.0], [144, 4.0], [145, 3.0], [146, 3.0], [147, 4.0], [148, 5.0], [149, 2.0], [150, 4.0], [151, 3.0], [152, 1.0], [153, 3.0], [154, 4.0], [155, 1.0], [156, 4.0], [157, 2.0], [158, 3.0], [159, 3.0], [160, 3.0], [161, 4.0], [162, 4.0], [163, 3.0], [164, 3.0], [165, 3.0], [166, 1.5], [168, 3.0], [169, 3.0], [170, 3.0], [171, 3.0], [172, 2.0], [173, 3.0], [174, 1.0], [175, 4.0], [176, 4.0], [177, 3.0], [178, 1.0], [179, 1.0], [180, 4.0], [181, 1.0], [183, 3.0], [184, 3.0], [185, 3.0], [186, 3.0], [187, 3.0], [188, 4.0], [189, 3.0], [190, 3.0], [191, 2.0], [193, 2.0], [194, 5.0], [195, 4.0], [196, 3.0], [198, 3.0], [199, 3.0], [201, 3.0], [202, 3.0], [203, 3.0], [204, 3.0], [205, 3.0], [206, 2.0], [207, 3.0], [208, 3.0], [209, 2.5], [210, 3.0], [211, 3.0], [212, 1.5], [213, 5.0], [214, 4.0], [215, 4.0], [216, 3.0], [217, 1.0], [218, 4.0], [219, 3.0], [220, 3.0], [222, 4.0], [223, 4.0], [224, 4.0], [225, 3.0], [227, 3.0], [228, 3.0], [229, 3.0], [230, 3.0], [231, 3.0], [232, 5.0], [233, 3.0], [234, 2.0], [235, 4.0], [236, 3.0], [237, 3.0], [238, 3.0], [239, 3.0], [240, 3.0], [241, 4.0], [242, 4.0], [243, 3.0], [246, 5.0], [247, 4.0], [248, 3.0], [249, 4.0], [250, 3.0], [251, 2.5], [252, 4.0], [253, 3.0], [254, 3.0], [255, 1.0], [256, 3.0], [257, 3.0], [258, 3.0], [259, 3.0], [260, 5.0], [261, 4.0], [262, 4.0], [263, 4.0], [265, 5.0], [266, 4.0], [267, 3.0], [269, 3.0], [270, 3.0], [271, 2.0], [272, 5.0], [273, 3.0], [274, 4.0], [275, 2.0], [276, 3.0], [277, 3.0], [278, 1.0], [279, 3.0], [280, 5.0], [281, 3.0], [282, 3.0], [283, 2.0], [284, 4.5], [285, 4.0], [287, 3.0], [288, 3.0], [289, 3.0], [290, 5.0], [291, 2.0], [292, 3.0], [293, 4.0], [294, 3.0], [295, 3.0], [296, 5.0], [298, 2.0], [299, 3.0], [300, 3.0], [301, 4.0], [302, 3.0], [303, 3.0], [304, 2.0], [305, 3.0], [306, 5.0], [307, 4.5], [308, 4.0], [310, 3.0], [311, 3.0], [312, 1.0], [313, 3.0], [314, 4.0], [315, 3.0], [316, 3.0], [317, 3.0], [318, 5.0], [319, 4.0], [320, 3.0], [321, 4.0], [322, 4.0], [324, 4.0], [325, 2.0], [326, 3.0], [327, 4.0], [328, 2.0], [329, 3.0], [330, 3.0], [331, 3.0], [332, 3.0], [333, 5.0], [334, 4.0], [335, 3.0], [336, 3.0], [337, 4.0], [338, 2.0], [339, 3.0], [340, 3.0], [341, 4.0], [342, 4.0], [343, 3.0], [344, 3.0], [345, 4.0], [346, 3.0], [347, 3.0], [348, 4.0], [349, 4.0], [350, 3.0], [351, 3.0], [352, 2.0], [353, 3.0], [354, 4.0], [355, 3.0], [356, 5.0], [357, 4.0], [358, 3.0], [359, 3.0], [360, 3.0], [361, 3.0], [362, 4.0], [363, 4.0], [364, 4.0], [365, 4.0], [366, 3.0], [367, 3.0], [368, 4.0], [369, 4.0], [370, 3.0], [371, 3.0], [372, 3.0], [373, 3.0], [374, 3.0], [376, 3.0], [377, 4.0], [378, 3.0], [379, 2.0], [380, 3.0], [381, 4.0], [382, 3.0], [383, 3.0], [384, 3.0], [385, 4.0], [386, 3.0], [387, 1.0], [388, 2.0], [389, 4.0], [390, 2.0], [391, 4.5], [393, 2.0], [405, 3.0], [406, 3.0], [407, 3.0], [408, 2.0], [409, 2.0], [410, 3.0], [412, 3.0], [413, 3.0], [414, 2.0], [415, 3.0], [416, 2.0], [417, 4.0], [418, 3.0], [419, 3.0], [420, 3.0], [421, 3.0], [422, 3.0], [423, 3.0], [424, 1.0], [425, 3.5], [426, 3.0], [427, 3.0], [428, 3.0], [429, 2.0], [430, 2.5], [431, 4.0], [432, 3.0], [433, 3.0], [434, 3.0], [435, 3.0], [436, 2.0], [437, 2.0], [438, 2.0], [440, 4.0], [441, 5.0], [442, 3.0], [444, 2.0], [445, 3.0], [446, 5.0], [448, 4.0], [449, 1.0], [450, 3.0], [451, 4.0], [452, 2.0], [453, 2.0], [454, 3.0], [455, 3.0], [456, 2.0], [457, 4.0], [458, 3.0], [459, 2.0], [460, 3.0], [461, 3.0], [464, 3.0], [466, 3.0], [467, 5.0], [468, 3.0], [469, 4.0], [470, 1.0], [471, 3.0], [472, 3.0], [473, 1.5], [474, 4.0], [475, 4.0], [476, 1.0], [477, 3.0], [478, 2.5], [479, 2.0], [480, 4.0], [481, 3.0], [482, 4.0], [484, 1.0], [485, 3.0], [486, 2.0], [487, 2.0], [488, 3.0], [489, 3.0], [490, 3.0], [491, 3.0], [492, 4.0], [493, 4.0], [494, 3.0], [495, 5.0], [496, 5.0], [497, 4.0], [499, 2.0], [500, 3.0], [501, 2.0], [502, 2.0], [504, 3.0], [505, 2.0], [506, 4.0], [507, 3.0], [508, 4.0], [509, 4.0], [510, 3.0], [511, 2.0], [512, 3.0], [513, 3.0], [514, 3.0], [515, 4.0], [516, 3.0], [517, 4.0], [518, 2.0], [519, 2.0], [520, 3.0], [521, 3.0], [522, 3.5], [523, 3.0], [524, 3.0], [526, 4.0], [527, 5.0], [528, 2.0], [529, 4.0], [531, 3.0], [532, 3.0], [533, 3.0], [534, 4.0], [535, 3.0], [536, 3.0], [537, 3.0], [538, 3.0], [539, 3.0], [540, 3.0], [541, 5.0], [542, 2.0], [543, 4.0], [544, 3.0], [546, 2.0], [547, 2.5], [548, 3.0], [549, 4.0], [550, 3.0], [551, 4.0], [552, 3.0], [553, 4.0], [555, 4.0], [556, 4.0], [558, 3.0], [562, 4.0], [563, 4.0], [564, 1.0], [567, 1.0], [568, 3.0], [569, 3.0], [573, 3.5], [574, 3.0], [575, 2.0], [577, 3.0], [579, 3.0], [580, 3.0], [581, 4.0], [583, 4.0], [585, 3.0], [586, 3.0], [587, 3.0], [588, 4.0], [589, 4.0], [590, 4.0], [592, 3.0], [593, 4.0], [594, 3.0], [595, 3.0], [596, 4.0], [597, 3.0], [599, 4.0], [600, 4.0], [602, 4.0], [605, 3.0], [606, 3.0], [608, 5.0], [609, 4.0], [610, 4.0], [611, 2.0], [612, 2.0], [613, 3.0], [615, 3.0], [616, 3.0], [617, 2.0], [618, 3.0], [619, 0.5], [626, 5.0], [627, 2.0], [628, 3.0], [631, 3.0], [632, 4.0], [633, 5.0], [634, 3.0], [635, 3.0], [636, 3.0], [637, 3.0], [638, 3.0], [639, 3.0], [640, 3.0], [645, 3.0], [647, 3.0], [648, 3.0], [649, 3.0], [650, 3.0], [653, 3.0], [656, 3.0], [661, 3.0], [662, 3.0], [663, 3.0], [665, 4.5], [667, 3.0], [668, 3.5], [670, 4.5], [671, 4.0], [673, 3.0], [674, 4.0], [678, 4.0], [679, 4.0], [680, 3.0], [685, 3.0], [688, 2.0], [691, 3.0], [692, 1.0], [694, 3.0], [695, 4.0], [697, 3.0], [698, 1.0], [700, 3.0], [703, 2.0], [704, 3.0], [706, 3.0], [707, 3.0], [708, 3.0], [709, 3.0], [710, 3.0], [711, 2.0], [714, 4.5], [715, 4.0], [718, 4.0], [719, 3.0], [720, 5.0], [722, 4.0], [724, 3.0], [725, 3.0], [726, 3.0], [728, 3.0], [731, 3.0], [733, 4.0], [735, 4.0], [736, 3.0], [737, 2.0], [741, 4.0], [742, 3.0], [743, 3.0], [745, 4.0], [747, 3.0], [748, 3.0], [750, 5.0], [757, 4.0], [759, 3.0], [760, 4.0], [761, 3.0], [762, 3.0], [764, 3.0], [765, 3.0], [766, 3.0], [773, 3.5], [775, 3.0], [778, 4.0], [779, 3.0], [780, 3.0], [781, 4.0], [782, 2.0], [783, 4.0], [784, 3.0], [785, 3.0], [786, 3.0], [788, 2.0], [790, 2.0], [791, 4.0], [795, 3.0], [798, 2.0], [799, 4.0], [800, 5.0], [801, 3.0], [802, 3.0], [803, 4.0], [804, 3.0], [805, 4.0], [806, 1.5], [808, 3.0], [809, 2.0], [810, 1.0], [813, 2.0], [818, 3.0], [823, 3.5], [824, 4.0], [828, 3.0], [829, 2.0], [830, 4.0], [832, 3.0], [833, 0.5], [835, 4.0], [836, 3.0], [837, 4.0], [838, 3.0], [839, 3.0], [840, 3.0], [841, 3.0], [842, 2.0], [848, 4.0], [849, 3.0], [851, 3.5], [852, 4.0], [858, 5.0], [861, 4.0], [866, 4.0], [867, 0.5], [869, 4.0], [870, 1.0], [875, 3.5], [876, 5.0], [879, 1.0], [880, 2.0], [881, 3.0], [882, 2.0], [885, 2.0], [886, 3.0], [888, 3.0], [889, 4.0], [891, 3.0], [892, 3.0], [893, 3.0], [896, 2.0], [897, 3.5], [898, 5.0], [899, 4.0], [900, 4.0], [901, 4.0], [902, 4.0], [903, 4.0], [904, 5.0], [905, 5.0], [906, 5.0], [907, 3.0], [908, 5.0], [909, 4.0], [910, 4.0], [911, 4.0], [912, 5.0], [913, 4.0], [914, 4.0], [915, 4.0], [916, 4.0], [917, 3.0], [918, 4.0], [919, 5.0], [920, 3.0], [921, 3.0], [922, 4.0], [923, 5.0], [924, 4.0], [926, 4.0], [927, 4.0], [928, 4.0], [929, 3.5], [930, 4.0], [931, 3.0], [932, 4.0], [933, 4.0], [934, 3.0], [935, 2.5], [936, 4.0], [937, 3.0], [938, 3.0], [940, 5.0], [941, 3.5], [942, 4.0], [943, 4.0], [944, 4.0], [945, 3.0], [946, 0.5], [947, 5.0], [948, 4.0], [949, 4.0], [950, 4.0], [951, 5.0], [952, 4.0], [953, 5.0], [954, 5.0], [955, 4.0], [956, 4.0], [959, 3.5], [961, 4.0], [963, 3.0], [965, 4.0], [968, 5.0], [969, 4.0], [970, 3.5], [971, 5.0], [973, 4.0], [976, 3.0], [979, 3.0], [981, 3.0], [982, 3.0], [984, 2.0], [986, 3.0], [987, 3.0], [988, 3.0], [990, 1.0], [991, 4.0], [993, 3.0], [994, 4.0], [996, 2.0], [998, 2.0], [999, 3.0], [1003, 2.0], [1004, 3.0], [1005, 1.0], [1006, 4.0], [1007, 2.0], [1008, 3.0], [1009, 3.0], [1010, 3.0], [1011, 3.0], [1012, 4.0], [1013, 3.0], [1014, 3.0], [1015, 4.0], [1016, 3.0], [1017, 4.0], [1018, 2.0], [1019, 3.0], [1020, 3.0], [1021, 2.0], [1022, 3.0], [1023, 3.0], [1024, 4.0], [1025, 4.0], [1027, 3.0], [1028, 4.0], [1029, 4.0], [1030, 2.0], [1031, 3.0], [1032, 3.0], [1033, 3.0], [1034, 2.5], [1035, 5.0], [1036, 4.0], [1037, 3.0], [1040, 3.0], [1041, 5.0], [1042, 3.0], [1043, 2.0], [1046, 4.0], [1047, 3.0], [1049, 3.0], [1050, 4.0], [1051, 3.0], [1053, 3.0], [1054, 2.0], [1055, 1.0], [1056, 3.0], [1057, 3.0], [1059, 3.0], [1060, 4.0], [1061, 3.0], [1064, 4.0], [1066, 4.0], [1068, 3.5], [1073, 4.0], [1077, 4.0], [1078, 3.0], [1079, 4.0], [1080, 5.0], [1081, 4.0], [1082, 4.0], [1083, 4.0], [1084, 4.0], [1085, 3.0], [1086, 4.0], [1088, 3.0], [1089, 4.0], [1090, 4.0], [1091, 3.0], [1092, 3.0], [1093, 3.0], [1094, 4.0], [1095, 4.0], [1096, 5.0], [1097, 4.0], [1099, 4.0], [1100, 1.0], [1101, 4.0], [1103, 4.0], [1104, 5.0], [1105, 5.0], [1107, 0.5], [1111, 4.0], [1112, 4.0], [1114, 3.0], [1116, 4.0], [1117, 3.5], [1119, 3.0], [1120, 4.0], [1121, 4.0], [1123, 3.5], [1124, 4.0], [1125, 4.0], [1126, 2.0], [1127, 4.0], [1128, 2.0], [1129, 3.0], [1130, 2.0], [1131, 4.0], [1132, 4.0], [1135, 3.0], [1136, 5.0], [1137, 4.0], [1140, 5.0], [1144, 4.0], [1147, 4.0], [1148, 5.0], [1150, 4.0], [1151, 5.0], [1156, 3.5], [1161, 3.5], [1162, 3.0], [1163, 1.0], [1167, 3.0], [1170, 2.0], [1171, 3.0], [1172, 5.0], [1173, 4.0], [1175, 4.0], [1176, 3.0], [1177, 4.0], [1178, 5.0], [1179, 4.0], [1180, 3.0], [1183, 4.0], [1184, 4.0], [1185, 4.0], [1186, 4.0], [1187, 4.0], [1188, 4.0], [1189, 4.0], [1190, 3.0], [1191, 3.0], [1192, 4.0], [1193, 4.0], [1194, 4.0], [1196, 5.0], [1197, 5.0], [1198, 4.0], [1199, 5.0], [1200, 5.0], [1201, 4.0], [1202, 4.0], [1203, 4.0], [1204, 5.0], [1206, 4.0], [1207, 4.0], [1208, 5.0], [1209, 5.0], [1210, 5.0], [1211, 4.0], [1212, 5.0], [1213, 4.0], [1214, 4.0], [1215, 5.0], [1216, 3.0], [1217, 4.0], [1218, 4.0], [1219, 4.0], [1220, 4.0], [1221, 5.0], [1222, 4.0], [1223, 4.0], [1224, 4.0], [1225, 5.0], [1226, 3.0], [1227, 4.0], [1228, 5.0], [1230, 5.0], [1231, 4.0], [1232, 4.0], [1233, 4.0], [1234, 4.0], [1235, 5.0], [1236, 4.0], [1237, 5.0], [1238, 4.0], [1240, 4.0], [1241, 5.0], [1242, 4.0], [1243, 5.0], [1244, 4.0], [1245, 5.0], [1246, 4.0], [1247, 5.0], [1248, 5.0], [1249, 4.0], [1250, 5.0], [1251, 4.5], [1252, 5.0], [1253, 4.0], [1254, 4.0], [1255, 3.0], [1256, 4.0], [1257, 3.0], [1258, 4.0], [1259, 4.0], [1260, 4.0], [1261, 4.0], [1262, 4.0], [1263, 4.0], [1264, 4.0], [1265, 4.0], [1266, 4.0], [1267, 5.0], [1268, 4.0], [1269, 4.0], [1270, 4.0], [1271, 4.0], [1272, 5.0], [1273, 4.0], [1274, 4.0], [1275, 5.0], [1276, 4.0], [1277, 4.0], [1278, 4.0], [1279, 4.0], [1280, 5.0], [1281, 4.0], [1282, 4.0], [1283, 5.0], [1284, 5.0], [1285, 4.0], [1286, 2.0], [1287, 4.0], [1288, 4.0], [1289, 4.0], [1290, 3.0], [1291, 4.0], [1292, 3.0], [1293, 4.0], [1295, 3.0], [1296, 4.0], [1297, 4.0], [1298, 4.0], [1299, 4.0], [1300, 5.0], [1301, 4.0], [1302, 3.0], [1303, 4.0], [1304, 4.0], [1305, 3.0], [1306, 1.0], [1307, 4.0], [1310, 5.0], [1312, 2.0], [1318, 2.0], [1320, 3.0], [1321, 4.0], [1322, 2.0], [1323, 2.0], [1324, 0.5], [1325, 0.5], [1326, 0.5], [1327, 3.0], [1328, 0.5], [1329, 2.0], [1330, 1.0], [1331, 2.0], [1332, 4.0], [1333, 4.0], [1334, 2.0], [1335, 1.0], [1336, 1.0], [1337, 4.5], [1339, 4.0], [1340, 3.0], [1341, 3.0], [1342, 2.0], [1343, 4.0], [1344, 4.0], [1345, 3.0], [1346, 4.0], [1347, 3.0], [1348, 4.0], [1349, 5.0], [1350, 4.0], [1351, 2.0], [1352, 2.0], [1353, 2.0], [1354, 4.0], [1355, 1.0], [1356, 4.0], [1357, 4.0], [1358, 4.0], [1359, 3.0], [1361, 4.0], [1363, 3.0], [1365, 4.0], [1366, 4.0], [1367, 3.0], [1370, 4.0], [1371, 3.0], [1372, 4.0], [1373, 3.0], [1374, 4.0], [1375, 3.0], [1376, 4.0], [1377, 3.0], [1378, 3.0], [1379, 2.0], [1380, 3.0], [1381, 3.0], [1382, 2.0], [1385, 3.0], [1387, 5.0], [1388, 2.0], [1389, 1.0], [1390, 2.0], [1391, 4.0], [1392, 3.0], [1393, 4.0], [1394, 4.0], [1395, 3.0], [1396, 4.0], [1397, 4.0], [1398, 2.5], [1399, 3.0], [1401, 4.0], [1405, 4.0], [1406, 4.0], [1407, 3.0], [1408, 4.0], [1409, 2.5], [1411, 5.0], [1412, 3.5], [1413, 4.0], [1414, 2.0], [1415, 1.0], [1416, 4.0], [1417, 3.0], [1419, 4.0], [1422, 3.0], [1423, 4.0], [1425, 3.0], [1426, 1.0], [1427, 1.0], [1428, 3.0], [1429, 4.0], [1430, 2.5], [1431, 2.0], [1432, 4.0], [1437, 3.5], [1438, 3.0], [1439, 1.0], [1440, 1.0], [1441, 3.0], [1442, 4.0], [1445, 3.0], [1446, 4.0], [1447, 4.0], [1449, 4.0], [1453, 0.5], [1454, 3.0], [1456, 2.0], [1457, 3.0], [1458, 4.0], [1459, 3.0], [1460, 3.0], [1461, 1.0], [1464, 2.0], [1465, 4.0], [1466, 4.0], [1468, 1.0], [1473, 4.0], [1474, 2.0], [1475, 4.0], [1476, 4.0], [1477, 4.0], [1479, 3.0], [1480, 3.0], [1483, 1.0], [1484, 4.0], [1485, 3.0], [1487, 2.0], [1488, 3.0], [1489, 2.0], [1490, 1.0], [1493, 3.5], [1495, 2.0], [1496, 4.0], [1497, 3.0], [1498, 2.0], [1499, 2.0], [1500, 4.0], [1502, 2.0], [1503, 4.0], [1507, 3.5], [1513, 3.0], [1514, 3.0], [1515, 2.0], [1516, 3.0], [1517, 4.0], [1518, 4.0], [1519, 1.0], [1526, 0.5], [1527, 4.0], [1529, 2.5], [1533, 4.0], [1537, 4.0], [1541, 3.0], [1542, 4.0], [1544, 3.0], [1545, 4.0], [1546, 3.5], [1547, 3.0], [1549, 4.0], [1550, 3.0], [1551, 1.5], [1552, 3.0], [1554, 2.0], [1556, 1.0], [1562, 2.0], [1564, 3.0], [1565, 4.0], [1566, 4.0], [1569, 4.0], [1571, 4.0], [1572, 2.5], [1573, 4.0], [1574, 1.0], [1580, 4.0], [1581, 1.5], [1582, 3.0], [1583, 3.0], [1584, 4.0], [1585, 3.0], [1586, 3.0], [1587, 3.0], [1588, 3.0], [1589, 3.0], [1590, 2.0], [1591, 2.0], [1592, 3.0], [1593, 2.0], [1594, 4.0], [1596, 4.0], [1597, 3.0], [1598, 2.0], [1599, 3.0], [1600, 3.0], [1601, 2.0], [1602, 2.0], [1603, 2.0], [1604, 3.0], [1605, 2.0], [1606, 1.0], [1608, 3.0], [1609, 2.0], [1610, 4.0], [1611, 4.0], [1612, 3.0], [1613, 4.0], [1614, 4.0], [1615, 3.0], [1616, 3.0], [1617, 4.0], [1619, 3.0], [1620, 3.0], [1621, 2.0], [1623, 2.0], [1624, 1.0], [1625, 4.0], [1626, 2.0], [1627, 4.0], [1629, 4.0], [1631, 5.0], [1633, 4.0], [1635, 3.0], [1639, 4.0], [1641, 4.0], [1642, 1.5], [1643, 3.0], [1644, 2.0], [1645, 3.0], [1646, 1.0], [1647, 2.0], [1648, 4.0], [1649, 1.0], [1650, 3.5], [1652, 4.5], [1653, 4.0], [1654, 3.5], [1655, 4.0], [1656, 4.0], [1658, 2.5], [1659, 4.0], [1660, 3.0], [1661, 3.0], [1662, 3.0], [1663, 3.0], [1665, 3.0], [1667, 2.0], [1670, 2.0], [1671, 3.0], [1672, 4.0], [1673, 4.0], [1674, 4.0], [1675, 3.5], [1676, 4.0], [1677, 2.0], [1678, 3.0], [1679, 2.0], [1680, 3.0], [1681, 3.0], [1682, 4.0], [1683, 5.0], [1684, 2.0], [1685, 3.0], [1686, 3.0], [1687, 3.0], [1688, 3.0], [1689, 2.0], [1690, 3.0], [1693, 4.0], [1694, 3.0], [1695, 4.0], [1696, 2.0], [1699, 3.0], [1701, 4.0], [1702, 3.0], [1703, 2.0], [1704, 4.0], [1707, 1.0], [1711, 2.0], [1713, 2.5], [1717, 3.0], [1718, 2.0], [1719, 5.0], [1721, 4.0], [1722, 3.0], [1726, 2.0], [1727, 3.5], [1729, 4.0], [1730, 4.0], [1731, 1.0], [1732, 5.0], [1733, 4.0], [1734, 3.0], [1735, 4.0], [1739, 4.0], [1746, 2.0], [1747, 3.0], [1748, 4.0], [1752, 2.0], [1753, 4.0], [1754, 3.0], [1755, 4.0], [1757, 2.0], [1759, 5.0], [1760, 0.5], [1762, 2.0], [1767, 2.0], [1769, 3.0], [1770, 2.0], [1771, 4.0], [1772, 2.0], [1777, 3.0], [1779, 3.0], [1783, 3.0], [1784, 4.0], [1785, 4.0], [1791, 2.0], [1792, 3.0], [1793, 4.0], [1794, 3.0], [1797, 4.0], [1798, 1.0], [1799, 3.0], [1801, 3.0], [1804, 2.0], [1805, 4.0], [1806, 2.0], [1807, 3.0], [1809, 3.5], [1810, 3.0], [1812, 4.0], [1816, 1.0], [1821, 3.0], [1824, 1.0], [1825, 3.5], [1826, 2.0], [1827, 2.5], [1829, 3.0], [1831, 3.0], [1833, 2.0], [1834, 4.0], [1835, 3.0], [1836, 4.0], [1837, 3.0], [1839, 3.0], [1840, 4.0], [1841, 3.0], [1844, 4.0], [1845, 4.0], [1848, 3.0], [1855, 2.0], [1856, 4.0], [1857, 3.5], [1858, 2.0], [1859, 3.5], [1860, 2.0], [1862, 3.0], [1863, 2.0], [1866, 2.0], [1867, 2.0], [1870, 3.0], [1873, 3.0], [1875, 4.0], [1876, 3.0], [1881, 1.0], [1882, 2.0], [1883, 4.0], [1884, 4.0], [1885, 4.0], [1887, 1.5], [1888, 2.0], [1889, 4.0], [1891, 2.0], [1892, 4.0], [1893, 4.5], [1894, 3.0], [1895, 4.0], [1897, 3.0], [1900, 4.0], [1902, 4.0], [1904, 2.0], [1906, 2.0], [1907, 4.0], [1909, 4.0], [1910, 2.0], [1911, 3.0], [1912, 5.0], [1913, 4.0], [1914, 4.0], [1916, 3.0], [1917, 3.0], [1918, 3.0], [1919, 3.0], [1920, 3.0], [1921, 4.0], [1922, 3.0], [1923, 4.0], [1924, 2.0], [1926, 3.0], [1927, 5.0], [1928, 3.5], [1929, 4.0], [1931, 4.0], [1932, 3.5], [1933, 3.0], [1934, 3.0], [1936, 3.0], [1937, 3.0], [1938, 4.0], [1939, 5.0], [1940, 4.0], [1941, 3.0], [1942, 3.5], [1944, 4.0], [1945, 5.0], [1946, 4.0], [1947, 5.0], [1948, 4.0], [1949, 5.0], [1950, 4.0], [1951, 4.0], [1952, 4.0], [1953, 4.0], [1954, 4.0], [1955, 4.0], [1956, 4.0], [1957, 4.0], [1958, 4.0], [1959, 3.0], [1960, 4.0], [1961, 4.0], [1962, 4.0], [1963, 3.0], [1964, 4.0], [1965, 4.0], [1966, 4.0], [1967, 4.0], [1968, 4.0], [1969, 2.0], [1970, 4.0], [1971, 3.0], [1972, 1.0], [1973, 2.0], [1974, 2.0], [1975, 2.0], [1976, 2.0], [1977, 2.0], [1978, 2.0], [1979, 3.0], [1980, 2.0], [1981, 1.0], [1982, 3.0], [1983, 2.0], [1984, 2.0], [1985, 2.0], [1986, 1.0], [1987, 2.0], [1990, 4.0], [1991, 3.0], [1992, 3.0], [1993, 0.5], [1994, 4.0], [1995, 2.0], [1996, 1.0], [1997, 4.0], [1998, 1.5], [1999, 0.5], [2000, 4.0], [2001, 3.0], [2002, 3.0], [2003, 4.0], [2004, 3.0], [2005, 4.0], [2006, 3.5], [2007, 2.0], [2008, 3.0], [2009, 4.0], [2010, 4.0], [2011, 4.0], [2012, 3.0], [2013, 3.0], [2014, 2.0], [2015, 3.0], [2016, 3.0], [2017, 4.0], [2018, 3.0], [2019, 4.0], [2020, 4.0], [2021, 4.0], [2022, 3.5], [2023, 3.0], [2024, 3.0], [2025, 3.5], [2026, 2.0], [2027, 1.0], [2028, 5.0], [2032, 2.0], [2033, 3.0], [2034, 1.0], [2035, 3.0], [2036, 2.0], [2037, 4.0], [2038, 3.0], [2040, 3.0], [2041, 4.0], [2042, 3.0], [2043, 3.0], [2044, 2.0], [2046, 3.0], [2048, 3.0], [2050, 1.5], [2051, 1.0], [2052, 3.0], [2053, 2.0], [2054, 3.0], [2055, 3.0], [2056, 3.0], [2057, 4.0], [2058, 3.0], [2059, 3.0], [2060, 4.0], [2064, 4.0], [2065, 4.0], [2066, 4.0], [2067, 4.0], [2068, 0.5], [2069, 3.5], [2070, 4.0], [2071, 3.0], [2072, 2.0], [2073, 3.0], [2074, 4.0], [2075, 5.0], [2076, 4.0], [2077, 4.0], [2078, 4.0], [2080, 3.0], [2081, 3.0], [2082, 3.0], [2083, 3.0], [2084, 2.0], [2085, 4.0], [2087, 3.0], [2088, 3.0], [2089, 3.0], [2090, 3.0], [2091, 3.0], [2092, 2.0], [2093, 3.0], [2094, 3.0], [2095, 2.0], [2096, 4.0], [2097, 3.0], [2098, 2.0], [2099, 4.0], [2100, 3.0], [2102, 1.0], [2103, 1.5], [2104, 4.0], [2105, 3.0], [2106, 3.0], [2107, 2.5], [2108, 3.0], [2109, 3.0], [2110, 4.0], [2111, 3.0], [2112, 4.0], [2114, 3.0], [2115, 4.0], [2116, 4.0], [2117, 4.0], [2118, 3.0], [2119, 1.0], [2120, 2.0], [2121, 2.0], [2122, 1.0], [2123, 3.0], [2124, 3.0], [2125, 3.0], [2126, 3.0], [2130, 3.0], [2131, 5.0], [2132, 4.0], [2133, 3.0], [2134, 3.0], [2135, 4.0], [2136, 3.0], [2137, 3.0], [2138, 4.0], [2139, 4.0], [2140, 4.0], [2141, 1.5], [2142, 3.0], [2143, 2.0], [2144, 4.0], [2145, 3.0], [2146, 3.0], [2147, 3.0], [2148, 2.0], [2149, 1.0], [2150, 4.0], [2151, 3.0], [2152, 2.0], [2153, 2.0], [2154, 1.5], [2155, 3.0], [2156, 4.0], [2159, 3.5], [2160, 4.0], [2161, 4.0], [2162, 3.0], [2163, 2.5], [2164, 1.0], [2165, 3.0], [2166, 3.0], [2167, 4.0], [2169, 2.0], [2170, 3.0], [2171, 3.0], [2172, 3.0], [2174, 4.0], [2175, 4.5], [2176, 3.5], [2177, 3.0], [2178, 3.0], [2179, 3.0], [2180, 3.5], [2181, 3.5], [2182, 2.0], [2183, 3.5], [2184, 3.0], [2185, 4.0], [2186, 4.0], [2187, 3.5], [2188, 2.0], [2190, 2.0], [2193, 3.0], [2194, 4.0], [2195, 3.0], [2196, 5.0], [2201, 3.0], [2202, 5.0], [2203, 4.0], [2204, 3.0], [2205, 2.5], [2206, 3.0], [2207, 3.0], [2208, 4.0], [2210, 3.0], [2211, 3.0], [2212, 4.0], [2226, 1.0], [2227, 3.0], [2231, 4.0], [2232, 4.0], [2236, 3.0], [2239, 5.0], [2240, 3.0], [2241, 2.0], [2243, 4.0], [2244, 1.0], [2245, 3.0], [2247, 3.0], [2248, 3.0], [2249, 3.0], [2252, 3.0], [2253, 3.0], [2255, 1.0], [2256, 2.0], [2257, 4.0], [2259, 2.0], [2260, 2.0], [2261, 2.0], [2262, 3.0], [2263, 2.0], [2264, 3.0], [2265, 2.5], [2266, 3.0], [2267, 2.0], [2268, 4.0], [2269, 3.0], [2271, 3.0], [2272, 2.5], [2273, 4.0], [2275, 4.0], [2278, 3.0], [2279, 2.0], [2280, 3.0], [2281, 2.5], [2282, 3.0], [2283, 3.0], [2286, 2.0], [2287, 3.5], [2288, 4.0], [2289, 4.0], [2290, 1.0], [2291, 4.0], [2292, 2.5], [2294, 3.0], [2295, 4.0], [2296, 1.0], [2297, 4.0], [2298, 4.0], [2300, 4.0], [2301, 3.0], [2302, 3.0], [2303, 3.0], [2304, 4.0], [2306, 3.0], [2307, 3.0], [2310, 4.0], [2311, 4.0], [2312, 4.0], [2313, 4.0], [2314, 4.0], [2315, 3.0], [2316, 2.0], [2318, 5.0], [2320, 2.5], [2321, 4.0], [2322, 4.0], [2323, 3.5], [2324, 5.0], [2325, 4.0], [2327, 2.0], [2328, 2.0], [2329, 4.0], [2330, 4.0], [2331, 2.0], [2332, 1.0], [2333, 4.0], [2334, 2.0], [2335, 4.0], [2336, 4.0], [2337, 3.0], [2338, 1.0], [2339, 1.5], [2340, 3.5], [2342, 3.0], [2344, 3.0], [2346, 3.0], [2347, 3.0], [2348, 4.0], [2349, 4.0], [2350, 3.0], [2351, 4.0], [2352, 4.0], [2353, 3.0], [2354, 2.0], [2355, 4.0], [2356, 3.0], [2357, 4.0], [2358, 4.0], [2359, 4.0], [2360, 4.5], [2361, 3.0], [2362, 4.0], [2363, 1.0], [2364, 1.0], [2365, 2.0], [2366, 3.0], [2367, 3.0], [2368, 2.0], [2369, 3.0], [2370, 3.0], [2371, 3.0], [2372, 2.0], [2373, 2.0], [2374, 4.0], [2375, 3.0], [2376, 3.0], [2377, 1.0], [2378, 3.0], [2379, 1.0], [2380, 3.0], [2381, 1.0], [2382, 1.0], [2383, 0.5], [2384, 3.0], [2385, 2.0], [2387, 4.0], [2388, 4.0], [2389, 2.0], [2390, 3.0], [2391, 4.0], [2392, 2.0], [2393, 3.0], [2394, 3.0], [2395, 5.0], [2396, 4.0], [2398, 4.5], [2399, 2.0], [2400, 3.0], [2401, 3.0], [2402, 2.0], [2403, 3.0], [2404, 2.0], [2405, 3.0], [2406, 4.0], [2407, 4.0], [2408, 3.0], [2409, 3.0], [2410, 2.0], [2411, 3.0], [2412, 2.0], [2413, 3.0], [2414, 3.0], [2415, 3.0], [2416, 3.0], [2417, 1.0], [2418, 2.0], [2419, 3.5], [2420, 4.0], [2421, 2.0], [2422, 2.0], [2423, 4.0], [2424, 4.0], [2425, 4.0], [2427, 4.0], [2428, 3.0], [2429, 3.0], [2430, 3.0], [2431, 4.0], [2432, 2.0], [2433, 3.0], [2435, 4.0], [2436, 5.0], [2439, 2.5], [2442, 4.0], [2443, 4.0], [2445, 2.0], [2446, 2.0], [2447, 4.0], [2448, 1.5], [2450, 2.0], [2451, 3.0], [2453, 1.5], [2454, 3.0], [2455, 3.0], [2456, 2.0], [2457, 3.0], [2458, 2.0], [2459, 3.5], [2460, 1.0], [2462, 3.0], [2463, 4.0], [2465, 1.0], [2467, 4.0], [2468, 2.0], [2469, 3.0], [2470, 3.0], [2471, 3.0], [2472, 2.0], [2473, 3.0], [2474, 4.0], [2475, 2.0], [2476, 3.0], [2477, 2.0], [2478, 3.0], [2481, 4.0], [2482, 3.0], [2483, 3.5], [2485, 3.0], [2488, 0.5], [2490, 3.0], [2491, 4.5], [2492, 4.0], [2493, 4.0], [2494, 4.0], [2495, 2.5], [2496, 3.0], [2497, 3.0], [2498, 2.0], [2500, 1.0], [2501, 4.0], [2502, 4.0], [2503, 4.0], [2504, 3.0], [2505, 3.0], [2506, 2.0], [2511, 5.0], [2512, 5.0], [2513, 2.0], [2514, 2.5], [2515, 1.5], [2516, 1.0], [2517, 3.0], [2518, 2.0], [2520, 1.0], [2521, 3.0], [2522, 3.0], [2523, 2.0], [2524, 4.0], [2525, 1.0], [2526, 0.5], [2527, 3.0], [2528, 4.0], [2529, 4.0], [2530, 2.0], [2531, 2.0], [2532, 2.0], [2533, 2.0], [2534, 0.5], [2535, 3.0], [2537, 1.0], [2538, 1.0], [2539, 3.0], [2540, 2.0], [2541, 4.0], [2542, 4.0], [2544, 3.0], [2546, 2.5], [2548, 2.0], [2549, 3.0], [2550, 4.0], [2551, 4.0], [2552, 1.0], [2553, 2.0], [2554, 2.0], [2555, 2.0], [2557, 4.5], [2558, 2.0], [2559, 3.0], [2560, 3.0], [2561, 3.0], [2563, 3.0], [2565, 4.0], [2566, 1.0], [2567, 2.0], [2568, 2.0], [2570, 3.0], [2571, 5.0], [2572, 4.0], [2573, 1.0], [2574, 1.0], [2575, 3.0], [2577, 3.0], [2579, 4.0], [2580, 4.0], [2581, 3.0], [2582, 1.5], [2583, 4.0], [2585, 4.0], [2586, 0.5], [2587, 4.0], [2589, 3.5], [2590, 2.5], [2593, 3.0], [2594, 4.0], [2596, 4.0], [2597, 2.5], [2598, 4.0], [2599, 4.0], [2600, 4.0], [2605, 2.0], [2606, 2.0], [2607, 3.5], [2609, 4.0], [2611, 3.0], [2612, 4.0], [2613, 2.0], [2614, 1.0], [2615, 2.0], [2616, 3.0], [2617, 3.0], [2618, 3.0], [2620, 3.0], [2622, 3.0], [2623, 1.0], [2624, 3.5], [2625, 1.5], [2628, 4.0], [2629, 2.0], [2630, 3.0], [2632, 4.0], [2633, 4.0], [2634, 3.0], [2639, 3.0], [2640, 4.0], [2641, 3.0], [2642, 3.0], [2643, 2.0], [2644, 3.5], [2648, 3.5], [2651, 1.0], [2652, 3.0], [2654, 2.0], [2655, 2.0], [2656, 3.0], [2657, 3.0], [2659, 2.0], [2660, 3.5], [2661, 3.0], [2662, 3.0], [2664, 4.0], [2665, 1.0], [2668, 2.0], [2669, 3.0], [2670, 3.0], [2671, 4.0], [2672, 3.0], [2674, 1.5], [2676, 4.0], [2677, 4.0], [2681, 2.5], [2682, 4.0], [2683, 3.0], [2686, 4.0], [2687, 3.0], [2688, 3.0], [2690, 4.0], [2691, 2.5], [2692, 4.0], [2693, 4.0], [2694, 4.0], [2695, 2.0], [2696, 4.0], [2697, 3.5], [2698, 2.0], [2699, 3.0], [2700, 4.0], [2701, 3.0], [2702, 4.0], [2706, 4.0], [2707, 4.0], [2708, 4.0], [2709, 4.0], [2710, 1.0], [2712, 3.0], [2713, 3.0], [2716, 4.0], [2717, 3.0], [2718, 3.0], [2719, 3.0], [2720, 2.0], [2722, 3.0], [2723, 2.0], [2724, 3.0], [2725, 2.0], [2726, 4.0], [2727, 3.0], [2728, 4.0], [2729, 3.0], [2730, 4.0], [2731, 4.0], [2732, 4.0], [2733, 2.0], [2734, 3.0], [2735, 3.0], [2736, 4.0], [2737, 4.0], [2738, 4.0], [2739, 4.0], [2740, 1.0], [2741, 2.0], [2742, 1.0], [2743, 3.0], [2744, 4.0], [2745, 3.0], [2746, 3.0], [2747, 3.0], [2748, 2.0], [2749, 4.0], [2750, 3.0], [2751, 4.0], [2752, 3.0], [2754, 1.0], [2757, 3.5], [2759, 2.5], [2761, 4.0], [2762, 4.0], [2763, 4.0], [2764, 4.0], [2765, 3.5], [2766, 3.0], [2769, 2.0], [2770, 3.0], [2771, 1.0], [2772, 1.0], [2774, 3.0], [2775, 1.0], [2779, 3.0], [2782, 2.0], [2784, 3.0], [2786, 2.0], [2787, 2.0], [2788, 4.0], [2789, 1.0], [2790, 1.0], [2791, 4.0], [2792, 2.0], [2793, 2.0], [2794, 3.0], [2795, 4.0], [2796, 2.0], [2797, 4.0], [2798, 1.0], [2799, 1.0], [2800, 2.5], [2801, 4.5], [2802, 3.0], [2803, 3.0], [2804, 5.0], [2805, 4.0], [2806, 2.0], [2807, 0.5], [2808, 2.5], [2810, 5.0], [2812, 3.0], [2813, 1.0], [2815, 2.0], [2816, 1.0], [2817, 1.0], [2818, 1.0], [2819, 4.0], [2820, 4.0], [2822, 2.0], [2824, 5.0], [2826, 3.0], [2827, 3.0], [2828, 1.0], [2829, 4.0], [2835, 1.0], [2836, 2.0], [2837, 3.0], [2839, 4.0], [2840, 2.0], [2841, 4.0], [2843, 4.0], [2844, 1.0], [2846, 3.0], [2847, 3.0], [2848, 4.0], [2851, 3.0], [2852, 4.0], [2856, 3.0], [2857, 3.0], [2858, 4.0], [2859, 3.0], [2860, 2.0], [2861, 4.0], [2862, 1.0], [2863, 4.0], [2865, 4.0], [2866, 3.5], [2867, 4.0], [2868, 1.0], [2870, 3.0], [2871, 4.0], [2872, 3.0], [2874, 4.0], [2875, 3.0], [2876, 2.0], [2877, 4.0], [2878, 2.0], [2879, 4.0], [2880, 4.0], [2881, 3.0], [2882, 2.5], [2883, 3.0], [2884, 2.0], [2885, 2.0], [2886, 1.0], [2887, 1.0], [2888, 1.5], [2889, 4.0], [2890, 4.0], [2891, 3.0], [2892, 1.0], [2893, 3.0], [2894, 4.0], [2896, 3.0], [2897, 4.0], [2898, 2.0], [2899, 1.0], [2900, 2.0], [2901, 2.0], [2902, 2.0], [2903, 2.0], [2905, 4.5], [2906, 1.0], [2907, 3.0], [2908, 4.0], [2912, 4.0], [2915, 4.0], [2916, 4.0], [2917, 4.0], [2918, 4.0], [2919, 3.0], [2921, 4.0], [2922, 4.0], [2924, 5.0], [2925, 3.5], [2926, 3.0], [2927, 3.0], [2928, 3.0], [2929, 3.0], [2930, 3.5], [2931, 4.0], [2932, 4.0], [2935, 4.0], [2936, 3.5], [2937, 4.5], [2940, 4.0], [2941, 4.0], [2942, 3.0], [2943, 3.5], [2944, 4.0], [2946, 3.0], [2947, 4.0], [2948, 3.0], [2949, 4.0], [2950, 2.0], [2951, 4.0], [2952, 4.0], [2953, 3.0], [2956, 3.0], [2959, 5.0], [2961, 3.0], [2962, 3.0], [2964, 1.0], [2965, 2.0], [2966, 4.0], [2967, 4.0], [2968, 4.0], [2969, 5.0], [2970, 3.0], [2971, 4.0], [2972, 5.0], [2973, 4.0], [2974, 2.5], [2975, 3.0], [2976, 4.0], [2977, 2.0], [2978, 3.0], [2979, 3.0], [2982, 2.0], [2983, 4.0], [2984, 4.5], [2985, 4.0], [2986, 3.0], [2987, 4.0], [2988, 4.0], [2989, 4.0], [2990, 3.0], [2991, 3.0], [2992, 3.5], [2993, 3.0], [2995, 3.0], [2996, 2.0], [2997, 4.0], [3000, 4.0], [3002, 4.0], [3003, 4.5], [3004, 1.0], [3005, 4.0], [3006, 4.0], [3007, 3.5], [3008, 4.0], [3010, 4.0], [3011, 4.0], [3013, 4.0], [3014, 2.0], [3015, 4.0], [3016, 3.0], [3017, 3.0], [3018, 4.0], [3019, 4.0], [3020, 4.0], [3021, 2.0], [3022, 5.0], [3024, 3.0], [3028, 2.0], [3029, 3.0], [3030, 5.0], [3031, 1.0], [3032, 3.0], [3033, 4.0], [3034, 3.0], [3035, 4.0], [3036, 4.0], [3037, 5.0], [3038, 4.0], [3039, 4.0], [3040, 2.0], [3041, 1.0], [3042, 2.0], [3043, 1.0], [3044, 3.0], [3045, 3.0], [3046, 4.0], [3048, 1.0], [3051, 3.0], [3052, 4.0], [3053, 3.0], [3054, 2.0], [3055, 3.0], [3056, 4.0], [3057, 4.0], [3060, 4.0], [3061, 4.0], [3062, 4.0], [3063, 2.0], [3064, 2.0], [3066, 4.0], [3067, 4.0], [3068, 5.0], [3070, 3.0], [3071, 4.0], [3072, 4.0], [3073, 5.0], [3074, 5.0], [3075, 3.0], [3076, 3.0], [3077, 4.0], [3078, 4.0], [3079, 3.0], [3081, 4.0], [3082, 3.0], [3083, 5.0], [3086, 5.0], [3087, 3.0], [3088, 4.0], [3089, 4.5], [3090, 3.5], [3091, 4.5], [3093, 3.5], [3094, 4.0], [3095, 4.0], [3096, 5.0], [3097, 2.0], [3098, 4.0], [3099, 2.0], [3100, 5.0], [3101, 4.0], [3102, 3.0], [3103, 2.0], [3104, 4.0], [3105, 4.0], [3106, 1.0], [3107, 4.0], [3108, 3.0], [3109, 3.0], [3111, 4.0], [3112, 3.0], [3113, 4.0], [3114, 4.0], [3115, 4.0], [3117, 4.0], [3120, 3.0], [3125, 4.0], [3127, 2.0], [3129, 4.0], [3130, 2.0], [3132, 2.0], [3134, 3.0], [3135, 4.0], [3138, 3.0], [3141, 1.0], [3142, 4.0], [3143, 3.0], [3145, 2.5], [3146, 1.0], [3147, 4.0], [3148, 4.0], [3150, 2.5], [3152, 4.0], [3153, 5.0], [3155, 3.5], [3156, 3.0], [3157, 3.0], [3158, 4.0], [3159, 4.0], [3160, 4.0], [3161, 2.0], [3162, 3.0], [3163, 3.0], [3165, 2.0], [3167, 3.0], [3168, 4.0], [3169, 3.0], [3171, 4.0], [3173, 3.0], [3174, 3.0], [3175, 4.0], [3176, 4.0], [3177, 4.0], [3178, 3.0], [3179, 3.0], [3181, 4.0], [3182, 4.0], [3183, 3.0], [3185, 3.0], [3186, 4.0], [3189, 3.5], [3190, 1.0], [3192, 3.0], [3194, 4.0], [3196, 4.0], [3197, 3.0], [3198, 4.0], [3200, 4.0], [3201, 5.0], [3203, 3.0], [3204, 3.0], [3206, 2.0], [3208, 1.0], [3210, 4.0], [3211, 3.5], [3213, 5.0], [3214, 2.0], [3217, 3.0], [3219, 3.0], [3221, 3.0], [3223, 1.0], [3224, 5.0], [3225, 1.0], [3230, 3.0], [3235, 2.5], [3238, 1.0], [3240, 2.5], [3241, 4.0], [3243, 3.0], [3244, 4.0], [3246, 4.0], [3247, 3.0], [3248, 2.0], [3249, 3.0], [3250, 3.0], [3251, 4.0], [3252, 4.0], [3253, 4.0], [3254, 3.0], [3255, 4.0], [3256, 4.0], [3257, 2.0], [3258, 3.0], [3259, 2.5], [3260, 4.0], [3261, 2.0], [3262, 3.0], [3263, 4.0], [3264, 3.0], [3265, 5.0], [3266, 5.0], [3267, 4.0], [3268, 1.0], [3269, 3.0], [3270, 4.0], [3271, 4.0], [3272, 4.0], [3273, 3.0], [3274, 3.0], [3275, 4.5], [3276, 1.0], [3280, 1.5], [3281, 2.0], [3283, 2.0], [3284, 3.0], [3285, 4.0], [3286, 2.0], [3287, 2.0], [3289, 4.5], [3294, 1.5], [3295, 4.0], [3296, 4.0], [3298, 4.0], [3299, 1.0], [3300, 4.0], [3301, 4.0], [3302, 4.5], [3303, 5.0], [3306, 4.5], [3307, 4.5], [3308, 2.0], [3310, 4.0], [3313, 1.0], [3315, 4.5], [3316, 2.0], [3317, 4.0], [3323, 4.0], [3324, 1.0], [3325, 1.0], [3326, 2.0], [3327, 4.0], [3328, 5.0], [3329, 4.0], [3330, 4.0], [3331, 2.0], [3334, 4.0], [3341, 4.0], [3342, 3.0], [3344, 4.0], [3345, 3.0], [3347, 4.0], [3350, 4.0], [3353, 4.5], [3354, 3.0], [3355, 4.0], [3357, 4.0], [3358, 3.0], [3359, 4.0], [3360, 4.0], [3361, 4.0], [3362, 4.0], [3363, 4.0], [3364, 3.5], [3365, 4.0], [3368, 3.0], [3370, 2.0], [3372, 4.0], [3374, 4.0], [3378, 4.0], [3379, 4.5], [3384, 4.0], [3385, 2.0], [3386, 4.0], [3387, 2.0], [3388, 2.0], [3389, 2.0], [3390, 2.0], [3391, 2.0], [3392, 1.0], [3393, 1.0], [3394, 3.0], [3395, 3.0], [3396, 4.0], [3397, 3.0], [3398, 3.0], [3400, 3.0], [3401, 2.0], [3402, 4.0], [3403, 4.0], [3404, 5.0], [3405, 3.0], [3406, 2.0], [3408, 4.0], [3409, 4.0], [3410, 4.0], [3412, 4.0], [3414, 4.0], [3415, 4.0], [3417, 3.0], [3418, 4.0], [3420, 2.5], [3421, 4.0], [3422, 4.0], [3423, 1.5], [3424, 4.0], [3425, 3.0], [3426, 3.0], [3428, 3.0], [3429, 3.5], [3430, 3.0], [3431, 2.0], [3432, 1.0], [3433, 1.0], [3434, 1.0], [3435, 4.0], [3436, 4.0], [3438, 4.0], [3439, 2.0], [3440, 2.5], [3441, 4.0], [3442, 1.0], [3444, 2.0], [3445, 3.0], [3446, 1.5], [3447, 4.0], [3448, 4.0], [3449, 4.0], [3450, 4.0], [3451, 5.0], [3452, 3.0], [3453, 2.0], [3454, 2.0], [3455, 2.5], [3459, 4.0], [3461, 2.0], [3462, 4.0], [3466, 3.0], [3467, 3.5], [3468, 5.0], [3469, 4.0], [3470, 4.0], [3471, 4.0], [3473, 5.0], [3474, 4.0], [3475, 4.0], [3476, 4.0], [3477, 3.0], [3478, 3.0], [3479, 4.0], [3480, 4.0], [3481, 4.0], [3483, 4.0], [3484, 3.0], [3489, 3.0], [3492, 4.0], [3494, 3.0], [3496, 5.0], [3497, 2.0], [3498, 4.0], [3499, 4.0], [3500, 3.0], [3501, 2.0], [3502, 2.5], [3503, 5.0], [3504, 4.0], [3505, 3.0], [3506, 2.0], [3507, 4.0], [3508, 4.0], [3510, 4.0], [3511, 1.5], [3512, 3.0], [3513, 3.0], [3514, 3.0], [3515, 4.0], [3516, 3.0], [3519, 3.0], [3521, 4.5], [3524, 2.0], [3525, 1.0], [3526, 4.0], [3527, 4.0], [3528, 4.0], [3529, 3.0], [3531, 5.0], [3534, 3.0], [3535, 4.0], [3536, 4.0], [3537, 2.0], [3538, 2.0], [3539, 2.5], [3543, 3.0], [3544, 3.0], [3545, 3.0], [3546, 4.0], [3548, 4.0], [3549, 3.0], [3550, 4.0], [3551, 4.0], [3552, 4.0], [3553, 2.0], [3554, 2.5], [3555, 4.0], [3556, 4.0], [3557, 3.0], [3559, 4.0], [3563, 2.0], [3564, 2.0], [3565, 3.5], [3566, 1.0], [3567, 5.0], [3568, 4.0], [3569, 3.5], [3571, 2.0], [3572, 2.0], [3573, 1.0], [3574, 1.0], [3576, 3.0], [3577, 1.0], [3578, 4.0], [3580, 3.0], [3581, 3.0], [3584, 2.0], [3586, 4.0], [3587, 1.5], [3590, 2.0], [3591, 3.0], [3592, 4.5], [3593, 1.0], [3594, 5.0], [3596, 1.0], [3597, 1.0], [3598, 2.5], [3599, 3.5], [3604, 0.5], [3606, 3.5], [3608, 4.0], [3609, 3.5], [3614, 2.0], [3615, 3.0], [3616, 2.0], [3617, 4.0], [3618, 3.0], [3619, 2.0], [3622, 3.0], [3623, 3.0], [3624, 4.0], [3625, 2.0], [3626, 3.0], [3627, 3.0], [3628, 2.0], [3629, 4.0], [3632, 4.0], [3633, 3.0], [3634, 4.0], [3635, 4.0], [3637, 5.0], [3638, 3.0], [3639, 4.0], [3640, 4.0], [3641, 3.5], [3643, 3.0], [3646, 2.0], [3648, 4.0], [3649, 2.0], [3652, 3.0], [3653, 3.0], [3654, 4.0], [3655, 3.5], [3658, 3.0], [3660, 1.0], [3661, 3.0], [3662, 3.0], [3663, 2.0], [3664, 2.0], [3667, 1.0], [3668, 3.5], [3669, 2.5], [3671, 4.0], [3672, 5.0], [3673, 4.0], [3674, 4.0], [3675, 4.0], [3676, 4.0], [3677, 3.0], [3678, 5.0], [3679, 3.5], [3680, 3.0], [3681, 4.0], [3682, 2.0], [3683, 5.0], [3684, 3.0], [3685, 3.0], [3686, 3.0], [3687, 5.0], [3688, 1.0], [3689, 1.0], [3690, 1.0], [3691, 3.0], [3692, 3.0], [3693, 1.0], [3694, 1.0], [3695, 1.0], [3696, 2.0], [3697, 3.0], [3698, 3.0], [3699, 4.0], [3700, 2.5], [3701, 3.0], [3702, 4.0], [3703, 5.0], [3704, 3.0], [3705, 2.0], [3706, 4.0], [3707, 3.0], [3708, 2.0], [3709, 2.0], [3710, 2.0], [3711, 4.0], [3712, 3.0], [3713, 4.0], [3714, 2.5], [3715, 1.5], [3716, 1.0], [3717, 4.0], [3719, 2.0], [3720, 4.0], [3723, 3.5], [3724, 4.0], [3725, 3.0], [3726, 3.0], [3727, 4.0], [3728, 4.0], [3729, 3.0], [3730, 4.0], [3731, 3.0], [3732, 4.0], [3733, 4.0], [3735, 4.0], [3736, 3.0], [3737, 4.0], [3738, 2.0], [3739, 3.5], [3740, 4.0], [3741, 4.0], [3742, 4.0], [3743, 1.0], [3744, 2.0], [3745, 3.0], [3746, 3.0], [3747, 3.0], [3751, 4.0], [3752, 3.0], [3753, 4.0], [3754, 1.0], [3755, 4.0], [3756, 4.0], [3758, 3.0], [3760, 2.5], [3761, 4.0], [3763, 3.0], [3764, 2.0], [3765, 3.0], [3766, 2.0], [3767, 2.0], [3768, 1.0], [3769, 3.0], [3770, 2.0], [3771, 3.0], [3773, 1.0], [3774, 0.5], [3783, 4.0], [3784, 2.0], [3785, 2.0], [3786, 1.0], [3787, 3.0], [3788, 3.0], [3789, 3.5], [3790, 4.0], [3791, 3.0], [3792, 5.0], [3793, 4.0], [3794, 2.0], [3795, 5.0], [3797, 1.0], [3798, 3.0], [3799, 0.5], [3801, 4.0], [3802, 2.0], [3806, 3.0], [3807, 3.0], [3808, 4.0], [3809, 3.0], [3810, 3.0], [3811, 4.0], [3812, 4.0], [3813, 3.5], [3814, 5.0], [3816, 4.0], [3819, 3.0], [3821, 2.0], [3822, 4.0], [3823, 4.0], [3824, 2.0], [3825, 3.0], [3826, 2.0], [3827, 3.0], [3830, 0.5], [3831, 4.0], [3832, 4.0], [3833, 1.0], [3834, 3.0], [3835, 2.0], [3836, 4.0], [3837, 1.0], [3838, 2.0], [3839, 2.0], [3840, 2.0], [3841, 3.0], [3843, 1.0], [3844, 3.0], [3845, 4.0], [3846, 2.0], [3847, 2.0], [3849, 4.0], [3851, 5.0], [3852, 4.0], [3855, 4.5], [3857, 4.0], [3858, 4.0], [3859, 3.5], [3861, 3.0], [3862, 3.5], [3863, 3.0], [3864, 2.0], [3865, 4.0], [3868, 3.0], [3869, 4.0], [3870, 3.0], [3871, 3.5], [3872, 3.5], [3873, 3.0], [3877, 2.0], [3879, 1.0], [3882, 3.0], [3884, 1.0], [3888, 4.0], [3889, 2.0], [3893, 3.0], [3894, 4.0], [3895, 1.5], [3896, 3.0], [3897, 4.0], [3898, 1.5], [3899, 1.0], [3900, 4.0], [3901, 3.0], [3906, 2.0], [3908, 1.0], [3909, 2.0], [3910, 4.0], [3911, 4.0], [3912, 1.0], [3914, 4.0], [3915, 4.0], [3916, 4.0], [3917, 3.0], [3918, 3.0], [3919, 2.5], [3920, 4.0], [3922, 1.0], [3925, 5.0], [3926, 3.0], [3927, 2.0], [3928, 3.5], [3929, 2.0], [3930, 1.0], [3932, 3.0], [3933, 0.5], [3937, 1.5], [3938, 2.0], [3939, 5.0], [3940, 5.0], [3941, 5.0], [3942, 5.0], [3943, 4.0], [3945, 3.0], [3946, 1.0], [3947, 2.5], [3948, 4.0], [3949, 4.0], [3950, 4.0], [3951, 5.0], [3952, 2.0], [3953, 2.0], [3955, 1.0], [3957, 3.0], [3958, 2.0], [3959, 3.0], [3962, 1.5], [3963, 3.5], [3964, 2.5], [3965, 3.5], [3966, 3.5], [3967, 4.0], [3968, 3.0], [3969, 4.0], [3971, 2.5], [3972, 5.0], [3973, 0.5], [3974, 3.0], [3977, 3.0], [3978, 3.0], [3979, 2.5], [3980, 3.0], [3981, 2.0], [3983, 5.0], [3984, 3.0], [3985, 3.0], [3986, 4.0], [3987, 2.0], [3988, 3.0], [3989, 3.5], [3990, 0.5], [3991, 2.0], [3992, 3.5], [3993, 3.5], [3994, 4.0], [3996, 4.0], [3997, 2.0], [3998, 3.0], [3999, 2.0], [4000, 3.0], [4002, 4.0], [4003, 3.0], [4005, 3.0], [4006, 3.5], [4007, 4.0], [4008, 4.0], [4009, 3.0], [4010, 3.0], [4011, 5.0], [4012, 2.0], [4014, 4.0], [4015, 2.0], [4016, 4.0], [4017, 3.0], [4018, 3.5], [4019, 4.0], [4020, 3.0], [4021, 4.0], [4022, 3.5], [4023, 3.0], [4024, 1.0], [4025, 3.0], [4027, 4.0], [4029, 3.0], [4030, 2.0], [4031, 2.0], [4032, 4.0], [4033, 4.0], [4034, 4.0], [4035, 3.0], [4036, 3.0], [4037, 4.0], [4039, 3.0], [4040, 3.0], [4041, 3.0], [4042, 3.0], [4043, 3.0], [4046, 4.0], [4047, 3.0], [4051, 0.5], [4052, 3.5], [4053, 2.0], [4054, 3.0], [4055, 3.0], [4056, 3.0], [4061, 3.0], [4062, 4.0], [4063, 2.0], [4064, 3.5], [4065, 2.5], [4066, 2.0], [4067, 4.0], [4068, 2.0], [4069, 2.5], [4074, 3.0], [4077, 4.0], [4078, 4.0], [4079, 4.0], [4080, 3.0], [4081, 2.0], [4082, 2.0], [4083, 4.0], [4084, 3.0], [4085, 4.0], [4086, 3.0], [4089, 2.0], [4090, 3.0], [4091, 3.0], [4092, 2.0], [4093, 1.5], [4102, 2.0], [4103, 4.0], [4104, 1.0], [4105, 4.0], [4109, 2.5], [4110, 3.0], [4111, 3.0], [4113, 2.0], [4115, 2.0], [4116, 5.0], [4117, 4.0], [4121, 3.0], [4123, 2.0], [4124, 1.0], [4125, 0.5], [4126, 3.0], [4127, 1.5], [4128, 4.0], [4129, 1.0], [4130, 2.0], [4131, 1.0], [4132, 3.0], [4133, 3.0], [4135, 5.0], [4138, 1.0], [4139, 3.0], [4141, 3.0], [4142, 3.5], [4143, 3.5], [4144, 4.5], [4146, 4.0], [4147, 4.0], [4148, 3.0], [4149, 2.5], [4152, 4.0], [4153, 2.0], [4154, 4.0], [4155, 4.0], [4156, 2.0], [4157, 4.5], [4158, 0.5], [4159, 2.0], [4160, 3.0], [4161, 3.0], [4164, 3.0], [4166, 2.0], [4167, 2.0], [4168, 2.0], [4171, 4.0], [4174, 3.0], [4175, 4.0], [4178, 4.0], [4180, 5.0], [4181, 2.0], [4184, 4.0], [4187, 4.0], [4189, 2.5], [4190, 4.0], [4191, 2.5], [4193, 4.0], [4195, 3.0], [4197, 3.0], [4198, 3.0], [4200, 2.0], [4202, 3.0], [4203, 4.0], [4204, 1.0], [4205, 3.0], [4207, 1.0], [4210, 3.5], [4211, 4.0], [4212, 3.0], [4214, 3.0], [4215, 2.0], [4217, 4.0], [4218, 3.5], [4219, 3.0], [4220, 4.0], [4221, 3.0], [4223, 4.0], [4224, 2.5], [4225, 4.0], [4226, 5.0], [4228, 2.0], [4229, 3.0], [4231, 3.0], [4232, 3.5], [4233, 0.5], [4234, 3.0], [4235, 4.0], [4236, 3.5], [4237, 4.0], [4238, 3.0], [4239, 4.0], [4240, 2.0], [4241, 3.0], [4242, 2.0], [4243, 4.0], [4246, 4.0], [4247, 3.0], [4248, 0.5], [4251, 2.0], [4252, 3.0], [4254, 3.5], [4255, 3.0], [4256, 3.0], [4259, 3.0], [4260, 2.0], [4262, 4.5], [4263, 4.0], [4265, 3.0], [4267, 3.0], [4268, 2.0], [4270, 3.5], [4273, 4.0], [4275, 3.0], [4276, 1.0], [4278, 3.5], [4280, 4.0], [4282, 3.5], [4284, 3.0], [4285, 2.0], [4289, 1.0], [4290, 2.0], [4291, 2.0], [4292, 3.0], [4293, 1.0], [4294, 3.0], [4296, 2.0], [4297, 3.5], [4298, 4.5], [4299, 3.0], [4300, 4.0], [4304, 4.0], [4305, 0.5], [4306, 4.0], [4307, 4.5], [4308, 4.0], [4310, 4.0], [4312, 3.0], [4313, 3.5], [4316, 1.5], [4317, 1.0], [4321, 3.0], [4322, 4.0], [4323, 4.0], [4325, 4.0], [4326, 4.0], [4327, 4.0], [4329, 4.0], [4333, 4.0], [4334, 5.0], [4337, 3.0], [4338, 4.5], [4339, 3.5], [4340, 2.0], [4342, 4.5], [4343, 2.0], [4344, 4.0], [4345, 3.0], [4347, 4.0], [4349, 4.0], [4350, 4.0], [4351, 3.0], [4353, 3.0], [4354, 2.5], [4355, 2.0], [4356, 3.5], [4357, 4.5], [4359, 4.0], [4361, 4.0], [4366, 3.0], [4367, 4.0], [4368, 2.0], [4369, 3.0], [4370, 3.0], [4371, 0.5], [4372, 3.0], [4373, 2.0], [4374, 4.5], [4378, 4.0], [4380, 3.0], [4381, 2.0], [4383, 4.0], [4384, 3.0], [4386, 3.0], [4387, 4.0], [4388, 2.5], [4389, 2.5], [4390, 3.0], [4392, 2.5], [4393, 4.5], [4394, 1.5], [4395, 4.0], [4396, 1.0], [4397, 2.0], [4399, 3.5], [4402, 5.0], [4403, 3.0], [4404, 4.0], [4406, 5.0], [4407, 4.5], [4408, 3.5], [4409, 3.5], [4410, 4.0], [4412, 0.5], [4419, 3.5], [4420, 3.0], [4422, 4.0], [4424, 4.0], [4426, 3.0], [4427, 3.5], [4428, 2.5], [4429, 4.0], [4432, 4.0], [4433, 3.5], [4434, 4.0], [4436, 3.0], [4437, 5.0], [4438, 3.0], [4439, 3.5], [4440, 2.5], [4441, 3.5], [4442, 1.0], [4443, 2.5], [4444, 3.5], [4445, 4.0], [4446, 3.5], [4447, 3.5], [4448, 4.0], [4449, 2.0], [4450, 4.0], [4451, 3.5], [4452, 3.0], [4453, 3.5], [4454, 5.0], [4458, 4.0], [4459, 4.0], [4462, 1.0], [4463, 2.0], [4464, 4.0], [4465, 3.5], [4466, 2.0], [4467, 3.0], [4470, 2.0], [4471, 0.5], [4473, 3.0], [4474, 1.5], [4475, 4.0], [4476, 1.0], [4477, 1.0], [4478, 3.0], [4480, 2.0], [4482, 2.0], [4483, 1.0], [4484, 3.5], [4487, 3.0], [4488, 3.0], [4489, 4.0], [4490, 2.0], [4492, 3.0], [4495, 5.0], [4496, 3.5], [4497, 3.0], [4498, 2.0], [4499, 4.0], [4500, 4.0], [4502, 1.0], [4504, 1.5], [4505, 3.0], [4506, 3.0], [4508, 3.5], [4509, 1.5], [4511, 2.0], [4516, 2.0], [4517, 0.5], [4518, 2.5], [4519, 4.0], [4520, 2.5], [4521, 3.0], [4522, 1.0], [4523, 3.0], [4524, 3.0], [4526, 1.5], [4527, 2.0], [4529, 4.0], [4531, 3.0], [4533, 3.0], [4534, 2.0], [4535, 2.0], [4537, 4.5], [4541, 3.0], [4544, 2.0], [4545, 4.0], [4546, 4.0], [4552, 3.5], [4553, 4.0], [4557, 3.0], [4558, 2.0], [4562, 4.0], [4563, 2.0], [4564, 2.0], [4565, 2.0], [4568, 2.5], [4571, 4.0], [4572, 2.0], [4573, 2.0], [4574, 3.0], [4577, 3.0], [4578, 1.5], [4580, 0.5], [4581, 4.0], [4583, 4.0], [4584, 2.0], [4585, 4.0], [4587, 3.0], [4589, 1.0], [4591, 3.0], [4593, 2.0], [4594, 3.0], [4595, 3.5], [4597, 2.0], [4599, 2.0], [4600, 2.5], [4602, 3.0], [4603, 2.5], [4605, 4.0], [4608, 2.0], [4610, 2.0], [4611, 4.0], [4612, 4.5], [4613, 2.0], [4614, 2.5], [4615, 4.0], [4616, 3.5], [4617, 2.0], [4619, 1.5], [4621, 2.0], [4622, 2.0], [4623, 4.0], [4624, 3.0], [4625, 2.0], [4626, 3.0], [4628, 3.0], [4629, 1.5], [4630, 1.0], [4632, 2.5], [4634, 3.0], [4635, 1.0], [4636, 2.0], [4638, 2.0], [4639, 2.5], [4640, 3.0], [4641, 4.0], [4642, 5.0], [4643, 3.0], [4644, 3.0], [4645, 4.5], [4646, 1.5], [4649, 4.0], [4653, 3.0], [4654, 3.0], [4658, 3.5], [4660, 4.0], [4661, 3.0], [4662, 3.0], [4663, 1.0], [4666, 3.0], [4670, 2.5], [4671, 3.5], [4672, 2.0], [4673, 2.0], [4675, 1.0], [4676, 0.5], [4677, 3.0], [4678, 3.5], [4679, 4.0], [4681, 4.0], [4683, 2.5], [4686, 2.0], [4687, 3.5], [4688, 2.5], [4689, 3.5], [4690, 3.0], [4695, 4.0], [4697, 1.5], [4699, 2.0], [4700, 3.0], [4701, 3.0], [4703, 1.0], [4704, 3.0], [4705, 3.0], [4708, 4.0], [4709, 3.0], [4710, 3.5], [4711, 4.0], [4713, 4.0], [4714, 2.0], [4715, 3.0], [4717, 4.0], [4718, 3.5], [4719, 3.0], [4720, 3.5], [4721, 0.5], [4722, 3.0], [4723, 1.0], [4725, 4.0], [4727, 3.5], [4728, 3.0], [4732, 1.5], [4733, 0.5], [4734, 3.5], [4735, 2.5], [4736, 1.5], [4738, 4.0], [4740, 3.5], [4741, 4.0], [4743, 3.0], [4744, 3.0], [4745, 4.0], [4748, 1.0], [4749, 0.5], [4750, 0.5], [4754, 4.0], [4756, 1.0], [4757, 2.0], [4759, 4.0], [4765, 4.0], [4766, 4.0], [4769, 3.0], [4770, 2.5], [4771, 1.5], [4772, 3.5], [4773, 3.0], [4774, 2.5], [4775, 0.5], [4776, 4.0], [4777, 2.5], [4780, 2.0], [4782, 2.0], [4783, 3.5], [4784, 3.0], [4785, 4.0], [4786, 1.0], [4787, 3.0], [4788, 5.0], [4789, 5.0], [4792, 2.5], [4794, 0.5], [4795, 4.0], [4796, 3.0], [4798, 3.5], [4799, 3.0], [4800, 2.5], [4801, 4.0], [4802, 4.0], [4803, 4.0], [4804, 3.5], [4808, 2.0], [4809, 3.5], [4810, 2.0], [4811, 2.0], [4812, 2.0], [4813, 5.0], [4814, 1.0], [4815, 3.0], [4816, 4.0], [4818, 2.0], [4821, 0.5], [4822, 2.0], [4823, 3.0], [4825, 3.0], [4826, 4.0], [4827, 3.0], [4828, 3.5], [4830, 4.0], [4831, 3.0], [4833, 2.5], [4835, 4.0], [4836, 3.5], [4840, 4.0], [4844, 2.0], [4845, 0.5], [4846, 2.5], [4847, 2.5], [4848, 4.0], [4849, 3.0], [4850, 2.5], [4852, 1.0], [4855, 4.0], [4857, 4.0], [4860, 2.0], [4862, 1.0], [4863, 2.0], [4864, 2.5], [4865, 4.0], [4866, 3.0], [4867, 2.5], [4871, 3.5], [4873, 4.0], [4874, 4.0], [4876, 3.0], [4877, 3.5], [4878, 4.0], [4879, 3.0], [4880, 4.0], [4881, 3.0], [4883, 4.0], [4885, 2.0], [4886, 4.0], [4887, 4.0], [4888, 4.0], [4889, 3.0], [4890, 3.5], [4893, 2.0], [4896, 4.0], [4898, 2.5], [4899, 1.5], [4900, 4.0], [4901, 4.0], [4902, 4.0], [4903, 4.0], [4909, 2.0], [4911, 3.5], [4912, 3.0], [4914, 4.0], [4915, 2.0], [4916, 3.0], [4917, 4.0], [4919, 3.5], [4920, 2.5], [4921, 3.5], [4925, 3.0], [4926, 2.0], [4927, 3.0], [4928, 4.0], [4929, 2.0], [4932, 1.0], [4936, 3.0], [4939, 3.0], [4941, 2.0], [4942, 4.5], [4945, 4.0], [4946, 4.0], [4947, 3.0], [4951, 2.5], [4952, 2.0], [4953, 2.5], [4954, 4.0], [4956, 5.0], [4957, 2.0], [4958, 3.0], [4959, 3.0], [4961, 2.5], [4962, 2.0], [4963, 4.0], [4964, 3.5], [4965, 3.0], [4966, 3.0], [4967, 4.0], [4969, 3.0], [4970, 4.0], [4971, 3.0], [4973, 5.0], [4974, 3.5], [4975, 4.0], [4976, 3.0], [4977, 3.5], [4978, 3.0], [4979, 4.0], [4980, 3.0], [4981, 4.0], [4985, 1.0], [4987, 1.0], [4988, 2.0], [4989, 2.0], [4990, 3.0], [4991, 3.0], [4992, 3.0], [4993, 5.0], [4994, 3.0], [4995, 4.0], [4998, 3.5], [5004, 3.0], [5007, 2.5], [5008, 4.0], [5009, 2.5], [5010, 4.0], [5011, 3.5], [5012, 4.0], [5013, 4.0], [5014, 4.0], [5015, 4.0], [5016, 4.0], [5021, 3.0], [5023, 4.0], [5025, 2.5], [5026, 2.5], [5027, 2.0], [5028, 2.0], [5033, 2.0], [5034, 2.0], [5039, 4.0], [5040, 3.0], [5041, 1.5], [5046, 2.5], [5047, 4.0], [5048, 0.5], [5049, 3.0], [5051, 3.0], [5053, 1.5], [5054, 3.5], [5055, 3.0], [5059, 5.0], [5060, 4.0], [5062, 3.0], [5063, 3.0], [5064, 4.0], [5065, 3.0], [5066, 3.0], [5068, 4.0], [5069, 2.5], [5071, 4.0], [5072, 3.5], [5073, 3.0], [5074, 2.0], [5075, 2.0], [5076, 2.0], [5077, 3.0], [5080, 2.0], [5081, 2.0], [5083, 3.0], [5088, 5.0], [5092, 1.5], [5093, 3.0], [5094, 2.0], [5095, 4.5], [5096, 1.0], [5099, 3.0], [5102, 3.0], [5103, 4.0], [5105, 0.5], [5106, 1.5], [5107, 4.0], [5108, 2.5], [5109, 4.0], [5110, 3.0], [5111, 1.5], [5112, 3.0], [5113, 2.5], [5114, 4.0], [5116, 3.5], [5120, 4.0], [5121, 4.0], [5127, 4.0], [5128, 2.5], [5131, 2.0], [5134, 2.5], [5135, 4.0], [5136, 1.5], [5137, 3.0], [5139, 3.5], [5146, 3.5], [5147, 3.0], [5151, 2.5], [5152, 3.5], [5155, 4.5], [5156, 2.5], [5159, 3.5], [5165, 4.0], [5168, 3.0], [5170, 2.0], [5171, 3.0], [5177, 3.0], [5178, 4.0], [5181, 4.0], [5187, 4.0], [5189, 1.5], [5197, 2.0], [5198, 3.5], [5202, 2.5], [5205, 2.0], [5209, 2.0], [5212, 3.0], [5213, 1.5], [5214, 1.0], [5218, 4.0], [5219, 3.0], [5220, 1.5], [5221, 3.0], [5222, 4.0], [5224, 4.0], [5225, 4.0], [5226, 2.0], [5231, 3.5], [5237, 4.0], [5238, 3.5], [5239, 4.0], [5240, 4.0], [5241, 5.0], [5244, 5.0], [5246, 1.0], [5247, 4.0], [5248, 1.5], [5250, 3.0], [5254, 3.0], [5255, 2.5], [5256, 2.5], [5258, 2.0], [5264, 2.0], [5265, 3.0], [5266, 3.5], [5267, 4.0], [5268, 2.5], [5269, 4.0], [5272, 3.0], [5275, 1.5], [5278, 1.0], [5279, 3.5], [5282, 2.5], [5283, 3.0], [5284, 2.5], [5285, 4.0], [5288, 4.0], [5291, 4.0], [5292, 5.0], [5293, 3.0], [5294, 4.0], [5296, 3.5], [5297, 2.0], [5298, 3.5], [5299, 3.5], [5300, 4.0], [5303, 4.0], [5304, 4.0], [5307, 3.0], [5308, 3.5], [5309, 2.0], [5311, 3.0], [5312, 3.0], [5313, 3.0], [5316, 2.5], [5319, 4.5], [5321, 2.0], [5322, 4.0], [5323, 0.5], [5324, 2.0], [5325, 4.0], [5328, 5.0], [5329, 3.0], [5333, 3.0], [5334, 1.0], [5337, 3.0], [5338, 2.0], [5339, 3.5], [5341, 3.5], [5345, 3.0], [5346, 1.0], [5347, 2.0], [5348, 4.0], [5349, 4.0], [5353, 3.0], [5356, 0.5], [5357, 3.0], [5358, 3.0], [5361, 1.5], [5363, 2.5], [5364, 3.0], [5365, 4.0], [5372, 3.5], [5373, 4.0], [5375, 3.0], [5377, 4.0], [5378, 4.0], [5379, 4.0], [5380, 3.0], [5382, 2.0], [5384, 3.0], [5385, 4.5], [5387, 2.5], [5388, 3.0], [5389, 3.0], [5390, 3.0], [5391, 3.0], [5397, 1.5], [5398, 4.0], [5400, 2.0], [5401, 1.0], [5404, 4.0], [5409, 3.5], [5410, 3.0], [5414, 2.0], [5415, 2.0], [5416, 5.0], [5417, 3.0], [5418, 4.0], [5419, 2.5], [5420, 3.0], [5421, 4.0], [5422, 4.0], [5423, 2.0], [5424, 3.0], [5425, 4.0], [5427, 1.5], [5428, 1.0], [5433, 3.0], [5434, 3.5], [5435, 3.0], [5437, 3.0], [5438, 3.0], [5440, 3.0], [5442, 2.0], [5443, 1.0], [5444, 4.0], [5445, 4.0], [5446, 3.0], [5447, 3.0], [5448, 2.0], [5449, 3.0], [5450, 2.0], [5451, 4.0], [5452, 1.0], [5454, 1.5], [5455, 1.5], [5456, 2.0], [5458, 2.5], [5459, 3.0], [5460, 4.0], [5461, 2.5], [5462, 2.0], [5463, 4.0], [5464, 4.0], [5465, 3.0], [5466, 3.0], [5468, 5.0], [5470, 4.5], [5471, 2.0], [5472, 3.0], [5475, 4.0], [5476, 1.0], [5477, 3.0], [5478, 2.5], [5479, 4.0], [5480, 3.0], [5481, 3.5], [5483, 3.5], [5485, 2.0], [5486, 2.5], [5489, 4.0], [5490, 5.0], [5493, 4.0], [5497, 3.0], [5498, 4.5], [5499, 3.0], [5500, 4.0], [5501, 0.5], [5502, 4.0], [5503, 4.0], [5504, 0.5], [5505, 3.0], [5506, 3.0], [5507, 3.0], [5508, 4.0], [5512, 3.0], [5513, 5.0], [5515, 3.5], [5521, 2.5], [5522, 2.5], [5523, 2.5], [5524, 3.0], [5525, 3.5], [5527, 2.5], [5528, 4.0], [5529, 2.5], [5530, 0.5], [5531, 2.5], [5532, 4.0], [5537, 5.0], [5538, 1.0], [5539, 1.0], [5540, 2.5], [5541, 3.0], [5543, 2.0], [5544, 3.5], [5548, 3.0], [5550, 3.5], [5553, 3.0], [5556, 1.0], [5560, 1.0], [5562, 2.5], [5563, 2.0], [5564, 0.5], [5568, 2.0], [5569, 3.0], [5570, 3.0], [5572, 3.0], [5573, 2.5], [5574, 4.0], [5575, 2.0], [5577, 4.0], [5580, 3.5], [5581, 2.0], [5582, 2.5], [5584, 3.5], [5585, 1.0], [5588, 3.5], [5589, 2.0], [5590, 2.5], [5591, 1.0], [5596, 1.5], [5597, 1.0], [5601, 4.0], [5602, 3.5], [5603, 4.0], [5604, 3.5], [5607, 5.0], [5608, 4.0], [5609, 2.0], [5610, 2.0], [5611, 2.0], [5612, 2.0], [5613, 4.0], [5614, 4.5], [5615, 3.5], [5617, 4.5], [5618, 4.0], [5619, 4.0], [5620, 2.0], [5621, 1.0], [5625, 3.0], [5628, 2.5], [5629, 2.0], [5630, 4.0], [5632, 4.0], [5633, 3.5], [5635, 3.0], [5636, 2.0], [5637, 4.0], [5638, 2.0], [5640, 3.0], [5643, 3.0], [5644, 4.0], [5646, 4.0], [5649, 3.0], [5650, 3.0], [5651, 3.0], [5657, 4.5], [5663, 3.5], [5664, 1.5], [5665, 2.5], [5666, 5.0], [5667, 3.0], [5668, 0.5], [5669, 4.0], [5670, 3.0], [5672, 0.5], [5673, 3.0], [5675, 1.0], [5678, 2.5], [5679, 4.0], [5680, 3.0], [5682, 2.5], [5684, 3.0], [5685, 4.0], [5688, 2.0], [5689, 2.0], [5690, 4.0], [5693, 3.5], [5694, 1.5], [5696, 2.0], [5699, 4.0], [5700, 0.5], [5704, 2.0], [5706, 2.0], [5707, 3.0], [5710, 2.5], [5712, 3.5], [5720, 2.5], [5723, 5.0], [5733, 4.0], [5735, 1.5], [5736, 1.5], [5741, 4.0], [5742, 4.0], [5745, 5.0], [5746, 5.0], [5747, 4.5], [5749, 3.0], [5752, 3.0], [5755, 2.0], [5764, 4.5], [5767, 3.5], [5768, 3.0], [5771, 0.5], [5772, 4.5], [5773, 3.0], [5779, 2.0], [5780, 3.0], [5782, 4.0], [5784, 0.5], [5785, 4.0], [5786, 4.5], [5787, 2.5], [5788, 2.5], [5791, 4.0], [5792, 4.0], [5796, 2.0], [5797, 2.0], [5799, 3.5], [5801, 2.5], [5802, 4.0], [5803, 2.0], [5804, 2.5], [5809, 4.0], [5810, 4.0], [5812, 3.5], [5816, 4.0], [5817, 4.5], [5818, 4.5], [5820, 3.0], [5826, 3.5], [5828, 2.5], [5829, 4.0], [5833, 5.0], [5836, 2.0], [5838, 4.0], [5839, 4.0], [5840, 4.0], [5841, 2.0], [5843, 1.5], [5847, 3.5], [5849, 4.5], [5853, 3.0], [5856, 4.0], [5863, 1.0], [5867, 4.0], [5872, 3.0], [5873, 3.5], [5874, 2.0], [5875, 2.5], [5876, 4.0], [5878, 4.0], [5879, 0.5], [5880, 1.5], [5881, 4.0], [5882, 2.5], [5883, 1.5], [5884, 1.0], [5888, 5.0], [5889, 5.0], [5890, 4.0], [5891, 3.0], [5893, 2.5], [5896, 4.0], [5899, 3.0], [5900, 1.5], [5901, 4.5], [5902, 4.0], [5903, 4.0], [5909, 4.0], [5912, 4.5], [5915, 4.5], [5919, 4.0], [5922, 2.5], [5925, 2.0], [5927, 3.0], [5929, 3.0], [5932, 3.5], [5938, 4.0], [5941, 2.0], [5942, 2.5], [5943, 3.0], [5944, 3.0], [5945, 3.5], [5947, 3.0], [5949, 3.5], [5951, 2.5], [5952, 4.0], [5953, 4.0], [5954, 4.0], [5955, 3.5], [5956, 4.0], [5957, 4.0], [5959, 3.5], [5961, 1.5], [5962, 1.0], [5963, 3.5], [5965, 4.0], [5968, 4.0], [5969, 2.5], [5970, 3.0], [5971, 4.0], [5974, 3.0], [5975, 3.5], [5979, 3.0], [5980, 3.0], [5984, 3.0], [5986, 4.0], [5988, 3.0], [5989, 4.0], [5990, 3.5], [5991, 4.0], [5992, 3.5], [5993, 3.0], [5994, 4.0], [5995, 4.5], [5999, 2.0], [6001, 4.0], [6002, 3.5], [6003, 3.5], [6005, 3.5], [6006, 3.0], [6009, 3.0], [6012, 2.0], [6013, 1.0], [6014, 2.0], [6016, 4.0], [6020, 3.5], [6021, 5.0], [6022, 1.0], [6023, 3.0], [6025, 4.0], [6027, 4.0], [6030, 2.0], [6031, 3.0], [6033, 3.0], [6035, 2.5], [6036, 3.0], [6039, 2.0], [6040, 2.0], [6041, 4.0], [6042, 3.0], [6044, 2.0], [6049, 4.0], [6051, 3.0], [6055, 1.0], [6057, 2.0], [6058, 3.0], [6059, 3.5], [6060, 2.0], [6062, 2.5], [6063, 2.5], [6064, 4.0], [6067, 4.0], [6070, 4.0], [6078, 2.0], [6086, 5.0], [6090, 3.5], [6093, 4.5], [6095, 3.5], [6100, 4.0], [6101, 4.0], [6104, 4.0], [6107, 4.0], [6111, 3.5], [6116, 1.5], [6119, 4.0], [6122, 3.0], [6123, 4.0], [6124, 2.0], [6125, 3.5], [6140, 0.5], [6141, 3.0], [6143, 2.0], [6145, 2.0], [6148, 2.0], [6153, 1.5], [6155, 3.0], [6156, 3.0], [6157, 2.5], [6158, 3.0], [6159, 3.5], [6162, 3.5], [6163, 4.5], [6166, 1.5], [6169, 2.0], [6170, 3.0], [6178, 4.0], [6181, 4.0], [6182, 3.0], [6183, 3.0], [6184, 3.5], [6185, 2.5], [6186, 3.0], [6187, 3.0], [6188, 4.5], [6192, 5.0], [6193, 3.5], [6195, 4.0], [6196, 3.0], [6197, 3.5], [6201, 5.0], [6202, 3.5], [6203, 1.5], [6204, 2.5], [6210, 3.0], [6212, 2.5], [6213, 2.0], [6214, 4.0], [6215, 3.0], [6216, 3.5], [6217, 1.5], [6218, 4.0], [6219, 3.0], [6220, 1.0], [6222, 3.0], [6223, 2.5], [6225, 3.0], [6228, 4.0], [6232, 4.0], [6234, 3.5], [6235, 3.5], [6237, 4.0], [6238, 4.0], [6239, 2.5], [6241, 4.0], [6242, 3.5], [6244, 3.0], [6245, 3.5], [6246, 4.0], [6249, 2.0], [6250, 3.0], [6251, 2.0], [6252, 2.5], [6254, 4.5], [6263, 3.5], [6264, 3.0], [6265, 1.0], [6266, 3.0], [6267, 2.0], [6268, 3.5], [6269, 4.0], [6270, 3.5], [6271, 2.0], [6273, 3.5], [6279, 4.0], [6280, 2.0], [6281, 3.5], [6283, 4.5], [6285, 4.0], [6286, 4.0], [6287, 3.5], [6288, 3.5], [6289, 3.5], [6290, 2.5], [6291, 3.0], [6294, 1.5], [6295, 2.0], [6296, 4.0], [6297, 3.5], [6298, 3.0], [6299, 3.0], [6300, 4.0], [6301, 4.0], [6302, 1.0], [6303, 3.0], [6305, 3.5], [6306, 3.5], [6308, 2.0], [6310, 2.5], [6313, 2.0], [6314, 2.0], [6315, 1.0], [6316, 2.0], [6319, 1.0], [6320, 1.0], [6322, 4.0], [6323, 4.0], [6324, 2.5], [6327, 3.5], [6329, 3.0], [6330, 2.5], [6331, 4.0], [6332, 2.0], [6333, 4.0], [6334, 4.0], [6335, 3.0], [6336, 3.0], [6337, 3.5], [6338, 2.5], [6339, 3.5], [6341, 2.5], [6342, 2.0], [6344, 3.5], [6345, 5.0], [6347, 1.0], [6348, 0.5], [6349, 1.0], [6350, 4.0], [6357, 3.0], [6358, 3.5], [6365, 4.0], [6367, 3.0], [6368, 3.5], [6370, 4.5], [6371, 0.5], [6373, 3.0], [6374, 2.5], [6375, 3.0], [6376, 2.5], [6377, 4.0], [6378, 4.0], [6379, 2.5], [6380, 3.5], [6382, 3.0], [6383, 3.0], [6385, 4.0], [6386, 4.0], [6387, 3.0], [6390, 3.5], [6395, 3.5], [6400, 3.5], [6402, 5.0], [6405, 3.0], [6407, 2.0], [6408, 5.0], [6410, 3.0], [6412, 3.5], [6415, 4.0], [6417, 4.0], [6422, 4.0], [6424, 1.0], [6425, 1.0], [6427, 4.0], [6428, 3.0], [6429, 4.0], [6433, 2.0], [6434, 3.0], [6436, 2.5], [6440, 4.5], [6442, 5.0], [6448, 4.0], [6449, 3.0], [6452, 4.0], [6453, 3.5], [6454, 3.5], [6460, 5.0], [6461, 3.0], [6464, 0.5], [6465, 3.0], [6466, 2.0], [6476, 3.0], [6477, 3.0], [6480, 3.0], [6482, 0.5], [6483, 0.5], [6484, 2.5], [6493, 2.0], [6502, 4.0], [6503, 3.5], [6506, 3.5], [6509, 4.0], [6510, 3.0], [6514, 0.5], [6515, 4.5], [6516, 3.5], [6517, 1.5], [6523, 2.0], [6527, 3.0], [6528, 2.0], [6530, 4.0], [6533, 4.5], [6534, 3.0], [6535, 2.5], [6536, 3.5], [6537, 3.5], [6538, 3.0], [6539, 4.0], [6541, 3.0], [6542, 3.5], [6545, 4.5], [6547, 2.0], [6548, 3.0], [6549, 2.0], [6550, 3.5], [6551, 4.0], [6552, 4.0], [6553, 4.0], [6554, 0.5], [6557, 0.5], [6558, 1.5], [6559, 1.5], [6560, 2.0], [6561, 3.0], [6563, 2.5], [6564, 3.0], [6565, 4.0], [6566, 1.0], [6567, 3.0], [6568, 2.0], [6571, 4.0], [6572, 3.0], [6573, 4.0], [6574, 1.0], [6577, 3.0], [6578, 3.5], [6579, 3.5], [6581, 2.0], [6582, 1.5], [6583, 4.0], [6584, 2.5], [6586, 3.5], [6587, 1.5], [6588, 4.0], [6591, 4.0], [6592, 4.0], [6593, 3.0], [6595, 3.5], [6596, 3.5], [6597, 3.0], [6598, 3.5], [6603, 2.5], [6604, 4.0], [6609, 3.5], [6611, 5.0], [6612, 4.0], [6614, 2.0], [6615, 2.5], [6616, 1.5], [6617, 3.5], [6618, 3.5], [6619, 3.0], [6620, 4.5], [6624, 2.0], [6625, 2.5], [6628, 2.0], [6629, 3.0], [6631, 1.5], [6636, 3.5], [6638, 2.0], [6639, 4.0], [6643, 0.5], [6644, 4.0], [6645, 3.5], [6650, 1.0], [6654, 3.5], [6656, 4.0], [6658, 3.5], [6659, 3.0], [6660, 3.5], [6662, 4.0], [6663, 3.0], [6664, 3.0], [6665, 4.5], [6666, 3.5], [6667, 3.5], [6669, 3.5], [6670, 2.0], [6671, 4.0], [6678, 3.5], [6679, 4.0], [6684, 4.0], [6686, 1.0], [6687, 1.0], [6688, 3.5], [6689, 4.0], [6691, 2.5], [6692, 2.0], [6695, 1.0], [6696, 2.5], [6699, 3.0], [6702, 0.5], [6705, 2.5], [6706, 3.5], [6707, 2.0], [6708, 3.5], [6709, 3.0], [6710, 4.0], [6711, 4.0], [6713, 4.0], [6715, 3.5], [6718, 2.5], [6720, 2.0], [6721, 2.5], [6722, 2.5], [6723, 2.0], [6724, 3.5], [6731, 3.5], [6732, 2.5], [6734, 2.0], [6744, 1.5], [6746, 2.0], [6748, 3.0], [6750, 2.0], [6751, 2.5], [6752, 3.5], [6753, 3.5], [6754, 3.5], [6755, 4.0], [6760, 3.0], [6763, 2.0], [6764, 3.0], [6765, 3.0], [6768, 4.0], [6769, 3.0], [6770, 3.5], [6772, 3.0], [6773, 3.0], [6774, 3.5], [6775, 4.0], [6776, 4.0], [6777, 3.0], [6780, 3.0], [6782, 4.0], [6783, 3.0], [6785, 3.0], [6786, 4.0], [6787, 4.0], [6788, 2.0], [6789, 4.0], [6790, 2.5], [6791, 5.0], [6793, 1.0], [6794, 0.5], [6796, 3.5], [6797, 3.0], [6798, 2.5], [6800, 1.5], [6803, 3.5], [6804, 2.0], [6807, 4.0], [6808, 4.5], [6809, 3.0], [6810, 3.5], [6811, 1.5], [6812, 2.0], [6814, 3.0], [6816, 4.0], [6817, 3.0], [6818, 5.0], [6820, 4.0], [6821, 3.0], [6827, 0.5], [6832, 3.5], [6835, 5.0], [6836, 3.5], [6837, 3.0], [6850, 2.0], [6851, 2.0], [6852, 4.0], [6853, 1.0], [6856, 4.0], [6857, 4.0], [6858, 3.5], [6860, 2.0], [6862, 3.5], [6863, 3.5], [6867, 4.0], [6868, 4.0], [6869, 3.0], [6870, 4.0], [6872, 1.0], [6873, 4.0], [6874, 4.0], [6879, 3.5], [6880, 0.5], [6881, 3.5], [6882, 2.5], [6883, 3.0], [6884, 2.5], [6885, 2.0], [6886, 3.5], [6887, 4.0], [6888, 1.5], [6889, 3.0], [6890, 3.5], [6893, 4.0], [6898, 2.5], [6899, 3.5], [6902, 4.0], [6909, 2.5], [6911, 3.5], [6912, 3.5], [6918, 3.5], [6920, 3.0], [6927, 4.0], [6932, 4.5], [6934, 3.5], [6935, 4.0], [6936, 4.0], [6938, 4.0], [6939, 4.0], [6942, 4.5], [6944, 4.0], [6945, 3.5], [6946, 1.5], [6947, 3.5], [6948, 4.0], [6949, 3.5], [6950, 3.5], [6951, 2.5], [6952, 3.0], [6953, 3.0], [6954, 3.5], [6957, 4.0], [6958, 2.0], [6959, 0.5], [6961, 4.0], [6962, 3.5], [6963, 4.0], [6965, 3.5], [6966, 4.0], [6967, 0.5], [6969, 4.5], [6970, 3.5], [6971, 4.0], [6973, 2.5], [6974, 3.0], [6975, 3.5], [6978, 3.5], [6979, 4.0], [6981, 3.5], [6982, 3.5], [6983, 5.0], [6984, 4.0], [6985, 4.0], [6986, 3.0], [6987, 3.0], [6989, 3.5], [6990, 3.5], [6992, 2.0], [6993, 3.5], [6994, 1.5], [6996, 1.5], [6997, 3.0], [6998, 2.0], [6999, 2.0], [7000, 2.0], [7001, 3.5], [7004, 3.5], [7005, 1.5], [7007, 4.0], [7008, 5.0], [7009, 3.5], [7010, 3.0], [7012, 3.0], [7013, 4.0], [7015, 2.5], [7016, 0.5], [7017, 2.0], [7018, 3.5], [7019, 2.0], [7022, 3.5], [7023, 4.5], [7024, 4.0], [7025, 2.5], [7026, 3.0], [7027, 4.0], [7028, 4.0], [7030, 2.5], [7031, 4.0], [7032, 4.0], [7033, 3.5], [7034, 3.0], [7036, 2.5], [7037, 4.5], [7038, 4.0], [7040, 2.5], [7041, 2.5], [7044, 3.0], [7045, 3.0], [7046, 0.5], [7047, 2.5], [7048, 4.0], [7049, 3.0], [7050, 3.5], [7051, 3.0], [7052, 3.0], [7053, 4.0], [7054, 3.5], [7055, 4.0], [7056, 4.0], [7057, 3.5], [7058, 3.5], [7059, 3.5], [7060, 3.5], [7061, 4.0], [7062, 4.0], [7063, 3.5], [7064, 3.5], [7065, 2.0], [7067, 2.5], [7069, 3.5], [7070, 4.0], [7071, 5.0], [7072, 3.0], [7073, 2.5], [7074, 3.5], [7075, 3.5], [7076, 4.0], [7078, 2.5], [7079, 2.5], [7080, 3.5], [7082, 3.5], [7083, 3.0], [7084, 3.0], [7085, 3.0], [7086, 3.5], [7087, 4.0], [7088, 4.0], [7089, 4.0], [7090, 4.5], [7091, 3.5], [7092, 3.5], [7093, 3.5], [7096, 5.0], [7099, 4.5], [7101, 2.5], [7102, 3.0], [7103, 3.5], [7104, 2.0], [7107, 2.0], [7108, 3.0], [7109, 3.0], [7114, 0.5], [7115, 2.5], [7116, 3.5], [7117, 2.0], [7118, 3.5], [7121, 5.0], [7122, 5.0], [7123, 2.5], [7124, 3.5], [7125, 2.0], [7127, 3.5], [7131, 3.0], [7132, 3.5], [7134, 4.0], [7137, 3.5], [7139, 4.0], [7141, 4.0], [7142, 2.5], [7143, 4.0], [7147, 4.0], [7149, 4.0], [7150, 3.0], [7151, 3.0], [7153, 4.0], [7154, 2.0], [7155, 1.0], [7156, 4.0], [7158, 4.0], [7160, 4.0], [7161, 2.0], [7162, 4.0], [7163, 2.5], [7164, 3.5], [7165, 3.0], [7167, 3.0], [7169, 5.0], [7171, 3.0], [7173, 3.5], [7175, 2.0], [7176, 3.5], [7177, 3.5], [7178, 3.0], [7179, 2.5], [7181, 3.5], [7184, 4.5], [7190, 3.5], [7191, 2.0], [7192, 3.0], [7193, 2.0], [7202, 3.0], [7205, 3.0], [7206, 4.0], [7208, 3.5], [7209, 4.0], [7211, 3.5], [7212, 4.0], [7215, 3.5], [7216, 4.5], [7217, 4.0], [7218, 4.5], [7219, 4.0], [7222, 2.5], [7223, 2.5], [7225, 4.0], [7228, 2.0], [7234, 4.5], [7235, 3.0], [7236, 3.5], [7238, 4.0], [7243, 3.5], [7245, 1.0], [7247, 2.5], [7248, 3.5], [7251, 4.0], [7254, 4.0], [7255, 3.0], [7256, 4.0], [7257, 0.5], [7258, 3.0], [7259, 0.5], [7260, 3.5], [7261, 1.0], [7262, 2.0], [7263, 3.0], [7264, 4.0], [7265, 3.5], [7266, 4.0], [7282, 1.0], [7285, 3.5], [7292, 2.5], [7293, 4.0], [7294, 2.5], [7297, 3.5], [7299, 3.5], [7301, 3.5], [7302, 3.5], [7303, 4.0], [7304, 4.0], [7305, 2.5], [7306, 3.0], [7307, 2.5], [7308, 2.5], [7310, 2.5], [7311, 3.5], [7312, 0.5], [7315, 2.0], [7316, 3.0], [7317, 3.0], [7318, 2.5], [7319, 2.0], [7320, 3.0], [7321, 2.0], [7323, 3.0], [7324, 3.0], [7325, 4.0], [7326, 3.5], [7327, 4.0], [7328, 3.5], [7333, 4.0], [7335, 4.0], [7336, 3.5], [7340, 2.0], [7344, 3.5], [7345, 4.0], [7346, 3.5], [7347, 3.0], [7348, 3.5], [7349, 3.0], [7352, 4.0], [7354, 3.5], [7357, 3.5], [7360, 4.0], [7361, 4.0], [7362, 3.0], [7364, 4.0], [7366, 2.5], [7367, 2.5], [7368, 3.5], [7369, 1.5], [7371, 4.5], [7372, 3.0], [7373, 3.0], [7375, 3.0], [7376, 3.0], [7377, 3.5], [7379, 3.5], [7380, 3.0], [7381, 2.0], [7382, 4.0], [7386, 3.0], [7387, 5.0], [7390, 1.5], [7394, 2.5], [7395, 1.5], [7396, 4.0], [7411, 1.5], [7414, 2.5], [7419, 4.0], [7438, 4.0], [7439, 3.0], [7440, 2.5], [7443, 3.5], [7444, 3.0], [7445, 4.0], [7448, 2.5], [7449, 2.5], [7450, 1.0], [7451, 3.5], [7454, 3.0], [7455, 3.0], [7457, 3.5], [7458, 3.0], [7459, 4.5], [7460, 3.5], [7477, 2.5], [7479, 4.0], [7481, 3.5], [7482, 4.0], [7486, 4.5], [7487, 4.0], [7492, 4.0], [7493, 4.0], [7541, 3.5], [7560, 4.0], [7561, 3.5], [7562, 2.5], [7564, 0.5], [7566, 4.0], [7569, 4.0], [7570, 2.5], [7572, 4.5], [7573, 2.5], [7579, 2.5], [7581, 3.0], [7584, 4.0], [7587, 4.0], [7614, 4.0], [7615, 4.5], [7616, 2.5], [7618, 3.5], [7619, 3.5], [7620, 4.0], [7624, 2.5], [7636, 0.5], [7646, 2.0], [7647, 3.5], [7649, 4.0], [7650, 0.5], [7657, 3.5], [7669, 4.0], [7698, 3.5], [7700, 4.0], [7701, 0.5], [7702, 3.5], [7704, 2.0], [7705, 4.0], [7706, 4.0], [7707, 2.0], [7708, 2.0], [7713, 4.0], [7714, 4.0], [7716, 3.5], [7720, 0.5], [7727, 3.0], [7728, 4.0], [7730, 3.0], [7742, 0.5], [7743, 2.5], [7745, 4.0], [7748, 4.0], [7749, 4.0], [7753, 3.5], [7756, 3.0], [7757, 4.0], [7762, 4.0], [7766, 4.0], [7767, 4.5], [7772, 3.5], [7773, 4.0], [7781, 1.5], [7782, 1.5], [7786, 3.5], [7789, 4.0], [7802, 4.0], [7810, 3.0], [7811, 4.0], [7812, 3.5], [7815, 5.0], [7820, 3.5], [7822, 3.0], [7826, 3.5], [7831, 3.5], [7832, 3.5], [7833, 3.5], [7834, 4.0], [7835, 3.5], [7839, 3.5], [7840, 2.5], [7841, 3.0], [7842, 5.0], [7843, 4.5], [7844, 3.0], [7845, 1.0], [7846, 2.5], [7879, 3.5], [7882, 3.0], [7883, 0.5], [7884, 2.5], [7888, 3.5], [7889, 3.5], [7891, 3.0], [7894, 3.5], [7895, 3.5], [7896, 3.5], [7899, 4.5], [7900, 3.0], [7916, 3.5], [7920, 3.5], [7924, 3.5], [7925, 4.0], [7926, 4.0], [7930, 3.5], [7932, 4.0], [7934, 4.0], [7936, 4.0], [7937, 3.0], [7938, 3.5], [7939, 4.5], [7940, 4.5], [7943, 4.0], [7944, 3.0], [7951, 2.0], [7976, 4.5], [7979, 3.5], [7980, 3.5], [7981, 4.0], [7982, 4.5], [7983, 4.0], [7984, 4.0], [7986, 1.0], [7987, 2.5], [7988, 2.0], [7991, 2.0], [7993, 2.5], [8008, 3.5], [8010, 4.0], [8011, 4.0], [8012, 4.0], [8014, 4.0], [8015, 3.5], [8016, 3.5], [8019, 4.0], [8024, 3.0], [8025, 4.5], [8033, 4.0], [8035, 0.5], [8042, 4.0], [8043, 1.5], [8044, 3.0], [8045, 2.0], [8057, 3.0], [8092, 3.0], [8093, 3.5], [8094, 3.5], [8117, 4.0], [8118, 4.0], [8119, 1.5], [8121, 1.0], [8125, 4.0], [8126, 3.5], [8128, 4.0], [8131, 3.5], [8132, 4.5], [8136, 0.5], [8137, 0.5], [8138, 0.5], [8142, 3.5], [8143, 3.5], [8147, 4.0], [8153, 2.5], [8154, 4.0], [8157, 2.5], [8158, 4.0], [8167, 4.0], [8169, 3.5], [8183, 3.5], [8188, 3.5], [8189, 3.0], [8190, 4.0], [8191, 4.0], [8195, 4.0], [8196, 3.5], [8197, 4.0], [8199, 1.0], [8207, 4.0], [8225, 4.0], [8228, 4.0], [8232, 3.5], [8235, 3.0], [8236, 0.5], [8238, 5.0], [8239, 4.0], [8241, 4.0], [8253, 3.5], [8254, 4.0], [8261, 4.0], [8264, 3.5], [8266, 2.5], [8268, 4.0], [8270, 3.5], [8275, 3.5], [8290, 0.5], [8293, 3.5], [8302, 3.5], [8327, 3.5], [8331, 4.0], [8335, 3.5], [8336, 3.5], [8337, 4.0], [8338, 4.0], [8340, 4.0], [8341, 3.5], [8360, 4.0], [8361, 3.0], [8362, 2.0], [8363, 3.0], [8364, 3.5], [8366, 4.0], [8368, 4.0], [8369, 2.0], [8370, 4.0], [8371, 3.0], [8372, 0.5], [8373, 2.5], [8375, 2.5], [8376, 3.0], [8378, 4.0], [8379, 3.0], [8380, 2.5], [8382, 2.5], [8383, 1.0], [8385, 3.0], [8387, 0.5], [8391, 3.0], [8402, 2.0], [8405, 4.5], [8410, 3.5], [8424, 4.0], [8425, 2.0], [8426, 4.0], [8427, 1.5], [8446, 2.5], [8447, 1.0], [8450, 3.0], [8451, 3.0], [8454, 3.5], [8456, 4.0], [8458, 3.5], [8459, 3.5], [8461, 3.5], [8462, 3.0], [8463, 4.0], [8464, 4.0], [8465, 3.5], [8477, 4.0], [8481, 3.0], [8482, 0.5], [8484, 4.5], [8487, 3.0], [8491, 4.0], [8492, 3.0], [8493, 3.0], [8494, 0.5], [8495, 2.5], [8500, 2.5], [8501, 4.0], [8502, 3.0], [8506, 2.0], [8507, 3.0], [8511, 4.5], [8512, 3.5], [8518, 3.5], [8521, 0.5], [8526, 3.0], [8528, 4.0], [8529, 3.5], [8530, 3.5], [8531, 2.5], [8532, 2.5], [8533, 3.5], [8534, 3.5], [8535, 4.0], [8542, 3.5], [8571, 3.5], [8574, 0.5], [8575, 3.0], [8577, 4.0], [8578, 3.0], [8580, 5.0], [8581, 4.0], [8582, 4.0], [8587, 3.5], [8588, 4.0], [8591, 3.5], [8593, 4.0], [8596, 3.0], [8600, 3.5], [8601, 4.0], [8604, 2.0], [8605, 2.0], [8607, 4.0], [8609, 3.0], [8610, 1.5], [8611, 3.5], [8614, 3.0], [8617, 3.0], [8620, 0.5], [8622, 4.0], [8623, 3.0], [8626, 1.5], [8632, 0.5], [8633, 3.5], [8636, 3.5], [8638, 4.0], [8640, 3.0], [8641, 4.0], [8643, 2.5], [8644, 4.0], [8645, 4.0], [8650, 3.5], [8656, 3.0], [8665, 4.0], [8666, 2.0], [8667, 3.5], [8670, 4.0], [8677, 0.5], [8684, 3.5], [8685, 3.5], [8690, 4.0], [8695, 2.5], [8711, 3.0], [8712, 3.0], [8713, 3.0], [8714, 2.5], [8718, 3.0], [8720, 2.0], [8724, 4.0], [8727, 2.0], [8730, 3.5], [8738, 5.0], [8743, 2.5], [8748, 3.5], [8753, 3.5], [8754, 4.0], [8755, 3.0], [8771, 3.0], [8772, 0.5], [8773, 3.0], [8774, 3.5], [8778, 3.5], [8781, 3.5], [8782, 2.5], [8783, 3.0], [8784, 4.0], [8795, 4.5], [8796, 2.5], [8798, 4.0], [8799, 1.5], [8800, 4.5], [8804, 5.0], [8807, 4.0], [8808, 1.5], [8809, 2.5], [8810, 2.0], [8813, 3.5], [8814, 0.5], [8815, 2.0], [8827, 3.0], [8830, 1.5], [8831, 3.5], [8832, 3.0], [8833, 3.5], [8835, 3.0], [8836, 2.5], [8838, 3.5], [8840, 1.0], [8844, 3.0], [8848, 3.0], [8860, 3.0], [8861, 2.0], [8864, 2.0], [8865, 3.5], [8866, 3.0], [8869, 2.5], [8870, 2.0], [8873, 4.0], [8874, 5.0], [8875, 4.0], [8879, 3.0], [8880, 4.0], [8894, 1.5], [8905, 2.5], [8906, 2.0], [8907, 3.0], [8908, 3.5], [8910, 3.5], [8911, 5.0], [8912, 1.5], [8914, 4.0], [8915, 3.5], [8916, 2.5], [8917, 4.0], [8918, 3.0], [8919, 4.0], [8920, 3.5], [8921, 3.5], [8928, 4.0], [8933, 4.0], [8934, 1.0], [8937, 3.5], [8938, 4.0], [8939, 3.0], [8943, 1.0], [8946, 2.5], [8947, 2.0], [8948, 2.0], [8949, 4.0], [8950, 4.0], [8951, 4.0], [8952, 3.5], [8954, 4.0], [8955, 3.0], [8957, 4.0], [8958, 4.0], [8959, 2.0], [8961, 4.0], [8964, 3.0], [8965, 3.0], [8966, 4.0], [8967, 0.5], [8968, 3.5], [8969, 3.0], [8970, 4.0], [8972, 3.5], [8973, 4.5], [8974, 2.0], [8977, 1.0], [8978, 2.5], [8979, 4.0], [8981, 4.0], [8982, 3.0], [8983, 3.5], [8984, 3.0], [8985, 3.0], [8987, 3.0], [8989, 3.5], [8998, 4.0], [9004, 2.0], [9005, 2.0], [9008, 2.5], [9010, 3.0], [9018, 4.0], [25746, 3.0], [25750, 2.0], [25752, 4.0], [25753, 4.0], [25757, 4.0], [25769, 4.5], [25771, 4.0], [25773, 4.0], [25782, 0.5], [25788, 3.5], [25795, 3.5], [25797, 3.5], [25805, 4.5], [25825, 4.5], [25826, 3.5], [25827, 3.5], [25833, 4.0], [25834, 4.0], [25841, 4.0], [25850, 0.5], [25856, 3.0], [25865, 4.0], [25870, 3.5], [25886, 3.5], [25887, 5.0], [25898, 4.0], [25905, 3.5], [25906, 5.0], [25923, 3.5], [25927, 3.0], [25937, 3.5], [25940, 3.5], [25946, 3.5], [25947, 5.0], [25952, 4.0], [25959, 2.5], [25962, 3.0], [25963, 4.0], [25996, 3.5], [25999, 3.5], [26002, 3.5], [26003, 4.5], [26038, 4.0], [26048, 4.5], [26052, 1.5], [26059, 4.5], [26073, 5.0], [26078, 5.0], [26082, 4.0], [26084, 3.5], [26095, 0.5], [26116, 4.0], [26122, 4.5], [26124, 2.0], [26131, 4.5], [26133, 4.5], [26142, 2.0], [26147, 5.0], [26150, 4.5], [26151, 3.5], [26152, 3.0], [26158, 4.0], [26159, 3.5], [26169, 5.0], [26171, 0.5], [26172, 3.0], [26176, 2.5], [26183, 3.5], [26184, 2.5], [26195, 3.0], [26198, 2.5], [26225, 4.5], [26231, 4.0], [26236, 4.0], [26237, 4.0], [26242, 3.0], [26249, 2.5], [26258, 5.0], [26265, 4.5], [26283, 3.0], [26285, 2.5], [26303, 4.0], [26308, 4.0], [26313, 4.0], [26317, 3.5], [26322, 2.0], [26326, 4.0], [26340, 4.0], [26344, 3.0], [26347, 4.0], [26350, 5.0], [26357, 4.0], [26359, 4.5], [26365, 2.5], [26366, 5.0], [26375, 4.0], [26386, 3.5], [26391, 2.5], [26394, 4.0], [26399, 3.5], [26401, 5.0], [26409, 1.0], [26413, 3.0], [26422, 3.0], [26429, 4.0], [26444, 3.5], [26453, 4.0], [26464, 3.0], [26467, 3.0], [26471, 5.0], [26472, 3.5], [26492, 2.0], [26498, 3.0], [26504, 3.0], [26510, 1.5], [26523, 3.5], [26524, 4.5], [26527, 4.0], [26528, 4.0], [26539, 3.0], [26542, 2.5], [26547, 3.5], [26554, 4.0], [26555, 2.0], [26562, 3.0], [26564, 3.5], [26567, 2.0], [26578, 4.0], [26585, 3.0], [26587, 5.0], [26590, 2.0], [26593, 2.0], [26599, 4.0], [26603, 4.5], [26606, 4.0], [26612, 3.0], [26614, 4.0], [26622, 3.0], [26629, 1.5], [26630, 3.0], [26631, 3.0], [26645, 4.0], [26649, 3.5], [26662, 4.0], [26676, 2.5], [26680, 3.5], [26681, 3.0], [26686, 1.0], [26693, 4.0], [26694, 3.5], [26695, 3.5], [26696, 0.5], [26700, 2.0], [26701, 3.0], [26704, 4.0], [26712, 4.0], [26713, 4.5], [26717, 0.5], [26726, 2.5], [26729, 4.0], [26732, 4.0], [26736, 4.5], [26741, 1.5], [26743, 2.5], [26745, 2.5], [26750, 3.0], [26761, 3.0], [26764, 0.5], [26765, 2.0], [26776, 3.5], [26777, 4.0], [26778, 2.0], [26782, 2.0], [26791, 1.5], [26792, 1.5], [26796, 3.5], [26797, 3.0], [26810, 5.0], [26812, 2.5], [26819, 2.5], [26828, 1.5], [26838, 3.0], [26840, 5.0], [26849, 5.0], [26854, 2.5], [26861, 3.5], [26865, 1.0], [26870, 2.0], [26871, 2.0], [26875, 4.0], [26887, 3.0], [26900, 3.0], [26901, 2.5], [26903, 4.5], [26913, 1.5], [26928, 5.0], [26940, 2.5], [26947, 2.5], [26958, 3.5], [26965, 3.0], [26974, 2.5], [26985, 4.5], [26999, 3.0], [27002, 3.5], [27003, 3.0], [27006, 3.5], [27008, 1.0], [27020, 3.5], [27022, 4.0], [27032, 3.0], [27036, 3.0], [27074, 1.5], [27075, 3.0], [27105, 2.5], [27124, 2.0], [27134, 4.0], [27140, 3.0], [27155, 2.0], [27156, 4.5], [27176, 4.5], [27178, 4.0], [27186, 4.0], [27193, 2.5], [27246, 4.0], [27251, 1.0], [27255, 3.5], [27266, 4.0], [27306, 1.5], [27311, 2.0], [27317, 3.5], [27320, 5.0], [27328, 4.5], [27329, 4.0], [27368, 3.5], [27369, 4.0], [27370, 4.5], [27373, 5.0], [27397, 5.0], [27408, 2.5], [27416, 3.5], [27420, 2.0], [27426, 2.5], [27434, 0.5], [27441, 2.5], [27450, 2.5], [27473, 2.5], [27478, 3.5], [27480, 4.5], [27482, 3.0], [27491, 3.0], [27513, 3.0], [27523, 5.0], [27537, 3.5], [27539, 2.5], [27549, 1.5], [27555, 3.0], [27563, 4.5], [27584, 3.0], [27592, 3.0], [27595, 0.5], [27604, 3.0], [27611, 4.0], [27618, 2.0], [27619, 4.5], [27627, 4.5], [27644, 3.5], [27660, 4.0], [27664, 3.0], [27667, 3.0], [27674, 4.0], [27683, 2.0], [27685, 1.5], [27689, 2.5], [27692, 3.5], [27695, 3.0], [27704, 5.0], [27705, 1.5], [27706, 3.5], [27708, 4.0], [27716, 4.5], [27721, 3.0], [27722, 3.5], [27728, 3.0], [27731, 3.5], [27741, 3.5], [27744, 4.5], [27746, 3.0], [27751, 5.0], [27762, 2.5], [27768, 3.0], [27769, 3.0], [27772, 3.0], [27773, 5.0], [27776, 4.5], [27778, 3.0], [27784, 1.5], [27788, 2.5], [27790, 3.0], [27793, 1.0], [27801, 4.0], [27802, 3.0], [27803, 4.5], [27808, 4.0], [27815, 3.5], [27816, 2.5], [27820, 4.0], [27821, 3.0], [27822, 1.0], [27826, 4.0], [27829, 3.5], [27830, 2.5], [27831, 3.5], [27834, 4.5], [27837, 3.0], [27838, 3.0], [27839, 2.0], [27846, 4.0], [27850, 3.5], [27865, 2.0], [27866, 3.5], [27869, 4.5], [27873, 3.5], [27878, 4.0], [27879, 4.0], [27882, 4.5], [27899, 2.5], [27904, 4.0], [27905, 3.5], [27912, 4.0], [30707, 4.0], [30745, 4.5], [30749, 4.0], [30793, 3.5], [30803, 4.0], [30810, 3.0], [30812, 4.0], [30816, 3.0], [30818, 2.0], [30820, 3.5], [30822, 3.0], [30825, 3.5], [30846, 3.5], [30848, 3.5], [30850, 3.0], [30883, 1.5], [30890, 3.0], [30894, 2.0], [30898, 3.0], [30994, 4.0], [31000, 2.5], [31030, 4.0], [31038, 4.0], [31049, 2.5], [31083, 2.0], [31086, 3.5], [31101, 3.0], [31114, 2.5], [31116, 3.0], [31123, 2.5], [31150, 2.0], [31162, 3.0], [31184, 3.0], [31193, 3.5], [31221, 1.5], [31223, 2.0], [31225, 3.0], [31260, 3.5], [31297, 3.5], [31309, 3.5], [31364, 5.0], [31367, 2.0], [31410, 4.0], [31420, 3.5], [31422, 0.5], [31424, 0.5], [31427, 2.5], [31431, 1.5], [31433, 3.5], [31435, 4.5], [31437, 4.0], [31445, 2.0], [31522, 5.0], [31545, 4.0], [31553, 1.0], [31590, 3.0], [31610, 4.0], [31617, 3.0], [31658, 4.0], [31660, 3.0], [31664, 3.5], [31685, 3.0], [31692, 0.5], [31694, 3.0], [31696, 3.0], [31698, 1.0], [31700, 3.0], [31702, 4.0], [31737, 3.5], [31804, 2.0], [31851, 3.0], [31867, 3.0], [31878, 4.0], [31903, 4.0], [31909, 4.0], [31921, 2.5], [31923, 4.0], [31925, 4.0], [31952, 3.5], [31973, 3.5], [32009, 2.0], [32011, 2.0], [32017, 3.0], [32019, 2.0], [32022, 4.0], [32029, 3.0], [32031, 3.5], [32058, 2.0], [32060, 3.0], [32116, 2.5], [32139, 4.0], [32179, 4.0], [32213, 1.5], [32234, 4.0], [32243, 3.5], [32289, 2.5], [32291, 2.5], [32294, 3.5], [32296, 2.0], [32298, 1.5], [32300, 2.0], [32302, 4.0], [32314, 3.5], [32387, 3.5], [32392, 2.5], [32440, 2.0], [32442, 2.5], [32456, 4.0], [32460, 3.5], [32469, 4.5], [32511, 4.5], [32515, 2.5], [32554, 3.0], [32582, 4.5], [32584, 3.0], [32587, 4.0], [32589, 2.0], [32596, 3.0], [32598, 3.5], [32600, 3.5], [32620, 3.5], [32632, 3.5], [32649, 4.0], [32657, 4.5], [32659, 2.5], [32666, 1.0], [32728, 4.0], [32743, 3.0], [32770, 4.0], [32799, 3.5], [32862, 4.0], [32875, 3.0], [32892, 0.5], [32898, 3.0], [32906, 3.5], [32914, 3.0], [32917, 4.0], [33004, 4.0], [33085, 2.5], [33090, 3.0], [33124, 3.5], [33126, 2.5], [33132, 1.5], [33138, 5.0], [33145, 3.0], [33148, 2.5], [33154, 4.0], [33158, 1.5], [33162, 3.0], [33164, 0.5], [33166, 4.0], [33171, 0.5], [33188, 2.5], [33201, 4.5], [33237, 4.0], [33294, 2.5], [33310, 4.5], [33312, 3.5], [33421, 4.0], [33435, 3.5], [33437, 3.5], [33493, 4.0], [33495, 3.0], [33499, 2.5], [33558, 3.0], [33564, 4.0], [33615, 3.0], [33629, 2.5], [33639, 3.5], [33644, 2.5], [33646, 2.5], [33649, 5.0], [33660, 4.0], [33669, 1.5], [33672, 1.5], [33677, 3.5], [33679, 4.0], [33681, 1.0], [33683, 3.5], [33725, 2.0], [33779, 4.0], [33781, 2.5], [33794, 4.0], [33801, 3.0], [33815, 3.0], [33826, 2.5], [33830, 2.0], [33834, 1.0], [33836, 2.5], [33838, 3.5], [33880, 3.0], [33893, 4.5], [33896, 2.5], [33903, 3.5], [33966, 1.5], [34018, 3.0], [34048, 3.5], [34072, 3.5], [34129, 3.0], [34143, 1.0], [34148, 3.0], [34150, 3.0], [34153, 4.0], [34162, 4.0], [34164, 3.5], [34271, 3.5], [34292, 1.5], [34312, 5.0], [34319, 3.5], [34321, 3.0], [34323, 4.0], [34326, 2.0], [34330, 3.0], [34332, 0.5], [34334, 2.5], [34336, 0.5], [34338, 3.0], [34359, 4.0], [34397, 3.0], [34405, 4.0], [34437, 3.0], [34450, 4.5], [34520, 2.0], [34523, 2.0], [34528, 4.0], [34530, 2.0], [34532, 3.0], [34534, 3.5], [34536, 2.5], [34540, 3.0], [34542, 3.5], [34800, 1.5], [34811, 2.5], [35015, 3.5], [35347, 1.0], [35807, 4.0], [35836, 4.0], [35957, 3.0], [36276, 1.5], [36289, 4.0], [36363, 3.5], [36397, 1.5], [36401, 3.0], [36477, 4.0], [36509, 2.0], [36517, 2.5], [36519, 3.0], [36525, 2.0], [36527, 3.0], [36529, 4.0], [36533, 1.5], [36535, 4.0], [36537, 2.5], [36708, 4.0], [36850, 3.0], [36931, 3.5], [37211, 3.0], [37240, 4.0], [37380, 2.0], [37382, 3.0], [37384, 2.0], [37386, 2.5], [37444, 4.0], [37475, 3.0], [37477, 2.5], [37495, 3.5], [37545, 3.0], [37720, 3.0], [37727, 2.5], [37729, 4.0], [37731, 3.5], [37733, 4.0], [37736, 3.5], [37739, 3.5], [37741, 3.5], [37830, 4.0], [37844, 2.0], [37853, 2.0], [37857, 3.0], [38038, 5.0], [38061, 4.0], [38095, 3.5], [38159, 4.5], [38164, 4.0], [38198, 4.0], [38294, 2.5], [38304, 5.0], [38388, 3.5], [38583, 2.5], [38798, 2.0], [38886, 4.0], [38992, 3.5], [39183, 4.0], [39231, 3.5], [39234, 4.0], [39292, 4.0], [39307, 2.5], [39381, 4.0], [39400, 1.0], [39414, 3.0], [39427, 4.0], [39435, 3.5], [39444, 4.0], [39446, 3.0], [39449, 3.0], [39516, 4.5], [39715, 2.5], [39801, 2.0], [39869, 4.0], [40148, 2.0], [40278, 4.0], [40339, 1.5], [40412, 4.5], [40414, 3.5], [40478, 2.5], [40491, 5.0], [40578, 3.0], [40581, 1.5], [40583, 3.0], [40597, 2.0], [40614, 2.5], [40617, 3.0], [40629, 3.5], [40697, 0.5], [40723, 4.0], [40732, 3.0], [40815, 4.0], [40819, 4.0], [40826, 3.0], [40851, 4.0], [40870, 3.5], [40946, 1.5], [40955, 4.0], [40959, 3.0], [40962, 2.5], [40966, 3.5], [41014, 4.0], [41285, 4.0], [41527, 4.0], [41566, 4.0], [41569, 4.0], [41571, 3.5], [41573, 3.0], [41617, 2.5], [41627, 3.5], [41712, 4.0], [41716, 4.0], [41724, 4.5], [41769, 2.5], [41828, 4.5], [41863, 3.5], [41997, 3.5], [42002, 4.0], [42004, 3.5], [42007, 3.0], [42009, 2.0], [42011, 2.5], [42013, 3.0], [42015, 2.5], [42018, 0.5], [42176, 4.0], [42191, 3.0], [42285, 3.0], [42418, 4.0], [42422, 4.5], [42556, 5.0], [42559, 3.0], [42602, 3.5], [42632, 3.0], [42638, 2.5], [42718, 3.5], [42723, 3.0], [42725, 3.0], [42728, 2.5], [42730, 2.5], [42732, 3.0], [42734, 4.0], [42738, 3.0], [42740, 3.5], [42761, 4.5], [42943, 2.5], [42946, 3.0], [43289, 4.0], [43333, 3.5], [43376, 4.5], [43396, 4.0], [43419, 1.0], [43460, 3.0], [43549, 3.5], [43556, 2.5], [43558, 2.0], [43560, 3.0], [43677, 2.0], [43679, 3.0], [43684, 4.5], [43708, 3.0], [43744, 3.5], [43836, 3.5], [43869, 3.0], [43871, 3.0], [43904, 1.0], [43908, 3.0], [43912, 2.0], [43914, 4.0], [43917, 3.5], [43919, 1.0], [43921, 3.0], [43928, 2.5], [43930, 3.0], [43932, 1.5], [43936, 3.0], [44004, 3.0], [44020, 2.5], [44022, 3.5], [44189, 4.0], [44191, 4.0], [44193, 3.0], [44195, 4.0], [44197, 3.0], [44199, 4.0], [44204, 3.0], [44225, 1.0], [44238, 2.5], [44241, 2.0], [44243, 0.5], [44301, 3.5], [44397, 2.5], [44399, 1.0], [44511, 3.5], [44555, 4.0], [44597, 4.0], [44613, 2.5], [44633, 4.5], [44657, 3.0], [44665, 4.0], [44694, 3.5], [44709, 4.0], [44719, 2.5], [44731, 0.5], [44759, 1.0], [44761, 3.5], [44773, 3.0], [44777, 4.5], [44788, 3.0], [44828, 2.5], [44840, 2.5], [44849, 2.5], [44851, 5.0], [44864, 2.5], [44889, 4.5], [44929, 4.0], [44931, 4.5], [44937, 4.0], [44943, 5.0], [44972, 2.0], [44974, 4.5], [45028, 4.0], [45062, 2.0], [45074, 2.5], [45081, 3.0], [45106, 3.0], [45175, 4.0], [45183, 3.0], [45186, 4.0], [45208, 1.5], [45210, 4.0], [45221, 2.5], [45361, 1.0], [45382, 2.5], [45431, 3.5], [45440, 4.0], [45442, 3.0], [45447, 3.0], [45499, 4.0], [45501, 2.0], [45503, 5.0], [45517, 3.5], [45635, 3.0], [45648, 2.5], [45658, 2.0], [45662, 2.5], [45666, 3.5], [45668, 3.0], [45672, 2.5], [45720, 3.5], [45722, 3.5], [45726, 2.5], [45728, 4.0], [45730, 3.0], [45732, 0.5], [45880, 3.0], [45928, 4.0], [45950, 3.0], [45969, 2.5], [46062, 1.0], [46105, 4.5], [46231, 2.0], [46322, 3.0], [46335, 2.0], [46337, 0.5], [46347, 3.5], [46367, 2.0], [46530, 3.0], [46559, 3.5], [46572, 2.0], [46574, 2.5], [46578, 4.0], [46664, 2.5], [46723, 3.5], [46772, 2.5], [46850, 4.0], [46855, 4.5], [46862, 3.5], [46865, 1.0], [46948, 4.0], [46965, 3.0], [46967, 2.5], [46970, 3.5], [46972, 3.0], [46974, 3.0], [46976, 4.0], [47044, 2.0], [47099, 4.0], [47122, 4.0], [47124, 3.0], [47200, 3.0], [47202, 4.0], [47254, 3.5], [47261, 3.0], [47382, 2.0], [47384, 2.5], [47404, 3.5], [47423, 4.0], [47446, 3.5], [47465, 1.5], [47491, 4.0], [47516, 2.0], [47518, 3.5], [47538, 2.5], [47566, 4.0], [47610, 4.0], [47629, 4.0], [47640, 3.5], [47644, 3.5], [47646, 4.0], [47721, 3.5], [47725, 3.0], [47736, 5.0], [47774, 3.0], [47793, 2.5], [47810, 1.0], [47894, 3.5], [47937, 3.0], [47950, 3.0], [47952, 3.0], [47970, 3.0], [47978, 2.5], [47997, 3.5], [47999, 3.5], [48001, 4.0], [48032, 4.0], [48043, 3.0], [48045, 4.0], [48082, 3.5], [48142, 3.0], [48150, 3.0], [48161, 3.0], [48214, 3.5], [48262, 4.0], [48304, 4.0], [48319, 2.0], [48322, 3.5], [48326, 2.5], [48342, 3.0], [48385, 3.0], [48394, 4.0], [48412, 3.0], [48414, 3.0], [48416, 2.5], [48516, 4.5], [48518, 2.0], [48520, 2.5], [48560, 2.5], [48593, 2.0], [48596, 2.5], [48598, 3.5], [48638, 3.5], [48649, 4.5], [48678, 2.5], [48696, 4.0], [48698, 4.0], [48738, 4.0], [48741, 4.0], [48744, 3.5], [48774, 4.0], [48780, 3.5], [48783, 3.5], [48872, 4.5], [48877, 3.0], [48879, 2.5], [48883, 3.0], [48982, 3.5], [48997, 3.0], [49013, 2.0], [49110, 2.0], [49130, 4.0], [49132, 3.5], [49220, 1.5], [49263, 3.0], [49265, 4.0], [49272, 4.0], [49274, 2.5], [49276, 0.5], [49278, 3.5], [49280, 3.5], [49284, 1.5], [49286, 3.5], [49314, 3.0], [49347, 3.0], [49389, 1.0], [49396, 3.5], [49524, 3.5], [49530, 4.0], [49647, 2.5], [49649, 2.5], [49651, 3.0], [49666, 3.0], [49688, 4.0], [49735, 3.5], [49772, 2.5], [49793, 3.5], [49822, 3.0], [49824, 2.5], [49910, 2.5], [49917, 4.0], [49932, 4.0], [49957, 3.0], [49961, 4.0], [50003, 1.0], [50005, 2.0], [50064, 3.0], [50068, 3.5], [50147, 2.0], [50158, 2.5], [50160, 3.5], [50189, 0.5], [50274, 3.0], [50354, 3.0], [50356, 3.0], [50440, 2.0], [50442, 2.0], [50445, 2.5], [50514, 3.5], [50601, 3.5], [50610, 4.0], [50613, 4.5], [50658, 4.0], [50685, 3.5], [50740, 4.0], [50792, 2.0], [50794, 3.0], [50796, 2.0], [50798, 1.5], [50800, 2.0], [50802, 2.5], [50804, 2.5], [50806, 1.0], [50842, 4.5], [50851, 4.0], [50872, 4.0], [50912, 2.5], [50923, 2.0], [50942, 3.5], [50954, 1.0], [50999, 5.0], [51024, 2.0], [51037, 3.5], [51077, 2.0], [51080, 4.5], [51082, 2.0], [51084, 3.5], [51086, 3.0], [51088, 2.0], [51091, 3.0], [51167, 4.5], [51174, 3.5], [51255, 4.5], [51314, 4.5], [51357, 4.0], [51412, 3.5], [51471, 3.0], [51498, 3.0], [51540, 4.0], [51545, 2.5], [51562, 4.0], [51573, 3.0], [51575, 2.5], [51662, 3.5], [51666, 2.0], [51694, 3.5], [51698, 2.5], [51705, 4.0], [51709, 3.5], [51834, 3.0], [51884, 4.0], [51903, 2.5], [51925, 3.5], [51927, 3.0], [51931, 5.0], [51933, 2.5], [51935, 4.0], [51937, 2.0], [51939, 2.5], [52042, 2.5], [52241, 3.5], [52245, 3.0], [52279, 1.5], [52281, 4.0], [52283, 2.0], [52287, 4.0], [52299, 3.5], [52319, 4.5], [52328, 3.0], [52375, 3.5], [52435, 3.5], [52458, 2.5], [52462, 3.0], [52579, 3.0], [52604, 4.5], [52644, 3.5], [52668, 4.0], [52694, 3.0], [52712, 0.5], [52715, 2.0], [52722, 3.5], [52724, 3.0], [52730, 0.5], [52767, 4.0], [52784, 4.0], [52831, 3.5], [52867, 4.0], [52885, 3.0], [52950, 2.0], [52952, 3.5], [52967, 3.0], [52973, 3.5], [52975, 3.5], [53000, 4.0], [53022, 3.0], [53024, 4.0], [53121, 3.0], [53123, 3.5], [53125, 3.5], [53127, 3.5], [53129, 4.5], [53138, 3.5], [53140, 3.5], [53143, 2.0], [53161, 3.0], [53280, 5.0], [53318, 2.5], [53322, 3.0], [53326, 2.0], [53355, 5.0], [53435, 0.5], [53447, 4.0], [53450, 1.5], [53453, 0.5], [53460, 3.5], [53464, 3.0], [53466, 3.0], [53468, 3.0], [53519, 3.5], [53550, 2.5], [53574, 4.0], [53578, 5.0], [53808, 2.0], [53883, 4.5], [53894, 3.5], [53921, 3.5], [53953, 4.0], [53956, 2.5], [53972, 3.0], [53974, 3.0], [53993, 2.5], [53996, 3.5], [54001, 4.0], [54004, 4.0], [54116, 3.0], [54121, 3.0], [54185, 3.5], [54190, 4.0], [54256, 4.0], [54259, 4.0], [54272, 4.0], [54274, 0.5], [54276, 3.0], [54281, 3.0], [54286, 4.0], [54354, 4.0], [54372, 4.0], [54503, 4.0], [54617, 3.5], [54648, 4.5], [54686, 3.0], [54732, 2.0], [54734, 1.5], [54736, 3.5], [54745, 3.0], [54768, 0.5], [54771, 2.0], [54780, 3.0], [54785, 3.0], [54787, 3.5], [54796, 3.5], [54881, 4.0], [54908, 2.0], [54910, 4.0], [54934, 0.5], [54962, 2.5], [54995, 5.0], [54997, 4.0], [54999, 3.0], [55020, 4.5], [55036, 2.5], [55052, 3.5], [55061, 1.0], [55067, 3.5], [55069, 4.0], [55071, 4.0], [55080, 2.5], [55094, 3.0], [55110, 3.0], [55112, 4.0], [55116, 2.5], [55118, 4.0], [55156, 4.0], [55167, 5.0], [55190, 3.0], [55205, 2.5], [55207, 3.0], [55232, 3.5], [55241, 0.5], [55245, 3.0], [55247, 3.5], [55250, 2.0], [55253, 3.5], [55259, 1.0], [55261, 2.5], [55267, 3.0], [55269, 4.0], [55272, 3.5], [55274, 2.5], [55276, 4.0], [55278, 4.0], [55280, 4.0], [55282, 3.0], [55290, 4.0], [55292, 0.5], [55294, 2.5], [55363, 5.0], [55391, 4.5], [55442, 4.0], [55444, 3.5], [55451, 3.5], [55492, 4.0], [55553, 3.0], [55555, 3.5], [55577, 2.5], [55620, 3.0], [55687, 4.5], [55721, 4.0], [55729, 3.0], [55765, 4.0], [55768, 3.5], [55805, 3.0], [55814, 4.0], [55820, 4.0], [55830, 3.0], [55844, 3.5], [55854, 3.0], [55872, 3.0], [55908, 4.0], [55946, 3.0], [55995, 3.0], [56003, 3.0], [56012, 2.0], [56022, 2.0], [56060, 4.5], [56145, 3.0], [56152, 3.5], [56156, 3.5], [56169, 4.0], [56171, 3.0], [56174, 4.0], [56176, 2.0], [56251, 4.0], [56274, 3.0], [56286, 3.0], [56333, 3.5], [56336, 2.0], [56339, 3.5], [56367, 3.5], [56379, 2.5], [56389, 4.0], [56563, 2.5], [56587, 2.5], [56607, 2.5], [56620, 3.0], [56715, 4.0], [56757, 4.0], [56775, 3.5], [56782, 4.5], [56788, 3.5], [56801, 2.0], [56805, 3.0], [56837, 3.0], [56869, 4.0], [56908, 4.0], [56915, 4.0], [56921, 2.0], [56941, 3.5], [56949, 3.0], [57147, 4.0], [57183, 4.0], [57243, 3.0], [57274, 3.5], [57326, 0.5], [57368, 4.0], [57421, 4.0], [57499, 3.0], [57502, 4.0], [57504, 4.5], [57522, 3.5], [57526, 3.0], [57528, 4.0], [57532, 3.5], [57536, 3.0], [57637, 3.5], [57640, 4.0], [57669, 4.0], [57772, 3.5], [57843, 4.5], [57910, 2.0], [57951, 0.5], [58025, 2.5], [58047, 3.5], [58078, 3.0], [58103, 3.5], [58105, 3.5], [58107, 2.5], [58154, 4.0], [58156, 3.0], [58162, 3.5], [58191, 4.0], [58287, 1.0], [58291, 4.5], [58293, 3.0], [58295, 3.5], [58297, 4.0], [58299, 3.0], [58301, 4.5], [58303, 1.5], [58306, 2.5], [58309, 4.5], [58315, 0.5], [58332, 2.0], [58347, 2.0], [58351, 4.0], [58376, 3.0], [58404, 2.5], [58425, 3.5], [58492, 3.0], [58554, 2.0], [58559, 5.0], [58627, 3.5], [58655, 2.0], [58783, 2.5], [58803, 4.0], [58806, 2.5], [58826, 2.5], [58839, 3.0], [58842, 4.5], [58870, 3.0], [58876, 3.0], [58879, 3.5], [58964, 4.0], [58972, 2.5], [58975, 3.5], [58998, 4.0], [59014, 0.5], [59016, 2.5], [59018, 4.5], [59022, 3.5], [59026, 4.0], [59037, 2.5], [59103, 3.0], [59118, 3.5], [59126, 4.0], [59129, 1.5], [59131, 3.5], [59141, 4.5], [59143, 4.0], [59220, 3.5], [59258, 3.0], [59295, 1.0], [59306, 0.5], [59315, 4.0], [59333, 2.5], [59336, 3.0], [59369, 4.0], [59387, 4.0], [59421, 3.5], [59429, 2.5], [59440, 3.5], [59501, 4.0], [59549, 4.0], [59604, 3.5], [59615, 3.0], [59667, 4.0], [59725, 2.5], [59727, 2.0], [59731, 3.5], [59738, 3.0], [59784, 4.0], [59810, 3.5], [59814, 5.0], [59900, 3.0], [59915, 3.5], [59947, 2.0], [59985, 4.0], [59995, 4.0], [60030, 4.5], [60037, 3.5], [60040, 3.0], [60046, 3.5], [60069, 4.0], [60072, 3.0], [60074, 3.0], [60126, 3.0], [60128, 1.0], [60141, 2.5], [60161, 3.0], [60289, 2.0], [60291, 3.5], [60293, 3.0], [60303, 4.0], [60333, 4.0], [60363, 0.5], [60365, 1.5], [60389, 4.0], [60397, 3.5], [60408, 4.0], [60471, 3.5], [60487, 3.0], [60514, 3.0], [60516, 2.5], [60522, 1.5], [60538, 3.5], [60647, 2.5], [60674, 2.5], [60684, 4.0], [60735, 2.5], [60737, 5.0], [60753, 3.0], [60756, 4.0], [60760, 2.5], [60766, 3.5], [60803, 2.5], [60818, 4.0], [60832, 4.0], [60857, 3.0], [60885, 3.5], [60894, 3.0], [60904, 4.0], [60937, 2.5], [60941, 3.0], [60943, 4.5], [60950, 3.0], [60979, 4.0], [61011, 2.0], [61024, 4.0], [61026, 3.5], [61071, 2.5], [61073, 2.0], [61123, 2.0], [61132, 4.0], [61160, 2.5], [61167, 4.0], [61210, 3.5], [61236, 2.5], [61240, 3.5], [61246, 2.0], [61248, 3.5], [61250, 2.0], [61255, 1.5], [61257, 4.0], [61262, 1.5], [61289, 2.5], [61319, 3.5], [61323, 3.0], [61348, 1.0], [61350, 0.5], [61352, 3.0], [61394, 4.0], [61401, 2.5], [61406, 4.0], [61465, 3.0], [61628, 2.0], [61692, 3.0], [61697, 3.0], [61705, 2.5], [61729, 0.5], [61818, 0.5], [61986, 3.0], [62008, 3.0], [62081, 2.5], [62113, 3.5], [62155, 3.0], [62208, 4.5], [62250, 2.0], [62293, 2.0], [62299, 3.5], [62336, 5.0], [62344, 1.5], [62374, 4.0], [62376, 2.5], [62383, 3.5], [62394, 2.0], [62434, 3.5], [62437, 2.5], [62439, 4.5], [62511, 3.5], [62553, 4.0], [62586, 2.0], [62644, 4.0], [62662, 3.0], [62718, 2.5], [62792, 2.5], [62799, 3.0], [62834, 4.0], [62836, 4.0], [62849, 3.5], [62956, 4.0], [62970, 1.5], [62999, 3.5], [63033, 3.5], [63062, 3.0], [63072, 4.0], [63082, 4.0], [63113, 3.5], [63131, 4.0], [63179, 3.5], [63222, 2.5], [63239, 3.0], [63276, 3.5], [63312, 2.0], [63393, 1.0], [63433, 4.0], [63436, 2.0], [63479, 4.0], [63515, 4.0], [63540, 2.0], [63768, 3.0], [63808, 2.5], [63826, 4.0], [63853, 2.0], [63859, 3.0], [63876, 4.0], [63992, 3.0], [64010, 3.5], [64030, 2.0], [64032, 2.5], [64034, 4.0], [64114, 1.0], [64116, 3.5], [64167, 3.5], [64197, 4.5], [64231, 3.0], [64249, 2.0], [64278, 3.5], [64285, 2.5], [64497, 3.0], [64499, 5.0], [64501, 5.0], [64575, 3.5], [64614, 4.0], [64620, 4.0], [64622, 3.5], [64695, 4.0], [64716, 4.0], [64839, 4.0], [64957, 3.5], [64969, 4.0], [64983, 3.5], [64993, 2.5], [64997, 2.5], [65037, 3.5], [65088, 4.0], [65126, 3.0], [65130, 3.0], [65133, 3.0], [65135, 3.0], [65188, 2.5], [65193, 3.0], [65216, 3.5], [65225, 4.5], [65230, 4.0], [65261, 5.0], [65350, 0.5], [65359, 3.0], [65514, 4.0], [65577, 3.0], [65585, 3.5], [65588, 2.5], [65596, 4.0], [65601, 2.0], [65631, 4.0], [65642, 3.5], [65651, 2.0], [65682, 3.5], [65685, 3.0], [65738, 4.0], [65740, 4.0], [65802, 2.5], [65810, 3.0], [65882, 3.5], [65982, 3.0], [66090, 4.0], [66097, 4.0], [66171, 2.5], [66198, 3.0], [66203, 3.0], [66240, 3.5], [66297, 3.0], [66310, 3.5], [66320, 4.0], [66335, 2.5], [66371, 5.0], [66427, 3.0], [66509, 3.5], [66511, 3.5], [66544, 4.0], [66665, 3.0], [66744, 4.0], [66783, 3.0], [66785, 4.0], [66798, 2.0], [66915, 2.0], [66934, 4.0], [66943, 3.5], [67087, 4.0], [67168, 3.5], [67186, 2.0], [67193, 2.5], [67197, 3.0], [67255, 4.0], [67267, 4.0], [67295, 1.0], [67361, 2.0], [67408, 4.0], [67508, 4.0], [67534, 2.5], [67618, 5.0], [67665, 3.5], [67695, 0.5], [67734, 4.0], [67788, 2.5], [67799, 0.5], [67888, 4.5], [67923, 3.0], [67997, 4.0], [68073, 4.5], [68135, 3.5], [68157, 4.0], [68159, 4.0], [68194, 4.0], [68205, 3.0], [68237, 4.0], [68269, 4.0], [68319, 2.5], [68347, 4.0], [68358, 4.0], [68444, 3.5], [68480, 1.5], [68486, 3.5], [68522, 3.5], [68536, 4.0], [68552, 2.0], [68554, 3.0], [68597, 4.0], [68600, 2.0], [68650, 2.0], [68659, 3.0], [68791, 3.5], [68793, 3.0], [68835, 3.5], [68848, 4.0], [68872, 4.0], [68886, 4.0], [68932, 3.5], [68945, 3.5], [68952, 3.5], [68954, 4.0], [68959, 2.0], [69069, 3.5], [69118, 1.5], [69122, 4.0], [69131, 2.5], [69134, 3.0], [69140, 4.0], [69211, 5.0], [69224, 4.0], [69227, 1.0], [69251, 3.5], [69275, 4.0], [69278, 3.5], [69304, 4.0], [69306, 3.0], [69394, 4.5], [69406, 3.0], [69436, 3.0], [69453, 1.0], [69469, 5.0], [69481, 4.0], [69495, 3.5], [69516, 2.5], [69524, 4.5], [69526, 3.0], [69529, 4.0], [69604, 3.0], [69606, 1.5], [69640, 3.0], [69644, 4.0], [69654, 3.5], [69685, 1.0], [69712, 4.0], [69720, 4.5], [69746, 3.5], [69757, 4.0], [69784, 4.0], [69805, 3.5], [69844, 4.0], [69849, 3.5], [69860, 5.0], [69904, 2.5], [69951, 4.0], [69953, 3.5], [69988, 2.5], [70015, 1.5], [70159, 2.0], [70183, 3.5], [70206, 3.5], [70208, 4.0], [70286, 4.0], [70293, 3.0], [70301, 3.5], [70305, 3.5], [70334, 3.5], [70336, 3.0], [70361, 3.0], [70451, 5.0], [70492, 3.5], [70521, 4.0], [70533, 4.0], [70545, 2.0], [70565, 2.5], [70599, 3.5], [70637, 4.0], [70641, 0.5], [70663, 2.5], [70687, 1.0], [70697, 3.5], [70703, 2.0], [70708, 4.5], [70728, 4.0], [70862, 3.0], [70932, 2.0], [70946, 5.0], [70984, 3.5], [70990, 2.5], [70994, 1.0], [71033, 4.0], [71057, 4.0], [71106, 4.0], [71108, 4.5], [71129, 3.5], [71131, 4.0], [71135, 3.5], [71147, 3.0], [71156, 3.0], [71160, 3.0], [71205, 0.5], [71211, 3.0], [71248, 1.0], [71252, 3.0], [71254, 3.5], [71264, 4.0], [71268, 5.0], [71282, 3.0], [71302, 4.5], [71304, 4.5], [71327, 3.5], [71341, 3.0], [71379, 2.0], [71429, 1.5], [71438, 1.0], [71453, 4.0], [71462, 4.0], [71464, 3.0], [71466, 4.0], [71468, 3.5], [71484, 2.5], [71494, 3.5], [71500, 2.5], [71518, 4.0], [71520, 0.5], [71530, 3.0], [71535, 4.0], [71550, 1.0], [71579, 3.5], [71619, 4.0], [71640, 3.5], [71668, 2.5], [71732, 1.5], [71745, 2.5], [71810, 0.5], [71823, 3.5], [71838, 2.5], [71867, 3.0], [71899, 4.0], [71902, 3.5], [71910, 2.5], [71970, 4.0], [71999, 4.5], [72011, 4.0], [72104, 4.5], [72129, 3.0], [72142, 5.0], [72165, 2.0], [72167, 1.0], [72171, 2.0], [72178, 4.5], [72224, 1.0], [72226, 4.0], [72294, 2.5], [72308, 4.0], [72330, 3.5], [72356, 4.5], [72378, 2.0], [72395, 3.0], [72405, 2.0], [72407, 2.0], [72424, 0.5], [72479, 3.5], [72489, 4.0], [72554, 4.5], [72591, 3.5], [72601, 3.0], [72603, 3.0], [72605, 3.5], [72624, 3.5], [72641, 4.0], [72692, 5.0], [72694, 2.0], [72696, 0.5], [72701, 1.5], [72714, 4.0], [72720, 4.0], [72731, 3.0], [72733, 4.0], [72737, 3.5], [72874, 1.0], [72919, 3.0], [72921, 3.5], [72982, 4.0], [72998, 4.0], [73015, 1.5], [73017, 3.5], [73023, 4.0], [73042, 1.0], [73106, 1.5], [73160, 2.5], [73211, 3.5], [73266, 3.0], [73268, 3.5], [73290, 2.0], [73319, 3.0], [73321, 3.5], [73323, 4.0], [73344, 4.0], [73386, 1.5], [73431, 2.5], [73488, 2.0], [73499, 3.5], [73501, 3.5], [73515, 3.5], [73569, 2.5], [73676, 3.0], [73681, 3.0], [73741, 3.0], [73804, 4.0], [73808, 3.0], [73822, 5.0], [73854, 3.0], [73858, 1.5], [73876, 4.0], [73881, 4.5], [73929, 2.0], [74075, 1.0], [74089, 3.5], [74095, 2.5], [74154, 1.0], [74226, 5.0], [74228, 3.5], [74275, 0.5], [74282, 4.5], [74324, 4.5], [74342, 4.5], [74370, 4.0], [74450, 3.0], [74452, 0.5], [74458, 4.5], [74508, 2.0], [74510, 3.5], [74530, 2.5], [74532, 0.5], [74545, 3.0], [74553, 3.5], [74580, 2.0], [74624, 4.0], [74647, 1.0], [74668, 3.5], [74677, 4.0], [74683, 4.0], [74685, 3.5], [74688, 3.5], [74696, 3.0], [74698, 2.0], [74727, 4.5], [74750, 3.0], [74754, 5.0], [74789, 3.0], [74791, 3.5], [74795, 3.0], [74851, 2.0], [74868, 3.0], [74916, 2.5], [74946, 4.0], [74948, 4.0], [75341, 4.0], [75389, 3.0], [75395, 3.0], [75416, 1.5], [75446, 2.5], [75803, 1.5], [75805, 3.0], [75813, 3.0], [75816, 2.0], [75947, 2.0], [75985, 3.5], [76030, 0.5], [76054, 4.0], [76060, 2.5], [76077, 3.5], [76091, 5.0], [76093, 4.0], [76143, 4.5], [76173, 3.0], [76175, 3.0], [76251, 4.0], [76293, 3.5], [76301, 4.5], [76738, 3.5], [76743, 3.5], [76751, 3.0], [76763, 3.5], [77177, 4.0], [77191, 2.5], [77201, 2.5], [77206, 3.5], [77233, 3.5], [77266, 3.5], [77364, 2.5], [77414, 3.5], [77421, 2.5], [77427, 0.5], [77455, 3.5], [77561, 4.0], [77667, 3.0], [77688, 4.5], [77709, 2.5], [77795, 3.5], [77798, 0.5], [77800, 4.0], [77841, 2.0], [77846, 5.0], [77866, 2.0], [77881, 3.5], [77893, 4.0], [77931, 4.0], [78034, 3.5], [78039, 3.5], [78041, 1.5], [78088, 3.5], [78103, 2.5], [78105, 3.0], [78116, 3.5], [78142, 4.5], [78160, 3.5], [78174, 0.5], [78209, 3.5], [78218, 3.0], [78264, 3.0], [78266, 3.0], [78316, 1.0], [78349, 3.5], [78467, 2.0], [78469, 3.0], [78499, 4.0], [78544, 3.0], [78574, 2.5], [78620, 4.5], [78626, 3.5], [78637, 3.5], [78703, 3.5], [78746, 4.0], [78772, 3.0], [78836, 5.0], [78893, 1.0], [78959, 3.0], [79006, 4.5], [79008, 4.0], [79057, 3.5], [79073, 4.0], [79091, 3.5], [79132, 5.0], [79134, 3.5], [79139, 3.5], [79185, 3.5], [79224, 3.5], [79242, 3.0], [79251, 0.5], [79259, 2.5], [79274, 2.5], [79293, 3.5], [79299, 3.0], [79333, 4.0], [79357, 3.5], [79428, 3.5], [79501, 4.0], [79536, 3.0], [79553, 3.5], [79572, 2.5], [79590, 2.5], [79592, 4.0], [79677, 3.5], [79684, 4.0], [79695, 2.0], [79702, 4.0], [79798, 3.0], [79868, 2.5], [79879, 3.0], [79895, 2.5], [79897, 5.0], [79946, 3.5], [80083, 4.0], [80094, 4.0], [80124, 5.0], [80126, 0.5], [80139, 3.0], [80162, 2.5], [80166, 3.0], [80219, 3.0], [80241, 2.5], [80363, 2.5], [80454, 2.5], [80463, 4.0], [80478, 4.0], [80489, 4.0], [80549, 4.0], [80551, 3.5], [80553, 3.5], [80572, 4.0], [80584, 4.0], [80586, 3.5], [80590, 2.0], [80615, 4.0], [80693, 4.0], [80727, 2.5], [80748, 4.0], [80831, 3.5], [80834, 3.5], [80839, 2.5], [80846, 3.0], [80858, 3.5], [80860, 0.5], [80862, 3.0], [80864, 3.5], [80880, 2.5], [80906, 4.0], [80917, 3.5], [80969, 4.0], [81018, 2.0], [81087, 4.5], [81132, 3.5], [81156, 3.0], [81158, 3.0], [81191, 4.0], [81229, 4.0], [81257, 3.5], [81383, 2.5], [81417, 3.0], [81456, 3.0], [81512, 4.0], [81520, 4.0], [81535, 4.5], [81537, 3.5], [81562, 4.0], [81564, 3.5], [81591, 4.0], [81681, 2.0], [81782, 3.5], [81784, 2.5], [81786, 4.0], [81788, 4.0], [81791, 3.0], [81819, 4.0], [81831, 4.0], [81834, 4.0], [81845, 4.0], [81847, 4.0], [81910, 4.0], [81932, 4.0], [81949, 3.0], [82041, 4.0], [82053, 3.0], [82088, 3.0], [82093, 1.5], [82095, 0.5], [82152, 3.5], [82167, 2.0], [82169, 4.5], [82202, 3.0], [82242, 3.5], [82366, 4.5], [82378, 2.5], [82459, 4.0], [82461, 3.5], [82499, 2.0], [82527, 4.0], [82534, 2.5], [82641, 3.0], [82667, 4.0], [82684, 0.5], [82744, 5.0], [82765, 3.5], [82767, 3.5], [82848, 3.5], [82852, 1.0], [82854, 1.5], [82857, 4.5], [83086, 2.5], [83132, 4.0], [83134, 4.0], [83177, 0.5], [83270, 2.0], [83349, 3.0], [83369, 4.0], [83374, 3.5], [83480, 3.5], [83601, 0.5], [83613, 3.0], [83796, 2.5], [83803, 4.5], [83827, 3.5], [83910, 2.5], [83969, 5.0], [83976, 4.0], [84152, 4.0], [84156, 4.5], [84187, 3.0], [84189, 3.5], [84240, 4.0], [84246, 4.5], [84273, 5.0], [84374, 3.5], [84392, 4.0], [84414, 3.5], [84512, 5.0], [84523, 3.0], [84553, 4.0], [84601, 4.0], [84615, 2.0], [84637, 3.0], [84696, 4.0], [84716, 4.0], [84772, 3.0], [84799, 4.5], [84844, 4.5], [84847, 0.5], [84942, 3.5], [84944, 3.5], [84950, 2.5], [84952, 4.0], [84954, 3.0], [85020, 2.5], [85022, 3.0], [85025, 2.0], [85056, 3.0], [85131, 1.0], [85179, 3.0], [85213, 4.0], [85259, 4.0], [85261, 3.5], [85295, 5.0], [85316, 3.5], [85334, 0.5], [85342, 4.0], [85354, 2.0], [85367, 5.0], [85394, 3.0], [85397, 3.0], [85399, 1.0], [85401, 2.5], [85412, 3.5], [85414, 3.5], [85438, 3.0], [85510, 3.5], [85736, 4.0], [85774, 4.5], [85780, 2.5], [85788, 2.0], [85796, 2.0], [85881, 3.5], [85885, 1.0], [86000, 4.0], [86014, 3.5], [86028, 2.0], [86059, 1.5], [86066, 4.0], [86068, 0.5], [86142, 3.0], [86190, 3.5], [86237, 5.0], [86279, 3.5], [86286, 2.0], [86290, 3.0], [86293, 2.0], [86295, 3.0], [86298, 3.5], [86320, 0.5], [86332, 4.0], [86345, 4.0], [86347, 5.0], [86355, 2.0], [86377, 5.0], [86487, 4.5], [86504, 5.0], [86548, 3.5], [86593, 2.5], [86628, 4.0], [86644, 4.0], [86668, 5.0], [86721, 5.0], [86781, 4.0], [86815, 3.5], [86817, 2.5], [86833, 4.0], [86835, 2.5], [86864, 3.0], [86880, 3.5], [86882, 3.5], [86892, 4.0], [86898, 3.0], [86911, 3.5], [86922, 4.0], [86960, 2.0], [87028, 2.0], [87192, 3.0], [87194, 3.5], [87197, 3.0], [87222, 3.5], [87232, 4.0], [87234, 3.5], [87287, 4.0], [87298, 1.5], [87304, 3.5], [87306, 4.5], [87413, 0.5], [87430, 3.5], [87444, 1.5], [87483, 2.0], [87485, 3.5], [87520, 2.0], [87522, 1.5], [87529, 2.5], [87660, 4.5], [87785, 2.0], [87834, 5.0], [87867, 3.0], [87869, 3.5], [87876, 2.5], [87960, 3.0], [88069, 4.0], [88094, 3.0], [88108, 3.0], [88125, 4.0], [88129, 4.0], [88140, 4.0], [88163, 4.0], [88179, 3.5], [88235, 4.0], [88267, 3.0], [88272, 3.5], [88327, 3.0], [88345, 4.0], [88356, 2.0], [88405, 3.5], [88448, 5.0], [88515, 3.0], [88593, 2.5], [88672, 3.0], [88697, 2.5], [88699, 3.0], [88744, 4.0], [88746, 2.0], [88785, 3.5], [88810, 4.0], [88812, 2.5], [88911, 3.0], [88932, 4.5], [88954, 3.0], [89028, 2.5], [89030, 3.0], [89039, 4.5], [89047, 4.0], [89072, 4.0], [89085, 2.5], [89087, 2.0], [89090, 4.5], [89118, 0.5], [89190, 0.5], [89208, 3.5], [89281, 3.5], [89305, 3.5], [89343, 3.0], [89386, 0.5], [89388, 1.5], [89427, 1.5], [89470, 4.0], [89492, 4.0], [89580, 4.0], [89582, 4.5], [89586, 3.5], [89678, 4.0], [89745, 4.0], [89753, 4.0], [89759, 4.0], [89761, 2.5], [89774, 4.0], [89804, 4.0], [89837, 4.5], [89840, 1.5], [89862, 3.5], [89864, 3.5], [89898, 3.5], [89904, 5.0], [89939, 3.0], [89945, 3.0], [90057, 3.0], [90243, 3.5], [90245, 4.0], [90249, 3.5], [90343, 2.5], [90345, 2.0], [90353, 4.0], [90357, 3.5], [90374, 3.0], [90376, 3.5], [90384, 2.0], [90403, 2.5], [90405, 3.5], [90428, 3.0], [90430, 3.0], [90439, 3.0], [90469, 3.5], [90471, 2.5], [90522, 4.0], [90524, 3.5], [90528, 3.5], [90531, 3.0], [90576, 4.5], [90600, 3.5], [90603, 2.5], [90630, 3.5], [90647, 3.5], [90717, 3.0], [90719, 2.5], [90738, 1.5], [90746, 3.5], [90769, 4.0], [90809, 3.0], [90863, 4.0], [90866, 4.0], [90888, 0.5], [90890, 0.5], [90943, 5.0], [90945, 3.0], [91077, 4.0], [91079, 1.0], [91094, 1.0], [91104, 1.5], [91126, 1.5], [91128, 4.0], [91233, 4.0], [91261, 3.5], [91266, 2.5], [91273, 1.5], [91323, 1.5], [91325, 2.0], [91337, 4.0], [91353, 3.5], [91355, 5.0], [91386, 5.0], [91414, 0.5], [91470, 1.5], [91483, 1.5], [91485, 4.0], [91488, 3.5], [91500, 4.0], [91529, 4.0], [91535, 3.0], [91542, 4.0], [91571, 2.5], [91622, 0.5], [91628, 1.5], [91630, 4.0], [91653, 3.5], [91658, 4.0], [91660, 2.0], [91666, 4.0], [91671, 1.0], [91688, 1.5], [91690, 2.5], [91784, 4.5], [91842, 2.0], [91860, 4.0], [91869, 3.5], [91873, 1.5], [91890, 3.0], [91935, 2.5], [91947, 4.5], [91974, 3.5], [91976, 4.0], [91978, 2.0], [91981, 2.5], [92008, 3.0], [92046, 3.0], [92048, 2.5], [92094, 3.5], [92192, 2.0], [92198, 2.0], [92234, 1.5], [92243, 4.5], [92259, 5.0], [92264, 1.0], [92309, 1.5], [92348, 4.0], [92391, 2.0], [92420, 4.5], [92422, 3.5], [92427, 1.0], [92439, 2.0], [92475, 4.0], [92494, 5.0], [92507, 3.5], [92509, 1.5], [92535, 5.0], [92637, 3.5], [92643, 4.0], [92665, 2.5], [92674, 2.5], [92681, 0.5], [92694, 4.0], [92730, 2.0], [92760, 3.5], [92938, 2.0], [92954, 3.5], [93006, 4.0], [93008, 5.0], [93022, 5.0], [93040, 4.0], [93114, 3.0], [93134, 3.5], [93139, 1.5], [93193, 3.0], [93208, 2.0], [93242, 1.5], [93270, 1.5], [93272, 1.5], [93287, 3.0], [93297, 3.0], [93320, 5.0], [93326, 3.5], [93363, 3.5], [93443, 2.0], [93502, 2.5], [93510, 4.0], [93512, 4.0], [93563, 1.5], [93598, 2.5], [93610, 3.0], [93721, 4.5], [93723, 1.5], [93740, 1.5], [93766, 1.5], [93790, 4.0], [93805, 3.5], [93819, 3.5], [93831, 1.5], [93838, 5.0], [93840, 5.0], [93855, 4.5], [93980, 1.0], [93982, 2.0], [93988, 4.5], [94011, 1.5], [94015, 0.5], [94018, 1.0], [94070, 4.5], [94122, 2.0], [94130, 3.5], [94150, 4.0], [94160, 3.0], [94262, 3.0], [94266, 3.5], [94323, 2.0], [94325, 4.0], [94405, 3.0], [94478, 2.0], [94494, 2.5], [94503, 3.0], [94661, 4.0], [94677, 4.0], [94735, 4.0], [94777, 3.5], [94780, 2.5], [94799, 3.5], [94810, 5.0], [94833, 2.5], [94864, 3.0], [94867, 3.5], [94896, 3.0], [94919, 2.5], [94931, 3.5], [94953, 1.5], [94959, 3.5], [94985, 4.0], [95004, 4.0], [95067, 3.0], [95088, 4.0], [95105, 2.5], [95135, 4.0], [95145, 3.5], [95147, 3.0], [95149, 5.0], [95163, 3.5], [95165, 4.0], [95167, 4.0], [95170, 4.0], [95175, 5.0], [95182, 2.0], [95193, 2.0], [95199, 3.0], [95201, 3.0], [95207, 2.5], [95218, 3.5], [95307, 2.0], [95309, 4.0], [95311, 5.0], [95313, 4.5], [95377, 3.0], [95441, 3.5], [95449, 1.5], [95473, 4.0], [95475, 4.0], [95497, 3.5], [95499, 4.0], [95508, 3.5], [95510, 3.0], [95519, 4.0], [95543, 3.0], [95558, 3.0], [95583, 2.5], [95624, 3.0], [95633, 4.5], [95654, 3.5], [95690, 4.5], [95717, 2.0], [95720, 4.0], [95738, 3.0], [95744, 2.5], [95761, 4.5], [95771, 4.0], [95780, 4.0], [95796, 0.5], [95839, 3.0], [95843, 5.0], [95858, 4.0], [95873, 2.0], [95875, 4.0], [95939, 4.0], [95949, 3.5], [95965, 4.0], [96004, 2.0], [96007, 2.0], [96020, 4.0], [96079, 4.0], [96084, 4.5], [96110, 3.0], [96114, 2.0], [96121, 1.0], [96150, 2.0], [96281, 3.0], [96283, 3.0], [96373, 4.5], [96411, 4.0], [96417, 3.0], [96430, 5.0], [96432, 4.0], [96448, 1.5], [96471, 3.0], [96488, 4.0], [96518, 3.0], [96520, 2.0], [96530, 2.5], [96563, 4.0], [96567, 4.0], [96588, 4.0], [96606, 2.5], [96608, 5.0], [96610, 3.5], [96616, 1.5], [96655, 2.5], [96691, 3.5], [96726, 1.5], [96728, 3.0], [96737, 4.0], [96811, 4.0], [96815, 2.0], [96821, 4.0], [96829, 4.0], [96832, 5.0], [96861, 3.5], [96917, 4.0], [96935, 5.0], [96945, 3.5], [96964, 1.5], [96975, 3.5], [97024, 0.5], [97168, 2.5], [97172, 2.0], [97188, 4.0], [97194, 1.0], [97225, 3.5], [97230, 3.0], [97285, 3.5], [97304, 4.0], [97306, 3.0], [97328, 3.0], [97470, 1.0], [97643, 3.0], [97665, 2.5], [97701, 3.0], [97742, 1.5], [97752, 4.0], [97757, 4.0], [97785, 3.0], [97836, 2.5], [97858, 2.0], [97860, 2.0], [97866, 4.5], [97870, 4.0], [97904, 4.0], [97913, 4.0], [97921, 3.5], [97923, 4.0], [97936, 3.0], [97938, 4.0], [97950, 2.5], [97988, 2.5], [98061, 3.5], [98083, 3.0], [98122, 3.0], [98124, 3.5], [98154, 5.0], [98160, 1.5], [98175, 1.5], [98203, 1.0], [98230, 3.5], [98239, 2.0], [98243, 3.0], [98279, 3.0], [98296, 1.5], [98361, 4.0], [98491, 5.0], [98499, 3.0], [98503, 3.0], [98585, 3.5], [98604, 4.5], [98607, 4.5], [98623, 3.0], [98633, 3.5], [98697, 2.5], [98799, 2.5], [98809, 4.0], [98836, 2.0], [98908, 1.5], [98961, 4.0], [99005, 1.5], [99007, 4.0], [99030, 4.0], [99087, 3.0], [99106, 1.5], [99112, 3.0], [99114, 4.0], [99117, 2.0], [99122, 3.5], [99130, 3.5], [99145, 3.0], [99149, 4.0], [99191, 4.0], [99415, 2.0], [99437, 3.5], [99532, 1.5], [99574, 3.0], [99636, 5.0], [99638, 3.0], [99721, 1.5], [99728, 2.5], [99750, 3.5], [99764, 3.5], [99813, 3.0], [99846, 3.0], [99853, 4.0], [99910, 3.0], [99917, 3.0], [99992, 3.0], [100044, 4.0], [100068, 3.5], [100083, 2.0], [100106, 3.5], [100159, 4.5], [100163, 3.0], [100194, 4.5], [100226, 1.5], [100277, 4.0], [100302, 3.0], [100304, 3.0], [100306, 3.5], [100326, 2.5], [100383, 3.5], [100390, 1.5], [100397, 3.5], [100487, 2.0], [100498, 2.0], [100507, 3.0], [100527, 4.0], [100553, 4.5], [100556, 5.0], [100579, 4.0], [100611, 3.5], [100714, 1.5], [100737, 3.5], [100810, 2.0], [100843, 3.5], [100882, 4.5], [100906, 5.0], [101025, 0.5], [101070, 2.5], [101072, 2.5], [101074, 2.0], [101076, 2.5], [101088, 3.5], [101112, 1.5], [101142, 4.0], [101283, 3.0], [101360, 1.5], [101362, 3.0], [101415, 1.5], [101423, 3.0], [101525, 3.0], [101529, 2.0], [101531, 2.0], [101577, 0.5], [101612, 3.0], [101739, 3.0], [101741, 3.5], [101765, 3.5], [101864, 4.0], [101884, 1.5], [101895, 4.0], [101962, 4.0], [101973, 1.5], [102007, 3.0], [102025, 0.5], [102033, 2.0], [102058, 3.0], [102066, 4.0], [102070, 3.0], [102084, 5.0], [102088, 2.0], [102123, 2.5], [102125, 4.0], [102165, 2.0], [102194, 4.0], [102217, 5.0], [102278, 2.0], [102338, 4.5], [102378, 1.5], [102407, 3.0], [102445, 4.0], [102481, 4.0], [102590, 3.0], [102602, 4.0], [102666, 4.5], [102684, 3.5], [102686, 3.5], [102716, 3.0], [102720, 2.5], [102735, 0.5], [102742, 4.0], [102747, 3.5], [102749, 0.5], [102760, 4.0], [102800, 2.5], [102802, 2.5], [102819, 3.0], [102823, 3.5], [102852, 3.0], [102880, 0.5], [102903, 4.0], [102984, 4.5], [102993, 2.0], [103027, 3.0], [103042, 3.0], [103048, 3.0], [103075, 2.5], [103085, 3.0], [103107, 4.0], [103137, 1.5], [103141, 4.0], [103171, 1.0], [103210, 2.0], [103219, 3.5], [103221, 2.5], [103228, 3.5], [103233, 3.0], [103235, 4.5], [103245, 2.5], [103249, 4.0], [103253, 3.5], [103335, 4.0], [103339, 4.0], [103341, 4.0], [103366, 2.0], [103372, 3.5], [103384, 3.5], [103449, 1.0], [103483, 4.5], [103502, 1.5], [103539, 2.5], [103543, 2.0], [103596, 0.5], [103602, 5.0], [103606, 4.0], [103609, 1.5], [103624, 4.0], [103655, 1.0], [103685, 4.5], [103688, 4.0], [103755, 2.5], [103772, 4.0], [103801, 0.5], [103810, 3.5], [103819, 1.5], [103865, 2.0], [103883, 3.5], [103980, 3.0], [103984, 2.0], [104017, 0.5], [104069, 3.0], [104074, 0.5], [104076, 0.5], [104078, 4.0], [104129, 2.0], [104141, 3.0], [104211, 4.0], [104218, 4.5], [104241, 3.0], [104243, 3.5], [104245, 2.5], [104272, 2.0], [104283, 3.5], [104303, 1.5], [104337, 1.5], [104339, 3.5], [104374, 4.0], [104419, 2.5], [104457, 3.0], [104644, 0.5], [104760, 1.0], [104780, 5.0], [104837, 2.0], [104841, 3.0], [104863, 0.5], [104875, 3.5], [104879, 5.0], [104906, 2.5], [104908, 3.0], [104913, 4.0], [104925, 2.5], [104944, 3.5], [105020, 1.5], [105037, 2.0], [105121, 1.0], [105197, 3.5], [105211, 2.5], [105213, 2.5], [105246, 3.5], [105250, 3.5], [105254, 3.0], [105325, 1.0], [105351, 1.5], [105355, 2.5], [105468, 2.0], [105504, 4.0], [105540, 4.5], [105585, 3.0], [105593, 4.0], [105653, 4.0], [105720, 3.0], [105731, 2.0], [105746, 4.5], [105755, 1.5], [105801, 3.0], [105835, 4.0], [105844, 4.0], [105954, 3.5], [106002, 3.5], [106062, 2.5], [106072, 3.5], [106100, 4.0], [106144, 3.5], [106330, 2.0], [106438, 2.0], [106441, 3.0], [106487, 4.0], [106489, 3.5], [106491, 0.5], [106540, 3.0], [106542, 1.5], [106594, 4.5], [106642, 5.0], [106648, 3.0], [106696, 4.0], [106766, 4.0], [106782, 4.0], [106785, 3.0], [106839, 3.5], [106873, 2.0], [106883, 1.5], [106889, 4.0], [106916, 4.0], [106918, 4.0], [106920, 5.0], [106927, 3.0], [107013, 0.5], [107069, 2.5], [107141, 4.0], [107159, 4.0], [107314, 2.5], [107338, 2.5], [107348, 3.5], [107406, 4.0], [107408, 4.5], [107410, 4.0], [107412, 4.5], [107436, 3.0], [107447, 4.0], [107449, 1.5], [107462, 4.5], [107565, 1.5], [107630, 4.5], [107702, 1.5], [107723, 3.0], [107771, 5.0], [107780, 4.0], [107846, 3.5], [107945, 2.0], [107951, 5.0], [107953, 4.0], [107962, 2.0], [107997, 1.5], [107999, 4.0], [108078, 5.0], [108090, 3.5], [108156, 3.0], [108188, 1.5], [108190, 3.0], [108192, 3.5], [108540, 4.5], [108601, 2.0], [108689, 0.5], [108715, 1.5], [108727, 4.0], [108729, 4.0], [108795, 5.0], [108928, 3.0], [108932, 4.0], [108945, 1.5], [108949, 2.5], [108981, 4.5], [109042, 2.0], [109161, 4.5], [109183, 2.0], [109187, 3.5], [109191, 1.5], [109241, 5.0], [109282, 3.0], [109295, 2.0], [109313, 4.0], [109317, 2.5], [109372, 1.5], [109374, 4.0], [109383, 3.5], [109416, 2.0], [109483, 2.0], [109487, 5.0], [109569, 0.5], [109576, 1.5], [109578, 3.5], [109596, 4.0], [109633, 5.0], [109673, 0.5], [109687, 5.0], [109723, 3.5], [109846, 3.5], [109848, 1.5], [109850, 3.5], [109853, 2.0], [109864, 1.5], [109895, 0.5], [109897, 0.5], [109941, 3.0], [109968, 3.5], [109971, 4.5], [110102, 3.5], [110127, 0.5], [110130, 4.0], [110281, 4.0], [110286, 3.5], [110297, 3.5], [110330, 4.5], [110350, 4.5], [110387, 4.0], [110501, 3.0], [110541, 2.5], [110553, 2.0], [110586, 4.0], [110591, 4.5], [110603, 0.5], [110611, 2.5], [110655, 1.5], [110669, 3.5], [110718, 4.0], [110730, 1.5], [110746, 4.0], [110771, 2.0], [110773, 0.5], [110781, 2.5], [110826, 1.5], [110882, 3.0], [111113, 4.0], [111146, 4.5], [111320, 1.5], [111360, 3.0], [111362, 3.5], [111364, 2.0], [111375, 2.5], [111384, 4.0], [111443, 2.5], [111551, 3.5], [111617, 4.0], [111622, 4.0], [111659, 3.5], [111663, 1.5], [111680, 1.5], [111732, 3.5], [111743, 3.5], [111759, 4.0], [111781, 4.0], [111785, 0.5], [111795, 3.0], [111800, 3.0], [111817, 3.5], [111844, 3.5], [111913, 4.5], [111921, 3.5], [112006, 4.0], [112070, 3.5], [112138, 4.0], [112171, 3.5], [112175, 4.5], [112183, 3.0], [112290, 3.5], [112303, 1.5], [112316, 2.5], [112326, 1.0], [112334, 4.5], [112370, 1.5], [112421, 4.5], [112450, 2.0], [112454, 3.5], [112460, 2.0], [112497, 1.0], [112512, 5.0], [112515, 4.5], [112552, 4.5], [112556, 4.0], [112580, 4.0], [112623, 4.0], [112727, 3.0], [112749, 2.0], [112788, 2.5], [112804, 2.0], [112818, 3.0], [112852, 4.0], [112868, 4.5], [112897, 4.0], [112911, 0.5], [112940, 4.5], [113159, 3.5], [113186, 3.0], [113207, 3.5], [113225, 3.0], [113252, 4.0], [113275, 4.5], [113278, 3.0], [113280, 4.0], [113313, 3.5], [113345, 1.5], [113348, 2.0], [113350, 1.5], [113374, 3.0], [113378, 1.0], [113394, 4.0], [113416, 1.5], [113453, 2.5], [113532, 3.5], [113565, 4.0], [113573, 3.0], [113604, 2.0], [113705, 3.5], [113741, 4.0], [113780, 3.0], [113829, 5.0], [113849, 2.5], [113862, 4.0], [114028, 4.0], [114044, 3.5], [114060, 2.0], [114066, 4.0], [114074, 3.0], [114126, 2.5], [114180, 3.5], [114184, 3.5], [114246, 3.0], [114265, 5.0], [114335, 3.0], [114396, 1.5], [114494, 1.5], [114554, 1.0], [114601, 2.0], [114627, 3.0], [114662, 4.0], [114670, 3.5], [114678, 4.0], [114707, 3.0], [114713, 2.5], [114762, 3.5], [114795, 4.0], [114818, 1.0], [114847, 3.0], [114925, 2.0], [114935, 4.0], [115065, 2.0], [115111, 3.5], [115122, 5.0], [115149, 4.0], [115151, 2.0], [115170, 2.5], [115203, 3.0], [115210, 4.0], [115216, 3.0], [115231, 2.5], [115502, 3.5], [115569, 4.5], [115617, 4.0], [115664, 3.5], [115667, 3.5], [115680, 4.0], [115713, 4.5], [115727, 5.0], [115819, 3.0], [115828, 4.5], [115877, 3.0], [115969, 4.0], [116044, 1.5], [116138, 2.0], [116169, 2.5], [116207, 1.5], [116411, 4.5], [116413, 3.0], [116419, 1.5], [116505, 3.0], [116529, 3.0], [116668, 3.5], [116718, 3.5], [116724, 4.0], [116738, 3.5], [116797, 4.0], [116799, 4.0], [116817, 4.5], [116823, 4.0], [116849, 2.5], [116887, 2.0], [116897, 4.5], [116941, 2.0], [116963, 1.5], [116977, 1.5], [116985, 1.5], [117107, 2.5], [117109, 1.5], [117133, 3.5], [117176, 4.0], [117192, 4.0], [117364, 4.0], [117368, 3.5], [117444, 3.0], [117466, 2.5], [117511, 3.0], [117529, 3.5], [117531, 5.0], [117533, 4.0], [117545, 3.5], [117572, 2.5], [117590, 4.0], [117630, 1.0], [117646, 4.5], [117849, 4.5], [117851, 3.5], [117867, 4.0], [117877, 3.0], [117881, 4.0], [117887, 4.0], [117895, 1.0], [117922, 3.5], [118082, 3.5], [118166, 3.5], [118198, 2.5], [118248, 1.5], [118270, 5.0], [118290, 2.0], [118326, 2.0], [118354, 3.0], [118512, 1.5], [118530, 4.5], [118572, 3.0], [118696, 3.0], [118700, 2.0], [118702, 2.0], [118706, 4.0], [118784, 3.5], [118814, 2.0], [118834, 5.0], [118862, 4.0], [118880, 3.0], [118888, 4.0], [118894, 5.0], [118896, 4.0], [118900, 3.5], [118924, 3.0], [118930, 4.5], [118985, 3.5], [118997, 2.5], [119068, 2.0], [119141, 3.5], [119145, 4.0], [119153, 4.5], [119155, 3.5], [119167, 3.5], [119218, 2.5], [119655, 1.0], [119714, 3.5], [119828, 3.0], [119964, 2.0], [120130, 5.0], [120138, 5.0], [120466, 3.5], [120478, 3.5], [120625, 4.5], [120635, 1.0], [120637, 2.0], [120761, 3.5], [120783, 2.5], [120799, 2.5], [120807, 4.0], [120813, 4.5], [120827, 3.0], [120919, 3.0], [121007, 4.0], [121035, 2.0], [121097, 1.0], [121099, 2.5], [121129, 2.5], [121169, 3.5], [121171, 4.0], [121231, 5.0], [121253, 3.0], [121338, 4.5], [121342, 3.5], [121372, 4.5], [121374, 4.5], [121469, 4.5], [121715, 3.5], [121781, 5.0], [122092, 5.0], [122246, 0.5], [122260, 2.5], [122433, 1.0], [122490, 1.5], [122627, 0.5], [122882, 4.0], [122884, 2.0], [122886, 3.5], [122888, 0.5], [122890, 4.0], [122892, 4.0], [122896, 3.5], [122898, 2.0], [122900, 3.5], [122902, 2.0], [122904, 5.0], [122906, 4.0], [122912, 5.0], [122916, 4.5], [122918, 4.0], [122920, 3.0], [122922, 4.0], [122924, 4.0], [122926, 4.0], [122932, 2.0], [123200, 4.5], [123310, 2.0], [123545, 3.0], [123553, 1.0], [123947, 2.5], [124273, 4.5], [124404, 5.0], [124484, 3.0], [124851, 5.0], [124853, 4.0], [124859, 2.0], [125221, 0.5], [125914, 3.0], [125916, 0.5], [125970, 3.5], [125974, 3.5], [126088, 5.0], [126090, 4.5], [126142, 4.0], [126420, 1.5], [126426, 4.0], [126430, 4.5], [126482, 3.0], [126548, 3.0], [126577, 4.0], [126921, 5.0], [127052, 2.5], [127096, 2.5], [127098, 5.0], [127108, 2.0], [127114, 4.0], [127116, 4.5], [127130, 4.0], [127132, 2.0], [127134, 3.5], [127136, 2.5], [127146, 3.0], [127152, 4.0], [127164, 3.5], [127172, 3.5], [127180, 4.0], [127184, 4.0], [127194, 2.0], [127198, 4.0], [127202, 4.0], [127204, 3.0], [127212, 4.5], [127298, 3.5], [127319, 1.5], [127323, 1.0], [127390, 4.0], [128087, 5.0], [128089, 4.5], [128097, 4.0], [128099, 4.5], [128197, 2.0], [128360, 3.0], [128366, 4.0], [128488, 3.0], [128512, 0.5], [128520, 5.0], [128542, 3.5], [128592, 1.0], [128594, 4.0], [128620, 3.5], [128695, 2.5], [128736, 3.5], [128832, 3.5], [128838, 3.5], [128842, 4.0], [128852, 3.0], [128900, 4.5], [128902, 4.0], [128908, 4.0], [128914, 5.0], [128944, 3.5], [128968, 3.0], [128975, 3.0], [128991, 4.5], [129011, 3.5], [129229, 2.0], [129250, 0.5], [129313, 4.0], [129333, 1.5], [129354, 2.5], [129397, 2.0], [129428, 2.5], [129514, 5.0], [129657, 1.0], [129659, 3.5], [129737, 2.0], [129779, 2.5], [129937, 1.5], [130050, 3.0], [130052, 3.5], [130073, 4.0], [130083, 2.0], [130087, 3.0], [130444, 4.0], [130450, 3.0], [130452, 4.0], [130482, 4.0], [130490, 3.0], [130498, 3.5], [130518, 2.5], [130520, 3.5], [130576, 2.0], [130578, 4.0], [130634, 0.5], [130686, 3.0], [130840, 4.5], [130842, 4.0], [130970, 5.0], [130976, 4.5], [130978, 5.0], [131013, 3.5], [131023, 4.5], [131098, 5.0], [131104, 4.5], [131130, 5.0], [131237, 5.0], [131439, 3.0], [131480, 2.0], [131578, 2.5], [131610, 5.0], [131656, 2.5], [131714, 1.5], [131724, 5.0], [131739, 3.0], [131749, 3.0], [131796, 4.0], [131826, 3.5], [131920, 4.5], [131934, 1.0], [132046, 0.5], [132084, 2.5], [132153, 5.0], [132157, 3.5], [132333, 5.0], [132335, 1.0], [132362, 3.5], [132422, 2.0], [132424, 1.0], [132454, 3.5], [132462, 1.0], [132488, 2.0], [132496, 4.5], [132584, 3.5], [132618, 1.5], [132660, 3.5], [132796, 2.5], [132800, 1.5], [132888, 3.0], [133115, 4.0], [133195, 1.5], [133217, 3.5], [133281, 2.0], [133365, 2.0], [133377, 1.5], [133419, 2.5], [133545, 1.0], [133645, 4.0], [133712, 3.0], [133716, 4.5], [133771, 3.5], [133780, 3.0], [133782, 2.0], [133798, 1.5], [133802, 4.0], [133832, 3.5], [133867, 4.5], [133879, 4.0], [134004, 5.0], [134019, 3.5], [134021, 2.5], [134041, 4.0], [134095, 5.0], [134109, 5.0], [134130, 4.0], [134158, 1.5], [134170, 4.0], [134184, 4.5], [134214, 3.0], [134246, 0.5], [134248, 3.0], [134252, 4.5], [134326, 4.5], [134334, 4.5], [134368, 3.5], [134393, 4.0], [134515, 3.0], [134524, 3.0], [134528, 0.5], [134775, 2.0], [134783, 2.0], [134796, 5.0], [134808, 2.0], [134847, 5.0], [134849, 4.0], [134853, 4.0], [134859, 3.5], [134861, 2.5], [134881, 4.0], [135133, 4.0], [135137, 3.0], [135143, 4.0], [135198, 4.0], [135216, 0.5], [135288, 3.0], [135436, 3.5], [135456, 3.0], [135518, 2.0], [135532, 2.0], [135534, 3.5], [135536, 3.0], [135567, 2.5], [135569, 2.5], [135777, 4.5], [135787, 3.5], [135803, 3.5], [135815, 4.0], [135861, 2.0], [135885, 3.0], [135887, 3.5], [135937, 3.0], [136012, 1.5], [136016, 1.0], [136018, 2.0], [136020, 2.5], [136024, 3.0], [136297, 0.5], [136305, 1.0], [136341, 5.0], [136353, 5.0], [136355, 5.0], [136359, 5.0], [136443, 1.5], [136445, 5.0], [136447, 5.0], [136449, 3.5], [136469, 5.0], [136471, 3.5], [136503, 5.0], [136511, 2.0], [136540, 4.5], [136556, 5.0], [136562, 3.0], [136564, 2.5], [136598, 4.0], [136602, 2.0], [136654, 1.5], [136664, 1.0], [136666, 1.0], [136778, 2.0], [136786, 1.5], [136800, 1.5], [136816, 2.5], [136834, 5.0], [136838, 2.5], [136840, 3.5], [136850, 5.0], [136859, 1.5], [136864, 2.0], [136912, 2.0], [136958, 2.0], [137218, 2.5], [137337, 4.0], [137345, 2.0], [137517, 0.5], [137595, 4.0], [137857, 3.5], [137859, 4.0], [137863, 4.0], [138036, 3.5], [138186, 0.5], [138204, 4.0], [138208, 2.5], [138210, 3.5], [138396, 3.5], [138546, 1.5], [138610, 1.5], [138632, 5.0], [138702, 3.0], [138798, 0.5], [138835, 5.0], [138966, 5.0], [139052, 2.0], [139130, 2.5], [139157, 4.5], [139385, 5.0], [139415, 3.0], [139511, 3.0], [139640, 5.0], [139642, 4.0], [139644, 3.5], [139655, 3.0], [139717, 0.5], [139747, 3.5], [139855, 3.0], [139857, 1.5], [139859, 2.5], [139915, 2.0], [139994, 4.0], [140016, 2.0], [140038, 4.5], [140110, 4.0], [140133, 5.0], [140162, 4.5], [140174, 4.5], [140237, 2.0], [140247, 3.5], [140265, 5.0], [140267, 4.0], [140289, 4.0], [140301, 3.0], [140359, 4.5], [140481, 4.5], [140523, 3.5], [140525, 1.5], [140541, 4.0], [140561, 4.0], [140627, 5.0], [140711, 3.5], [140715, 4.0], [140725, 3.0], [140737, 3.5], [140816, 4.5], [140850, 2.0], [140852, 1.0], [140928, 2.5], [140956, 3.0], [141004, 2.0], [141131, 2.5], [141400, 4.0], [141408, 3.5], [141422, 2.5], [141513, 4.0], [141544, 4.0], [141646, 3.5], [141668, 0.5], [141688, 3.0], [141718, 5.0], [141749, 3.5], [141799, 3.5], [141810, 4.0], [141816, 5.0], [141818, 4.5], [141820, 4.0], [141830, 2.0], [141836, 4.5], [141844, 4.5], [141846, 4.0], [141866, 3.0], [141890, 3.0], [141928, 5.0], [141994, 0.5], [142020, 5.0], [142056, 3.0], [142074, 1.5], [142115, 4.5], [142196, 4.5], [142222, 4.0], [142366, 3.0], [142372, 2.0], [142420, 2.5], [142422, 3.5], [142424, 2.0], [142444, 5.0], [142448, 3.0], [142456, 3.5], [142488, 4.5], [142507, 2.5], [142509, 3.0], [142536, 1.5], [142550, 4.5], [142558, 3.0], [142598, 4.0], [142602, 1.0], [142831, 4.5], [142961, 2.5], [142997, 3.5], [143001, 1.5], [143031, 5.0], [143245, 1.5], [143255, 1.5], [143257, 2.5], [143355, 3.5], [143365, 2.5], [143367, 3.0], [143385, 4.0], [143410, 2.0], [143458, 4.0], [143472, 1.5], [143511, 5.0], [143525, 4.0], [143559, 5.0], [143859, 1.5], [143896, 4.5], [143969, 1.0], [144210, 4.0], [144222, 3.0], [144262, 2.0], [144352, 0.5], [144478, 4.5], [144522, 2.0], [144606, 4.0], [144620, 1.5], [144714, 1.5], [144716, 2.0], [144734, 4.5], [144976, 4.5], [145080, 2.5], [145150, 3.0], [145283, 3.5], [145418, 4.0], [145491, 3.5], [145724, 0.5], [145745, 2.5], [145839, 1.5], [145935, 1.5], [145951, 0.5], [145994, 5.0], [146024, 4.0], [146028, 4.0], [146210, 3.0], [146244, 4.0], [146309, 4.0], [146656, 3.5], [146662, 5.0], [146682, 4.0], [146684, 5.0], [146688, 2.0], [146730, 2.0], [146986, 4.0], [147002, 4.0], [147142, 3.0], [147196, 5.0], [147250, 5.0], [147282, 4.0], [147286, 5.0], [147300, 5.0], [147326, 5.0], [147328, 5.0], [147330, 5.0], [147372, 3.0], [147374, 3.0], [147376, 4.5], [147378, 1.0], [147380, 3.0], [147382, 4.0], [147384, 4.5], [147410, 5.0], [147657, 4.0], [147662, 3.0], [147936, 4.5], [148166, 3.5], [148172, 1.5], [148238, 2.5], [148424, 3.0], [148482, 3.0], [148592, 3.0], [148626, 3.0], [148632, 4.5], [148652, 3.0], [148667, 3.5], [148671, 4.0], [148675, 2.0], [148709, 2.0], [148775, 4.0], [148881, 4.0], [148888, 2.0], [148956, 2.5], [148978, 4.0], [148982, 4.0], [149011, 3.5], [149144, 4.0], [149146, 4.0], [149330, 4.0], [149334, 3.0], [149350, 5.0], [149352, 4.0], [149354, 2.0], [149380, 1.5], [149406, 2.0], [149508, 5.0], [149566, 5.0], [149590, 2.5], [149612, 2.0], [149830, 4.5], [149902, 2.0], [150254, 2.0], [150401, 3.0], [150548, 5.0], [150554, 5.0], [150596, 4.0], [150604, 2.5], [150696, 4.5], [150993, 4.0], [151311, 3.0], [151315, 0.5], [151317, 2.0], [151455, 2.0], [151479, 1.5], [151501, 1.5], [151557, 2.5], [151559, 2.0], [151653, 1.5], [151687, 0.5], [151695, 4.0], [151739, 2.0], [151745, 0.5], [151759, 2.5], [151763, 4.0], [151769, 5.0], [151777, 3.0], [151781, 3.5], [152037, 1.0], [152063, 0.5], [152065, 3.5], [152071, 1.5], [152077, 4.0], [152079, 0.5], [152081, 4.0], [152083, 3.0], [152085, 2.5], [152091, 3.0], [152105, 4.5], [152173, 4.0], [152270, 3.5], [152284, 3.5], [152372, 3.5], [152591, 4.0], [152658, 1.5], [152711, 5.0], [152970, 4.5], [153070, 3.5], [153236, 3.0], [153386, 3.0], [153408, 4.0], [154065, 2.0], [154358, 4.0], [154975, 4.0], [155064, 2.5], [155168, 4.0], [155288, 3.5], [155358, 2.0], [155509, 2.0], [155589, 3.0], [155659, 4.0], [155743, 2.0], [155774, 3.5], [155812, 2.5], [155820, 1.5], [155892, 2.0], [156025, 5.0], [156371, 3.5], [156387, 4.0], [156553, 2.5], [156605, 4.5], [156607, 0.5], [156609, 3.0], [156675, 2.0], [156706, 2.5], [156726, 0.5], [156781, 4.0], [156783, 2.5], [157108, 4.5], [157110, 4.5], [157122, 3.0], [157130, 2.0], [157172, 0.5], [157200, 2.0], [157270, 2.5], [157296, 4.0], [157312, 1.5], [157340, 2.5], [157369, 4.0], [157407, 1.5], [157432, 1.0], [157699, 3.5], [157775, 5.0], [157865, 1.5], [158022, 1.5], [158027, 5.0], [158035, 3.5], [158238, 4.0], [158254, 1.5], [158388, 2.5], [158398, 5.0], [158402, 2.5], [158528, 2.5], [158721, 3.5], [158783, 0.5], [158813, 1.0], [158830, 2.5], [158842, 3.5], [158872, 3.5], [158874, 3.0], [158882, 5.0], [158956, 2.0], [158966, 4.5], [158972, 3.5], [159061, 3.0], [159069, 4.5], [159077, 2.5], [159093, 4.0], [159161, 4.5], [159193, 3.0], [159403, 3.0], [159415, 2.5], [159441, 2.5], [159510, 2.0], [159690, 2.0], [159717, 3.5], [159755, 1.5], [159779, 4.0], [159811, 5.0], [159817, 5.0], [159849, 2.5], [159858, 0.5], [159976, 4.5], [160080, 3.0], [160271, 3.5], [160289, 4.5], [160341, 2.5], [160400, 3.0], [160422, 3.0], [160438, 2.0], [160440, 1.5], [160527, 4.5], [160563, 3.5], [160565, 1.0], [160567, 2.0], [160569, 1.0], [160571, 3.0], [160573, 3.0], [160644, 5.0], [160646, 2.5], [160684, 3.5], [160718, 4.5], [160730, 2.0], [160836, 3.0], [160848, 4.5], [160872, 0.5], [160954, 3.0], [160978, 1.0], [160980, 3.5], [161008, 2.5], [161024, 4.5], [161032, 2.5], [161044, 3.0], [161127, 3.5], [161131, 3.5], [161290, 1.0], [161354, 3.0], [161580, 3.5], [161582, 4.0], [161594, 3.5], [161634, 3.5], [161830, 1.0], [161918, 1.5], [161922, 3.0], [161966, 4.0], [162082, 3.5], [162344, 5.0], [162350, 3.5], [162414, 5.0], [162478, 3.5], [162578, 4.0], [162590, 1.0], [162598, 3.5], [162600, 1.5], [162602, 4.5], [162606, 3.5], [162828, 2.5], [162968, 4.0], [162982, 3.0], [163056, 4.0], [163072, 5.0], [163112, 5.0], [163134, 3.5], [163386, 5.0], [163527, 4.0], [163639, 4.0], [163645, 4.0], [163653, 3.0], [163809, 2.5], [163925, 5.0], [163937, 3.5], [163981, 3.5], [163985, 4.5], [164179, 4.0], [164200, 3.5], [164226, 4.5], [164280, 3.5], [164367, 5.0], [164375, 1.5], [164540, 3.5], [164647, 2.5], [164655, 2.0], [164707, 4.0], [164753, 2.0], [164881, 1.5], [164909, 4.0], [164917, 4.5], [165075, 2.5], [165101, 3.5], [165103, 3.5], [165139, 2.0], [165343, 1.5], [165347, 2.0], [165483, 4.0], [165489, 2.5], [165529, 2.0], [165549, 1.0], [165551, 4.5], [165635, 1.0], [165639, 4.0], [165645, 0.5], [165671, 4.5], [165843, 4.0], [165947, 2.5], [165959, 5.0], [165969, 3.5], [166015, 3.5], [166024, 4.5], [166183, 5.0], [166203, 4.0], [166291, 3.0], [166461, 4.0], [166492, 2.5], [166526, 1.0], [166528, 4.0], [166534, 4.0], [166558, 3.0], [166568, 4.0], [166635, 4.0], [166643, 4.0], [166705, 3.0], [166946, 4.0], [167018, 2.5], [167036, 4.0], [167064, 5.0], [167296, 0.5], [167370, 1.5], [167380, 4.5], [167538, 1.0], [167570, 4.0], [167634, 4.5], [167706, 2.5], [167732, 3.5], [167746, 3.5], [167772, 1.5], [167790, 3.5], [167854, 4.5], [168026, 4.0], [168090, 4.0], [168144, 4.0], [168174, 3.0], [168218, 4.5], [168248, 4.0], [168250, 3.0], [168252, 5.0], [168254, 4.0], [168266, 3.5], [168326, 4.0], [168350, 2.5], [168358, 2.5], [168366, 3.0], [168418, 2.0], [168456, 2.0], [168492, 3.0], [168608, 3.0], [168612, 3.5], [168632, 4.0], [168712, 1.0], [168846, 4.5], [169034, 4.5], [169180, 2.5], [169670, 1.5], [169904, 2.0], [169912, 2.5], [169958, 1.0], [169982, 3.0], [169984, 2.0], [169992, 3.5], [170289, 1.0], [170297, 2.0], [170355, 3.0], [170357, 4.0], [170399, 4.0], [170401, 3.0], [170411, 4.0], [170551, 2.5], [170597, 5.0], [170697, 4.0], [170705, 5.0], [170777, 5.0], [170813, 2.0], [170817, 4.0], [170827, 3.5], [170837, 4.0], [170875, 3.0], [170897, 2.0], [170907, 4.0], [170937, 3.0], [170939, 3.5], [170945, 3.5], [170957, 3.0], [170993, 4.0], [171011, 5.0], [171023, 4.0], [171251, 4.0], [171495, 4.0], [171631, 1.0], [171695, 3.0], [171701, 3.5], [171749, 5.0], [171751, 2.5], [171759, 3.0], [171763, 4.5], [171765, 3.5], [171811, 4.0], [171867, 2.0], [171891, 3.5], [171917, 4.5], [172013, 3.0], [172215, 2.5], [172229, 3.0], [172233, 2.5], [172253, 3.0], [172321, 2.0], [172461, 3.0], [172497, 4.0], [172547, 0.5], [172577, 5.0], [172583, 5.0], [172585, 5.0], [172587, 5.0], [172589, 5.0], [172591, 4.5], [172637, 5.0], [172705, 5.0], [172793, 5.0], [172825, 4.5], [172875, 5.0], [172881, 3.5], [172887, 3.0], [172909, 5.0], [173145, 0.5], [173197, 4.0], [173205, 4.0], [173209, 4.0], [173235, 4.5], [173253, 3.5], [173255, 2.5], [173291, 2.0], [173307, 0.5], [173317, 4.5], [173351, 5.0], [173355, 5.0], [173535, 4.5], [173619, 5.0], [173751, 2.0], [173873, 2.0], [173925, 4.0], [173941, 3.0], [173963, 5.0], [174045, 4.0], [174053, 5.0], [174055, 4.0], [174141, 3.5], [174403, 2.5], [174479, 4.0], [174551, 5.0], [174681, 3.5], [174727, 3.0], [174737, 3.0], [174815, 3.5], [174909, 4.5], [175197, 3.5], [175199, 4.0], [175293, 5.0], [175303, 3.0], [175387, 5.0], [175397, 5.0], [175401, 4.0], [175431, 5.0], [175435, 4.5], [175475, 0.5], [175485, 0.5], [175569, 4.0], [175577, 1.5], [175585, 3.5], [175661, 1.5], [175693, 2.5], [175705, 3.5], [175707, 3.0], [175743, 3.0], [175781, 3.0], [176051, 3.5], [176101, 3.0], [176329, 4.0], [176371, 4.0], [176389, 2.0], [176413, 4.5], [176415, 3.5], [176419, 3.0], [176423, 4.0], [176579, 1.0], [176601, 5.0], [176621, 2.0], [176751, 4.0], [176805, 4.0], [176935, 2.0], [177185, 4.5], [177285, 3.0], [177593, 4.5], [177615, 2.5], [177763, 2.5], [177765, 5.0], [177939, 4.5], [178061, 3.0], [178111, 2.0], [178129, 3.5], [178323, 3.5], [178613, 4.0], [178615, 3.5], [178827, 3.5], [179053, 3.5], [179073, 3.0], [179119, 4.0], [179133, 5.0], [179135, 5.0], [179211, 2.5], [179401, 4.0], [179427, 4.0], [179491, 1.0], [179511, 4.0], [179709, 3.0], [179749, 1.5], [179813, 4.0], [179815, 1.5], [179817, 3.0], [179819, 4.5], [179953, 3.5], [180031, 4.0], [180045, 4.0], [180095, 3.0], [180231, 4.0], [180263, 2.0], [180265, 4.5], [180297, 3.0], [180497, 4.0], [180777, 4.5], [180985, 3.0], [180987, 1.5], [181065, 3.5], [181139, 1.5], [181315, 3.5], [181413, 4.5], [181659, 2.5], [181719, 3.5], [182293, 4.0], [182297, 4.0], [182299, 4.0], [182639, 4.0], [182715, 4.0], [182727, 2.0], [182731, 4.5], [182749, 2.5], [182793, 3.5], [182823, 1.0], [183011, 1.5], [183197, 3.5], [183199, 4.0], [183227, 3.5], [183295, 3.5], [183301, 3.0], [183317, 4.5], [183611, 4.0], [183635, 3.5], [183897, 3.5], [183911, 1.5], [183959, 4.5], [184015, 3.5], [184053, 2.0], [184245, 5.0], [184253, 0.5], [184257, 4.0], [184349, 3.5], [184471, 3.0], [184641, 0.5], [184721, 4.0], [184791, 2.5], [184931, 4.0], [184987, 3.0], [184997, 4.0], [185029, 1.0], [185031, 4.5], [185033, 2.0], [185135, 4.5], [185435, 3.0], [185473, 3.0], [185585, 2.5], [186587, 3.0], [187031, 2.5], [187541, 4.0], [187593, 5.0], [187595, 4.0], [187717, 5.0], [188189, 4.5], [188301, 4.0], [188675, 3.5], [188751, 4.5], [188797, 4.0], [188833, 4.5], [189043, 2.5], [189111, 3.0], [189333, 3.5], [189381, 2.5], [189547, 1.0], [189713, 2.5], [190183, 3.5], [190207, 1.5], [190209, 4.0], [190213, 1.0], [190215, 1.5], [190219, 1.0], [190221, 1.0], [191005, 4.5], [193565, 3.5], [193567, 3.0], [193571, 4.0], [193573, 4.0], [193579, 3.5], [193581, 4.0], [193583, 3.5], [193585, 3.5], [193587, 3.5], [193609, 4.0]]"
          ],
          "name": "stdout"
        }
      ]
    },
    {
      "cell_type": "code",
      "metadata": {
        "id": "7jB-xyMRmdQR",
        "colab_type": "code",
        "colab": {}
      },
      "source": [
        "# Ordenando a matriz de com Ids e moda dos filmes\n",
        "from operator import itemgetter\n",
        "matrix_ordenada = []\n",
        "sub_matrix_ordenada = sorted(lista_moda[:],key=itemgetter(1))\n",
        "for elem in sub_matrix_ordenada:\n",
        "    matrix_ordenada.append(elem)"
      ],
      "execution_count": 0,
      "outputs": []
    },
    {
      "cell_type": "code",
      "metadata": {
        "id": "_sFpX8zSo2UA",
        "colab_type": "code",
        "outputId": "2571c2b5-e4f5-4ffd-fb32-c9bdcc3ac3dd",
        "colab": {
          "base_uri": "https://localhost:8080/",
          "height": 170
        }
      },
      "source": [
        "# Selecionando aleatóriamente 2 amostras de filmes para modas próximas de 0.5, 3 e 5.\n",
        "np.random.seed(72)\n",
        "df_moda_ = pd.DataFrame(matrix_ordenada)\n",
        "df_moda_.columns =[\"id\",\"nota\"]\n",
        "df_moda_b = df_moda_.query('0.5 <= nota < 1').sample(2)\n",
        "df_moda_m = df_moda_.query('2.8 <= nota < 3.5').sample(2)\n",
        "df_moda_a = df_moda_.query('4.5<= nota < 5').sample(2)\n",
        "print('Moda próxima de 0.5: {}, \"\\n\" Moda próxima de 3.5: {}, \"\\n\", Moda próxima de 5: {}'.format(df_moda_b,df_moda_m,df_moda_a))"
      ],
      "execution_count": 0,
      "outputs": [
        {
          "output_type": "stream",
          "text": [
            "Moda próxima de 0.5:          id  nota\n",
            "122   33164   0.5\n",
            "240  151745   0.5, \"\n",
            "\" Moda próxima de 3.5:         id  nota\n",
            "3675  3342   3.0\n",
            "2865   146   3.0, \"\n",
            "\", Moda próxima de 5:           id  nota\n",
            "9195  171763   4.5\n",
            "8978   51314   4.5\n"
          ],
          "name": "stdout"
        }
      ]
    },
    {
      "cell_type": "code",
      "metadata": {
        "id": "ffHQvtWKQIO_",
        "colab_type": "code",
        "outputId": "57a1e914-4c60-439d-88c1-7def548b8fce",
        "colab": {
          "base_uri": "https://localhost:8080/",
          "height": 221
        }
      },
      "source": [
        "# Selecionando aleatóriamente 2 amostras de filmes para médias próximas de 0.5, 3 e 5.\n",
        "np.random.seed(72)\n",
        "media = avaliacoes.groupby('filmesId')['nota'].mean().sort_values()\n",
        "df_media_ = pd.DataFrame(media)\n",
        "df_media_b = df_media_.query('0.5 <= nota < 1').sample(2)\n",
        "df_media_m = df_media_.query('2.8 <= nota < 3.5').sample(2)\n",
        "df_media_a = df_media_.query('4.5<= nota < 5').sample(2)\n",
        "print('Média próxima de 0.5: {}, \"\\n\" Média próxima de 3.5: {}, \"\\n\", Média próxima de 5: {}'.format(df_media_b,df_media_m,df_media_a))\n"
      ],
      "execution_count": 0,
      "outputs": [
        {
          "output_type": "stream",
          "text": [
            "Média próxima de 0.5:           nota\n",
            "filmesId      \n",
            "67799      0.5\n",
            "4051       0.5, \"\n",
            "\" Média próxima de 3.5:           nota\n",
            "filmesId      \n",
            "50356      3.0\n",
            "3500       3.0, \"\n",
            "\", Média próxima de 5:           nota\n",
            "filmesId      \n",
            "59018     4.50\n",
            "32582     4.75\n"
          ],
          "name": "stdout"
        }
      ]
    },
    {
      "cell_type": "code",
      "metadata": {
        "id": "M-N2YxHAios_",
        "colab_type": "code",
        "colab": {}
      },
      "source": [
        "# df_mediana_.query('0.5 <= nota < 1 | 3 <= nota < 4 | 4<= nota < 5')"
      ],
      "execution_count": 0,
      "outputs": []
    },
    {
      "cell_type": "code",
      "metadata": {
        "id": "gXce6PI0QQ0Z",
        "colab_type": "code",
        "outputId": "89134484-08f0-4ed7-c1ca-7efa31ca1094",
        "colab": {
          "base_uri": "https://localhost:8080/",
          "height": 221
        }
      },
      "source": [
        "# Selecionando aleatóriamente 2 amostras de filmes para medianas próximas de 0.5, 3 e 5.\n",
        "np.random.seed(72)\n",
        "mediana = avaliacoes.groupby('filmesId')['nota'].median().sort_values() \n",
        "df_mediana_ = pd.DataFrame(mediana)\n",
        "df_mediana_b = df_mediana_.query('0.5 <= nota < 1').sample(2)\n",
        "df_mediana_m = df_mediana_.query('2.8 <= nota < 3.5').sample(2)\n",
        "df_mediana_a = df_mediana_.query('4.5<= nota < 5').sample(2)\n",
        "print('Mediana próxima de 0.5: {}, \"\\n\" Mediana próxima de 3.5: {}, \"\\n\", Mediana próxima de 5: {}'.format(df_mediana_b,df_mediana_m,df_mediana_a))"
      ],
      "execution_count": 0,
      "outputs": [
        {
          "output_type": "stream",
          "text": [
            "Mediana próxima de 0.5:           nota\n",
            "filmesId      \n",
            "55292     0.75\n",
            "92681     0.50, \"\n",
            "\" Mediana próxima de 3.5:           nota\n",
            "filmesId      \n",
            "5027       3.0\n",
            "85438      3.0, \"\n",
            "\", Mediana próxima de 5:           nota\n",
            "filmesId      \n",
            "108981    4.50\n",
            "185135    4.75\n"
          ],
          "name": "stdout"
        }
      ]
    },
    {
      "cell_type": "code",
      "metadata": {
        "id": "ZRZf8zG43syy",
        "colab_type": "code",
        "outputId": "768d6306-7b75-4965-ab22-0f69512b301e",
        "colab": {
          "base_uri": "https://localhost:8080/",
          "height": 1000
        }
      },
      "source": [
        "explorar = avaliacoes.query('filmesId in [33164,151745,3342,146,171763,51314,67799,4051,50356,3500,59018,32582,55292,92681,5027,85438,108981,185135]')\n",
        "explorar.head(47).sort_index()"
      ],
      "execution_count": 0,
      "outputs": [
        {
          "output_type": "execute_result",
          "data": {
            "text/html": [
              "<div>\n",
              "<style scoped>\n",
              "    .dataframe tbody tr th:only-of-type {\n",
              "        vertical-align: middle;\n",
              "    }\n",
              "\n",
              "    .dataframe tbody tr th {\n",
              "        vertical-align: top;\n",
              "    }\n",
              "\n",
              "    .dataframe thead th {\n",
              "        text-align: right;\n",
              "    }\n",
              "</style>\n",
              "<table border=\"1\" class=\"dataframe\">\n",
              "  <thead>\n",
              "    <tr style=\"text-align: right;\">\n",
              "      <th></th>\n",
              "      <th>usuarioId</th>\n",
              "      <th>filmesId</th>\n",
              "      <th>nota</th>\n",
              "      <th>momento</th>\n",
              "    </tr>\n",
              "  </thead>\n",
              "  <tbody>\n",
              "    <tr>\n",
              "      <th>617</th>\n",
              "      <td>6</td>\n",
              "      <td>146</td>\n",
              "      <td>4.0</td>\n",
              "      <td>845555607</td>\n",
              "    </tr>\n",
              "    <tr>\n",
              "      <th>2273</th>\n",
              "      <td>18</td>\n",
              "      <td>185135</td>\n",
              "      <td>4.5</td>\n",
              "      <td>1534007332</td>\n",
              "    </tr>\n",
              "    <tr>\n",
              "      <th>2920</th>\n",
              "      <td>19</td>\n",
              "      <td>3500</td>\n",
              "      <td>2.0</td>\n",
              "      <td>965706907</td>\n",
              "    </tr>\n",
              "    <tr>\n",
              "      <th>4700</th>\n",
              "      <td>28</td>\n",
              "      <td>59018</td>\n",
              "      <td>4.5</td>\n",
              "      <td>1235806122</td>\n",
              "    </tr>\n",
              "    <tr>\n",
              "      <th>5574</th>\n",
              "      <td>40</td>\n",
              "      <td>146</td>\n",
              "      <td>3.0</td>\n",
              "      <td>832060059</td>\n",
              "    </tr>\n",
              "    <tr>\n",
              "      <th>8477</th>\n",
              "      <td>57</td>\n",
              "      <td>3500</td>\n",
              "      <td>4.0</td>\n",
              "      <td>965797264</td>\n",
              "    </tr>\n",
              "    <tr>\n",
              "      <th>9140</th>\n",
              "      <td>62</td>\n",
              "      <td>171763</td>\n",
              "      <td>4.0</td>\n",
              "      <td>1523048763</td>\n",
              "    </tr>\n",
              "    <tr>\n",
              "      <th>9154</th>\n",
              "      <td>62</td>\n",
              "      <td>185135</td>\n",
              "      <td>5.0</td>\n",
              "      <td>1525795293</td>\n",
              "    </tr>\n",
              "    <tr>\n",
              "      <th>14990</th>\n",
              "      <td>95</td>\n",
              "      <td>5027</td>\n",
              "      <td>4.0</td>\n",
              "      <td>1043339419</td>\n",
              "    </tr>\n",
              "    <tr>\n",
              "      <th>16810</th>\n",
              "      <td>105</td>\n",
              "      <td>108981</td>\n",
              "      <td>4.5</td>\n",
              "      <td>1448647811</td>\n",
              "    </tr>\n",
              "    <tr>\n",
              "      <th>19281</th>\n",
              "      <td>125</td>\n",
              "      <td>3342</td>\n",
              "      <td>5.0</td>\n",
              "      <td>1474294671</td>\n",
              "    </tr>\n",
              "    <tr>\n",
              "      <th>19584</th>\n",
              "      <td>125</td>\n",
              "      <td>171763</td>\n",
              "      <td>5.0</td>\n",
              "      <td>1513697215</td>\n",
              "    </tr>\n",
              "    <tr>\n",
              "      <th>21099</th>\n",
              "      <td>140</td>\n",
              "      <td>146</td>\n",
              "      <td>3.0</td>\n",
              "      <td>1032259081</td>\n",
              "    </tr>\n",
              "    <tr>\n",
              "      <th>27227</th>\n",
              "      <td>184</td>\n",
              "      <td>171763</td>\n",
              "      <td>4.5</td>\n",
              "      <td>1537109198</td>\n",
              "    </tr>\n",
              "    <tr>\n",
              "      <th>29730</th>\n",
              "      <td>202</td>\n",
              "      <td>3342</td>\n",
              "      <td>3.0</td>\n",
              "      <td>974924428</td>\n",
              "    </tr>\n",
              "    <tr>\n",
              "      <th>30505</th>\n",
              "      <td>212</td>\n",
              "      <td>171763</td>\n",
              "      <td>4.5</td>\n",
              "      <td>1523217247</td>\n",
              "    </tr>\n",
              "    <tr>\n",
              "      <th>32023</th>\n",
              "      <td>219</td>\n",
              "      <td>55292</td>\n",
              "      <td>1.0</td>\n",
              "      <td>1200977866</td>\n",
              "    </tr>\n",
              "    <tr>\n",
              "      <th>34394</th>\n",
              "      <td>232</td>\n",
              "      <td>33164</td>\n",
              "      <td>2.5</td>\n",
              "      <td>1218169753</td>\n",
              "    </tr>\n",
              "    <tr>\n",
              "      <th>37407</th>\n",
              "      <td>249</td>\n",
              "      <td>171763</td>\n",
              "      <td>4.5</td>\n",
              "      <td>1506864057</td>\n",
              "    </tr>\n",
              "    <tr>\n",
              "      <th>42760</th>\n",
              "      <td>288</td>\n",
              "      <td>3342</td>\n",
              "      <td>3.0</td>\n",
              "      <td>985626627</td>\n",
              "    </tr>\n",
              "    <tr>\n",
              "      <th>42786</th>\n",
              "      <td>288</td>\n",
              "      <td>3500</td>\n",
              "      <td>3.0</td>\n",
              "      <td>976124646</td>\n",
              "    </tr>\n",
              "    <tr>\n",
              "      <th>43082</th>\n",
              "      <td>288</td>\n",
              "      <td>33164</td>\n",
              "      <td>2.5</td>\n",
              "      <td>1138806890</td>\n",
              "    </tr>\n",
              "    <tr>\n",
              "      <th>45124</th>\n",
              "      <td>298</td>\n",
              "      <td>55292</td>\n",
              "      <td>0.5</td>\n",
              "      <td>1479064933</td>\n",
              "    </tr>\n",
              "    <tr>\n",
              "      <th>45198</th>\n",
              "      <td>298</td>\n",
              "      <td>67799</td>\n",
              "      <td>0.5</td>\n",
              "      <td>1450453101</td>\n",
              "    </tr>\n",
              "    <tr>\n",
              "      <th>48175</th>\n",
              "      <td>312</td>\n",
              "      <td>3342</td>\n",
              "      <td>4.0</td>\n",
              "      <td>1043177268</td>\n",
              "    </tr>\n",
              "    <tr>\n",
              "      <th>56744</th>\n",
              "      <td>377</td>\n",
              "      <td>5027</td>\n",
              "      <td>3.5</td>\n",
              "      <td>1340344455</td>\n",
              "    </tr>\n",
              "    <tr>\n",
              "      <th>57653</th>\n",
              "      <td>380</td>\n",
              "      <td>33164</td>\n",
              "      <td>3.0</td>\n",
              "      <td>1494696484</td>\n",
              "    </tr>\n",
              "    <tr>\n",
              "      <th>58076</th>\n",
              "      <td>380</td>\n",
              "      <td>171763</td>\n",
              "      <td>4.0</td>\n",
              "      <td>1508109046</td>\n",
              "    </tr>\n",
              "    <tr>\n",
              "      <th>60166</th>\n",
              "      <td>387</td>\n",
              "      <td>33164</td>\n",
              "      <td>2.0</td>\n",
              "      <td>1183352891</td>\n",
              "    </tr>\n",
              "    <tr>\n",
              "      <th>63846</th>\n",
              "      <td>414</td>\n",
              "      <td>5027</td>\n",
              "      <td>2.0</td>\n",
              "      <td>1073680310</td>\n",
              "    </tr>\n",
              "    <tr>\n",
              "      <th>64970</th>\n",
              "      <td>414</td>\n",
              "      <td>171763</td>\n",
              "      <td>5.0</td>\n",
              "      <td>1511535821</td>\n",
              "    </tr>\n",
              "    <tr>\n",
              "      <th>69291</th>\n",
              "      <td>448</td>\n",
              "      <td>4051</td>\n",
              "      <td>0.5</td>\n",
              "      <td>1263237066</td>\n",
              "    </tr>\n",
              "    <tr>\n",
              "      <th>69420</th>\n",
              "      <td>448</td>\n",
              "      <td>5027</td>\n",
              "      <td>3.0</td>\n",
              "      <td>1019132541</td>\n",
              "    </tr>\n",
              "    <tr>\n",
              "      <th>70460</th>\n",
              "      <td>448</td>\n",
              "      <td>151745</td>\n",
              "      <td>0.5</td>\n",
              "      <td>1492286246</td>\n",
              "    </tr>\n",
              "    <tr>\n",
              "      <th>71878</th>\n",
              "      <td>462</td>\n",
              "      <td>32582</td>\n",
              "      <td>5.0</td>\n",
              "      <td>1201445771</td>\n",
              "    </tr>\n",
              "    <tr>\n",
              "      <th>71990</th>\n",
              "      <td>462</td>\n",
              "      <td>171763</td>\n",
              "      <td>4.5</td>\n",
              "      <td>1499144915</td>\n",
              "    </tr>\n",
              "    <tr>\n",
              "      <th>75055</th>\n",
              "      <td>474</td>\n",
              "      <td>32582</td>\n",
              "      <td>4.5</td>\n",
              "      <td>1138804192</td>\n",
              "    </tr>\n",
              "    <tr>\n",
              "      <th>76040</th>\n",
              "      <td>478</td>\n",
              "      <td>33164</td>\n",
              "      <td>0.5</td>\n",
              "      <td>1121467489</td>\n",
              "    </tr>\n",
              "    <tr>\n",
              "      <th>76930</th>\n",
              "      <td>480</td>\n",
              "      <td>33164</td>\n",
              "      <td>0.5</td>\n",
              "      <td>1179166047</td>\n",
              "    </tr>\n",
              "    <tr>\n",
              "      <th>85794</th>\n",
              "      <td>555</td>\n",
              "      <td>3500</td>\n",
              "      <td>3.0</td>\n",
              "      <td>978747317</td>\n",
              "    </tr>\n",
              "    <tr>\n",
              "      <th>87977</th>\n",
              "      <td>567</td>\n",
              "      <td>92681</td>\n",
              "      <td>0.5</td>\n",
              "      <td>1525289793</td>\n",
              "    </tr>\n",
              "    <tr>\n",
              "      <th>93636</th>\n",
              "      <td>599</td>\n",
              "      <td>3342</td>\n",
              "      <td>2.5</td>\n",
              "      <td>1519238216</td>\n",
              "    </tr>\n",
              "    <tr>\n",
              "      <th>93980</th>\n",
              "      <td>599</td>\n",
              "      <td>5027</td>\n",
              "      <td>2.5</td>\n",
              "      <td>1519138146</td>\n",
              "    </tr>\n",
              "    <tr>\n",
              "      <th>94802</th>\n",
              "      <td>599</td>\n",
              "      <td>85438</td>\n",
              "      <td>3.0</td>\n",
              "      <td>1498522865</td>\n",
              "    </tr>\n",
              "    <tr>\n",
              "      <th>95080</th>\n",
              "      <td>599</td>\n",
              "      <td>171763</td>\n",
              "      <td>3.0</td>\n",
              "      <td>1499234894</td>\n",
              "    </tr>\n",
              "    <tr>\n",
              "      <th>98436</th>\n",
              "      <td>606</td>\n",
              "      <td>50356</td>\n",
              "      <td>3.0</td>\n",
              "      <td>1171323889</td>\n",
              "    </tr>\n",
              "    <tr>\n",
              "      <th>98441</th>\n",
              "      <td>606</td>\n",
              "      <td>51314</td>\n",
              "      <td>4.5</td>\n",
              "      <td>1228165132</td>\n",
              "    </tr>\n",
              "  </tbody>\n",
              "</table>\n",
              "</div>"
            ],
            "text/plain": [
              "       usuarioId  filmesId  nota     momento\n",
              "617            6       146   4.0   845555607\n",
              "2273          18    185135   4.5  1534007332\n",
              "2920          19      3500   2.0   965706907\n",
              "4700          28     59018   4.5  1235806122\n",
              "5574          40       146   3.0   832060059\n",
              "8477          57      3500   4.0   965797264\n",
              "9140          62    171763   4.0  1523048763\n",
              "9154          62    185135   5.0  1525795293\n",
              "14990         95      5027   4.0  1043339419\n",
              "16810        105    108981   4.5  1448647811\n",
              "19281        125      3342   5.0  1474294671\n",
              "19584        125    171763   5.0  1513697215\n",
              "21099        140       146   3.0  1032259081\n",
              "27227        184    171763   4.5  1537109198\n",
              "29730        202      3342   3.0   974924428\n",
              "30505        212    171763   4.5  1523217247\n",
              "32023        219     55292   1.0  1200977866\n",
              "34394        232     33164   2.5  1218169753\n",
              "37407        249    171763   4.5  1506864057\n",
              "42760        288      3342   3.0   985626627\n",
              "42786        288      3500   3.0   976124646\n",
              "43082        288     33164   2.5  1138806890\n",
              "45124        298     55292   0.5  1479064933\n",
              "45198        298     67799   0.5  1450453101\n",
              "48175        312      3342   4.0  1043177268\n",
              "56744        377      5027   3.5  1340344455\n",
              "57653        380     33164   3.0  1494696484\n",
              "58076        380    171763   4.0  1508109046\n",
              "60166        387     33164   2.0  1183352891\n",
              "63846        414      5027   2.0  1073680310\n",
              "64970        414    171763   5.0  1511535821\n",
              "69291        448      4051   0.5  1263237066\n",
              "69420        448      5027   3.0  1019132541\n",
              "70460        448    151745   0.5  1492286246\n",
              "71878        462     32582   5.0  1201445771\n",
              "71990        462    171763   4.5  1499144915\n",
              "75055        474     32582   4.5  1138804192\n",
              "76040        478     33164   0.5  1121467489\n",
              "76930        480     33164   0.5  1179166047\n",
              "85794        555      3500   3.0   978747317\n",
              "87977        567     92681   0.5  1525289793\n",
              "93636        599      3342   2.5  1519238216\n",
              "93980        599      5027   2.5  1519138146\n",
              "94802        599     85438   3.0  1498522865\n",
              "95080        599    171763   3.0  1499234894\n",
              "98436        606     50356   3.0  1171323889\n",
              "98441        606     51314   4.5  1228165132"
            ]
          },
          "metadata": {
            "tags": []
          },
          "execution_count": 99
        }
      ]
    },
    {
      "cell_type": "code",
      "metadata": {
        "id": "c07umff98Olh",
        "colab_type": "code",
        "outputId": "9177b22f-573f-4244-dd4c-209fc7b273d0",
        "colab": {
          "base_uri": "https://localhost:8080/",
          "height": 607
        }
      },
      "source": [
        "ver = filmes_com_media_voto.query('filmesId in [33164,151745,3342,146,171763,51314,67799,4051,50356,3500,59018,32582,55292,92681,5027,85438,108981,185135]')\n",
        "ver"
      ],
      "execution_count": 0,
      "outputs": [
        {
          "output_type": "execute_result",
          "data": {
            "text/html": [
              "<div>\n",
              "<style scoped>\n",
              "    .dataframe tbody tr th:only-of-type {\n",
              "        vertical-align: middle;\n",
              "    }\n",
              "\n",
              "    .dataframe tbody tr th {\n",
              "        vertical-align: top;\n",
              "    }\n",
              "\n",
              "    .dataframe thead th {\n",
              "        text-align: right;\n",
              "    }\n",
              "</style>\n",
              "<table border=\"1\" class=\"dataframe\">\n",
              "  <thead>\n",
              "    <tr style=\"text-align: right;\">\n",
              "      <th></th>\n",
              "      <th>filmesId</th>\n",
              "      <th>titulo</th>\n",
              "      <th>generos</th>\n",
              "      <th>nota_media</th>\n",
              "      <th>total_votos</th>\n",
              "    </tr>\n",
              "  </thead>\n",
              "  <tbody>\n",
              "    <tr>\n",
              "      <th>119</th>\n",
              "      <td>146</td>\n",
              "      <td>Amazing Panda Adventure, The (1995)</td>\n",
              "      <td>Adventure|Children</td>\n",
              "      <td>3.333333</td>\n",
              "      <td>3.0</td>\n",
              "    </tr>\n",
              "    <tr>\n",
              "      <th>2501</th>\n",
              "      <td>3342</td>\n",
              "      <td>Birdy (1984)</td>\n",
              "      <td>Drama|War</td>\n",
              "      <td>3.500000</td>\n",
              "      <td>5.0</td>\n",
              "    </tr>\n",
              "    <tr>\n",
              "      <th>2615</th>\n",
              "      <td>3500</td>\n",
              "      <td>Mr. Saturday Night (1992)</td>\n",
              "      <td>Comedy|Drama</td>\n",
              "      <td>3.000000</td>\n",
              "      <td>4.0</td>\n",
              "    </tr>\n",
              "    <tr>\n",
              "      <th>3027</th>\n",
              "      <td>4051</td>\n",
              "      <td>Horrors of Spider Island (Ein Toter Hing im Ne...</td>\n",
              "      <td>Horror|Sci-Fi</td>\n",
              "      <td>0.500000</td>\n",
              "      <td>1.0</td>\n",
              "    </tr>\n",
              "    <tr>\n",
              "      <th>3657</th>\n",
              "      <td>5027</td>\n",
              "      <td>Another 48 Hrs. (1990)</td>\n",
              "      <td>Action|Comedy|Crime|Drama|Thriller</td>\n",
              "      <td>3.000000</td>\n",
              "      <td>5.0</td>\n",
              "    </tr>\n",
              "    <tr>\n",
              "      <th>5848</th>\n",
              "      <td>32582</td>\n",
              "      <td>Wild Parrots of Telegraph Hill, The (2003)</td>\n",
              "      <td>Documentary</td>\n",
              "      <td>4.750000</td>\n",
              "      <td>2.0</td>\n",
              "    </tr>\n",
              "    <tr>\n",
              "      <th>5884</th>\n",
              "      <td>33164</td>\n",
              "      <td>House of Wax (2005)</td>\n",
              "      <td>Horror|Thriller</td>\n",
              "      <td>1.833333</td>\n",
              "      <td>6.0</td>\n",
              "    </tr>\n",
              "    <tr>\n",
              "      <th>6384</th>\n",
              "      <td>50356</td>\n",
              "      <td>The Little World of Don Camillo (1952)</td>\n",
              "      <td>Comedy</td>\n",
              "      <td>3.000000</td>\n",
              "      <td>1.0</td>\n",
              "    </tr>\n",
              "    <tr>\n",
              "      <th>6423</th>\n",
              "      <td>51314</td>\n",
              "      <td>Golden Door (Nuovomondo) (2006)</td>\n",
              "      <td>Adventure|Drama|Romance</td>\n",
              "      <td>4.500000</td>\n",
              "      <td>1.0</td>\n",
              "    </tr>\n",
              "    <tr>\n",
              "      <th>6594</th>\n",
              "      <td>55292</td>\n",
              "      <td>Comebacks, The (2007)</td>\n",
              "      <td>Comedy</td>\n",
              "      <td>0.750000</td>\n",
              "      <td>2.0</td>\n",
              "    </tr>\n",
              "    <tr>\n",
              "      <th>6728</th>\n",
              "      <td>59018</td>\n",
              "      <td>Visitor, The (2007)</td>\n",
              "      <td>Drama|Romance</td>\n",
              "      <td>4.500000</td>\n",
              "      <td>1.0</td>\n",
              "    </tr>\n",
              "    <tr>\n",
              "      <th>7004</th>\n",
              "      <td>67799</td>\n",
              "      <td>The Butterfly Effect 3: Revelations (2009)</td>\n",
              "      <td>Drama|Fantasy|Sci-Fi|Thriller</td>\n",
              "      <td>0.500000</td>\n",
              "      <td>1.0</td>\n",
              "    </tr>\n",
              "    <tr>\n",
              "      <th>7563</th>\n",
              "      <td>85438</td>\n",
              "      <td>Jane Eyre (2011)</td>\n",
              "      <td>Drama|Romance</td>\n",
              "      <td>3.000000</td>\n",
              "      <td>1.0</td>\n",
              "    </tr>\n",
              "    <tr>\n",
              "      <th>7820</th>\n",
              "      <td>92681</td>\n",
              "      <td>Journey 2: The Mysterious Island (2012)</td>\n",
              "      <td>Action|Adventure|Comedy|Sci-Fi|IMAX</td>\n",
              "      <td>0.500000</td>\n",
              "      <td>1.0</td>\n",
              "    </tr>\n",
              "    <tr>\n",
              "      <th>8360</th>\n",
              "      <td>108981</td>\n",
              "      <td>Nymphomaniac: Volume II (2013)</td>\n",
              "      <td>Drama|Mystery</td>\n",
              "      <td>4.500000</td>\n",
              "      <td>1.0</td>\n",
              "    </tr>\n",
              "    <tr>\n",
              "      <th>9211</th>\n",
              "      <td>151745</td>\n",
              "      <td>Reptilicus (1961)</td>\n",
              "      <td>Horror|Sci-Fi</td>\n",
              "      <td>0.500000</td>\n",
              "      <td>1.0</td>\n",
              "    </tr>\n",
              "    <tr>\n",
              "      <th>9521</th>\n",
              "      <td>171763</td>\n",
              "      <td>Baby Driver (2017)</td>\n",
              "      <td>Action|Crime|Thriller</td>\n",
              "      <td>4.333333</td>\n",
              "      <td>9.0</td>\n",
              "    </tr>\n",
              "    <tr>\n",
              "      <th>9702</th>\n",
              "      <td>185135</td>\n",
              "      <td>Sherlock - A Study in Pink (2010)</td>\n",
              "      <td>Crime</td>\n",
              "      <td>4.750000</td>\n",
              "      <td>2.0</td>\n",
              "    </tr>\n",
              "  </tbody>\n",
              "</table>\n",
              "</div>"
            ],
            "text/plain": [
              "      filmesId  ... total_votos\n",
              "119        146  ...         3.0\n",
              "2501      3342  ...         5.0\n",
              "2615      3500  ...         4.0\n",
              "3027      4051  ...         1.0\n",
              "3657      5027  ...         5.0\n",
              "5848     32582  ...         2.0\n",
              "5884     33164  ...         6.0\n",
              "6384     50356  ...         1.0\n",
              "6423     51314  ...         1.0\n",
              "6594     55292  ...         2.0\n",
              "6728     59018  ...         1.0\n",
              "7004     67799  ...         1.0\n",
              "7563     85438  ...         1.0\n",
              "7820     92681  ...         1.0\n",
              "8360    108981  ...         1.0\n",
              "9211    151745  ...         1.0\n",
              "9521    171763  ...         9.0\n",
              "9702    185135  ...         2.0\n",
              "\n",
              "[18 rows x 5 columns]"
            ]
          },
          "metadata": {
            "tags": []
          },
          "execution_count": 100
        }
      ]
    },
    {
      "cell_type": "code",
      "metadata": {
        "id": "8HXFjqRR8-S7",
        "colab_type": "code",
        "colab": {}
      },
      "source": [
        "def plot_filmes(n):\n",
        "  notas_do_filme = avaliacoes.query(f\"filmesId=={n}\")[\"nota\"]\n",
        "  plt.hist(notas_do_filme)\n",
        "  plt.show()"
      ],
      "execution_count": 0,
      "outputs": []
    },
    {
      "cell_type": "code",
      "metadata": {
        "id": "PHUKBXq87gf7",
        "colab_type": "code",
        "outputId": "26bc5f4d-5e21-4a4e-eb29-2f1874f38791",
        "colab": {
          "base_uri": "https://localhost:8080/",
          "height": 1000
        }
      },
      "source": [
        "lista_ex = [33164,151745,3342,146,171763,51314,67799,4051,50356,3500,59018,32582,55292,92681,5027,85438,108981,185135]\n",
        "for i in lista_ex:\n",
        "  plot_filmes(i)"
      ],
      "execution_count": 0,
      "outputs": [
        {
          "output_type": "display_data",
          "data": {
            "image/png": "[encoded data removed]",
            "text/plain": [
              "<Figure size 432x288 with 1 Axes>"
            ]
          },
          "metadata": {
            "tags": []
          }
        },
        {
          "output_type": "display_data",
          "data": {
            "image/png": "[encoded data removed]",
            "text/plain": [
              "<Figure size 432x288 with 1 Axes>"
            ]
          },
          "metadata": {
            "tags": []
          }
        },
        {
          "output_type": "display_data",
          "data": {
            "image/png": "[encoded data removed]",
            "text/plain": [
              "<Figure size 432x288 with 1 Axes>"
            ]
          },
          "metadata": {
            "tags": []
          }
        },
        {
          "output_type": "display_data",
          "data": {
            "image/png": "[encoded data removed]",
            "text/plain": [
              "<Figure size 432x288 with 1 Axes>"
            ]
          },
          "metadata": {
            "tags": []
          }
        },
        {
          "output_type": "display_data",
          "data": {
            "image/png": "[encoded data removed]",
            "text/plain": [
              "<Figure size 432x288 with 1 Axes>"
            ]
          },
          "metadata": {
            "tags": []
          }
        },
        {
          "output_type": "display_data",
          "data": {
            "image/png": "[encoded data removed]",
            "text/plain": [
              "<Figure size 432x288 with 1 Axes>"
            ]
          },
          "metadata": {
            "tags": []
          }
        },
        {
          "output_type": "display_data",
          "data": {
            "image/png": "[encoded data removed]",
            "text/plain": [
              "<Figure size 432x288 with 1 Axes>"
            ]
          },
          "metadata": {
            "tags": []
          }
        },
        {
          "output_type": "display_data",
          "data": {
            "image/png": "[encoded data removed]",
            "text/plain": [
              "<Figure size 432x288 with 1 Axes>"
            ]
          },
          "metadata": {
            "tags": []
          }
        },
        {
          "output_type": "display_data",
          "data": {
            "image/png": "[encoded data removed]",
            "text/plain": [
              "<Figure size 432x288 with 1 Axes>"
            ]
          },
          "metadata": {
            "tags": []
          }
        },
        {
          "output_type": "display_data",
          "data": {
            "image/png": "[encoded data removed]",
            "text/plain": [
              "<Figure size 432x288 with 1 Axes>"
            ]
          },
          "metadata": {
            "tags": []
          }
        },
        {
          "output_type": "display_data",
          "data": {
            "image/png": "[encoded data removed]",
            "text/plain": [
              "<Figure size 432x288 with 1 Axes>"
            ]
          },
          "metadata": {
            "tags": []
          }
        },
        {
          "output_type": "display_data",
          "data": {
            "image/png": "[encoded data removed]",
            "text/plain": [
              "<Figure size 432x288 with 1 Axes>"
            ]
          },
          "metadata": {
            "tags": []
          }
        },
        {
          "output_type": "display_data",
          "data": {
            "image/png": "[encoded data removed]",
            "text/plain": [
              "<Figure size 432x288 with 1 Axes>"
            ]
          },
          "metadata": {
            "tags": []
          }
        },
        {
          "output_type": "display_data",
          "data": {
            "image/png": "[encoded data removed]",
            "text/plain": [
              "<Figure size 432x288 with 1 Axes>"
            ]
          },
          "metadata": {
            "tags": []
          }
        },
        {
          "output_type": "display_data",
          "data": {
            "image/png": "[encoded data removed]",
            "text/plain": [
              "<Figure size 432x288 with 1 Axes>"
            ]
          },
          "metadata": {
            "tags": []
          }
        },
        {
          "output_type": "display_data",
          "data": {
            "image/png": "[encoded data removed]",
            "text/plain": [
              "<Figure size 432x288 with 1 Axes>"
            ]
          },
          "metadata": {
            "tags": []
          }
        },
        {
          "output_type": "display_data",
          "data": {
            "image/png": "[encoded data removed]",
            "text/plain": [
              "<Figure size 432x288 with 1 Axes>"
            ]
          },
          "metadata": {
            "tags": []
          }
        },
        {
          "output_type": "display_data",
          "data": {
            "image/png": "[encoded data removed]",
            "text/plain": [
              "<Figure size 432x288 with 1 Axes>"
            ]
          },
          "metadata": {
            "tags": []
          }
        }
      ]
    },
    {
      "cell_type": "markdown",
      "metadata": {
        "id": "BGjVCiJa9yT3",
        "colab_type": "text"
      },
      "source": [
        "Analisando os gráficos dispostos acima, é possível perceber que vários filmes com as medidas muitos próximas ou iguais aos valores destacados pelo Allan tiveram apenas um voto. As demais medidas que se distanciou um pouco mais desses valores determindos pelo Allan, representam filmes com mais votos e com variabilidade maior também."
      ]
    },
    {
      "cell_type": "markdown",
      "metadata": {
        "id": "JzEJVcuVaKgY",
        "colab_type": "text"
      },
      "source": [
        "## Desafio 6 da [Thais André](https://twitter.com/thais_tandre)\n",
        "\n",
        "Plotar o boxplot e o histograma um do lado do outro (na mesma figura ou em figuras distintas, mas um do lado do outro)."
      ]
    },
    {
      "cell_type": "code",
      "metadata": {
        "id": "5QiJu6DUA8CP",
        "colab_type": "code",
        "colab": {}
      },
      "source": [
        "def plot_filme(n):\n",
        "  notas_do_filme = avaliacoes.query(f\"filmesId=={n}\")[\"nota\"]\n",
        "  print(notas_do_filme.describe())\n",
        "  print('\\n')\n",
        "  fig, (ax1, ax2) = plt.subplots(nrows=1,ncols=2, figsize = (12, 8))\n",
        "  notas_do_filme.plot(ax=ax1, kind='hist', subplots=True)\n",
        "  notas_do_filme.plot.box(ax=ax2, subplots=True)\n",
        "  plt.show()"
      ],
      "execution_count": 0,
      "outputs": []
    },
    {
      "cell_type": "code",
      "metadata": {
        "id": "Yba1BF5fCgCG",
        "colab_type": "code",
        "outputId": "2683181e-cc67-4a6e-8336-b5fd341f7b8d",
        "colab": {
          "base_uri": "https://localhost:8080/",
          "height": 670
        }
      },
      "source": [
        "# Plotando o Box-Plot e o histograma do filme com mais votos(9), dentre os escolhidos do Desafio 5.\n",
        "plot_filme(171763)"
      ],
      "execution_count": 0,
      "outputs": [
        {
          "output_type": "stream",
          "text": [
            "count    9.000000\n",
            "mean     4.333333\n",
            "std      0.612372\n",
            "min      3.000000\n",
            "25%      4.000000\n",
            "50%      4.500000\n",
            "75%      4.500000\n",
            "max      5.000000\n",
            "Name: nota, dtype: float64\n",
            "\n",
            "\n"
          ],
          "name": "stdout"
        },
        {
          "output_type": "display_data",
          "data": {
            "image/png": "[encoded data removed]",
            "text/plain": [
              "<Figure size 864x576 with 2 Axes>"
            ]
          },
          "metadata": {
            "tags": []
          }
        }
      ]
    },
    {
      "cell_type": "markdown",
      "metadata": {
        "id": "LxYLCbsBaKa_",
        "colab_type": "text"
      },
      "source": [
        "## Desafio 7 do [Thiago Gonçalves](https://twitter.com/tgcsantos)\n",
        "\n",
        "Criar um gráfico de notas médias por ano (média geral considerando todos os filmes lançados naquele ano)."
      ]
    },
    {
      "cell_type": "code",
      "metadata": {
        "id": "qRnyfT76ckp-",
        "colab_type": "code",
        "outputId": "9e1f5be9-0edd-4013-b029-30251c198e3f",
        "colab": {
          "base_uri": "https://localhost:8080/",
          "height": 204
        }
      },
      "source": [
        "# Criando uma coluna só com os anos dos filmes e apresentando as 5 primeiras linhas do DF.\n",
        "filmes_com_media_voto['ano'] = filmes_com_media_voto['titulo'].str.extract(r\"\\(([0-9]+)\\)\", expand=True)\n",
        "filmes_com_media_voto.head()"
      ],
      "execution_count": 0,
      "outputs": [
        {
          "output_type": "execute_result",
          "data": {
            "text/html": [
              "<div>\n",
              "<style scoped>\n",
              "    .dataframe tbody tr th:only-of-type {\n",
              "        vertical-align: middle;\n",
              "    }\n",
              "\n",
              "    .dataframe tbody tr th {\n",
              "        vertical-align: top;\n",
              "    }\n",
              "\n",
              "    .dataframe thead th {\n",
              "        text-align: right;\n",
              "    }\n",
              "</style>\n",
              "<table border=\"1\" class=\"dataframe\">\n",
              "  <thead>\n",
              "    <tr style=\"text-align: right;\">\n",
              "      <th></th>\n",
              "      <th>filmesId</th>\n",
              "      <th>titulo</th>\n",
              "      <th>generos</th>\n",
              "      <th>nota_media</th>\n",
              "      <th>total_votos</th>\n",
              "      <th>ano</th>\n",
              "    </tr>\n",
              "  </thead>\n",
              "  <tbody>\n",
              "    <tr>\n",
              "      <th>0</th>\n",
              "      <td>1</td>\n",
              "      <td>Toy Story (1995)</td>\n",
              "      <td>Adventure|Animation|Children|Comedy|Fantasy</td>\n",
              "      <td>3.920930</td>\n",
              "      <td>215.0</td>\n",
              "      <td>1995</td>\n",
              "    </tr>\n",
              "    <tr>\n",
              "      <th>1</th>\n",
              "      <td>2</td>\n",
              "      <td>Jumanji (1995)</td>\n",
              "      <td>Adventure|Children|Fantasy</td>\n",
              "      <td>3.431818</td>\n",
              "      <td>110.0</td>\n",
              "      <td>1995</td>\n",
              "    </tr>\n",
              "    <tr>\n",
              "      <th>2</th>\n",
              "      <td>3</td>\n",
              "      <td>Grumpier Old Men (1995)</td>\n",
              "      <td>Comedy|Romance</td>\n",
              "      <td>3.259615</td>\n",
              "      <td>52.0</td>\n",
              "      <td>1995</td>\n",
              "    </tr>\n",
              "    <tr>\n",
              "      <th>3</th>\n",
              "      <td>4</td>\n",
              "      <td>Waiting to Exhale (1995)</td>\n",
              "      <td>Comedy|Drama|Romance</td>\n",
              "      <td>2.357143</td>\n",
              "      <td>7.0</td>\n",
              "      <td>1995</td>\n",
              "    </tr>\n",
              "    <tr>\n",
              "      <th>4</th>\n",
              "      <td>5</td>\n",
              "      <td>Father of the Bride Part II (1995)</td>\n",
              "      <td>Comedy</td>\n",
              "      <td>3.071429</td>\n",
              "      <td>49.0</td>\n",
              "      <td>1995</td>\n",
              "    </tr>\n",
              "  </tbody>\n",
              "</table>\n",
              "</div>"
            ],
            "text/plain": [
              "   filmesId                              titulo  ... total_votos   ano\n",
              "0         1                    Toy Story (1995)  ...       215.0  1995\n",
              "1         2                      Jumanji (1995)  ...       110.0  1995\n",
              "2         3             Grumpier Old Men (1995)  ...        52.0  1995\n",
              "3         4            Waiting to Exhale (1995)  ...         7.0  1995\n",
              "4         5  Father of the Bride Part II (1995)  ...        49.0  1995\n",
              "\n",
              "[5 rows x 6 columns]"
            ]
          },
          "metadata": {
            "tags": []
          },
          "execution_count": 162
        }
      ]
    },
    {
      "cell_type": "code",
      "metadata": {
        "id": "76jO9kGqfWFC",
        "colab_type": "code",
        "outputId": "f47a24c1-d93e-4e32-b4e1-4af0ba5bd149",
        "colab": {
          "base_uri": "https://localhost:8080/",
          "height": 404
        }
      },
      "source": [
        "# Ordenando o DF de forma crescente por ano, separando a nota_media de filmes dos mesmo ano e aplicando a média novamente,\n",
        "# para que obtenhamos a média de todos os filmes por anos e logo em seguida plotamos um gráfico para melhor representar essa informação.\n",
        "filmes_por_ano = filmes_com_media_voto.sort_values('ano').groupby('ano')['nota_media'].mean()\n",
        "filmes_por_ano.plot(\n",
        "    title='Filmes por ano',\n",
        "    figsize=(16,6))\n",
        "plt.show()"
      ],
      "execution_count": 0,
      "outputs": [
        {
          "output_type": "display_data",
          "data": {
            "image/png": "[encoded data removed]",
            "text/plain": [
              "<Figure size 1152x432 with 1 Axes>"
            ]
          },
          "metadata": {
            "tags": []
          }
        }
      ]
    },
    {
      "cell_type": "code",
      "metadata": {
        "id": "Se3doicMjlOl",
        "colab_type": "code",
        "colab": {}
      },
      "source": [
        "# Verificando alguns valores dos anos e suas respectivas médias.\n",
        "filmes_com_media_voto.sort_values('ano').groupby('ano')['nota_media'].mean()"
      ],
      "execution_count": 0,
      "outputs": []
    },
    {
      "cell_type": "code",
      "metadata": {
        "id": "jzk68rNfiQy0",
        "colab_type": "code",
        "outputId": "1c37ffaf-22d1-4581-f602-5d6f7c559bcc",
        "colab": {
          "base_uri": "https://localhost:8080/",
          "height": 238
        }
      },
      "source": [
        "# Verificando qual o ano com a maior média.\n",
        "filmes_com_media_voto.sort_values('ano').groupby('ano')['nota_media'].mean().sort_values(ascending=False)"
      ],
      "execution_count": 0,
      "outputs": [
        {
          "output_type": "execute_result",
          "data": {
            "text/plain": [
              "ano\n",
              "1917    4.500000\n",
              "1921    4.100000\n",
              "1934    4.051190\n",
              "06      4.000000\n",
              "1908    4.000000\n",
              "          ...   \n",
              "1987    3.041854\n",
              "1991    3.030564\n",
              "1903    2.500000\n",
              "1919    2.000000\n",
              "1915    2.000000\n",
              "Name: nota_media, Length: 108, dtype: float64"
            ]
          },
          "metadata": {
            "tags": []
          },
          "execution_count": 178
        }
      ]
    },
    {
      "cell_type": "markdown",
      "metadata": {
        "id": "1i2Fl_l_iofH",
        "colab_type": "text"
      },
      "source": [
        "Com base no gráfico e nas informações dispostas acima, é possível perceber que há pelo menos dois erros (pode ser de digitação ou não) referentes ao primeiro e ao último valor dos anos, ao qual foge dos padrões dos dados.\n",
        "\n",
        "Ademais, percebe-se que a maior média tem o valor de 4.5 e é referente ao ano de 1917, que fica entre as duas menores médias referentes aos anos de 1915 e 1919 com o valor 2."
      ]
    },
    {
      "cell_type": "code",
      "metadata": {
        "id": "tXi6xOzJgX4Z",
        "colab_type": "code",
        "colab": {}
      },
      "source": [
        ""
      ],
      "execution_count": 0,
      "outputs": []
    }
  ]
}